{
 "cells": [
  {
   "cell_type": "markdown",
   "id": "515c016d",
   "metadata": {},
   "source": [
    "# FINAL PROJECT 1\n",
    "\n",
    "Kelompok 3:\n",
    "- Erlangga Ardiansyah Rukmana - PYTN-KS07-014\n",
    "- Natasya Yonike Ambarita - PYTN-KS07-013\n",
    "- Rizqatasyaa Achmad Zahra - PYTN-KS07-012"
   ]
  },
  {
   "cell_type": "markdown",
   "id": "6f4307fd",
   "metadata": {},
   "source": [
    "## A. PERKENALAN"
   ]
  },
  {
   "cell_type": "markdown",
   "id": "914f4fc9",
   "metadata": {},
   "source": [
    "### 1. TENTANG DATA\n",
    "Database ini memiliki 57 atribut, tetapi yang paling relevan ada 10 atribut dari semuanya.\n",
    "Dataset ini berasal dari kaggle yaitu, Uber and Lyft Dataset Boston, MA dari 11-26-2018 hingga 12-18-2018.\n",
    "\n",
    "Mengandung banyak nilai NA, tetapi data ini sangat ramah bagi pemula. Merupakan dataset yang cocok jika menggunakan Model Regresi untuk melihat prediktor(variabel) yang berbeda seperti hour (jam) dan price (harga).\n",
    "\n",
    "Bagian yang sangat menakjubkan dari kumpulan data ini adalah saya telah menyertakan data \n",
    "cuaca yang sesuai untuk jam tersebut dengan ringkasan singkat tentang cuaca. \n",
    "Faktor penting lainnya adalah suhu, angin, dan matahari terbenam."
   ]
  },
  {
   "cell_type": "markdown",
   "id": "33cd9860",
   "metadata": {},
   "source": [
    "### 2.  INFORMASI ATRIBUT:\n",
    "1.\tid = kode untuk perjalanan \n",
    "2.\ttimestamp = stempel waktu untuk menampilkan lokasi sesuai keberadaan\n",
    "3.\thour = jam untuk data kejadian\n",
    "4.\tday = tanggal untuk data kejadian\n",
    "5.\tmonth = bulan untuk data kejadian\n",
    "6.\tdatetime = tanggal dan waktu untuk data kejadian\n",
    "7.\ttimezone = zona waktu untuk data kejadian\n",
    "8.\tsource = sumber untuk data lokasi awal\n",
    "9.\tdestination = tujuan untuk data lokasi tujuan\n",
    "10.\tcab_type = jenis taksi untuk data jenuis taksi yang digunakan\n",
    "11.\tproduct_id = kode produk untuk data taksi yang digunakan\n",
    "12.\tname = nama untuk nama layanan taksi yang digunakan\n",
    "13.\tprice = harga untuk data biaya yang dibayar\n",
    "14.\tdistance = jarak untuk data jarak tempuh perjalanan\n",
    "15.\tsurge_multiplier = lonjakan penggandaan untuk data penetapan harga pengganda yang menghasilkan jumlah harga lonjakan untuk pengemudi dan pengendara\n",
    "16.\tlatitude = lintang\n",
    "17.\tlongitude = garis bujur\n",
    "18.\ttemperature = suhu\n",
    "19.\tapparentTemperature = suhu nyata\n",
    "20.\tshort_summary = ringkasan singkat\n",
    "21.\tlong_summary = ringkasan panjang\n",
    "22.\tprecipIntensity = intensitas presipitas\n",
    "23.\tprecipProbability = probabilitas presipitasi\n",
    "24.\thumidity = kelembaban\n",
    "25.\twindSpeed = kecepatan angin\n",
    "26.\twindGust = hembusan angin\n",
    "27.\twindGustTime = waktu hembusan angin\n",
    "28.\tvisibility = visibilitas\n",
    "29.\ttemperatureHigh = suhu tinggi\n",
    "30.\ttemperatureHighTime = waktu suhu tinggi\n",
    "31.\ttemperatureLow = suhu rendah\n",
    "32.\ttemperatureLowTime = waktu suhu rendah\n",
    "33.\tapparentTemperatureHigh = suhu semu tinggi\n",
    "34.\tapparentTemperatureHighTime = waktu suhu semu tinggi\n",
    "35.\tapparentTemperatureLow = suhu semu rendah\n",
    "36.\tapparentTemperatureLowTime = waktu suhu semu rendah\n",
    "37.\ticon = ikon \n",
    "38.\tdewPoint = titik embun\n",
    "39.\tpressure = tekanan\n",
    "40.\twindBearing = bantalan angin\n",
    "41.\tcloudCover = tutupan awan\n",
    "42.\tuvIndex = indeks uv\n",
    "43.\tvisibility.1 = visibilitas.1\n",
    "44.\tozone = ozon\n",
    "45.\tsunriseTime = waktu matahari terbit\n",
    "46.\tsunsetTime = waktu matahari terbenam\n",
    "47.\tmoonPhase = fase bulan\n",
    "48.\tprecipIntensityMax = Intensitas presipitasi Maks\n",
    "49.\tuvIndexTime = waktu indeks uv\n",
    "50.\ttemperatureMin = suhu minimal\n",
    "51.\ttemperatureMinTime = waktu suhu minimal\n",
    "52.\ttemperatureMax = suhu maksimal\n",
    "53.\ttemperatureMaxTime = waktu suhu maksimal\n",
    "54.\tapparentTemperatureMin = suhu semu minimal\n",
    "55.\tapparentTemperatureMinTime = waktu suhu semu minal\n",
    "56.\tapparentTemperatureMax = suhu semu maksimal\n",
    "57.\tapparentTemperatureMaxTime = waktu suhu semu maksimal"
   ]
  },
  {
   "cell_type": "markdown",
   "id": "da41aebc",
   "metadata": {},
   "source": [
    "### 3. OBJECTIVE YANG INGIN DI CAPAI\n",
    "Final Project 1 ini dibuat guna mengevaluasi konsep Regression sebagai berikut:\n",
    "- Mampu memahami konsep regression dengan Linear Regression\n",
    "- Mampu mempersiapkan data untuk digunakan dalam model Linear Regression\n",
    "- Mampu mengimplementasikan Linear Regression untuk membuat prediksi\n"
   ]
  },
  {
   "cell_type": "markdown",
   "id": "b46a4ed5",
   "metadata": {},
   "source": [
    "## B. IMPORT PUSTAKA YANG DIBUTUHKAN"
   ]
  },
  {
   "cell_type": "code",
   "execution_count": 1,
   "id": "12ed40c4",
   "metadata": {},
   "outputs": [],
   "source": [
    "import pandas as pd\n",
    "import numpy as np\n",
    "import matplotlib.pyplot as plt\n",
    "%matplotlib inline\n",
    "import seaborn as sns\n",
    "\n",
    "import scipy.stats"
   ]
  },
  {
   "cell_type": "markdown",
   "id": "f0c7ab21",
   "metadata": {},
   "source": [
    "## C. DATA LOADING"
   ]
  },
  {
   "cell_type": "markdown",
   "id": "7cda6181",
   "metadata": {},
   "source": [
    "### 1. IMPOR DATASET"
   ]
  },
  {
   "cell_type": "code",
   "execution_count": 2,
   "id": "6512ade7",
   "metadata": {
    "scrolled": true
   },
   "outputs": [],
   "source": [
    "df = pd.read_csv('rideshare_kaggle.csv')"
   ]
  },
  {
   "cell_type": "markdown",
   "id": "f7dd9caf",
   "metadata": {},
   "source": [
    "### 2. DESKRIPSI DATASET"
   ]
  },
  {
   "cell_type": "code",
   "execution_count": 3,
   "id": "c8b37695",
   "metadata": {},
   "outputs": [
    {
     "data": {
      "text/html": [
       "<div>\n",
       "<style scoped>\n",
       "    .dataframe tbody tr th:only-of-type {\n",
       "        vertical-align: middle;\n",
       "    }\n",
       "\n",
       "    .dataframe tbody tr th {\n",
       "        vertical-align: top;\n",
       "    }\n",
       "\n",
       "    .dataframe thead th {\n",
       "        text-align: right;\n",
       "    }\n",
       "</style>\n",
       "<table border=\"1\" class=\"dataframe\">\n",
       "  <thead>\n",
       "    <tr style=\"text-align: right;\">\n",
       "      <th></th>\n",
       "      <th>id</th>\n",
       "      <th>timestamp</th>\n",
       "      <th>hour</th>\n",
       "      <th>day</th>\n",
       "      <th>month</th>\n",
       "      <th>datetime</th>\n",
       "      <th>timezone</th>\n",
       "      <th>source</th>\n",
       "      <th>destination</th>\n",
       "      <th>cab_type</th>\n",
       "      <th>...</th>\n",
       "      <th>precipIntensityMax</th>\n",
       "      <th>uvIndexTime</th>\n",
       "      <th>temperatureMin</th>\n",
       "      <th>temperatureMinTime</th>\n",
       "      <th>temperatureMax</th>\n",
       "      <th>temperatureMaxTime</th>\n",
       "      <th>apparentTemperatureMin</th>\n",
       "      <th>apparentTemperatureMinTime</th>\n",
       "      <th>apparentTemperatureMax</th>\n",
       "      <th>apparentTemperatureMaxTime</th>\n",
       "    </tr>\n",
       "  </thead>\n",
       "  <tbody>\n",
       "    <tr>\n",
       "      <th>0</th>\n",
       "      <td>424553bb-7174-41ea-aeb4-fe06d4f4b9d7</td>\n",
       "      <td>1.544953e+09</td>\n",
       "      <td>9</td>\n",
       "      <td>16</td>\n",
       "      <td>12</td>\n",
       "      <td>2018-12-16 09:30:07</td>\n",
       "      <td>America/New_York</td>\n",
       "      <td>Haymarket Square</td>\n",
       "      <td>North Station</td>\n",
       "      <td>Lyft</td>\n",
       "      <td>...</td>\n",
       "      <td>0.1276</td>\n",
       "      <td>1544979600</td>\n",
       "      <td>39.89</td>\n",
       "      <td>1545012000</td>\n",
       "      <td>43.68</td>\n",
       "      <td>1544968800</td>\n",
       "      <td>33.73</td>\n",
       "      <td>1545012000</td>\n",
       "      <td>38.07</td>\n",
       "      <td>1544958000</td>\n",
       "    </tr>\n",
       "    <tr>\n",
       "      <th>1</th>\n",
       "      <td>4bd23055-6827-41c6-b23b-3c491f24e74d</td>\n",
       "      <td>1.543284e+09</td>\n",
       "      <td>2</td>\n",
       "      <td>27</td>\n",
       "      <td>11</td>\n",
       "      <td>2018-11-27 02:00:23</td>\n",
       "      <td>America/New_York</td>\n",
       "      <td>Haymarket Square</td>\n",
       "      <td>North Station</td>\n",
       "      <td>Lyft</td>\n",
       "      <td>...</td>\n",
       "      <td>0.1300</td>\n",
       "      <td>1543251600</td>\n",
       "      <td>40.49</td>\n",
       "      <td>1543233600</td>\n",
       "      <td>47.30</td>\n",
       "      <td>1543251600</td>\n",
       "      <td>36.20</td>\n",
       "      <td>1543291200</td>\n",
       "      <td>43.92</td>\n",
       "      <td>1543251600</td>\n",
       "    </tr>\n",
       "    <tr>\n",
       "      <th>2</th>\n",
       "      <td>981a3613-77af-4620-a42a-0c0866077d1e</td>\n",
       "      <td>1.543367e+09</td>\n",
       "      <td>1</td>\n",
       "      <td>28</td>\n",
       "      <td>11</td>\n",
       "      <td>2018-11-28 01:00:22</td>\n",
       "      <td>America/New_York</td>\n",
       "      <td>Haymarket Square</td>\n",
       "      <td>North Station</td>\n",
       "      <td>Lyft</td>\n",
       "      <td>...</td>\n",
       "      <td>0.1064</td>\n",
       "      <td>1543338000</td>\n",
       "      <td>35.36</td>\n",
       "      <td>1543377600</td>\n",
       "      <td>47.55</td>\n",
       "      <td>1543320000</td>\n",
       "      <td>31.04</td>\n",
       "      <td>1543377600</td>\n",
       "      <td>44.12</td>\n",
       "      <td>1543320000</td>\n",
       "    </tr>\n",
       "    <tr>\n",
       "      <th>3</th>\n",
       "      <td>c2d88af2-d278-4bfd-a8d0-29ca77cc5512</td>\n",
       "      <td>1.543554e+09</td>\n",
       "      <td>4</td>\n",
       "      <td>30</td>\n",
       "      <td>11</td>\n",
       "      <td>2018-11-30 04:53:02</td>\n",
       "      <td>America/New_York</td>\n",
       "      <td>Haymarket Square</td>\n",
       "      <td>North Station</td>\n",
       "      <td>Lyft</td>\n",
       "      <td>...</td>\n",
       "      <td>0.0000</td>\n",
       "      <td>1543507200</td>\n",
       "      <td>34.67</td>\n",
       "      <td>1543550400</td>\n",
       "      <td>45.03</td>\n",
       "      <td>1543510800</td>\n",
       "      <td>30.30</td>\n",
       "      <td>1543550400</td>\n",
       "      <td>38.53</td>\n",
       "      <td>1543510800</td>\n",
       "    </tr>\n",
       "    <tr>\n",
       "      <th>4</th>\n",
       "      <td>e0126e1f-8ca9-4f2e-82b3-50505a09db9a</td>\n",
       "      <td>1.543463e+09</td>\n",
       "      <td>3</td>\n",
       "      <td>29</td>\n",
       "      <td>11</td>\n",
       "      <td>2018-11-29 03:49:20</td>\n",
       "      <td>America/New_York</td>\n",
       "      <td>Haymarket Square</td>\n",
       "      <td>North Station</td>\n",
       "      <td>Lyft</td>\n",
       "      <td>...</td>\n",
       "      <td>0.0001</td>\n",
       "      <td>1543420800</td>\n",
       "      <td>33.10</td>\n",
       "      <td>1543402800</td>\n",
       "      <td>42.18</td>\n",
       "      <td>1543420800</td>\n",
       "      <td>29.11</td>\n",
       "      <td>1543392000</td>\n",
       "      <td>35.75</td>\n",
       "      <td>1543420800</td>\n",
       "    </tr>\n",
       "  </tbody>\n",
       "</table>\n",
       "<p>5 rows × 57 columns</p>\n",
       "</div>"
      ],
      "text/plain": [
       "                                     id     timestamp  hour  day  month  \\\n",
       "0  424553bb-7174-41ea-aeb4-fe06d4f4b9d7  1.544953e+09     9   16     12   \n",
       "1  4bd23055-6827-41c6-b23b-3c491f24e74d  1.543284e+09     2   27     11   \n",
       "2  981a3613-77af-4620-a42a-0c0866077d1e  1.543367e+09     1   28     11   \n",
       "3  c2d88af2-d278-4bfd-a8d0-29ca77cc5512  1.543554e+09     4   30     11   \n",
       "4  e0126e1f-8ca9-4f2e-82b3-50505a09db9a  1.543463e+09     3   29     11   \n",
       "\n",
       "              datetime          timezone            source    destination  \\\n",
       "0  2018-12-16 09:30:07  America/New_York  Haymarket Square  North Station   \n",
       "1  2018-11-27 02:00:23  America/New_York  Haymarket Square  North Station   \n",
       "2  2018-11-28 01:00:22  America/New_York  Haymarket Square  North Station   \n",
       "3  2018-11-30 04:53:02  America/New_York  Haymarket Square  North Station   \n",
       "4  2018-11-29 03:49:20  America/New_York  Haymarket Square  North Station   \n",
       "\n",
       "  cab_type  ... precipIntensityMax uvIndexTime  temperatureMin  \\\n",
       "0     Lyft  ...             0.1276  1544979600           39.89   \n",
       "1     Lyft  ...             0.1300  1543251600           40.49   \n",
       "2     Lyft  ...             0.1064  1543338000           35.36   \n",
       "3     Lyft  ...             0.0000  1543507200           34.67   \n",
       "4     Lyft  ...             0.0001  1543420800           33.10   \n",
       "\n",
       "   temperatureMinTime  temperatureMax  temperatureMaxTime  \\\n",
       "0          1545012000           43.68          1544968800   \n",
       "1          1543233600           47.30          1543251600   \n",
       "2          1543377600           47.55          1543320000   \n",
       "3          1543550400           45.03          1543510800   \n",
       "4          1543402800           42.18          1543420800   \n",
       "\n",
       "   apparentTemperatureMin  apparentTemperatureMinTime  apparentTemperatureMax  \\\n",
       "0                   33.73                  1545012000                   38.07   \n",
       "1                   36.20                  1543291200                   43.92   \n",
       "2                   31.04                  1543377600                   44.12   \n",
       "3                   30.30                  1543550400                   38.53   \n",
       "4                   29.11                  1543392000                   35.75   \n",
       "\n",
       "  apparentTemperatureMaxTime  \n",
       "0                 1544958000  \n",
       "1                 1543251600  \n",
       "2                 1543320000  \n",
       "3                 1543510800  \n",
       "4                 1543420800  \n",
       "\n",
       "[5 rows x 57 columns]"
      ]
     },
     "execution_count": 3,
     "metadata": {},
     "output_type": "execute_result"
    }
   ],
   "source": [
    "df.head()"
   ]
  },
  {
   "cell_type": "code",
   "execution_count": 4,
   "id": "1c497f76",
   "metadata": {},
   "outputs": [
    {
     "data": {
      "text/html": [
       "<div>\n",
       "<style scoped>\n",
       "    .dataframe tbody tr th:only-of-type {\n",
       "        vertical-align: middle;\n",
       "    }\n",
       "\n",
       "    .dataframe tbody tr th {\n",
       "        vertical-align: top;\n",
       "    }\n",
       "\n",
       "    .dataframe thead th {\n",
       "        text-align: right;\n",
       "    }\n",
       "</style>\n",
       "<table border=\"1\" class=\"dataframe\">\n",
       "  <thead>\n",
       "    <tr style=\"text-align: right;\">\n",
       "      <th></th>\n",
       "      <th>timestamp</th>\n",
       "      <th>hour</th>\n",
       "      <th>day</th>\n",
       "      <th>month</th>\n",
       "      <th>price</th>\n",
       "      <th>distance</th>\n",
       "      <th>surge_multiplier</th>\n",
       "      <th>latitude</th>\n",
       "      <th>longitude</th>\n",
       "      <th>temperature</th>\n",
       "      <th>...</th>\n",
       "      <th>precipIntensityMax</th>\n",
       "      <th>uvIndexTime</th>\n",
       "      <th>temperatureMin</th>\n",
       "      <th>temperatureMinTime</th>\n",
       "      <th>temperatureMax</th>\n",
       "      <th>temperatureMaxTime</th>\n",
       "      <th>apparentTemperatureMin</th>\n",
       "      <th>apparentTemperatureMinTime</th>\n",
       "      <th>apparentTemperatureMax</th>\n",
       "      <th>apparentTemperatureMaxTime</th>\n",
       "    </tr>\n",
       "  </thead>\n",
       "  <tbody>\n",
       "    <tr>\n",
       "      <th>count</th>\n",
       "      <td>6.930710e+05</td>\n",
       "      <td>693071.000000</td>\n",
       "      <td>693071.000000</td>\n",
       "      <td>693071.000000</td>\n",
       "      <td>637976.000000</td>\n",
       "      <td>693071.000000</td>\n",
       "      <td>693071.000000</td>\n",
       "      <td>693071.000000</td>\n",
       "      <td>693071.000000</td>\n",
       "      <td>693071.000000</td>\n",
       "      <td>...</td>\n",
       "      <td>693071.000000</td>\n",
       "      <td>6.930710e+05</td>\n",
       "      <td>693071.000000</td>\n",
       "      <td>6.930710e+05</td>\n",
       "      <td>693071.000000</td>\n",
       "      <td>6.930710e+05</td>\n",
       "      <td>693071.000000</td>\n",
       "      <td>6.930710e+05</td>\n",
       "      <td>693071.000000</td>\n",
       "      <td>6.930710e+05</td>\n",
       "    </tr>\n",
       "    <tr>\n",
       "      <th>mean</th>\n",
       "      <td>1.544046e+09</td>\n",
       "      <td>11.619137</td>\n",
       "      <td>17.794365</td>\n",
       "      <td>11.586684</td>\n",
       "      <td>16.545125</td>\n",
       "      <td>2.189430</td>\n",
       "      <td>1.013870</td>\n",
       "      <td>42.338172</td>\n",
       "      <td>-71.066151</td>\n",
       "      <td>39.584388</td>\n",
       "      <td>...</td>\n",
       "      <td>0.037374</td>\n",
       "      <td>1.544044e+09</td>\n",
       "      <td>33.457774</td>\n",
       "      <td>1.544042e+09</td>\n",
       "      <td>45.261313</td>\n",
       "      <td>1.544047e+09</td>\n",
       "      <td>29.731002</td>\n",
       "      <td>1.544048e+09</td>\n",
       "      <td>41.997343</td>\n",
       "      <td>1.544048e+09</td>\n",
       "    </tr>\n",
       "    <tr>\n",
       "      <th>std</th>\n",
       "      <td>6.891925e+05</td>\n",
       "      <td>6.948114</td>\n",
       "      <td>9.982286</td>\n",
       "      <td>0.492429</td>\n",
       "      <td>9.324359</td>\n",
       "      <td>1.138937</td>\n",
       "      <td>0.091641</td>\n",
       "      <td>0.047840</td>\n",
       "      <td>0.020302</td>\n",
       "      <td>6.726084</td>\n",
       "      <td>...</td>\n",
       "      <td>0.055214</td>\n",
       "      <td>6.912028e+05</td>\n",
       "      <td>6.467224</td>\n",
       "      <td>6.901954e+05</td>\n",
       "      <td>5.645046</td>\n",
       "      <td>6.901353e+05</td>\n",
       "      <td>7.110494</td>\n",
       "      <td>6.871862e+05</td>\n",
       "      <td>6.936841</td>\n",
       "      <td>6.910777e+05</td>\n",
       "    </tr>\n",
       "    <tr>\n",
       "      <th>min</th>\n",
       "      <td>1.543204e+09</td>\n",
       "      <td>0.000000</td>\n",
       "      <td>1.000000</td>\n",
       "      <td>11.000000</td>\n",
       "      <td>2.500000</td>\n",
       "      <td>0.020000</td>\n",
       "      <td>1.000000</td>\n",
       "      <td>42.214800</td>\n",
       "      <td>-71.105400</td>\n",
       "      <td>18.910000</td>\n",
       "      <td>...</td>\n",
       "      <td>0.000000</td>\n",
       "      <td>1.543162e+09</td>\n",
       "      <td>15.630000</td>\n",
       "      <td>1.543122e+09</td>\n",
       "      <td>33.510000</td>\n",
       "      <td>1.543154e+09</td>\n",
       "      <td>11.810000</td>\n",
       "      <td>1.543136e+09</td>\n",
       "      <td>28.950000</td>\n",
       "      <td>1.543187e+09</td>\n",
       "    </tr>\n",
       "    <tr>\n",
       "      <th>25%</th>\n",
       "      <td>1.543444e+09</td>\n",
       "      <td>6.000000</td>\n",
       "      <td>13.000000</td>\n",
       "      <td>11.000000</td>\n",
       "      <td>9.000000</td>\n",
       "      <td>1.280000</td>\n",
       "      <td>1.000000</td>\n",
       "      <td>42.350300</td>\n",
       "      <td>-71.081000</td>\n",
       "      <td>36.450000</td>\n",
       "      <td>...</td>\n",
       "      <td>0.000000</td>\n",
       "      <td>1.543421e+09</td>\n",
       "      <td>30.170000</td>\n",
       "      <td>1.543399e+09</td>\n",
       "      <td>42.570000</td>\n",
       "      <td>1.543439e+09</td>\n",
       "      <td>27.760000</td>\n",
       "      <td>1.543399e+09</td>\n",
       "      <td>36.570000</td>\n",
       "      <td>1.543439e+09</td>\n",
       "    </tr>\n",
       "    <tr>\n",
       "      <th>50%</th>\n",
       "      <td>1.543737e+09</td>\n",
       "      <td>12.000000</td>\n",
       "      <td>17.000000</td>\n",
       "      <td>12.000000</td>\n",
       "      <td>13.500000</td>\n",
       "      <td>2.160000</td>\n",
       "      <td>1.000000</td>\n",
       "      <td>42.351900</td>\n",
       "      <td>-71.063100</td>\n",
       "      <td>40.490000</td>\n",
       "      <td>...</td>\n",
       "      <td>0.000400</td>\n",
       "      <td>1.543770e+09</td>\n",
       "      <td>34.240000</td>\n",
       "      <td>1.543727e+09</td>\n",
       "      <td>44.680000</td>\n",
       "      <td>1.543788e+09</td>\n",
       "      <td>30.130000</td>\n",
       "      <td>1.543745e+09</td>\n",
       "      <td>40.950000</td>\n",
       "      <td>1.543788e+09</td>\n",
       "    </tr>\n",
       "    <tr>\n",
       "      <th>75%</th>\n",
       "      <td>1.544828e+09</td>\n",
       "      <td>18.000000</td>\n",
       "      <td>28.000000</td>\n",
       "      <td>12.000000</td>\n",
       "      <td>22.500000</td>\n",
       "      <td>2.920000</td>\n",
       "      <td>1.000000</td>\n",
       "      <td>42.364700</td>\n",
       "      <td>-71.054200</td>\n",
       "      <td>43.580000</td>\n",
       "      <td>...</td>\n",
       "      <td>0.091600</td>\n",
       "      <td>1.544807e+09</td>\n",
       "      <td>38.880000</td>\n",
       "      <td>1.544789e+09</td>\n",
       "      <td>46.910000</td>\n",
       "      <td>1.544814e+09</td>\n",
       "      <td>35.710000</td>\n",
       "      <td>1.544789e+09</td>\n",
       "      <td>44.120000</td>\n",
       "      <td>1.544818e+09</td>\n",
       "    </tr>\n",
       "    <tr>\n",
       "      <th>max</th>\n",
       "      <td>1.545161e+09</td>\n",
       "      <td>23.000000</td>\n",
       "      <td>30.000000</td>\n",
       "      <td>12.000000</td>\n",
       "      <td>97.500000</td>\n",
       "      <td>7.860000</td>\n",
       "      <td>3.000000</td>\n",
       "      <td>42.366100</td>\n",
       "      <td>-71.033000</td>\n",
       "      <td>57.220000</td>\n",
       "      <td>...</td>\n",
       "      <td>0.145900</td>\n",
       "      <td>1.545152e+09</td>\n",
       "      <td>43.100000</td>\n",
       "      <td>1.545192e+09</td>\n",
       "      <td>57.870000</td>\n",
       "      <td>1.545109e+09</td>\n",
       "      <td>40.050000</td>\n",
       "      <td>1.545134e+09</td>\n",
       "      <td>57.200000</td>\n",
       "      <td>1.545109e+09</td>\n",
       "    </tr>\n",
       "  </tbody>\n",
       "</table>\n",
       "<p>8 rows × 46 columns</p>\n",
       "</div>"
      ],
      "text/plain": [
       "          timestamp           hour            day          month  \\\n",
       "count  6.930710e+05  693071.000000  693071.000000  693071.000000   \n",
       "mean   1.544046e+09      11.619137      17.794365      11.586684   \n",
       "std    6.891925e+05       6.948114       9.982286       0.492429   \n",
       "min    1.543204e+09       0.000000       1.000000      11.000000   \n",
       "25%    1.543444e+09       6.000000      13.000000      11.000000   \n",
       "50%    1.543737e+09      12.000000      17.000000      12.000000   \n",
       "75%    1.544828e+09      18.000000      28.000000      12.000000   \n",
       "max    1.545161e+09      23.000000      30.000000      12.000000   \n",
       "\n",
       "               price       distance  surge_multiplier       latitude  \\\n",
       "count  637976.000000  693071.000000     693071.000000  693071.000000   \n",
       "mean       16.545125       2.189430          1.013870      42.338172   \n",
       "std         9.324359       1.138937          0.091641       0.047840   \n",
       "min         2.500000       0.020000          1.000000      42.214800   \n",
       "25%         9.000000       1.280000          1.000000      42.350300   \n",
       "50%        13.500000       2.160000          1.000000      42.351900   \n",
       "75%        22.500000       2.920000          1.000000      42.364700   \n",
       "max        97.500000       7.860000          3.000000      42.366100   \n",
       "\n",
       "           longitude    temperature  ...  precipIntensityMax   uvIndexTime  \\\n",
       "count  693071.000000  693071.000000  ...       693071.000000  6.930710e+05   \n",
       "mean      -71.066151      39.584388  ...            0.037374  1.544044e+09   \n",
       "std         0.020302       6.726084  ...            0.055214  6.912028e+05   \n",
       "min       -71.105400      18.910000  ...            0.000000  1.543162e+09   \n",
       "25%       -71.081000      36.450000  ...            0.000000  1.543421e+09   \n",
       "50%       -71.063100      40.490000  ...            0.000400  1.543770e+09   \n",
       "75%       -71.054200      43.580000  ...            0.091600  1.544807e+09   \n",
       "max       -71.033000      57.220000  ...            0.145900  1.545152e+09   \n",
       "\n",
       "       temperatureMin  temperatureMinTime  temperatureMax  temperatureMaxTime  \\\n",
       "count   693071.000000        6.930710e+05   693071.000000        6.930710e+05   \n",
       "mean        33.457774        1.544042e+09       45.261313        1.544047e+09   \n",
       "std          6.467224        6.901954e+05        5.645046        6.901353e+05   \n",
       "min         15.630000        1.543122e+09       33.510000        1.543154e+09   \n",
       "25%         30.170000        1.543399e+09       42.570000        1.543439e+09   \n",
       "50%         34.240000        1.543727e+09       44.680000        1.543788e+09   \n",
       "75%         38.880000        1.544789e+09       46.910000        1.544814e+09   \n",
       "max         43.100000        1.545192e+09       57.870000        1.545109e+09   \n",
       "\n",
       "       apparentTemperatureMin  apparentTemperatureMinTime  \\\n",
       "count           693071.000000                6.930710e+05   \n",
       "mean                29.731002                1.544048e+09   \n",
       "std                  7.110494                6.871862e+05   \n",
       "min                 11.810000                1.543136e+09   \n",
       "25%                 27.760000                1.543399e+09   \n",
       "50%                 30.130000                1.543745e+09   \n",
       "75%                 35.710000                1.544789e+09   \n",
       "max                 40.050000                1.545134e+09   \n",
       "\n",
       "       apparentTemperatureMax  apparentTemperatureMaxTime  \n",
       "count           693071.000000                6.930710e+05  \n",
       "mean                41.997343                1.544048e+09  \n",
       "std                  6.936841                6.910777e+05  \n",
       "min                 28.950000                1.543187e+09  \n",
       "25%                 36.570000                1.543439e+09  \n",
       "50%                 40.950000                1.543788e+09  \n",
       "75%                 44.120000                1.544818e+09  \n",
       "max                 57.200000                1.545109e+09  \n",
       "\n",
       "[8 rows x 46 columns]"
      ]
     },
     "execution_count": 4,
     "metadata": {},
     "output_type": "execute_result"
    }
   ],
   "source": [
    "df.describe()"
   ]
  },
  {
   "cell_type": "markdown",
   "id": "9338e3f8",
   "metadata": {},
   "source": [
    "## D. DATA CLEANING"
   ]
  },
  {
   "cell_type": "markdown",
   "id": "b30acbe4",
   "metadata": {},
   "source": [
    "### 1. CEK MISSING VALUE"
   ]
  },
  {
   "cell_type": "code",
   "execution_count": 5,
   "id": "650c1c5c",
   "metadata": {},
   "outputs": [
    {
     "data": {
      "text/html": [
       "<div>\n",
       "<style scoped>\n",
       "    .dataframe tbody tr th:only-of-type {\n",
       "        vertical-align: middle;\n",
       "    }\n",
       "\n",
       "    .dataframe tbody tr th {\n",
       "        vertical-align: top;\n",
       "    }\n",
       "\n",
       "    .dataframe thead th {\n",
       "        text-align: right;\n",
       "    }\n",
       "</style>\n",
       "<table border=\"1\" class=\"dataframe\">\n",
       "  <thead>\n",
       "    <tr style=\"text-align: right;\">\n",
       "      <th></th>\n",
       "      <th>id</th>\n",
       "      <th>timestamp</th>\n",
       "      <th>hour</th>\n",
       "      <th>day</th>\n",
       "      <th>month</th>\n",
       "      <th>datetime</th>\n",
       "      <th>timezone</th>\n",
       "      <th>source</th>\n",
       "      <th>destination</th>\n",
       "      <th>cab_type</th>\n",
       "      <th>...</th>\n",
       "      <th>precipIntensityMax</th>\n",
       "      <th>uvIndexTime</th>\n",
       "      <th>temperatureMin</th>\n",
       "      <th>temperatureMinTime</th>\n",
       "      <th>temperatureMax</th>\n",
       "      <th>temperatureMaxTime</th>\n",
       "      <th>apparentTemperatureMin</th>\n",
       "      <th>apparentTemperatureMinTime</th>\n",
       "      <th>apparentTemperatureMax</th>\n",
       "      <th>apparentTemperatureMaxTime</th>\n",
       "    </tr>\n",
       "  </thead>\n",
       "  <tbody>\n",
       "    <tr>\n",
       "      <th>0</th>\n",
       "      <td>False</td>\n",
       "      <td>False</td>\n",
       "      <td>False</td>\n",
       "      <td>False</td>\n",
       "      <td>False</td>\n",
       "      <td>False</td>\n",
       "      <td>False</td>\n",
       "      <td>False</td>\n",
       "      <td>False</td>\n",
       "      <td>False</td>\n",
       "      <td>...</td>\n",
       "      <td>False</td>\n",
       "      <td>False</td>\n",
       "      <td>False</td>\n",
       "      <td>False</td>\n",
       "      <td>False</td>\n",
       "      <td>False</td>\n",
       "      <td>False</td>\n",
       "      <td>False</td>\n",
       "      <td>False</td>\n",
       "      <td>False</td>\n",
       "    </tr>\n",
       "    <tr>\n",
       "      <th>1</th>\n",
       "      <td>False</td>\n",
       "      <td>False</td>\n",
       "      <td>False</td>\n",
       "      <td>False</td>\n",
       "      <td>False</td>\n",
       "      <td>False</td>\n",
       "      <td>False</td>\n",
       "      <td>False</td>\n",
       "      <td>False</td>\n",
       "      <td>False</td>\n",
       "      <td>...</td>\n",
       "      <td>False</td>\n",
       "      <td>False</td>\n",
       "      <td>False</td>\n",
       "      <td>False</td>\n",
       "      <td>False</td>\n",
       "      <td>False</td>\n",
       "      <td>False</td>\n",
       "      <td>False</td>\n",
       "      <td>False</td>\n",
       "      <td>False</td>\n",
       "    </tr>\n",
       "    <tr>\n",
       "      <th>2</th>\n",
       "      <td>False</td>\n",
       "      <td>False</td>\n",
       "      <td>False</td>\n",
       "      <td>False</td>\n",
       "      <td>False</td>\n",
       "      <td>False</td>\n",
       "      <td>False</td>\n",
       "      <td>False</td>\n",
       "      <td>False</td>\n",
       "      <td>False</td>\n",
       "      <td>...</td>\n",
       "      <td>False</td>\n",
       "      <td>False</td>\n",
       "      <td>False</td>\n",
       "      <td>False</td>\n",
       "      <td>False</td>\n",
       "      <td>False</td>\n",
       "      <td>False</td>\n",
       "      <td>False</td>\n",
       "      <td>False</td>\n",
       "      <td>False</td>\n",
       "    </tr>\n",
       "    <tr>\n",
       "      <th>3</th>\n",
       "      <td>False</td>\n",
       "      <td>False</td>\n",
       "      <td>False</td>\n",
       "      <td>False</td>\n",
       "      <td>False</td>\n",
       "      <td>False</td>\n",
       "      <td>False</td>\n",
       "      <td>False</td>\n",
       "      <td>False</td>\n",
       "      <td>False</td>\n",
       "      <td>...</td>\n",
       "      <td>False</td>\n",
       "      <td>False</td>\n",
       "      <td>False</td>\n",
       "      <td>False</td>\n",
       "      <td>False</td>\n",
       "      <td>False</td>\n",
       "      <td>False</td>\n",
       "      <td>False</td>\n",
       "      <td>False</td>\n",
       "      <td>False</td>\n",
       "    </tr>\n",
       "    <tr>\n",
       "      <th>4</th>\n",
       "      <td>False</td>\n",
       "      <td>False</td>\n",
       "      <td>False</td>\n",
       "      <td>False</td>\n",
       "      <td>False</td>\n",
       "      <td>False</td>\n",
       "      <td>False</td>\n",
       "      <td>False</td>\n",
       "      <td>False</td>\n",
       "      <td>False</td>\n",
       "      <td>...</td>\n",
       "      <td>False</td>\n",
       "      <td>False</td>\n",
       "      <td>False</td>\n",
       "      <td>False</td>\n",
       "      <td>False</td>\n",
       "      <td>False</td>\n",
       "      <td>False</td>\n",
       "      <td>False</td>\n",
       "      <td>False</td>\n",
       "      <td>False</td>\n",
       "    </tr>\n",
       "    <tr>\n",
       "      <th>...</th>\n",
       "      <td>...</td>\n",
       "      <td>...</td>\n",
       "      <td>...</td>\n",
       "      <td>...</td>\n",
       "      <td>...</td>\n",
       "      <td>...</td>\n",
       "      <td>...</td>\n",
       "      <td>...</td>\n",
       "      <td>...</td>\n",
       "      <td>...</td>\n",
       "      <td>...</td>\n",
       "      <td>...</td>\n",
       "      <td>...</td>\n",
       "      <td>...</td>\n",
       "      <td>...</td>\n",
       "      <td>...</td>\n",
       "      <td>...</td>\n",
       "      <td>...</td>\n",
       "      <td>...</td>\n",
       "      <td>...</td>\n",
       "      <td>...</td>\n",
       "    </tr>\n",
       "    <tr>\n",
       "      <th>693066</th>\n",
       "      <td>False</td>\n",
       "      <td>False</td>\n",
       "      <td>False</td>\n",
       "      <td>False</td>\n",
       "      <td>False</td>\n",
       "      <td>False</td>\n",
       "      <td>False</td>\n",
       "      <td>False</td>\n",
       "      <td>False</td>\n",
       "      <td>False</td>\n",
       "      <td>...</td>\n",
       "      <td>False</td>\n",
       "      <td>False</td>\n",
       "      <td>False</td>\n",
       "      <td>False</td>\n",
       "      <td>False</td>\n",
       "      <td>False</td>\n",
       "      <td>False</td>\n",
       "      <td>False</td>\n",
       "      <td>False</td>\n",
       "      <td>False</td>\n",
       "    </tr>\n",
       "    <tr>\n",
       "      <th>693067</th>\n",
       "      <td>False</td>\n",
       "      <td>False</td>\n",
       "      <td>False</td>\n",
       "      <td>False</td>\n",
       "      <td>False</td>\n",
       "      <td>False</td>\n",
       "      <td>False</td>\n",
       "      <td>False</td>\n",
       "      <td>False</td>\n",
       "      <td>False</td>\n",
       "      <td>...</td>\n",
       "      <td>False</td>\n",
       "      <td>False</td>\n",
       "      <td>False</td>\n",
       "      <td>False</td>\n",
       "      <td>False</td>\n",
       "      <td>False</td>\n",
       "      <td>False</td>\n",
       "      <td>False</td>\n",
       "      <td>False</td>\n",
       "      <td>False</td>\n",
       "    </tr>\n",
       "    <tr>\n",
       "      <th>693068</th>\n",
       "      <td>False</td>\n",
       "      <td>False</td>\n",
       "      <td>False</td>\n",
       "      <td>False</td>\n",
       "      <td>False</td>\n",
       "      <td>False</td>\n",
       "      <td>False</td>\n",
       "      <td>False</td>\n",
       "      <td>False</td>\n",
       "      <td>False</td>\n",
       "      <td>...</td>\n",
       "      <td>False</td>\n",
       "      <td>False</td>\n",
       "      <td>False</td>\n",
       "      <td>False</td>\n",
       "      <td>False</td>\n",
       "      <td>False</td>\n",
       "      <td>False</td>\n",
       "      <td>False</td>\n",
       "      <td>False</td>\n",
       "      <td>False</td>\n",
       "    </tr>\n",
       "    <tr>\n",
       "      <th>693069</th>\n",
       "      <td>False</td>\n",
       "      <td>False</td>\n",
       "      <td>False</td>\n",
       "      <td>False</td>\n",
       "      <td>False</td>\n",
       "      <td>False</td>\n",
       "      <td>False</td>\n",
       "      <td>False</td>\n",
       "      <td>False</td>\n",
       "      <td>False</td>\n",
       "      <td>...</td>\n",
       "      <td>False</td>\n",
       "      <td>False</td>\n",
       "      <td>False</td>\n",
       "      <td>False</td>\n",
       "      <td>False</td>\n",
       "      <td>False</td>\n",
       "      <td>False</td>\n",
       "      <td>False</td>\n",
       "      <td>False</td>\n",
       "      <td>False</td>\n",
       "    </tr>\n",
       "    <tr>\n",
       "      <th>693070</th>\n",
       "      <td>False</td>\n",
       "      <td>False</td>\n",
       "      <td>False</td>\n",
       "      <td>False</td>\n",
       "      <td>False</td>\n",
       "      <td>False</td>\n",
       "      <td>False</td>\n",
       "      <td>False</td>\n",
       "      <td>False</td>\n",
       "      <td>False</td>\n",
       "      <td>...</td>\n",
       "      <td>False</td>\n",
       "      <td>False</td>\n",
       "      <td>False</td>\n",
       "      <td>False</td>\n",
       "      <td>False</td>\n",
       "      <td>False</td>\n",
       "      <td>False</td>\n",
       "      <td>False</td>\n",
       "      <td>False</td>\n",
       "      <td>False</td>\n",
       "    </tr>\n",
       "  </tbody>\n",
       "</table>\n",
       "<p>693071 rows × 57 columns</p>\n",
       "</div>"
      ],
      "text/plain": [
       "           id  timestamp   hour    day  month  datetime  timezone  source  \\\n",
       "0       False      False  False  False  False     False     False   False   \n",
       "1       False      False  False  False  False     False     False   False   \n",
       "2       False      False  False  False  False     False     False   False   \n",
       "3       False      False  False  False  False     False     False   False   \n",
       "4       False      False  False  False  False     False     False   False   \n",
       "...       ...        ...    ...    ...    ...       ...       ...     ...   \n",
       "693066  False      False  False  False  False     False     False   False   \n",
       "693067  False      False  False  False  False     False     False   False   \n",
       "693068  False      False  False  False  False     False     False   False   \n",
       "693069  False      False  False  False  False     False     False   False   \n",
       "693070  False      False  False  False  False     False     False   False   \n",
       "\n",
       "        destination  cab_type  ...  precipIntensityMax  uvIndexTime  \\\n",
       "0             False     False  ...               False        False   \n",
       "1             False     False  ...               False        False   \n",
       "2             False     False  ...               False        False   \n",
       "3             False     False  ...               False        False   \n",
       "4             False     False  ...               False        False   \n",
       "...             ...       ...  ...                 ...          ...   \n",
       "693066        False     False  ...               False        False   \n",
       "693067        False     False  ...               False        False   \n",
       "693068        False     False  ...               False        False   \n",
       "693069        False     False  ...               False        False   \n",
       "693070        False     False  ...               False        False   \n",
       "\n",
       "        temperatureMin  temperatureMinTime  temperatureMax  \\\n",
       "0                False               False           False   \n",
       "1                False               False           False   \n",
       "2                False               False           False   \n",
       "3                False               False           False   \n",
       "4                False               False           False   \n",
       "...                ...                 ...             ...   \n",
       "693066           False               False           False   \n",
       "693067           False               False           False   \n",
       "693068           False               False           False   \n",
       "693069           False               False           False   \n",
       "693070           False               False           False   \n",
       "\n",
       "        temperatureMaxTime  apparentTemperatureMin  \\\n",
       "0                    False                   False   \n",
       "1                    False                   False   \n",
       "2                    False                   False   \n",
       "3                    False                   False   \n",
       "4                    False                   False   \n",
       "...                    ...                     ...   \n",
       "693066               False                   False   \n",
       "693067               False                   False   \n",
       "693068               False                   False   \n",
       "693069               False                   False   \n",
       "693070               False                   False   \n",
       "\n",
       "        apparentTemperatureMinTime  apparentTemperatureMax  \\\n",
       "0                            False                   False   \n",
       "1                            False                   False   \n",
       "2                            False                   False   \n",
       "3                            False                   False   \n",
       "4                            False                   False   \n",
       "...                            ...                     ...   \n",
       "693066                       False                   False   \n",
       "693067                       False                   False   \n",
       "693068                       False                   False   \n",
       "693069                       False                   False   \n",
       "693070                       False                   False   \n",
       "\n",
       "        apparentTemperatureMaxTime  \n",
       "0                            False  \n",
       "1                            False  \n",
       "2                            False  \n",
       "3                            False  \n",
       "4                            False  \n",
       "...                            ...  \n",
       "693066                       False  \n",
       "693067                       False  \n",
       "693068                       False  \n",
       "693069                       False  \n",
       "693070                       False  \n",
       "\n",
       "[693071 rows x 57 columns]"
      ]
     },
     "execution_count": 5,
     "metadata": {},
     "output_type": "execute_result"
    }
   ],
   "source": [
    "df.isnull()"
   ]
  },
  {
   "cell_type": "code",
   "execution_count": 6,
   "id": "b7d9edf6",
   "metadata": {},
   "outputs": [
    {
     "data": {
      "text/plain": [
       "True"
      ]
     },
     "execution_count": 6,
     "metadata": {},
     "output_type": "execute_result"
    }
   ],
   "source": [
    "df.isnull().values.any()"
   ]
  },
  {
   "cell_type": "markdown",
   "id": "0615d15d",
   "metadata": {},
   "source": [
    "Output True artinya pada dataset terdapat missing value"
   ]
  },
  {
   "cell_type": "code",
   "execution_count": 7,
   "id": "e698c717",
   "metadata": {},
   "outputs": [
    {
     "data": {
      "text/plain": [
       "55095"
      ]
     },
     "execution_count": 7,
     "metadata": {},
     "output_type": "execute_result"
    }
   ],
   "source": [
    "df.isnull().sum().sum()"
   ]
  },
  {
   "cell_type": "markdown",
   "id": "feaa971f",
   "metadata": {},
   "source": [
    "Output 55095 berarti jumlah missing value secara keseluruhan pada dataset"
   ]
  },
  {
   "cell_type": "code",
   "execution_count": 8,
   "id": "07b71344",
   "metadata": {},
   "outputs": [
    {
     "data": {
      "text/plain": [
       "id                                 0\n",
       "timestamp                          0\n",
       "hour                               0\n",
       "day                                0\n",
       "month                              0\n",
       "datetime                           0\n",
       "timezone                           0\n",
       "source                             0\n",
       "destination                        0\n",
       "cab_type                           0\n",
       "product_id                         0\n",
       "name                               0\n",
       "price                          55095\n",
       "distance                           0\n",
       "surge_multiplier                   0\n",
       "latitude                           0\n",
       "longitude                          0\n",
       "temperature                        0\n",
       "apparentTemperature                0\n",
       "short_summary                      0\n",
       "long_summary                       0\n",
       "precipIntensity                    0\n",
       "precipProbability                  0\n",
       "humidity                           0\n",
       "windSpeed                          0\n",
       "windGust                           0\n",
       "windGustTime                       0\n",
       "visibility                         0\n",
       "temperatureHigh                    0\n",
       "temperatureHighTime                0\n",
       "temperatureLow                     0\n",
       "temperatureLowTime                 0\n",
       "apparentTemperatureHigh            0\n",
       "apparentTemperatureHighTime        0\n",
       "apparentTemperatureLow             0\n",
       "apparentTemperatureLowTime         0\n",
       "icon                               0\n",
       "dewPoint                           0\n",
       "pressure                           0\n",
       "windBearing                        0\n",
       "cloudCover                         0\n",
       "uvIndex                            0\n",
       "visibility.1                       0\n",
       "ozone                              0\n",
       "sunriseTime                        0\n",
       "sunsetTime                         0\n",
       "moonPhase                          0\n",
       "precipIntensityMax                 0\n",
       "uvIndexTime                        0\n",
       "temperatureMin                     0\n",
       "temperatureMinTime                 0\n",
       "temperatureMax                     0\n",
       "temperatureMaxTime                 0\n",
       "apparentTemperatureMin             0\n",
       "apparentTemperatureMinTime         0\n",
       "apparentTemperatureMax             0\n",
       "apparentTemperatureMaxTime         0\n",
       "dtype: int64"
      ]
     },
     "execution_count": 8,
     "metadata": {},
     "output_type": "execute_result"
    }
   ],
   "source": [
    "df.isna().sum()"
   ]
  },
  {
   "cell_type": "markdown",
   "id": "61b783a2",
   "metadata": {},
   "source": [
    "Jumlah missing value sebanyak 55095 terdapat pada kolom price"
   ]
  },
  {
   "cell_type": "code",
   "execution_count": 9,
   "id": "514516fe",
   "metadata": {
    "scrolled": true
   },
   "outputs": [
    {
     "data": {
      "text/plain": [
       "0          5.0\n",
       "1         11.0\n",
       "2          7.0\n",
       "3         26.0\n",
       "4          9.0\n",
       "          ... \n",
       "693066    13.0\n",
       "693067     9.5\n",
       "693068     NaN\n",
       "693069    27.0\n",
       "693070    10.0\n",
       "Name: price, Length: 693071, dtype: float64"
      ]
     },
     "execution_count": 9,
     "metadata": {},
     "output_type": "execute_result"
    }
   ],
   "source": [
    "df['price']"
   ]
  },
  {
   "cell_type": "markdown",
   "id": "77399885",
   "metadata": {},
   "source": [
    "#### Mengisi Missing Value dengan nilai median"
   ]
  },
  {
   "cell_type": "code",
   "execution_count": 10,
   "id": "8185dc09",
   "metadata": {},
   "outputs": [
    {
     "data": {
      "text/plain": [
       "13.5"
      ]
     },
     "execution_count": 10,
     "metadata": {},
     "output_type": "execute_result"
    }
   ],
   "source": [
    "medianPrice = df['price'].median()\n",
    "medianPrice"
   ]
  },
  {
   "cell_type": "code",
   "execution_count": 11,
   "id": "de48e39c",
   "metadata": {},
   "outputs": [],
   "source": [
    "df['price'].fillna(13.5, inplace=True)"
   ]
  },
  {
   "cell_type": "code",
   "execution_count": 12,
   "id": "6c26a6a1",
   "metadata": {},
   "outputs": [
    {
     "data": {
      "text/plain": [
       "0"
      ]
     },
     "execution_count": 12,
     "metadata": {},
     "output_type": "execute_result"
    }
   ],
   "source": [
    "df.isnull().sum().sum()"
   ]
  },
  {
   "cell_type": "markdown",
   "id": "9408e1df",
   "metadata": {},
   "source": [
    "Jumlah missing value menjadi 0 karena missing value sudah diisi dengan nilai median"
   ]
  },
  {
   "cell_type": "code",
   "execution_count": 13,
   "id": "d0272c2a",
   "metadata": {},
   "outputs": [
    {
     "data": {
      "text/plain": [
       "0          5.0\n",
       "1         11.0\n",
       "2          7.0\n",
       "3         26.0\n",
       "4          9.0\n",
       "          ... \n",
       "693066    13.0\n",
       "693067     9.5\n",
       "693068    13.5\n",
       "693069    27.0\n",
       "693070    10.0\n",
       "Name: price, Length: 693071, dtype: float64"
      ]
     },
     "execution_count": 13,
     "metadata": {},
     "output_type": "execute_result"
    }
   ],
   "source": [
    "df['price']"
   ]
  },
  {
   "cell_type": "markdown",
   "id": "eb83d913",
   "metadata": {},
   "source": [
    "Berdasar output diatas dapat dilihat lokasi missing value sudah diisi dengan nilai median"
   ]
  },
  {
   "cell_type": "markdown",
   "id": "f8370b3d",
   "metadata": {},
   "source": [
    "### 2. CEK DUPLIKASI DATA"
   ]
  },
  {
   "cell_type": "code",
   "execution_count": 14,
   "id": "13f6b263",
   "metadata": {},
   "outputs": [
    {
     "data": {
      "text/plain": [
       "False"
      ]
     },
     "execution_count": 14,
     "metadata": {},
     "output_type": "execute_result"
    }
   ],
   "source": [
    "df.duplicated().any()"
   ]
  },
  {
   "cell_type": "code",
   "execution_count": 15,
   "id": "fc502562",
   "metadata": {},
   "outputs": [
    {
     "data": {
      "text/plain": [
       "0"
      ]
     },
     "execution_count": 15,
     "metadata": {},
     "output_type": "execute_result"
    }
   ],
   "source": [
    "df.duplicated().sum()"
   ]
  },
  {
   "cell_type": "markdown",
   "id": "121ec674",
   "metadata": {},
   "source": [
    "Tidak ada data yang duplikat"
   ]
  },
  {
   "cell_type": "markdown",
   "id": "0ed892bc",
   "metadata": {},
   "source": [
    "### 3. MEMBERSIHKAN KOLOM\n",
    "Menghapus kolom yang datanya tidak di butuhkan"
   ]
  },
  {
   "cell_type": "code",
   "execution_count": 16,
   "id": "aac0867f",
   "metadata": {},
   "outputs": [
    {
     "data": {
      "text/html": [
       "<div>\n",
       "<style scoped>\n",
       "    .dataframe tbody tr th:only-of-type {\n",
       "        vertical-align: middle;\n",
       "    }\n",
       "\n",
       "    .dataframe tbody tr th {\n",
       "        vertical-align: top;\n",
       "    }\n",
       "\n",
       "    .dataframe thead th {\n",
       "        text-align: right;\n",
       "    }\n",
       "</style>\n",
       "<table border=\"1\" class=\"dataframe\">\n",
       "  <thead>\n",
       "    <tr style=\"text-align: right;\">\n",
       "      <th></th>\n",
       "      <th>id</th>\n",
       "      <th>timestamp</th>\n",
       "      <th>hour</th>\n",
       "      <th>day</th>\n",
       "      <th>month</th>\n",
       "      <th>datetime</th>\n",
       "      <th>timezone</th>\n",
       "      <th>source</th>\n",
       "      <th>destination</th>\n",
       "      <th>cab_type</th>\n",
       "      <th>...</th>\n",
       "      <th>precipIntensityMax</th>\n",
       "      <th>uvIndexTime</th>\n",
       "      <th>temperatureMin</th>\n",
       "      <th>temperatureMinTime</th>\n",
       "      <th>temperatureMax</th>\n",
       "      <th>temperatureMaxTime</th>\n",
       "      <th>apparentTemperatureMin</th>\n",
       "      <th>apparentTemperatureMinTime</th>\n",
       "      <th>apparentTemperatureMax</th>\n",
       "      <th>apparentTemperatureMaxTime</th>\n",
       "    </tr>\n",
       "  </thead>\n",
       "  <tbody>\n",
       "    <tr>\n",
       "      <th>0</th>\n",
       "      <td>424553bb-7174-41ea-aeb4-fe06d4f4b9d7</td>\n",
       "      <td>1.544953e+09</td>\n",
       "      <td>9</td>\n",
       "      <td>16</td>\n",
       "      <td>12</td>\n",
       "      <td>2018-12-16 09:30:07</td>\n",
       "      <td>America/New_York</td>\n",
       "      <td>Haymarket Square</td>\n",
       "      <td>North Station</td>\n",
       "      <td>Lyft</td>\n",
       "      <td>...</td>\n",
       "      <td>0.1276</td>\n",
       "      <td>1544979600</td>\n",
       "      <td>39.89</td>\n",
       "      <td>1545012000</td>\n",
       "      <td>43.68</td>\n",
       "      <td>1544968800</td>\n",
       "      <td>33.73</td>\n",
       "      <td>1545012000</td>\n",
       "      <td>38.07</td>\n",
       "      <td>1544958000</td>\n",
       "    </tr>\n",
       "    <tr>\n",
       "      <th>1</th>\n",
       "      <td>4bd23055-6827-41c6-b23b-3c491f24e74d</td>\n",
       "      <td>1.543284e+09</td>\n",
       "      <td>2</td>\n",
       "      <td>27</td>\n",
       "      <td>11</td>\n",
       "      <td>2018-11-27 02:00:23</td>\n",
       "      <td>America/New_York</td>\n",
       "      <td>Haymarket Square</td>\n",
       "      <td>North Station</td>\n",
       "      <td>Lyft</td>\n",
       "      <td>...</td>\n",
       "      <td>0.1300</td>\n",
       "      <td>1543251600</td>\n",
       "      <td>40.49</td>\n",
       "      <td>1543233600</td>\n",
       "      <td>47.30</td>\n",
       "      <td>1543251600</td>\n",
       "      <td>36.20</td>\n",
       "      <td>1543291200</td>\n",
       "      <td>43.92</td>\n",
       "      <td>1543251600</td>\n",
       "    </tr>\n",
       "    <tr>\n",
       "      <th>2</th>\n",
       "      <td>981a3613-77af-4620-a42a-0c0866077d1e</td>\n",
       "      <td>1.543367e+09</td>\n",
       "      <td>1</td>\n",
       "      <td>28</td>\n",
       "      <td>11</td>\n",
       "      <td>2018-11-28 01:00:22</td>\n",
       "      <td>America/New_York</td>\n",
       "      <td>Haymarket Square</td>\n",
       "      <td>North Station</td>\n",
       "      <td>Lyft</td>\n",
       "      <td>...</td>\n",
       "      <td>0.1064</td>\n",
       "      <td>1543338000</td>\n",
       "      <td>35.36</td>\n",
       "      <td>1543377600</td>\n",
       "      <td>47.55</td>\n",
       "      <td>1543320000</td>\n",
       "      <td>31.04</td>\n",
       "      <td>1543377600</td>\n",
       "      <td>44.12</td>\n",
       "      <td>1543320000</td>\n",
       "    </tr>\n",
       "    <tr>\n",
       "      <th>3</th>\n",
       "      <td>c2d88af2-d278-4bfd-a8d0-29ca77cc5512</td>\n",
       "      <td>1.543554e+09</td>\n",
       "      <td>4</td>\n",
       "      <td>30</td>\n",
       "      <td>11</td>\n",
       "      <td>2018-11-30 04:53:02</td>\n",
       "      <td>America/New_York</td>\n",
       "      <td>Haymarket Square</td>\n",
       "      <td>North Station</td>\n",
       "      <td>Lyft</td>\n",
       "      <td>...</td>\n",
       "      <td>0.0000</td>\n",
       "      <td>1543507200</td>\n",
       "      <td>34.67</td>\n",
       "      <td>1543550400</td>\n",
       "      <td>45.03</td>\n",
       "      <td>1543510800</td>\n",
       "      <td>30.30</td>\n",
       "      <td>1543550400</td>\n",
       "      <td>38.53</td>\n",
       "      <td>1543510800</td>\n",
       "    </tr>\n",
       "    <tr>\n",
       "      <th>4</th>\n",
       "      <td>e0126e1f-8ca9-4f2e-82b3-50505a09db9a</td>\n",
       "      <td>1.543463e+09</td>\n",
       "      <td>3</td>\n",
       "      <td>29</td>\n",
       "      <td>11</td>\n",
       "      <td>2018-11-29 03:49:20</td>\n",
       "      <td>America/New_York</td>\n",
       "      <td>Haymarket Square</td>\n",
       "      <td>North Station</td>\n",
       "      <td>Lyft</td>\n",
       "      <td>...</td>\n",
       "      <td>0.0001</td>\n",
       "      <td>1543420800</td>\n",
       "      <td>33.10</td>\n",
       "      <td>1543402800</td>\n",
       "      <td>42.18</td>\n",
       "      <td>1543420800</td>\n",
       "      <td>29.11</td>\n",
       "      <td>1543392000</td>\n",
       "      <td>35.75</td>\n",
       "      <td>1543420800</td>\n",
       "    </tr>\n",
       "  </tbody>\n",
       "</table>\n",
       "<p>5 rows × 57 columns</p>\n",
       "</div>"
      ],
      "text/plain": [
       "                                     id     timestamp  hour  day  month  \\\n",
       "0  424553bb-7174-41ea-aeb4-fe06d4f4b9d7  1.544953e+09     9   16     12   \n",
       "1  4bd23055-6827-41c6-b23b-3c491f24e74d  1.543284e+09     2   27     11   \n",
       "2  981a3613-77af-4620-a42a-0c0866077d1e  1.543367e+09     1   28     11   \n",
       "3  c2d88af2-d278-4bfd-a8d0-29ca77cc5512  1.543554e+09     4   30     11   \n",
       "4  e0126e1f-8ca9-4f2e-82b3-50505a09db9a  1.543463e+09     3   29     11   \n",
       "\n",
       "              datetime          timezone            source    destination  \\\n",
       "0  2018-12-16 09:30:07  America/New_York  Haymarket Square  North Station   \n",
       "1  2018-11-27 02:00:23  America/New_York  Haymarket Square  North Station   \n",
       "2  2018-11-28 01:00:22  America/New_York  Haymarket Square  North Station   \n",
       "3  2018-11-30 04:53:02  America/New_York  Haymarket Square  North Station   \n",
       "4  2018-11-29 03:49:20  America/New_York  Haymarket Square  North Station   \n",
       "\n",
       "  cab_type  ... precipIntensityMax uvIndexTime  temperatureMin  \\\n",
       "0     Lyft  ...             0.1276  1544979600           39.89   \n",
       "1     Lyft  ...             0.1300  1543251600           40.49   \n",
       "2     Lyft  ...             0.1064  1543338000           35.36   \n",
       "3     Lyft  ...             0.0000  1543507200           34.67   \n",
       "4     Lyft  ...             0.0001  1543420800           33.10   \n",
       "\n",
       "   temperatureMinTime  temperatureMax  temperatureMaxTime  \\\n",
       "0          1545012000           43.68          1544968800   \n",
       "1          1543233600           47.30          1543251600   \n",
       "2          1543377600           47.55          1543320000   \n",
       "3          1543550400           45.03          1543510800   \n",
       "4          1543402800           42.18          1543420800   \n",
       "\n",
       "   apparentTemperatureMin  apparentTemperatureMinTime  apparentTemperatureMax  \\\n",
       "0                   33.73                  1545012000                   38.07   \n",
       "1                   36.20                  1543291200                   43.92   \n",
       "2                   31.04                  1543377600                   44.12   \n",
       "3                   30.30                  1543550400                   38.53   \n",
       "4                   29.11                  1543392000                   35.75   \n",
       "\n",
       "  apparentTemperatureMaxTime  \n",
       "0                 1544958000  \n",
       "1                 1543251600  \n",
       "2                 1543320000  \n",
       "3                 1543510800  \n",
       "4                 1543420800  \n",
       "\n",
       "[5 rows x 57 columns]"
      ]
     },
     "execution_count": 16,
     "metadata": {},
     "output_type": "execute_result"
    }
   ],
   "source": [
    "df.head()"
   ]
  },
  {
   "cell_type": "code",
   "execution_count": 17,
   "id": "12602750",
   "metadata": {},
   "outputs": [
    {
     "name": "stdout",
     "output_type": "stream",
     "text": [
      "id\n",
      "timestamp\n",
      "hour\n",
      "day\n",
      "month\n",
      "datetime\n",
      "timezone\n",
      "source\n",
      "destination\n",
      "cab_type\n",
      "product_id\n",
      "name\n",
      "price\n",
      "distance\n",
      "surge_multiplier\n",
      "latitude\n",
      "longitude\n",
      "temperature\n",
      "apparentTemperature\n",
      "short_summary\n",
      "long_summary\n",
      "precipIntensity\n",
      "precipProbability\n",
      "humidity\n",
      "windSpeed\n",
      "windGust\n",
      "windGustTime\n",
      "visibility\n",
      "temperatureHigh\n",
      "temperatureHighTime\n",
      "temperatureLow\n",
      "temperatureLowTime\n",
      "apparentTemperatureHigh\n",
      "apparentTemperatureHighTime\n",
      "apparentTemperatureLow\n",
      "apparentTemperatureLowTime\n",
      "icon\n",
      "dewPoint\n",
      "pressure\n",
      "windBearing\n",
      "cloudCover\n",
      "uvIndex\n",
      "visibility.1\n",
      "ozone\n",
      "sunriseTime\n",
      "sunsetTime\n",
      "moonPhase\n",
      "precipIntensityMax\n",
      "uvIndexTime\n",
      "temperatureMin\n",
      "temperatureMinTime\n",
      "temperatureMax\n",
      "temperatureMaxTime\n",
      "apparentTemperatureMin\n",
      "apparentTemperatureMinTime\n",
      "apparentTemperatureMax\n",
      "apparentTemperatureMaxTime\n"
     ]
    }
   ],
   "source": [
    "for col in df.columns:\n",
    "    print(col)"
   ]
  },
  {
   "cell_type": "code",
   "execution_count": 18,
   "id": "732de9e9",
   "metadata": {},
   "outputs": [
    {
     "data": {
      "text/html": [
       "<div>\n",
       "<style scoped>\n",
       "    .dataframe tbody tr th:only-of-type {\n",
       "        vertical-align: middle;\n",
       "    }\n",
       "\n",
       "    .dataframe tbody tr th {\n",
       "        vertical-align: top;\n",
       "    }\n",
       "\n",
       "    .dataframe thead th {\n",
       "        text-align: right;\n",
       "    }\n",
       "</style>\n",
       "<table border=\"1\" class=\"dataframe\">\n",
       "  <thead>\n",
       "    <tr style=\"text-align: right;\">\n",
       "      <th></th>\n",
       "      <th>day</th>\n",
       "      <th>month</th>\n",
       "      <th>datetime</th>\n",
       "      <th>source</th>\n",
       "      <th>destination</th>\n",
       "      <th>cab_type</th>\n",
       "      <th>product_id</th>\n",
       "      <th>name</th>\n",
       "      <th>price</th>\n",
       "      <th>distance</th>\n",
       "      <th>surge_multiplier</th>\n",
       "    </tr>\n",
       "  </thead>\n",
       "  <tbody>\n",
       "    <tr>\n",
       "      <th>0</th>\n",
       "      <td>16</td>\n",
       "      <td>12</td>\n",
       "      <td>2018-12-16 09:30:07</td>\n",
       "      <td>Haymarket Square</td>\n",
       "      <td>North Station</td>\n",
       "      <td>Lyft</td>\n",
       "      <td>lyft_line</td>\n",
       "      <td>Shared</td>\n",
       "      <td>5.0</td>\n",
       "      <td>0.44</td>\n",
       "      <td>1.0</td>\n",
       "    </tr>\n",
       "    <tr>\n",
       "      <th>1</th>\n",
       "      <td>27</td>\n",
       "      <td>11</td>\n",
       "      <td>2018-11-27 02:00:23</td>\n",
       "      <td>Haymarket Square</td>\n",
       "      <td>North Station</td>\n",
       "      <td>Lyft</td>\n",
       "      <td>lyft_premier</td>\n",
       "      <td>Lux</td>\n",
       "      <td>11.0</td>\n",
       "      <td>0.44</td>\n",
       "      <td>1.0</td>\n",
       "    </tr>\n",
       "    <tr>\n",
       "      <th>2</th>\n",
       "      <td>28</td>\n",
       "      <td>11</td>\n",
       "      <td>2018-11-28 01:00:22</td>\n",
       "      <td>Haymarket Square</td>\n",
       "      <td>North Station</td>\n",
       "      <td>Lyft</td>\n",
       "      <td>lyft</td>\n",
       "      <td>Lyft</td>\n",
       "      <td>7.0</td>\n",
       "      <td>0.44</td>\n",
       "      <td>1.0</td>\n",
       "    </tr>\n",
       "    <tr>\n",
       "      <th>3</th>\n",
       "      <td>30</td>\n",
       "      <td>11</td>\n",
       "      <td>2018-11-30 04:53:02</td>\n",
       "      <td>Haymarket Square</td>\n",
       "      <td>North Station</td>\n",
       "      <td>Lyft</td>\n",
       "      <td>lyft_luxsuv</td>\n",
       "      <td>Lux Black XL</td>\n",
       "      <td>26.0</td>\n",
       "      <td>0.44</td>\n",
       "      <td>1.0</td>\n",
       "    </tr>\n",
       "    <tr>\n",
       "      <th>4</th>\n",
       "      <td>29</td>\n",
       "      <td>11</td>\n",
       "      <td>2018-11-29 03:49:20</td>\n",
       "      <td>Haymarket Square</td>\n",
       "      <td>North Station</td>\n",
       "      <td>Lyft</td>\n",
       "      <td>lyft_plus</td>\n",
       "      <td>Lyft XL</td>\n",
       "      <td>9.0</td>\n",
       "      <td>0.44</td>\n",
       "      <td>1.0</td>\n",
       "    </tr>\n",
       "    <tr>\n",
       "      <th>5</th>\n",
       "      <td>17</td>\n",
       "      <td>12</td>\n",
       "      <td>2018-12-17 18:25:12</td>\n",
       "      <td>Haymarket Square</td>\n",
       "      <td>North Station</td>\n",
       "      <td>Lyft</td>\n",
       "      <td>lyft_lux</td>\n",
       "      <td>Lux Black</td>\n",
       "      <td>16.5</td>\n",
       "      <td>0.44</td>\n",
       "      <td>1.0</td>\n",
       "    </tr>\n",
       "    <tr>\n",
       "      <th>6</th>\n",
       "      <td>26</td>\n",
       "      <td>11</td>\n",
       "      <td>2018-11-26 05:03:00</td>\n",
       "      <td>Back Bay</td>\n",
       "      <td>Northeastern University</td>\n",
       "      <td>Lyft</td>\n",
       "      <td>lyft_plus</td>\n",
       "      <td>Lyft XL</td>\n",
       "      <td>10.5</td>\n",
       "      <td>1.08</td>\n",
       "      <td>1.0</td>\n",
       "    </tr>\n",
       "    <tr>\n",
       "      <th>7</th>\n",
       "      <td>2</td>\n",
       "      <td>12</td>\n",
       "      <td>2018-12-02 19:53:04</td>\n",
       "      <td>Back Bay</td>\n",
       "      <td>Northeastern University</td>\n",
       "      <td>Lyft</td>\n",
       "      <td>lyft_lux</td>\n",
       "      <td>Lux Black</td>\n",
       "      <td>16.5</td>\n",
       "      <td>1.08</td>\n",
       "      <td>1.0</td>\n",
       "    </tr>\n",
       "    <tr>\n",
       "      <th>8</th>\n",
       "      <td>3</td>\n",
       "      <td>12</td>\n",
       "      <td>2018-12-03 06:28:02</td>\n",
       "      <td>Back Bay</td>\n",
       "      <td>Northeastern University</td>\n",
       "      <td>Lyft</td>\n",
       "      <td>lyft_line</td>\n",
       "      <td>Shared</td>\n",
       "      <td>3.0</td>\n",
       "      <td>1.08</td>\n",
       "      <td>1.0</td>\n",
       "    </tr>\n",
       "    <tr>\n",
       "      <th>9</th>\n",
       "      <td>27</td>\n",
       "      <td>11</td>\n",
       "      <td>2018-11-27 10:45:22</td>\n",
       "      <td>Back Bay</td>\n",
       "      <td>Northeastern University</td>\n",
       "      <td>Lyft</td>\n",
       "      <td>lyft_luxsuv</td>\n",
       "      <td>Lux Black XL</td>\n",
       "      <td>27.5</td>\n",
       "      <td>1.08</td>\n",
       "      <td>1.0</td>\n",
       "    </tr>\n",
       "    <tr>\n",
       "      <th>10</th>\n",
       "      <td>30</td>\n",
       "      <td>11</td>\n",
       "      <td>2018-11-30 16:13:03</td>\n",
       "      <td>Back Bay</td>\n",
       "      <td>Northeastern University</td>\n",
       "      <td>Lyft</td>\n",
       "      <td>lyft_premier</td>\n",
       "      <td>Lux</td>\n",
       "      <td>13.5</td>\n",
       "      <td>1.08</td>\n",
       "      <td>1.0</td>\n",
       "    </tr>\n",
       "    <tr>\n",
       "      <th>11</th>\n",
       "      <td>28</td>\n",
       "      <td>11</td>\n",
       "      <td>2018-11-28 19:23:07</td>\n",
       "      <td>Back Bay</td>\n",
       "      <td>Northeastern University</td>\n",
       "      <td>Lyft</td>\n",
       "      <td>lyft</td>\n",
       "      <td>Lyft</td>\n",
       "      <td>7.0</td>\n",
       "      <td>1.08</td>\n",
       "      <td>1.0</td>\n",
       "    </tr>\n",
       "    <tr>\n",
       "      <th>12</th>\n",
       "      <td>30</td>\n",
       "      <td>11</td>\n",
       "      <td>2018-11-30 22:13:01</td>\n",
       "      <td>North End</td>\n",
       "      <td>West End</td>\n",
       "      <td>Uber</td>\n",
       "      <td>6f72dfc5-27f1-42e8-84db-ccc7a75f6969</td>\n",
       "      <td>UberXL</td>\n",
       "      <td>12.0</td>\n",
       "      <td>1.11</td>\n",
       "      <td>1.0</td>\n",
       "    </tr>\n",
       "    <tr>\n",
       "      <th>13</th>\n",
       "      <td>13</td>\n",
       "      <td>12</td>\n",
       "      <td>2018-12-13 10:50:11</td>\n",
       "      <td>North End</td>\n",
       "      <td>West End</td>\n",
       "      <td>Uber</td>\n",
       "      <td>6c84fd89-3f11-4782-9b50-97c468b19529</td>\n",
       "      <td>Black</td>\n",
       "      <td>16.0</td>\n",
       "      <td>1.11</td>\n",
       "      <td>1.0</td>\n",
       "    </tr>\n",
       "    <tr>\n",
       "      <th>14</th>\n",
       "      <td>13</td>\n",
       "      <td>12</td>\n",
       "      <td>2018-12-13 19:15:03</td>\n",
       "      <td>North End</td>\n",
       "      <td>West End</td>\n",
       "      <td>Uber</td>\n",
       "      <td>55c66225-fbe7-4fd5-9072-eab1ece5e23e</td>\n",
       "      <td>UberX</td>\n",
       "      <td>7.5</td>\n",
       "      <td>1.11</td>\n",
       "      <td>1.0</td>\n",
       "    </tr>\n",
       "  </tbody>\n",
       "</table>\n",
       "</div>"
      ],
      "text/plain": [
       "    day  month             datetime            source  \\\n",
       "0    16     12  2018-12-16 09:30:07  Haymarket Square   \n",
       "1    27     11  2018-11-27 02:00:23  Haymarket Square   \n",
       "2    28     11  2018-11-28 01:00:22  Haymarket Square   \n",
       "3    30     11  2018-11-30 04:53:02  Haymarket Square   \n",
       "4    29     11  2018-11-29 03:49:20  Haymarket Square   \n",
       "5    17     12  2018-12-17 18:25:12  Haymarket Square   \n",
       "6    26     11  2018-11-26 05:03:00          Back Bay   \n",
       "7     2     12  2018-12-02 19:53:04          Back Bay   \n",
       "8     3     12  2018-12-03 06:28:02          Back Bay   \n",
       "9    27     11  2018-11-27 10:45:22          Back Bay   \n",
       "10   30     11  2018-11-30 16:13:03          Back Bay   \n",
       "11   28     11  2018-11-28 19:23:07          Back Bay   \n",
       "12   30     11  2018-11-30 22:13:01         North End   \n",
       "13   13     12  2018-12-13 10:50:11         North End   \n",
       "14   13     12  2018-12-13 19:15:03         North End   \n",
       "\n",
       "                destination cab_type                            product_id  \\\n",
       "0             North Station     Lyft                             lyft_line   \n",
       "1             North Station     Lyft                          lyft_premier   \n",
       "2             North Station     Lyft                                  lyft   \n",
       "3             North Station     Lyft                           lyft_luxsuv   \n",
       "4             North Station     Lyft                             lyft_plus   \n",
       "5             North Station     Lyft                              lyft_lux   \n",
       "6   Northeastern University     Lyft                             lyft_plus   \n",
       "7   Northeastern University     Lyft                              lyft_lux   \n",
       "8   Northeastern University     Lyft                             lyft_line   \n",
       "9   Northeastern University     Lyft                           lyft_luxsuv   \n",
       "10  Northeastern University     Lyft                          lyft_premier   \n",
       "11  Northeastern University     Lyft                                  lyft   \n",
       "12                 West End     Uber  6f72dfc5-27f1-42e8-84db-ccc7a75f6969   \n",
       "13                 West End     Uber  6c84fd89-3f11-4782-9b50-97c468b19529   \n",
       "14                 West End     Uber  55c66225-fbe7-4fd5-9072-eab1ece5e23e   \n",
       "\n",
       "            name  price  distance  surge_multiplier  \n",
       "0         Shared    5.0      0.44               1.0  \n",
       "1            Lux   11.0      0.44               1.0  \n",
       "2           Lyft    7.0      0.44               1.0  \n",
       "3   Lux Black XL   26.0      0.44               1.0  \n",
       "4        Lyft XL    9.0      0.44               1.0  \n",
       "5      Lux Black   16.5      0.44               1.0  \n",
       "6        Lyft XL   10.5      1.08               1.0  \n",
       "7      Lux Black   16.5      1.08               1.0  \n",
       "8         Shared    3.0      1.08               1.0  \n",
       "9   Lux Black XL   27.5      1.08               1.0  \n",
       "10           Lux   13.5      1.08               1.0  \n",
       "11          Lyft    7.0      1.08               1.0  \n",
       "12        UberXL   12.0      1.11               1.0  \n",
       "13         Black   16.0      1.11               1.0  \n",
       "14         UberX    7.5      1.11               1.0  "
      ]
     },
     "execution_count": 18,
     "metadata": {},
     "output_type": "execute_result"
    }
   ],
   "source": [
    "df_final = df[['day','month', 'datetime','source', 'destination', 'cab_type',\n",
    "               'product_id', 'name', 'price', 'distance', 'surge_multiplier']]\n",
    "df_final.head(15)"
   ]
  },
  {
   "cell_type": "markdown",
   "id": "520c2449",
   "metadata": {},
   "source": [
    "### 4. MENGUBAH NILAI PADA KOLOM CAB_TYPE MENJADI NUMERIK"
   ]
  },
  {
   "cell_type": "code",
   "execution_count": 19,
   "id": "2d21fa3d",
   "metadata": {},
   "outputs": [
    {
     "name": "stderr",
     "output_type": "stream",
     "text": [
      "C:\\Users\\HP\\AppData\\Local\\Temp\\ipykernel_18996\\1480656523.py:2: SettingWithCopyWarning: \n",
      "A value is trying to be set on a copy of a slice from a DataFrame.\n",
      "Try using .loc[row_indexer,col_indexer] = value instead\n",
      "\n",
      "See the caveats in the documentation: https://pandas.pydata.org/pandas-docs/stable/user_guide/indexing.html#returning-a-view-versus-a-copy\n",
      "  df_final['cab_type'] = df_final['cab_type'].map(cabt_map)\n"
     ]
    }
   ],
   "source": [
    "cabt_map = {'Lyft':1, 'Uber':2}\n",
    "df_final['cab_type'] = df_final['cab_type'].map(cabt_map)"
   ]
  },
  {
   "cell_type": "code",
   "execution_count": 20,
   "id": "516e8d39",
   "metadata": {},
   "outputs": [
    {
     "data": {
      "text/plain": [
       "day                 0\n",
       "month               0\n",
       "datetime            0\n",
       "source              0\n",
       "destination         0\n",
       "cab_type            0\n",
       "product_id          0\n",
       "name                0\n",
       "price               0\n",
       "distance            0\n",
       "surge_multiplier    0\n",
       "dtype: int64"
      ]
     },
     "execution_count": 20,
     "metadata": {},
     "output_type": "execute_result"
    }
   ],
   "source": [
    "df_final.isna().sum()"
   ]
  },
  {
   "cell_type": "markdown",
   "id": "7c674231",
   "metadata": {},
   "source": [
    "Output diatas diketahui bahwa setaleh mengubah data pada kolom cab_type "
   ]
  },
  {
   "cell_type": "code",
   "execution_count": 21,
   "id": "056d118e",
   "metadata": {},
   "outputs": [
    {
     "data": {
      "text/plain": [
       "1493"
      ]
     },
     "execution_count": 21,
     "metadata": {},
     "output_type": "execute_result"
    }
   ],
   "source": [
    "df_final.duplicated().sum()"
   ]
  },
  {
   "cell_type": "code",
   "execution_count": 22,
   "id": "3555d43f",
   "metadata": {},
   "outputs": [],
   "source": [
    "df_final =df_final.drop_duplicates()"
   ]
  },
  {
   "cell_type": "code",
   "execution_count": 23,
   "id": "983aa444",
   "metadata": {},
   "outputs": [
    {
     "data": {
      "text/plain": [
       "0"
      ]
     },
     "execution_count": 23,
     "metadata": {},
     "output_type": "execute_result"
    }
   ],
   "source": [
    "df_final.duplicated().sum()"
   ]
  },
  {
   "cell_type": "markdown",
   "id": "0b00128c",
   "metadata": {},
   "source": [
    "### 4. MERAPIKAN DATA\n",
    "Memastikan tipe data yang dimiliki sama sehingga proses training data dapat dilakukan dengan lebih muda"
   ]
  },
  {
   "cell_type": "code",
   "execution_count": 24,
   "id": "ba50673f",
   "metadata": {},
   "outputs": [
    {
     "name": "stdout",
     "output_type": "stream",
     "text": [
      "<class 'pandas.core.frame.DataFrame'>\n",
      "Int64Index: 691578 entries, 0 to 693070\n",
      "Data columns (total 11 columns):\n",
      " #   Column            Non-Null Count   Dtype  \n",
      "---  ------            --------------   -----  \n",
      " 0   day               691578 non-null  int64  \n",
      " 1   month             691578 non-null  int64  \n",
      " 2   datetime          691578 non-null  object \n",
      " 3   source            691578 non-null  object \n",
      " 4   destination       691578 non-null  object \n",
      " 5   cab_type          691578 non-null  int64  \n",
      " 6   product_id        691578 non-null  object \n",
      " 7   name              691578 non-null  object \n",
      " 8   price             691578 non-null  float64\n",
      " 9   distance          691578 non-null  float64\n",
      " 10  surge_multiplier  691578 non-null  float64\n",
      "dtypes: float64(3), int64(3), object(5)\n",
      "memory usage: 63.3+ MB\n"
     ]
    }
   ],
   "source": [
    "df_final.info()"
   ]
  },
  {
   "cell_type": "code",
   "execution_count": 25,
   "id": "640c65fa",
   "metadata": {},
   "outputs": [
    {
     "name": "stdout",
     "output_type": "stream",
     "text": [
      "day                  int64\n",
      "month                int64\n",
      "datetime            object\n",
      "source              object\n",
      "destination         object\n",
      "cab_type             int64\n",
      "product_id          object\n",
      "name                object\n",
      "price                int32\n",
      "distance             int32\n",
      "surge_multiplier     int32\n",
      "dtype: object\n"
     ]
    }
   ],
   "source": [
    "df_final = df_final.astype({'price':int, 'distance':int, 'surge_multiplier':int})\n",
    "print(df_final.dtypes)"
   ]
  },
  {
   "cell_type": "markdown",
   "id": "0bf2aadf",
   "metadata": {},
   "source": [
    "### 5. MENGIDENTIFIKASI OUTLIER"
   ]
  },
  {
   "cell_type": "code",
   "execution_count": 26,
   "id": "1ea35554",
   "metadata": {},
   "outputs": [
    {
     "data": {
      "text/html": [
       "<div>\n",
       "<style scoped>\n",
       "    .dataframe tbody tr th:only-of-type {\n",
       "        vertical-align: middle;\n",
       "    }\n",
       "\n",
       "    .dataframe tbody tr th {\n",
       "        vertical-align: top;\n",
       "    }\n",
       "\n",
       "    .dataframe thead th {\n",
       "        text-align: right;\n",
       "    }\n",
       "</style>\n",
       "<table border=\"1\" class=\"dataframe\">\n",
       "  <thead>\n",
       "    <tr style=\"text-align: right;\">\n",
       "      <th></th>\n",
       "      <th>day</th>\n",
       "      <th>month</th>\n",
       "      <th>cab_type</th>\n",
       "      <th>price</th>\n",
       "      <th>distance</th>\n",
       "      <th>surge_multiplier</th>\n",
       "    </tr>\n",
       "  </thead>\n",
       "  <tbody>\n",
       "    <tr>\n",
       "      <th>count</th>\n",
       "      <td>691578.000000</td>\n",
       "      <td>691578.000000</td>\n",
       "      <td>691578.000000</td>\n",
       "      <td>691578.000000</td>\n",
       "      <td>691578.000000</td>\n",
       "      <td>691578.000000</td>\n",
       "    </tr>\n",
       "    <tr>\n",
       "      <th>mean</th>\n",
       "      <td>17.787593</td>\n",
       "      <td>11.587111</td>\n",
       "      <td>1.555811</td>\n",
       "      <td>16.009233</td>\n",
       "      <td>1.734461</td>\n",
       "      <td>1.003495</td>\n",
       "    </tr>\n",
       "    <tr>\n",
       "      <th>std</th>\n",
       "      <td>9.982174</td>\n",
       "      <td>0.492354</td>\n",
       "      <td>0.496876</td>\n",
       "      <td>8.968367</td>\n",
       "      <td>1.166760</td>\n",
       "      <td>0.059308</td>\n",
       "    </tr>\n",
       "    <tr>\n",
       "      <th>min</th>\n",
       "      <td>1.000000</td>\n",
       "      <td>11.000000</td>\n",
       "      <td>1.000000</td>\n",
       "      <td>2.000000</td>\n",
       "      <td>0.000000</td>\n",
       "      <td>1.000000</td>\n",
       "    </tr>\n",
       "    <tr>\n",
       "      <th>25%</th>\n",
       "      <td>13.000000</td>\n",
       "      <td>11.000000</td>\n",
       "      <td>1.000000</td>\n",
       "      <td>9.000000</td>\n",
       "      <td>1.000000</td>\n",
       "      <td>1.000000</td>\n",
       "    </tr>\n",
       "    <tr>\n",
       "      <th>50%</th>\n",
       "      <td>17.000000</td>\n",
       "      <td>12.000000</td>\n",
       "      <td>2.000000</td>\n",
       "      <td>13.000000</td>\n",
       "      <td>2.000000</td>\n",
       "      <td>1.000000</td>\n",
       "    </tr>\n",
       "    <tr>\n",
       "      <th>75%</th>\n",
       "      <td>28.000000</td>\n",
       "      <td>12.000000</td>\n",
       "      <td>2.000000</td>\n",
       "      <td>22.000000</td>\n",
       "      <td>2.000000</td>\n",
       "      <td>1.000000</td>\n",
       "    </tr>\n",
       "    <tr>\n",
       "      <th>max</th>\n",
       "      <td>30.000000</td>\n",
       "      <td>12.000000</td>\n",
       "      <td>2.000000</td>\n",
       "      <td>97.000000</td>\n",
       "      <td>7.000000</td>\n",
       "      <td>3.000000</td>\n",
       "    </tr>\n",
       "  </tbody>\n",
       "</table>\n",
       "</div>"
      ],
      "text/plain": [
       "                 day          month       cab_type          price  \\\n",
       "count  691578.000000  691578.000000  691578.000000  691578.000000   \n",
       "mean       17.787593      11.587111       1.555811      16.009233   \n",
       "std         9.982174       0.492354       0.496876       8.968367   \n",
       "min         1.000000      11.000000       1.000000       2.000000   \n",
       "25%        13.000000      11.000000       1.000000       9.000000   \n",
       "50%        17.000000      12.000000       2.000000      13.000000   \n",
       "75%        28.000000      12.000000       2.000000      22.000000   \n",
       "max        30.000000      12.000000       2.000000      97.000000   \n",
       "\n",
       "            distance  surge_multiplier  \n",
       "count  691578.000000     691578.000000  \n",
       "mean        1.734461          1.003495  \n",
       "std         1.166760          0.059308  \n",
       "min         0.000000          1.000000  \n",
       "25%         1.000000          1.000000  \n",
       "50%         2.000000          1.000000  \n",
       "75%         2.000000          1.000000  \n",
       "max         7.000000          3.000000  "
      ]
     },
     "execution_count": 26,
     "metadata": {},
     "output_type": "execute_result"
    }
   ],
   "source": [
    "df_final.describe()"
   ]
  },
  {
   "cell_type": "markdown",
   "id": "ad5c043c",
   "metadata": {},
   "source": [
    "#### Menggunakan Visualisasi Boxplot"
   ]
  },
  {
   "cell_type": "code",
   "execution_count": 27,
   "id": "0a0a6ee8",
   "metadata": {},
   "outputs": [
    {
     "data": {
      "image/png": "[encoded data removed]",
      "text/plain": [
       "<Figure size 432x288 with 1 Axes>"
      ]
     },
     "metadata": {
      "needs_background": "light"
     },
     "output_type": "display_data"
    },
    {
     "data": {
      "image/png": "[encoded data removed]",
      "text/plain": [
       "<Figure size 432x288 with 1 Axes>"
      ]
     },
     "metadata": {
      "needs_background": "light"
     },
     "output_type": "display_data"
    },
    {
     "data": {
      "image/png": "[encoded data removed]",
      "text/plain": [
       "<Figure size 432x288 with 1 Axes>"
      ]
     },
     "metadata": {
      "needs_background": "light"
     },
     "output_type": "display_data"
    },
    {
     "data": {
      "image/png": "[encoded data removed]",
      "text/plain": [
       "<Figure size 432x288 with 1 Axes>"
      ]
     },
     "metadata": {
      "needs_background": "light"
     },
     "output_type": "display_data"
    },
    {
     "data": {
      "image/png": "[encoded data removed]",
      "text/plain": [
       "<Figure size 432x288 with 1 Axes>"
      ]
     },
     "metadata": {
      "needs_background": "light"
     },
     "output_type": "display_data"
    },
    {
     "data": {
      "image/png": "[encoded data removed]",
      "text/plain": [
       "<Figure size 432x288 with 1 Axes>"
      ]
     },
     "metadata": {
      "needs_background": "light"
     },
     "output_type": "display_data"
    }
   ],
   "source": [
    "for col in df_final.select_dtypes(include=int).columns:\n",
    "    plt.figure()\n",
    "    sns.boxplot(x=df_final[col])\n",
    "plt.show()"
   ]
  },
  {
   "cell_type": "markdown",
   "id": "e749e2a0",
   "metadata": {},
   "source": [
    "Berdasarkan output dan boxplot tersebut, dapat dilihat bahwa kolom price, distance dan surge_multiplier mengandung outliers."
   ]
  },
  {
   "cell_type": "markdown",
   "id": "7d39353d",
   "metadata": {},
   "source": [
    "#### Mengganti nilai outliers menggunakan nilai  batas bawah dan batas atas"
   ]
  },
  {
   "cell_type": "code",
   "execution_count": 28,
   "id": "c6a4ae03",
   "metadata": {},
   "outputs": [],
   "source": [
    "Q1 = df_final[df_final.select_dtypes(include=int).columns].quantile(0.25)\n",
    "Q3 = df_final[df_final.select_dtypes(include=int).columns].quantile(0.75)\n",
    "\n",
    "IQR = Q3-Q1"
   ]
  },
  {
   "cell_type": "code",
   "execution_count": 29,
   "id": "7653881d",
   "metadata": {},
   "outputs": [],
   "source": [
    "minimum = Q1-(1.5*IQR)\n",
    "maximum = Q3+(1.5*IQR)"
   ]
  },
  {
   "cell_type": "code",
   "execution_count": 30,
   "id": "ef1e1a51",
   "metadata": {},
   "outputs": [
    {
     "name": "stdout",
     "output_type": "stream",
     "text": [
      "day                 -9.5\n",
      "month                9.5\n",
      "cab_type            -0.5\n",
      "price              -10.5\n",
      "distance            -0.5\n",
      "surge_multiplier     1.0\n",
      "dtype: float64\n",
      "============================================================\n",
      "day                 50.5\n",
      "month               13.5\n",
      "cab_type             3.5\n",
      "price               41.5\n",
      "distance             3.5\n",
      "surge_multiplier     1.0\n",
      "dtype: float64\n"
     ]
    }
   ],
   "source": [
    "print(minimum)\n",
    "print('=' * 60)\n",
    "print(maximum)"
   ]
  },
  {
   "cell_type": "code",
   "execution_count": 31,
   "id": "ee03c528",
   "metadata": {},
   "outputs": [
    {
     "name": "stderr",
     "output_type": "stream",
     "text": [
      "C:\\Users\\HP\\AppData\\Local\\Temp\\ipykernel_18996\\220524666.py:1: FutureWarning: Automatic reindexing on DataFrame vs Series comparisons is deprecated and will raise ValueError in a future version. Do `left, right = left.align(right, axis=1, copy=False)` before e.g. `left == right`\n",
      "  more_than = df_final > maximum\n",
      "C:\\Users\\HP\\AppData\\Local\\Temp\\ipykernel_18996\\220524666.py:2: FutureWarning: Automatic reindexing on DataFrame vs Series comparisons is deprecated and will raise ValueError in a future version. Do `left, right = left.align(right, axis=1, copy=False)` before e.g. `left == right`\n",
      "  lower_than = df_final < minimum\n"
     ]
    }
   ],
   "source": [
    "more_than = df_final > maximum\n",
    "lower_than = df_final < minimum"
   ]
  },
  {
   "cell_type": "code",
   "execution_count": 32,
   "id": "5f8cc718",
   "metadata": {},
   "outputs": [],
   "source": [
    "df_final = df_final.mask(more_than, maximum, axis=1)"
   ]
  },
  {
   "cell_type": "code",
   "execution_count": 33,
   "id": "07ff150d",
   "metadata": {},
   "outputs": [],
   "source": [
    "df_final = df_final.mask(lower_than, minimum, axis=1)"
   ]
  },
  {
   "cell_type": "code",
   "execution_count": 34,
   "id": "4352e9da",
   "metadata": {},
   "outputs": [
    {
     "name": "stdout",
     "output_type": "stream",
     "text": [
      "day                  int64\n",
      "month                int64\n",
      "datetime            object\n",
      "source              object\n",
      "destination         object\n",
      "cab_type             int64\n",
      "product_id          object\n",
      "name                object\n",
      "price                int32\n",
      "distance             int32\n",
      "surge_multiplier     int64\n",
      "dtype: object\n"
     ]
    }
   ],
   "source": [
    "df_final = df_final.astype({'price':int, 'distance':int})\n",
    "print(df_final.dtypes)"
   ]
  },
  {
   "cell_type": "code",
   "execution_count": 35,
   "id": "420e7719",
   "metadata": {},
   "outputs": [
    {
     "data": {
      "image/png": "[encoded data removed]",
      "text/plain": [
       "<Figure size 432x288 with 1 Axes>"
      ]
     },
     "metadata": {
      "needs_background": "light"
     },
     "output_type": "display_data"
    },
    {
     "data": {
      "image/png": "[encoded data removed]",
      "text/plain": [
       "<Figure size 432x288 with 1 Axes>"
      ]
     },
     "metadata": {
      "needs_background": "light"
     },
     "output_type": "display_data"
    },
    {
     "data": {
      "image/png": "[encoded data removed]",
      "text/plain": [
       "<Figure size 432x288 with 1 Axes>"
      ]
     },
     "metadata": {
      "needs_background": "light"
     },
     "output_type": "display_data"
    },
    {
     "data": {
      "image/png": "[encoded data removed]",
      "text/plain": [
       "<Figure size 432x288 with 1 Axes>"
      ]
     },
     "metadata": {
      "needs_background": "light"
     },
     "output_type": "display_data"
    },
    {
     "data": {
      "image/png": "[encoded data removed]",
      "text/plain": [
       "<Figure size 432x288 with 1 Axes>"
      ]
     },
     "metadata": {
      "needs_background": "light"
     },
     "output_type": "display_data"
    },
    {
     "data": {
      "image/png": "[encoded data removed]",
      "text/plain": [
       "<Figure size 432x288 with 1 Axes>"
      ]
     },
     "metadata": {
      "needs_background": "light"
     },
     "output_type": "display_data"
    }
   ],
   "source": [
    "for col in df_final.select_dtypes(include=int).columns:\n",
    "    plt.figure()\n",
    "    sns.boxplot(x=df_final[col])\n",
    "plt.show()"
   ]
  },
  {
   "cell_type": "markdown",
   "id": "0cbb22dd",
   "metadata": {},
   "source": [
    "Berdasarkan output dan boxplot tersebut, dapat dilihat bahwa nilai outliers sudah tidak ada"
   ]
  },
  {
   "cell_type": "markdown",
   "id": "4a60c13d",
   "metadata": {},
   "source": [
    "## E. Explorasi Data Analysis\n",
    "Bagian ini berisi explorasi data pada dataset diatas dengan menggunakan\n",
    "query, grouping, visualisasi sederhana, dan lain sebagainya."
   ]
  },
  {
   "cell_type": "markdown",
   "id": "ba6fd9a5",
   "metadata": {},
   "source": [
    "### 1. KORELASI ANTAR VARIABEL"
   ]
  },
  {
   "cell_type": "markdown",
   "id": "57021b1d",
   "metadata": {},
   "source": [
    "- Digunakan untuk menggambarkan bagaimana kumpulan data terkait satu sama lain\n",
    "- Korelasi positif atau negatif\n",
    "- Korelasi kuat 0,6 - 1\n",
    "- Korelasi sedang 0,6 - 0,3\n",
    "- korelasi lemah 0,3 - 0,1\n",
    "- Tidak ada korelasi kurang dari 0,1- 0"
   ]
  },
  {
   "cell_type": "code",
   "execution_count": 36,
   "id": "6328a34b",
   "metadata": {},
   "outputs": [
    {
     "data": {
      "image/png": "[encoded data removed]",
      "text/plain": [
       "<Figure size 720x720 with 2 Axes>"
      ]
     },
     "metadata": {
      "needs_background": "light"
     },
     "output_type": "display_data"
    }
   ],
   "source": [
    "plt.figure(figsize=(10,10))\n",
    "sns.heatmap(df_final.corr(), annot=True, cmap='YlGnBu')\n",
    "plt.title(\"Correlation Heatmap\");"
   ]
  },
  {
   "cell_type": "markdown",
   "id": "584b69aa",
   "metadata": {},
   "source": [
    "Berdasarkan output diatas, di simpulkan:\n",
    "- Terdapat korelasi negatif antara kolom price dan day sebesar -0.00065 yang artinya korelasi antar dua variabel ini berlawanan atau terbalik.\n",
    "- Terdapat korelasi positif antara kolom price dan distance yang artinya hubungan dua variabel ini bergerak dalam arah yang sama.\n",
    "- Untuk variabel lainnya memiliki korelasi yang netral dengan kolom price, perubahan tidak mempengaruhi kolom price"
   ]
  },
  {
   "cell_type": "markdown",
   "id": "e8646af9",
   "metadata": {},
   "source": [
    "### 2. MENAMPILKAN ISI KOLOM"
   ]
  },
  {
   "cell_type": "code",
   "execution_count": 37,
   "id": "20a8dc25",
   "metadata": {},
   "outputs": [
    {
     "data": {
      "text/plain": [
       "[16, 27, 28, 30, 29, 17, 26, 2, 3, 13, 14, 1, 18, 15, 4, 10, 9]"
      ]
     },
     "execution_count": 37,
     "metadata": {},
     "output_type": "execute_result"
    }
   ],
   "source": [
    "list(df_final['day'].unique())"
   ]
  },
  {
   "cell_type": "code",
   "execution_count": 38,
   "id": "9d54cf26",
   "metadata": {},
   "outputs": [
    {
     "data": {
      "text/plain": [
       "[12, 11]"
      ]
     },
     "execution_count": 38,
     "metadata": {},
     "output_type": "execute_result"
    }
   ],
   "source": [
    "list(df_final['month'].unique())"
   ]
  },
  {
   "cell_type": "code",
   "execution_count": 40,
   "id": "a9611b87",
   "metadata": {},
   "outputs": [
    {
     "data": {
      "text/plain": [
       "['Haymarket Square',\n",
       " 'Back Bay',\n",
       " 'North End',\n",
       " 'North Station',\n",
       " 'Beacon Hill',\n",
       " 'Boston University',\n",
       " 'Fenway',\n",
       " 'South Station',\n",
       " 'Theatre District',\n",
       " 'West End',\n",
       " 'Financial District',\n",
       " 'Northeastern University']"
      ]
     },
     "execution_count": 40,
     "metadata": {},
     "output_type": "execute_result"
    }
   ],
   "source": [
    "list(df_final['source'].unique())"
   ]
  },
  {
   "cell_type": "code",
   "execution_count": 41,
   "id": "17d87f55",
   "metadata": {},
   "outputs": [
    {
     "data": {
      "text/plain": [
       "['North Station',\n",
       " 'Northeastern University',\n",
       " 'West End',\n",
       " 'Haymarket Square',\n",
       " 'South Station',\n",
       " 'Fenway',\n",
       " 'Theatre District',\n",
       " 'Beacon Hill',\n",
       " 'Back Bay',\n",
       " 'North End',\n",
       " 'Financial District',\n",
       " 'Boston University']"
      ]
     },
     "execution_count": 41,
     "metadata": {},
     "output_type": "execute_result"
    }
   ],
   "source": [
    "list(df_final['destination'].unique())"
   ]
  },
  {
   "cell_type": "code",
   "execution_count": 42,
   "id": "cd57b86f",
   "metadata": {},
   "outputs": [
    {
     "data": {
      "text/plain": [
       "[1, 2]"
      ]
     },
     "execution_count": 42,
     "metadata": {},
     "output_type": "execute_result"
    }
   ],
   "source": [
    "list(df_final['cab_type'].unique())"
   ]
  },
  {
   "cell_type": "code",
   "execution_count": 43,
   "id": "4ec13fb4",
   "metadata": {},
   "outputs": [
    {
     "data": {
      "text/plain": [
       "['lyft_line',\n",
       " 'lyft_premier',\n",
       " 'lyft',\n",
       " 'lyft_luxsuv',\n",
       " 'lyft_plus',\n",
       " 'lyft_lux',\n",
       " '6f72dfc5-27f1-42e8-84db-ccc7a75f6969',\n",
       " '6c84fd89-3f11-4782-9b50-97c468b19529',\n",
       " '55c66225-fbe7-4fd5-9072-eab1ece5e23e',\n",
       " '9a0e7b09-b92b-4c41-9779-2ad22b4d779d',\n",
       " '6d318bcc-22a3-4af6-bddd-b409bfce1546',\n",
       " '997acbb5-e102-41e1-b155-9df7de0a73f2',\n",
       " '8cf7e821-f0d3-49c6-8eba-e679c0ebcf6a']"
      ]
     },
     "execution_count": 43,
     "metadata": {},
     "output_type": "execute_result"
    }
   ],
   "source": [
    "list(df_final['product_id'].unique())"
   ]
  },
  {
   "cell_type": "code",
   "execution_count": 44,
   "id": "836d1c9a",
   "metadata": {},
   "outputs": [
    {
     "data": {
      "text/plain": [
       "['Shared',\n",
       " 'Lux',\n",
       " 'Lyft',\n",
       " 'Lux Black XL',\n",
       " 'Lyft XL',\n",
       " 'Lux Black',\n",
       " 'UberXL',\n",
       " 'Black',\n",
       " 'UberX',\n",
       " 'WAV',\n",
       " 'Black SUV',\n",
       " 'UberPool',\n",
       " 'Taxi']"
      ]
     },
     "execution_count": 44,
     "metadata": {},
     "output_type": "execute_result"
    }
   ],
   "source": [
    "list(df_final['name'].unique())"
   ]
  },
  {
   "cell_type": "code",
   "execution_count": 45,
   "id": "6824eaa6",
   "metadata": {},
   "outputs": [
    {
     "data": {
      "text/plain": [
       "[5,\n",
       " 11,\n",
       " 7,\n",
       " 26,\n",
       " 9,\n",
       " 16,\n",
       " 10,\n",
       " 3,\n",
       " 27,\n",
       " 13,\n",
       " 12,\n",
       " 8,\n",
       " 15,\n",
       " 20,\n",
       " 19,\n",
       " 29,\n",
       " 22,\n",
       " 17,\n",
       " 34,\n",
       " 18,\n",
       " 36,\n",
       " 32,\n",
       " 25,\n",
       " 35,\n",
       " 23,\n",
       " 14,\n",
       " 38,\n",
       " 30,\n",
       " 33,\n",
       " 21,\n",
       " 6,\n",
       " 31,\n",
       " 28,\n",
       " 24,\n",
       " 41,\n",
       " 37,\n",
       " 4,\n",
       " 40,\n",
       " 39,\n",
       " 2]"
      ]
     },
     "execution_count": 45,
     "metadata": {},
     "output_type": "execute_result"
    }
   ],
   "source": [
    "list(df_final['price'].unique())"
   ]
  },
  {
   "cell_type": "code",
   "execution_count": 46,
   "id": "72159d37",
   "metadata": {},
   "outputs": [
    {
     "data": {
      "text/plain": [
       "[0, 1, 2, 3]"
      ]
     },
     "execution_count": 46,
     "metadata": {},
     "output_type": "execute_result"
    }
   ],
   "source": [
    "list(df_final['distance'].unique())"
   ]
  },
  {
   "cell_type": "code",
   "execution_count": 47,
   "id": "43e057a5",
   "metadata": {},
   "outputs": [
    {
     "data": {
      "text/plain": [
       "[1]"
      ]
     },
     "execution_count": 47,
     "metadata": {},
     "output_type": "execute_result"
    }
   ],
   "source": [
    "list(df_final['surge_multiplier'].unique())"
   ]
  },
  {
   "cell_type": "markdown",
   "id": "e3b93c86",
   "metadata": {},
   "source": [
    "### 3. MEMAHAMI VARIABEL DAN HUBUNGAN DI ANTARANYA"
   ]
  },
  {
   "cell_type": "code",
   "execution_count": 48,
   "id": "ee9b8da7",
   "metadata": {},
   "outputs": [
    {
     "data": {
      "text/html": [
       "<div>\n",
       "<style scoped>\n",
       "    .dataframe tbody tr th:only-of-type {\n",
       "        vertical-align: middle;\n",
       "    }\n",
       "\n",
       "    .dataframe tbody tr th {\n",
       "        vertical-align: top;\n",
       "    }\n",
       "\n",
       "    .dataframe thead th {\n",
       "        text-align: right;\n",
       "    }\n",
       "</style>\n",
       "<table border=\"1\" class=\"dataframe\">\n",
       "  <thead>\n",
       "    <tr style=\"text-align: right;\">\n",
       "      <th></th>\n",
       "      <th>day</th>\n",
       "      <th>month</th>\n",
       "      <th>datetime</th>\n",
       "      <th>source</th>\n",
       "      <th>destination</th>\n",
       "      <th>cab_type</th>\n",
       "      <th>product_id</th>\n",
       "      <th>name</th>\n",
       "      <th>price</th>\n",
       "      <th>distance</th>\n",
       "      <th>surge_multiplier</th>\n",
       "    </tr>\n",
       "  </thead>\n",
       "  <tbody>\n",
       "    <tr>\n",
       "      <th>0</th>\n",
       "      <td>16</td>\n",
       "      <td>12</td>\n",
       "      <td>2018-12-16 09:30:07</td>\n",
       "      <td>Haymarket Square</td>\n",
       "      <td>North Station</td>\n",
       "      <td>1</td>\n",
       "      <td>lyft_line</td>\n",
       "      <td>Shared</td>\n",
       "      <td>5</td>\n",
       "      <td>0</td>\n",
       "      <td>1</td>\n",
       "    </tr>\n",
       "    <tr>\n",
       "      <th>1</th>\n",
       "      <td>27</td>\n",
       "      <td>11</td>\n",
       "      <td>2018-11-27 02:00:23</td>\n",
       "      <td>Haymarket Square</td>\n",
       "      <td>North Station</td>\n",
       "      <td>1</td>\n",
       "      <td>lyft_premier</td>\n",
       "      <td>Lux</td>\n",
       "      <td>11</td>\n",
       "      <td>0</td>\n",
       "      <td>1</td>\n",
       "    </tr>\n",
       "    <tr>\n",
       "      <th>2</th>\n",
       "      <td>28</td>\n",
       "      <td>11</td>\n",
       "      <td>2018-11-28 01:00:22</td>\n",
       "      <td>Haymarket Square</td>\n",
       "      <td>North Station</td>\n",
       "      <td>1</td>\n",
       "      <td>lyft</td>\n",
       "      <td>Lyft</td>\n",
       "      <td>7</td>\n",
       "      <td>0</td>\n",
       "      <td>1</td>\n",
       "    </tr>\n",
       "    <tr>\n",
       "      <th>3</th>\n",
       "      <td>30</td>\n",
       "      <td>11</td>\n",
       "      <td>2018-11-30 04:53:02</td>\n",
       "      <td>Haymarket Square</td>\n",
       "      <td>North Station</td>\n",
       "      <td>1</td>\n",
       "      <td>lyft_luxsuv</td>\n",
       "      <td>Lux Black XL</td>\n",
       "      <td>26</td>\n",
       "      <td>0</td>\n",
       "      <td>1</td>\n",
       "    </tr>\n",
       "    <tr>\n",
       "      <th>4</th>\n",
       "      <td>29</td>\n",
       "      <td>11</td>\n",
       "      <td>2018-11-29 03:49:20</td>\n",
       "      <td>Haymarket Square</td>\n",
       "      <td>North Station</td>\n",
       "      <td>1</td>\n",
       "      <td>lyft_plus</td>\n",
       "      <td>Lyft XL</td>\n",
       "      <td>9</td>\n",
       "      <td>0</td>\n",
       "      <td>1</td>\n",
       "    </tr>\n",
       "  </tbody>\n",
       "</table>\n",
       "</div>"
      ],
      "text/plain": [
       "   day  month             datetime            source    destination  cab_type  \\\n",
       "0   16     12  2018-12-16 09:30:07  Haymarket Square  North Station         1   \n",
       "1   27     11  2018-11-27 02:00:23  Haymarket Square  North Station         1   \n",
       "2   28     11  2018-11-28 01:00:22  Haymarket Square  North Station         1   \n",
       "3   30     11  2018-11-30 04:53:02  Haymarket Square  North Station         1   \n",
       "4   29     11  2018-11-29 03:49:20  Haymarket Square  North Station         1   \n",
       "\n",
       "     product_id          name  price  distance  surge_multiplier  \n",
       "0     lyft_line        Shared      5         0                 1  \n",
       "1  lyft_premier           Lux     11         0                 1  \n",
       "2          lyft          Lyft      7         0                 1  \n",
       "3   lyft_luxsuv  Lux Black XL     26         0                 1  \n",
       "4     lyft_plus       Lyft XL      9         0                 1  "
      ]
     },
     "execution_count": 48,
     "metadata": {},
     "output_type": "execute_result"
    }
   ],
   "source": [
    "df_final.head()"
   ]
  },
  {
   "cell_type": "code",
   "execution_count": 49,
   "id": "865cdfc7",
   "metadata": {},
   "outputs": [
    {
     "data": {
      "text/plain": [
       "(691578, 11)"
      ]
     },
     "execution_count": 49,
     "metadata": {},
     "output_type": "execute_result"
    }
   ],
   "source": [
    "df_final.shape"
   ]
  },
  {
   "cell_type": "code",
   "execution_count": 50,
   "id": "0079d892",
   "metadata": {},
   "outputs": [
    {
     "data": {
      "text/html": [
       "<div>\n",
       "<style scoped>\n",
       "    .dataframe tbody tr th:only-of-type {\n",
       "        vertical-align: middle;\n",
       "    }\n",
       "\n",
       "    .dataframe tbody tr th {\n",
       "        vertical-align: top;\n",
       "    }\n",
       "\n",
       "    .dataframe thead th {\n",
       "        text-align: right;\n",
       "    }\n",
       "</style>\n",
       "<table border=\"1\" class=\"dataframe\">\n",
       "  <thead>\n",
       "    <tr style=\"text-align: right;\">\n",
       "      <th></th>\n",
       "      <th>day</th>\n",
       "      <th>month</th>\n",
       "      <th>cab_type</th>\n",
       "      <th>price</th>\n",
       "      <th>distance</th>\n",
       "      <th>surge_multiplier</th>\n",
       "    </tr>\n",
       "  </thead>\n",
       "  <tbody>\n",
       "    <tr>\n",
       "      <th>count</th>\n",
       "      <td>691578.000000</td>\n",
       "      <td>691578.000000</td>\n",
       "      <td>691578.000000</td>\n",
       "      <td>691578.000000</td>\n",
       "      <td>691578.000000</td>\n",
       "      <td>691578.0</td>\n",
       "    </tr>\n",
       "    <tr>\n",
       "      <th>mean</th>\n",
       "      <td>17.787593</td>\n",
       "      <td>11.587111</td>\n",
       "      <td>1.555811</td>\n",
       "      <td>15.931666</td>\n",
       "      <td>1.638360</td>\n",
       "      <td>1.0</td>\n",
       "    </tr>\n",
       "    <tr>\n",
       "      <th>std</th>\n",
       "      <td>9.982174</td>\n",
       "      <td>0.492354</td>\n",
       "      <td>0.496876</td>\n",
       "      <td>8.681288</td>\n",
       "      <td>0.969583</td>\n",
       "      <td>0.0</td>\n",
       "    </tr>\n",
       "    <tr>\n",
       "      <th>min</th>\n",
       "      <td>1.000000</td>\n",
       "      <td>11.000000</td>\n",
       "      <td>1.000000</td>\n",
       "      <td>2.000000</td>\n",
       "      <td>0.000000</td>\n",
       "      <td>1.0</td>\n",
       "    </tr>\n",
       "    <tr>\n",
       "      <th>25%</th>\n",
       "      <td>13.000000</td>\n",
       "      <td>11.000000</td>\n",
       "      <td>1.000000</td>\n",
       "      <td>9.000000</td>\n",
       "      <td>1.000000</td>\n",
       "      <td>1.0</td>\n",
       "    </tr>\n",
       "    <tr>\n",
       "      <th>50%</th>\n",
       "      <td>17.000000</td>\n",
       "      <td>12.000000</td>\n",
       "      <td>2.000000</td>\n",
       "      <td>13.000000</td>\n",
       "      <td>2.000000</td>\n",
       "      <td>1.0</td>\n",
       "    </tr>\n",
       "    <tr>\n",
       "      <th>75%</th>\n",
       "      <td>28.000000</td>\n",
       "      <td>12.000000</td>\n",
       "      <td>2.000000</td>\n",
       "      <td>22.000000</td>\n",
       "      <td>2.000000</td>\n",
       "      <td>1.0</td>\n",
       "    </tr>\n",
       "    <tr>\n",
       "      <th>max</th>\n",
       "      <td>30.000000</td>\n",
       "      <td>12.000000</td>\n",
       "      <td>2.000000</td>\n",
       "      <td>41.000000</td>\n",
       "      <td>3.000000</td>\n",
       "      <td>1.0</td>\n",
       "    </tr>\n",
       "  </tbody>\n",
       "</table>\n",
       "</div>"
      ],
      "text/plain": [
       "                 day          month       cab_type          price  \\\n",
       "count  691578.000000  691578.000000  691578.000000  691578.000000   \n",
       "mean       17.787593      11.587111       1.555811      15.931666   \n",
       "std         9.982174       0.492354       0.496876       8.681288   \n",
       "min         1.000000      11.000000       1.000000       2.000000   \n",
       "25%        13.000000      11.000000       1.000000       9.000000   \n",
       "50%        17.000000      12.000000       2.000000      13.000000   \n",
       "75%        28.000000      12.000000       2.000000      22.000000   \n",
       "max        30.000000      12.000000       2.000000      41.000000   \n",
       "\n",
       "            distance  surge_multiplier  \n",
       "count  691578.000000          691578.0  \n",
       "mean        1.638360               1.0  \n",
       "std         0.969583               0.0  \n",
       "min         0.000000               1.0  \n",
       "25%         1.000000               1.0  \n",
       "50%         2.000000               1.0  \n",
       "75%         2.000000               1.0  \n",
       "max         3.000000               1.0  "
      ]
     },
     "execution_count": 50,
     "metadata": {},
     "output_type": "execute_result"
    }
   ],
   "source": [
    "df_final.describe()"
   ]
  },
  {
   "cell_type": "markdown",
   "id": "63a5f3b9",
   "metadata": {},
   "source": [
    "#### Mengidentifikasi jumlah setiap kategori di kolom dataset"
   ]
  },
  {
   "cell_type": "code",
   "execution_count": 51,
   "id": "19c1c15d",
   "metadata": {},
   "outputs": [
    {
     "data": {
      "text/plain": [
       "27    75853\n",
       "28    73398\n",
       "29    59815\n",
       "1     45181\n",
       "30    45012\n",
       "14    44881\n",
       "15    44872\n",
       "17    44870\n",
       "16    44859\n",
       "2     44857\n",
       "3     44847\n",
       "13    38464\n",
       "18    36147\n",
       "26    31467\n",
       "4     12624\n",
       "10     2759\n",
       "9      1672\n",
       "Name: day, dtype: int64"
      ]
     },
     "execution_count": 51,
     "metadata": {},
     "output_type": "execute_result"
    }
   ],
   "source": [
    "df_final['day'].value_counts()"
   ]
  },
  {
   "cell_type": "code",
   "execution_count": 52,
   "id": "0e20667f",
   "metadata": {},
   "outputs": [
    {
     "data": {
      "text/plain": [
       "12    406033\n",
       "11    285545\n",
       "Name: month, dtype: int64"
      ]
     },
     "execution_count": 52,
     "metadata": {},
     "output_type": "execute_result"
    }
   ],
   "source": [
    "df_final['month'].value_counts()"
   ]
  },
  {
   "cell_type": "code",
   "execution_count": 53,
   "id": "ad18fcb2",
   "metadata": {},
   "outputs": [
    {
     "data": {
      "text/plain": [
       "13    94439\n",
       "7     70093\n",
       "16    56929\n",
       "9     53528\n",
       "10    47575\n",
       "27    33111\n",
       "11    32425\n",
       "8     32093\n",
       "26    31030\n",
       "22    28537\n",
       "19    28017\n",
       "5     16327\n",
       "15    15070\n",
       "32    12937\n",
       "12    11799\n",
       "30    11375\n",
       "17    10680\n",
       "3     10600\n",
       "34    10024\n",
       "41     8725\n",
       "38     8348\n",
       "18     8194\n",
       "14     7844\n",
       "6      6039\n",
       "20     5105\n",
       "29     4992\n",
       "28     4984\n",
       "23     4880\n",
       "21     4803\n",
       "25     3821\n",
       "24     3589\n",
       "31     3496\n",
       "33     2826\n",
       "35     2378\n",
       "36     1824\n",
       "37     1289\n",
       "39      696\n",
       "40      528\n",
       "4       417\n",
       "2       211\n",
       "Name: price, dtype: int64"
      ]
     },
     "execution_count": 53,
     "metadata": {},
     "output_type": "execute_result"
    }
   ],
   "source": [
    "df_final['price'].value_counts()"
   ]
  },
  {
   "cell_type": "code",
   "execution_count": 54,
   "id": "b0072d48",
   "metadata": {},
   "outputs": [
    {
     "data": {
      "text/plain": [
       "2    384387\n",
       "1    307191\n",
       "Name: cab_type, dtype: int64"
      ]
     },
     "execution_count": 54,
     "metadata": {},
     "output_type": "execute_result"
    }
   ],
   "source": [
    "df_final['cab_type'].value_counts()"
   ]
  },
  {
   "cell_type": "code",
   "execution_count": 55,
   "id": "84df9480",
   "metadata": {},
   "outputs": [
    {
     "data": {
      "text/plain": [
       "1    238151\n",
       "2    208182\n",
       "3    159513\n",
       "0     85732\n",
       "Name: distance, dtype: int64"
      ]
     },
     "execution_count": 55,
     "metadata": {},
     "output_type": "execute_result"
    }
   ],
   "source": [
    "df_final['distance'].value_counts()"
   ]
  },
  {
   "cell_type": "code",
   "execution_count": 56,
   "id": "44f13eb0",
   "metadata": {},
   "outputs": [
    {
     "data": {
      "text/plain": [
       "1    691578\n",
       "Name: surge_multiplier, dtype: int64"
      ]
     },
     "execution_count": 56,
     "metadata": {},
     "output_type": "execute_result"
    }
   ],
   "source": [
    "df_final['surge_multiplier'].value_counts()"
   ]
  },
  {
   "cell_type": "markdown",
   "id": "5b48380c",
   "metadata": {},
   "source": [
    "#### Memahami distribusi setiap variabel kolom kategori dengan yang lain"
   ]
  },
  {
   "cell_type": "code",
   "execution_count": 57,
   "id": "1fcbe43d",
   "metadata": {},
   "outputs": [
    {
     "data": {
      "text/plain": [
       "<seaborn.axisgrid.PairGrid at 0x22f264f70a0>"
      ]
     },
     "execution_count": 57,
     "metadata": {},
     "output_type": "execute_result"
    },
    {
     "data": {
      "image/png": "[encoded data removed]",
      "text/plain": [
       "<Figure size 1080x1080 with 42 Axes>"
      ]
     },
     "metadata": {
      "needs_background": "light"
     },
     "output_type": "display_data"
    }
   ],
   "source": [
    "sns.pairplot(df_final)"
   ]
  },
  {
   "cell_type": "markdown",
   "id": "0ec16946",
   "metadata": {},
   "source": [
    "#### Memahami distribusi kolom "
   ]
  },
  {
   "cell_type": "code",
   "execution_count": 58,
   "id": "85287ccb",
   "metadata": {},
   "outputs": [
    {
     "name": "stderr",
     "output_type": "stream",
     "text": [
      "C:\\Users\\HP\\anaconda3\\lib\\site-packages\\seaborn\\distributions.py:2619: FutureWarning: `distplot` is a deprecated function and will be removed in a future version. Please adapt your code to use either `displot` (a figure-level function with similar flexibility) or `histplot` (an axes-level function for histograms).\n",
      "  warnings.warn(msg, FutureWarning)\n"
     ]
    },
    {
     "data": {
      "text/plain": [
       "<AxesSubplot:xlabel='day'>"
      ]
     },
     "execution_count": 58,
     "metadata": {},
     "output_type": "execute_result"
    },
    {
     "data": {
      "image/png": "[encoded data removed]",
      "text/plain": [
       "<Figure size 432x288 with 1 Axes>"
      ]
     },
     "metadata": {
      "needs_background": "light"
     },
     "output_type": "display_data"
    }
   ],
   "source": [
    "sns.distplot(df_final['day'],kde=False)"
   ]
  },
  {
   "cell_type": "code",
   "execution_count": 59,
   "id": "1f8455a2",
   "metadata": {},
   "outputs": [
    {
     "data": {
      "text/plain": [
       "<AxesSubplot:xlabel='month'>"
      ]
     },
     "execution_count": 59,
     "metadata": {},
     "output_type": "execute_result"
    },
    {
     "data": {
      "image/png": "[encoded data removed]",
      "text/plain": [
       "<Figure size 432x288 with 1 Axes>"
      ]
     },
     "metadata": {
      "needs_background": "light"
     },
     "output_type": "display_data"
    }
   ],
   "source": [
    "sns.distplot(df_final['month'],kde=False)"
   ]
  },
  {
   "cell_type": "code",
   "execution_count": 60,
   "id": "e935edf5",
   "metadata": {},
   "outputs": [
    {
     "data": {
      "text/plain": [
       "<AxesSubplot:xlabel='price'>"
      ]
     },
     "execution_count": 60,
     "metadata": {},
     "output_type": "execute_result"
    },
    {
     "data": {
      "image/png": "[encoded data removed]",
      "text/plain": [
       "<Figure size 432x288 with 1 Axes>"
      ]
     },
     "metadata": {
      "needs_background": "light"
     },
     "output_type": "display_data"
    }
   ],
   "source": [
    "sns.distplot(df_final['price'],kde=False)"
   ]
  },
  {
   "cell_type": "code",
   "execution_count": 61,
   "id": "fa1e41d4",
   "metadata": {},
   "outputs": [
    {
     "data": {
      "text/plain": [
       "<AxesSubplot:xlabel='distance'>"
      ]
     },
     "execution_count": 61,
     "metadata": {},
     "output_type": "execute_result"
    },
    {
     "data": {
      "image/png": "[encoded data removed]",
      "text/plain": [
       "<Figure size 432x288 with 1 Axes>"
      ]
     },
     "metadata": {
      "needs_background": "light"
     },
     "output_type": "display_data"
    }
   ],
   "source": [
    "sns.distplot(df_final['distance'],kde=False)"
   ]
  },
  {
   "cell_type": "code",
   "execution_count": 62,
   "id": "6a007158",
   "metadata": {},
   "outputs": [
    {
     "data": {
      "text/plain": [
       "<AxesSubplot:xlabel='cab_type'>"
      ]
     },
     "execution_count": 62,
     "metadata": {},
     "output_type": "execute_result"
    },
    {
     "data": {
      "image/png": "[encoded data removed]",
      "text/plain": [
       "<Figure size 432x288 with 1 Axes>"
      ]
     },
     "metadata": {
      "needs_background": "light"
     },
     "output_type": "display_data"
    }
   ],
   "source": [
    "sns.distplot(df_final['cab_type'],kde=False)"
   ]
  },
  {
   "cell_type": "code",
   "execution_count": 63,
   "id": "43af585f",
   "metadata": {},
   "outputs": [
    {
     "data": {
      "text/plain": [
       "<AxesSubplot:xlabel='surge_multiplier'>"
      ]
     },
     "execution_count": 63,
     "metadata": {},
     "output_type": "execute_result"
    },
    {
     "data": {
      "image/png": "[encoded data removed]",
      "text/plain": [
       "<Figure size 432x288 with 1 Axes>"
      ]
     },
     "metadata": {
      "needs_background": "light"
     },
     "output_type": "display_data"
    }
   ],
   "source": [
    "sns.distplot(df_final['surge_multiplier'],kde=False)"
   ]
  },
  {
   "cell_type": "markdown",
   "id": "167478e3",
   "metadata": {},
   "source": [
    "Output diatas menampilkan ditribusi data pada tiap kolom. selanjutnya kita dapat menentukan beberapa feature"
   ]
  },
  {
   "cell_type": "markdown",
   "id": "d4e6df16",
   "metadata": {},
   "source": [
    "## F. DATA PREPROCESSING"
   ]
  },
  {
   "cell_type": "markdown",
   "id": "b488d832",
   "metadata": {},
   "source": [
    "### 4. DATA VISUALIZATION"
   ]
  },
  {
   "cell_type": "markdown",
   "id": "59d42926",
   "metadata": {},
   "source": [
    "#### JUMLAH PENGGUNAAN TAKSI PERDASARKAN TYPE"
   ]
  },
  {
   "cell_type": "code",
   "execution_count": 64,
   "id": "6b5b080c",
   "metadata": {},
   "outputs": [
    {
     "data": {
      "image/png": "[encoded data removed]",
      "text/plain": [
       "<Figure size 432x432 with 1 Axes>"
      ]
     },
     "metadata": {},
     "output_type": "display_data"
    }
   ],
   "source": [
    "plt.figure(figsize=(6,6))\n",
    "\n",
    "plt.title('cab_type',fontsize = 20)\n",
    "df_final['cab_type'].value_counts().plot.pie(autopct=\"%1.1f%%\");"
   ]
  },
  {
   "cell_type": "markdown",
   "id": "161a676f",
   "metadata": {},
   "source": [
    "Berdasarkan Output diatas:\n",
    "- Uber mendapat lebih banyak pengguna dibandingkan dengan Lyft di dataset ini\n",
    "- Persentase perjalanan di 2 uber 56%\n",
    "- Persentase perjalanan di 1 Lyft 44%"
   ]
  },
  {
   "cell_type": "markdown",
   "id": "670908ac",
   "metadata": {},
   "source": [
    "#### JUMLAH PENGGUNAAN PRICE TAKSI BERDASARKAN DISTANCE "
   ]
  },
  {
   "cell_type": "code",
   "execution_count": 65,
   "id": "eabd8160",
   "metadata": {},
   "outputs": [
    {
     "data": {
      "image/png": "[encoded data removed]",
      "text/plain": [
       "<Figure size 432x288 with 1 Axes>"
      ]
     },
     "metadata": {
      "needs_background": "light"
     },
     "output_type": "display_data"
    }
   ],
   "source": [
    "sns.boxplot(x='distance',y='price',data=df_final,palette='rainbow');"
   ]
  },
  {
   "cell_type": "markdown",
   "id": "e167fb22",
   "metadata": {},
   "source": [
    "Output di atas menunjukkan hubungan antara distance dan price.\n",
    "- Kisaran distance 0 dari 8 hingga 16 dolar\n",
    "- Kisaran distance 1 dari 9 hingga 16 dolar\n",
    "- Kisaran distance 2 dari 10 hingga 22 dolar\n",
    "- Kisaran distance 3 dari 11 hingga 26 dolar\n",
    "- Kisaran distance 4 dari 14 hingga 27 dolar\n",
    "- Kisaran distance 5 dari 14 hingga 27 dolar\n",
    "- Kisaran distance 6 dari 14 hingga 26 dolar\n",
    "- Kisaran distance 7 dari 14 hingga 27 dolar\n",
    "- Pada distance 1 terjadi paling sedikit"
   ]
  },
  {
   "cell_type": "markdown",
   "id": "c4b01214",
   "metadata": {},
   "source": [
    "#### JUMLAH PENGGUNAAN TAKSI BERDASARKAN SURGE_MULTIPLIER"
   ]
  },
  {
   "cell_type": "code",
   "execution_count": 66,
   "id": "a8c5dd2e",
   "metadata": {},
   "outputs": [
    {
     "data": {
      "image/png": "[encoded data removed]",
      "text/plain": [
       "<Figure size 432x288 with 1 Axes>"
      ]
     },
     "metadata": {
      "needs_background": "light"
     },
     "output_type": "display_data"
    }
   ],
   "source": [
    "sns.boxplot(x='surge_multiplier',y='price',data=df_final,palette='pink');"
   ]
  },
  {
   "cell_type": "markdown",
   "id": "88c2b53b",
   "metadata": {},
   "source": [
    "Berdasarkan output diatas:\n",
    "- Output di atas menunjukkan hubungan antara surge_multiplier dan price.\n",
    "- Kisaran surge_multiplier 1 seharga dari 10 hingga 20 dolar\n",
    "- Kisaran surge_multiplier 2 seharga dari 19 hingga 33 dolar\n",
    "- Kisaran surge_multiplier 2 seharga dari 26 hingga 38 dolar"
   ]
  },
  {
   "cell_type": "markdown",
   "id": "4d9195a8",
   "metadata": {},
   "source": [
    "#### JUMLAH PENGGUNAAN BERDASARKAN PRICE"
   ]
  },
  {
   "cell_type": "code",
   "execution_count": 67,
   "id": "13f64e8b",
   "metadata": {},
   "outputs": [
    {
     "data": {
      "image/png": "[encoded data removed]",
      "text/plain": [
       "<Figure size 1440x576 with 1 Axes>"
      ]
     },
     "metadata": {
      "needs_background": "light"
     },
     "output_type": "display_data"
    }
   ],
   "source": [
    "plt.figure(figsize=(20,8))\n",
    "plt.title('Penggunaan TErbanyak-price',fontsize = 20)\n",
    "df_final['price'].value_counts().plot(kind='bar');"
   ]
  },
  {
   "cell_type": "markdown",
   "id": "dd121a69",
   "metadata": {},
   "source": [
    "Output diatas dapat dilihat penggunaan terbnayak berada di posisi price 13"
   ]
  },
  {
   "cell_type": "markdown",
   "id": "0def9a0b",
   "metadata": {},
   "source": [
    "#### SURGE_MULTIPLIER Vs PRICE"
   ]
  },
  {
   "cell_type": "code",
   "execution_count": 68,
   "id": "3c7abe4a",
   "metadata": {},
   "outputs": [
    {
     "data": {
      "image/png": "[encoded data removed]",
      "text/plain": [
       "<Figure size 720x576 with 1 Axes>"
      ]
     },
     "metadata": {
      "needs_background": "light"
     },
     "output_type": "display_data"
    }
   ],
   "source": [
    "plt.figure(figsize=(10, 8))\n",
    "sns.scatterplot(data=df_final, x=\"distance\", y=\"price\", hue=\"surge_multiplier\", palette=\"deep\").set_title(\"surge_multiplier Vs Price\");"
   ]
  },
  {
   "cell_type": "markdown",
   "id": "5567dc69",
   "metadata": {},
   "source": [
    "Disimpulkan:\n",
    "- Output atas disimpulkan bahwa distance dan price tidak berkorelasi kuat. \n",
    "- Dengan bertambahnya distance, price tidak meningkat secara linier.Jadi semakin jauh distance nya, price nya naik. \n",
    "- Dengan price yang lebih tinggi, peningkatan pengganda lonjakan lebih banyak"
   ]
  },
  {
   "cell_type": "markdown",
   "id": "1d912747",
   "metadata": {},
   "source": [
    "### 2. PILIH FEATURE"
   ]
  },
  {
   "cell_type": "code",
   "execution_count": 69,
   "id": "c08a8811",
   "metadata": {},
   "outputs": [
    {
     "data": {
      "text/html": [
       "<div>\n",
       "<style scoped>\n",
       "    .dataframe tbody tr th:only-of-type {\n",
       "        vertical-align: middle;\n",
       "    }\n",
       "\n",
       "    .dataframe tbody tr th {\n",
       "        vertical-align: top;\n",
       "    }\n",
       "\n",
       "    .dataframe thead th {\n",
       "        text-align: right;\n",
       "    }\n",
       "</style>\n",
       "<table border=\"1\" class=\"dataframe\">\n",
       "  <thead>\n",
       "    <tr style=\"text-align: right;\">\n",
       "      <th></th>\n",
       "      <th>day</th>\n",
       "      <th>month</th>\n",
       "      <th>cab_type</th>\n",
       "      <th>price</th>\n",
       "      <th>distance</th>\n",
       "      <th>surge_multiplier</th>\n",
       "    </tr>\n",
       "  </thead>\n",
       "  <tbody>\n",
       "    <tr>\n",
       "      <th>day</th>\n",
       "      <td>1.000000</td>\n",
       "      <td>-0.861198</td>\n",
       "      <td>0.001578</td>\n",
       "      <td>-0.000648</td>\n",
       "      <td>-0.001845</td>\n",
       "      <td>NaN</td>\n",
       "    </tr>\n",
       "    <tr>\n",
       "      <th>month</th>\n",
       "      <td>-0.861198</td>\n",
       "      <td>1.000000</td>\n",
       "      <td>-0.000365</td>\n",
       "      <td>0.000773</td>\n",
       "      <td>0.002679</td>\n",
       "      <td>NaN</td>\n",
       "    </tr>\n",
       "    <tr>\n",
       "      <th>cab_type</th>\n",
       "      <td>0.001578</td>\n",
       "      <td>-0.000365</td>\n",
       "      <td>1.000000</td>\n",
       "      <td>-0.100946</td>\n",
       "      <td>-0.030598</td>\n",
       "      <td>NaN</td>\n",
       "    </tr>\n",
       "    <tr>\n",
       "      <th>price</th>\n",
       "      <td>-0.000648</td>\n",
       "      <td>0.000773</td>\n",
       "      <td>-0.100946</td>\n",
       "      <td>1.000000</td>\n",
       "      <td>0.303425</td>\n",
       "      <td>NaN</td>\n",
       "    </tr>\n",
       "    <tr>\n",
       "      <th>distance</th>\n",
       "      <td>-0.001845</td>\n",
       "      <td>0.002679</td>\n",
       "      <td>-0.030598</td>\n",
       "      <td>0.303425</td>\n",
       "      <td>1.000000</td>\n",
       "      <td>NaN</td>\n",
       "    </tr>\n",
       "    <tr>\n",
       "      <th>surge_multiplier</th>\n",
       "      <td>NaN</td>\n",
       "      <td>NaN</td>\n",
       "      <td>NaN</td>\n",
       "      <td>NaN</td>\n",
       "      <td>NaN</td>\n",
       "      <td>NaN</td>\n",
       "    </tr>\n",
       "  </tbody>\n",
       "</table>\n",
       "</div>"
      ],
      "text/plain": [
       "                       day     month  cab_type     price  distance  \\\n",
       "day               1.000000 -0.861198  0.001578 -0.000648 -0.001845   \n",
       "month            -0.861198  1.000000 -0.000365  0.000773  0.002679   \n",
       "cab_type          0.001578 -0.000365  1.000000 -0.100946 -0.030598   \n",
       "price            -0.000648  0.000773 -0.100946  1.000000  0.303425   \n",
       "distance         -0.001845  0.002679 -0.030598  0.303425  1.000000   \n",
       "surge_multiplier       NaN       NaN       NaN       NaN       NaN   \n",
       "\n",
       "                  surge_multiplier  \n",
       "day                            NaN  \n",
       "month                          NaN  \n",
       "cab_type                       NaN  \n",
       "price                          NaN  \n",
       "distance                       NaN  \n",
       "surge_multiplier               NaN  "
      ]
     },
     "execution_count": 69,
     "metadata": {},
     "output_type": "execute_result"
    }
   ],
   "source": [
    "df_final.corr()"
   ]
  },
  {
   "cell_type": "code",
   "execution_count": 70,
   "id": "5ba18183",
   "metadata": {},
   "outputs": [
    {
     "data": {
      "text/plain": [
       "day                -0.000648\n",
       "month               0.000773\n",
       "cab_type           -0.100946\n",
       "price               1.000000\n",
       "distance            0.303425\n",
       "surge_multiplier         NaN\n",
       "Name: price, dtype: float64"
      ]
     },
     "execution_count": 70,
     "metadata": {},
     "output_type": "execute_result"
    }
   ],
   "source": [
    "ss=df_final.corr()['price']\n",
    "ss"
   ]
  },
  {
   "cell_type": "markdown",
   "id": "e277e962",
   "metadata": {},
   "source": [
    "- Feature month, distance, surge_multiplier adalah korelasi positif sedang yang lebih tinggi dengan harga\n",
    "- Feature day, cab_type adalah korelasi positif sedang yang lebih tinggi dengan harga\n",
    "- Price adalah target prediksi dengan menggunakan Regresi Linier"
   ]
  },
  {
   "cell_type": "markdown",
   "id": "c9300010",
   "metadata": {},
   "source": [
    "## G. PENDEFINISIAN MODEL"
   ]
  },
  {
   "cell_type": "markdown",
   "id": "4b0365fe",
   "metadata": {},
   "source": [
    "Metode Machine Learning untuk project ini adalah supervised learning-regresi dengan tujuan agar mesin mampu mengidentifikasi label input yang baru dengan menggunakan fitur yang ada untuk melakukan prediksi dan klasifikasi.\n",
    "\n",
    "Mmiliki column/data label sehingga outputnya jelas\n",
    "- prediktor(sebab) -> feature, variabel independent = distance, surge_multiplier\n",
    "- label(akibat) -> target, variabel dependent = price\n"
   ]
  },
  {
   "cell_type": "markdown",
   "id": "a66cb6f1",
   "metadata": {},
   "source": [
    "## H. PELATIHAN MODEL"
   ]
  },
  {
   "cell_type": "markdown",
   "id": "0ca03d6d",
   "metadata": {},
   "source": [
    "#### LINEAR REGRESSION"
   ]
  },
  {
   "cell_type": "markdown",
   "id": "03e7914f",
   "metadata": {},
   "source": [
    "#### Menentukan Variabel"
   ]
  },
  {
   "cell_type": "code",
   "execution_count": 71,
   "id": "3c91dd2f",
   "metadata": {},
   "outputs": [],
   "source": [
    "reg = df_final[['day','month','cab_type','distance', 'surge_multiplier']]"
   ]
  },
  {
   "cell_type": "markdown",
   "id": "fbd380aa",
   "metadata": {},
   "source": [
    "#### Korelasi antar Variabel"
   ]
  },
  {
   "cell_type": "code",
   "execution_count": 72,
   "id": "8f2be0b2",
   "metadata": {},
   "outputs": [
    {
     "data": {
      "text/html": [
       "<div>\n",
       "<style scoped>\n",
       "    .dataframe tbody tr th:only-of-type {\n",
       "        vertical-align: middle;\n",
       "    }\n",
       "\n",
       "    .dataframe tbody tr th {\n",
       "        vertical-align: top;\n",
       "    }\n",
       "\n",
       "    .dataframe thead th {\n",
       "        text-align: right;\n",
       "    }\n",
       "</style>\n",
       "<table border=\"1\" class=\"dataframe\">\n",
       "  <thead>\n",
       "    <tr style=\"text-align: right;\">\n",
       "      <th></th>\n",
       "      <th>day</th>\n",
       "      <th>month</th>\n",
       "      <th>cab_type</th>\n",
       "      <th>distance</th>\n",
       "      <th>surge_multiplier</th>\n",
       "    </tr>\n",
       "  </thead>\n",
       "  <tbody>\n",
       "    <tr>\n",
       "      <th>day</th>\n",
       "      <td>1.000000</td>\n",
       "      <td>-0.861198</td>\n",
       "      <td>0.001578</td>\n",
       "      <td>-0.001845</td>\n",
       "      <td>NaN</td>\n",
       "    </tr>\n",
       "    <tr>\n",
       "      <th>month</th>\n",
       "      <td>-0.861198</td>\n",
       "      <td>1.000000</td>\n",
       "      <td>-0.000365</td>\n",
       "      <td>0.002679</td>\n",
       "      <td>NaN</td>\n",
       "    </tr>\n",
       "    <tr>\n",
       "      <th>cab_type</th>\n",
       "      <td>0.001578</td>\n",
       "      <td>-0.000365</td>\n",
       "      <td>1.000000</td>\n",
       "      <td>-0.030598</td>\n",
       "      <td>NaN</td>\n",
       "    </tr>\n",
       "    <tr>\n",
       "      <th>distance</th>\n",
       "      <td>-0.001845</td>\n",
       "      <td>0.002679</td>\n",
       "      <td>-0.030598</td>\n",
       "      <td>1.000000</td>\n",
       "      <td>NaN</td>\n",
       "    </tr>\n",
       "    <tr>\n",
       "      <th>surge_multiplier</th>\n",
       "      <td>NaN</td>\n",
       "      <td>NaN</td>\n",
       "      <td>NaN</td>\n",
       "      <td>NaN</td>\n",
       "      <td>NaN</td>\n",
       "    </tr>\n",
       "  </tbody>\n",
       "</table>\n",
       "</div>"
      ],
      "text/plain": [
       "                       day     month  cab_type  distance  surge_multiplier\n",
       "day               1.000000 -0.861198  0.001578 -0.001845               NaN\n",
       "month            -0.861198  1.000000 -0.000365  0.002679               NaN\n",
       "cab_type          0.001578 -0.000365  1.000000 -0.030598               NaN\n",
       "distance         -0.001845  0.002679 -0.030598  1.000000               NaN\n",
       "surge_multiplier       NaN       NaN       NaN       NaN               NaN"
      ]
     },
     "execution_count": 72,
     "metadata": {},
     "output_type": "execute_result"
    }
   ],
   "source": [
    "reg.corr()"
   ]
  },
  {
   "cell_type": "markdown",
   "id": "f7c68ef5",
   "metadata": {},
   "source": [
    "Output diatas berarti bahwa korelasi"
   ]
  },
  {
   "cell_type": "markdown",
   "id": "f199de8b",
   "metadata": {},
   "source": [
    "#### Impor dan tentukan nilai x dan y "
   ]
  },
  {
   "cell_type": "code",
   "execution_count": 75,
   "id": "f1e08028",
   "metadata": {},
   "outputs": [],
   "source": [
    "from sklearn.linear_model import LinearRegression\n",
    "from sklearn.model_selection import train_test_split\n",
    "\n",
    "x = df_final[['day','month','cab_type','distance', 'surge_multiplier']]\n",
    "y = df_final[['price']]"
   ]
  },
  {
   "cell_type": "markdown",
   "id": "810f8f45",
   "metadata": {},
   "source": [
    "#### Split data pelatihan dan data pengujian"
   ]
  },
  {
   "cell_type": "code",
   "execution_count": 76,
   "id": "ff0ff03c",
   "metadata": {},
   "outputs": [],
   "source": [
    "x_train, x_test, y_train, y_test = train_test_split(x, y, test_size=1/3 , random_state = 0)"
   ]
  },
  {
   "cell_type": "markdown",
   "id": "8a0ba87a",
   "metadata": {},
   "source": [
    "#### Persentase data"
   ]
  },
  {
   "cell_type": "code",
   "execution_count": 77,
   "id": "7faf999c",
   "metadata": {},
   "outputs": [
    {
     "name": "stdout",
     "output_type": "stream",
     "text": [
      "66.52% ada pada data pelatihan\n",
      "33.26% ada pada data pengujian\n"
     ]
    }
   ],
   "source": [
    "print('{0:0.2f}% ada pada data pelatihan'.format((len(x_train)/len(df.index)) * 100))\n",
    "print('{0:0.2f}% ada pada data pengujian'.format((len(x_test)/len(df.index)) * 100))"
   ]
  },
  {
   "cell_type": "markdown",
   "id": "4b64a9bc",
   "metadata": {},
   "source": [
    "#### Membuat objek linear regresi"
   ]
  },
  {
   "cell_type": "code",
   "execution_count": 78,
   "id": "c1eb940a",
   "metadata": {},
   "outputs": [],
   "source": [
    "lin_reg = LinearRegression()"
   ]
  },
  {
   "cell_type": "markdown",
   "id": "e2106c59",
   "metadata": {},
   "source": [
    "#### Menerapkan model pada data pelatihan"
   ]
  },
  {
   "cell_type": "code",
   "execution_count": 79,
   "id": "be570a74",
   "metadata": {},
   "outputs": [
    {
     "data": {
      "text/plain": [
       "LinearRegression()"
      ]
     },
     "execution_count": 79,
     "metadata": {},
     "output_type": "execute_result"
    }
   ],
   "source": [
    "lin_reg.fit(x_train, y_train)"
   ]
  },
  {
   "cell_type": "markdown",
   "id": "52808cf5",
   "metadata": {},
   "source": [
    "#### Mencari tahu nilai slope/koefisien (m) dan intercept (b)."
   ]
  },
  {
   "cell_type": "code",
   "execution_count": 80,
   "id": "a052d9be",
   "metadata": {},
   "outputs": [
    {
     "name": "stdout",
     "output_type": "stream",
     "text": [
      "[[-4.91682344e-04  5.57867164e-03 -1.61877191e+00  2.68968874e+00\n",
      "   0.00000000e+00]]\n",
      "[13.98057465]\n"
     ]
    }
   ],
   "source": [
    "print(lin_reg.coef_)\n",
    "print(lin_reg.intercept_)"
   ]
  },
  {
   "cell_type": "markdown",
   "id": "b937cd45",
   "metadata": {},
   "source": [
    "#### Menerapkan model pada data pengujian"
   ]
  },
  {
   "cell_type": "code",
   "execution_count": 81,
   "id": "a0d153ce",
   "metadata": {},
   "outputs": [],
   "source": [
    "y_pred = lin_reg.predict(x_test)"
   ]
  },
  {
   "cell_type": "markdown",
   "id": "7071f1ad",
   "metadata": {},
   "source": [
    "## I. EVALUASI MODEL"
   ]
  },
  {
   "cell_type": "markdown",
   "id": "e299256e",
   "metadata": {},
   "source": [
    "#### Cek akurasi model pada data pengujian"
   ]
  },
  {
   "cell_type": "code",
   "execution_count": 82,
   "id": "5025b51d",
   "metadata": {},
   "outputs": [
    {
     "data": {
      "text/plain": [
       "0.10029985337851244"
      ]
     },
     "execution_count": 82,
     "metadata": {},
     "output_type": "execute_result"
    }
   ],
   "source": [
    "lin_reg.score(x_test, y_test)"
   ]
  },
  {
   "cell_type": "code",
   "execution_count": 83,
   "id": "13139527",
   "metadata": {},
   "outputs": [
    {
     "name": "stderr",
     "output_type": "stream",
     "text": [
      "C:\\Users\\HP\\anaconda3\\lib\\site-packages\\seaborn\\distributions.py:2619: FutureWarning: `distplot` is a deprecated function and will be removed in a future version. Please adapt your code to use either `displot` (a figure-level function with similar flexibility) or `histplot` (an axes-level function for histograms).\n",
      "  warnings.warn(msg, FutureWarning)\n"
     ]
    },
    {
     "data": {
      "image/png": "[encoded data removed]",
      "text/plain": [
       "<Figure size 432x288 with 1 Axes>"
      ]
     },
     "metadata": {
      "needs_background": "light"
     },
     "output_type": "display_data"
    }
   ],
   "source": [
    "sns.distplot((y_test-y_pred),bins=50);"
   ]
  },
  {
   "cell_type": "code",
   "execution_count": null,
   "id": "8696ebe6",
   "metadata": {},
   "outputs": [],
   "source": []
  },
  {
   "cell_type": "code",
   "execution_count": null,
   "id": "576ce214",
   "metadata": {},
   "outputs": [],
   "source": []
  },
  {
   "cell_type": "code",
   "execution_count": null,
   "id": "285703b2",
   "metadata": {},
   "outputs": [],
   "source": []
  },
  {
   "cell_type": "code",
   "execution_count": null,
   "id": "ffb04796",
   "metadata": {},
   "outputs": [],
   "source": []
  },
  {
   "cell_type": "code",
   "execution_count": null,
   "id": "6931a1a7",
   "metadata": {},
   "outputs": [],
   "source": []
  },
  {
   "cell_type": "code",
   "execution_count": 84,
   "id": "ff725834",
   "metadata": {},
   "outputs": [],
   "source": [
    "from sklearn.metrics import mean_absolute_error, mean_squared_error"
   ]
  },
  {
   "cell_type": "code",
   "execution_count": 85,
   "id": "6ca4dea0",
   "metadata": {},
   "outputs": [],
   "source": [
    "mae = mean_absolute_error(y_test, y_pred)\n",
    "mse = mean_squared_error(y_test, y_pred)\n",
    "rmse = np.sqrt(mse)"
   ]
  },
  {
   "cell_type": "code",
   "execution_count": 86,
   "id": "b73de515",
   "metadata": {},
   "outputs": [
    {
     "name": "stdout",
     "output_type": "stream",
     "text": [
      "Mean absolute error: 6.67\n",
      "Mean squared error: 67.93\n",
      "Root mean squared error: 8.24\n"
     ]
    }
   ],
   "source": [
    "print(f'Mean absolute error: {mae:.2f}')\n",
    "print(f'Mean squared error: {mse:.2f}')\n",
    "print(f'Root mean squared error: {rmse:.2f}')"
   ]
  },
  {
   "cell_type": "markdown",
   "id": "be5a0a88",
   "metadata": {},
   "source": [
    "Output diatas dapat disimpulkan bahwa hasil pengujian menghilangkan nilai aktual paling banyak 8.28, yang merupakan rentang yang cukup kecil untuk mengingat data yang dimiliki"
   ]
  },
  {
   "cell_type": "markdown",
   "id": "69758c62",
   "metadata": {},
   "source": [
    "#### Kesimpulan"
   ]
  },
  {
   "cell_type": "code",
   "execution_count": 87,
   "id": "66567e2b",
   "metadata": {},
   "outputs": [
    {
     "name": "stdout",
     "output_type": "stream",
     "text": [
      "        Actual  Predicted\n",
      "352448      10  18.871666\n",
      "389248       9  13.480810\n",
      "269839       5  12.421863\n",
      "173317       9  12.428255\n",
      "237561       7  15.110077\n",
      "...        ...        ...\n",
      "658422      10  20.478959\n",
      "14816       30  15.116960\n",
      "284574       8  13.491797\n",
      "312716      34  17.799766\n",
      "466272       9  15.111060\n",
      "\n",
      "[230526 rows x 2 columns]\n"
     ]
    }
   ],
   "source": [
    "df_final = pd.DataFrame({'Actual': y_test.squeeze(), 'Predicted': y_pred.squeeze()})\n",
    "print(df_final)"
   ]
  },
  {
   "cell_type": "code",
   "execution_count": 88,
   "id": "2203434e",
   "metadata": {},
   "outputs": [
    {
     "data": {
      "image/png": "[encoded data removed]",
      "text/plain": [
       "<Figure size 1872x720 with 1 Axes>"
      ]
     },
     "metadata": {
      "needs_background": "light"
     },
     "output_type": "display_data"
    }
   ],
   "source": [
    "df1 = df_final.head(25)\n",
    "df1.plot(kind='bar',figsize=(26,10))\n",
    "plt.grid(which='major', linestyle='-', linewidth='0.5', color='green')\n",
    "plt.grid(which='minor', linestyle=':', linewidth='0.5', color='black')\n",
    "plt.show()"
   ]
  },
  {
   "cell_type": "markdown",
   "id": "3017a3f2",
   "metadata": {},
   "source": [
    "- Modelnya bekerja dengan baik tetapi bukan yang terbaik. Ada konvergensi antara kenyataan dan prediksi\n",
    "- Orang-orang menghindari naik kendaraan saat hujan.\n",
    "\n",
    "- Saat bepergian jarak jauh, harganya tidak naik secara linier. Namun, berdasarkan waktu dan permintaan, lonjakan dapat mempengaruhi biaya.\n",
    "\n",
    "- Uber bisa menjadi pilihan pertama untuk jarak jauh."
   ]
  },
  {
   "cell_type": "markdown",
   "id": "040a2e6c",
   "metadata": {},
   "source": [
    "## J. PENGAMBILAN KEPUTUSAN"
   ]
  },
  {
   "cell_type": "code",
   "execution_count": null,
   "id": "a7d49542",
   "metadata": {},
   "outputs": [],
   "source": []
  }
 ],
 "metadata": {
  "kernelspec": {
   "display_name": "Python 3 (ipykernel)",
   "language": "python",
   "name": "python3"
  },
  "language_info": {
   "codemirror_mode": {
    "name": "ipython",
    "version": 3
   },
   "file_extension": ".py",
   "mimetype": "text/x-python",
   "name": "python",
   "nbconvert_exporter": "python",
   "pygments_lexer": "ipython3",
   "version": "3.9.12"
  }
 },
 "nbformat": 4,
 "nbformat_minor": 5
}
