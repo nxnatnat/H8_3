{
  "cells": [
    {
      "cell_type": "markdown",
      "metadata": {
        "id": "view-in-github",
        "colab_type": "text"
      },
      "source": [
        "<a href=\"https://colab.research.google.com/github/nxnatnat/H8_3/blob/main/Pertemuan_2.ipynb\" target=\"_parent\"><img src=\"https://colab.research.google.com/assets/colab-badge.svg\" alt=\"Open In Colab\"/></a>"
      ]
    },
    {
      "cell_type": "markdown",
      "id": "f27ee9c6",
      "metadata": {
        "id": "f27ee9c6"
      },
      "source": [
        "# Conditional"
      ]
    },
    {
      "cell_type": "code",
      "execution_count": null,
      "id": "56ea78f6",
      "metadata": {
        "id": "56ea78f6"
      },
      "outputs": [],
      "source": [
        "### Conditional ###\n",
        "# python mendukung logical conditions yang biasa dipakai dalam matematika:\n",
        "# Equals: a == b\n",
        "# Not Equals a != b\n",
        "# Less than: a < b\n",
        "# Greater than: a > b\n",
        "# Greater than or equal to: a >= b\n",
        "# These conditions can be used in several ways, most commonly in \"if statement\" and loops.\n",
        "## Sebuah \"if statement\" ditulis dengan menggunakan if keyword.\n",
        "## Dalam program Python, if statement adalah bagaimana kalian melakukan decision-making."
      ]
    },
    {
      "cell_type": "markdown",
      "id": "001779c3",
      "metadata": {
        "id": "001779c3"
      },
      "source": [
        "# Introduction to the if Statement"
      ]
    },
    {
      "cell_type": "code",
      "execution_count": null,
      "id": "b583207b",
      "metadata": {
        "id": "b583207b",
        "outputId": "819fb968-4e88-479e-9411-913cda12e3b9"
      },
      "outputs": [
        {
          "name": "stdout",
          "output_type": "stream",
          "text": [
            "yes\n",
            "yes\n",
            "yes\n"
          ]
        }
      ],
      "source": [
        "# if <expr>:\n",
        "#    <statement>\n",
        "    \n",
        "x = 0\n",
        "y = 5\n",
        "if x < y:       #Truthy\n",
        "    print('yes')\n",
        "\n",
        "if y < x:       #Falsy\n",
        "    print('yes')\n",
        "\n",
        "if x:           #Falsy\n",
        "    print('yes')\n",
        "\n",
        "if y:           #Truthy\n",
        "    print('yes')\n",
        "    \n",
        "if 'aul' in 'grault':    #Truthy\n",
        "    print('yes')\n",
        "    \n",
        "if 'quux' in ['foo', 'bar', 'baz']:     #Falsy\n",
        "    print('yes')"
      ]
    },
    {
      "cell_type": "markdown",
      "id": "65508c63",
      "metadata": {
        "id": "65508c63"
      },
      "source": [
        "# Grouping Statements: Indentation and Blocks"
      ]
    },
    {
      "cell_type": "code",
      "execution_count": null,
      "id": "eb7ee171",
      "metadata": {
        "id": "eb7ee171"
      },
      "outputs": [],
      "source": [
        "# if <expr>:\n",
        "#     <statement>\n",
        "#     <statement>\n",
        "#     ...\n",
        "#     <statement>\n",
        "#   <following_statement>"
      ]
    },
    {
      "cell_type": "code",
      "execution_count": null,
      "id": "a5a89473",
      "metadata": {
        "id": "a5a89473",
        "outputId": "db577e6a-4ed0-4f28-f00f-64cd1605b012"
      },
      "outputs": [
        {
          "name": "stdout",
          "output_type": "stream",
          "text": [
            "After conditional\n"
          ]
        }
      ],
      "source": [
        "if 'foo' in ['bar', 'baz', 'qux']:\n",
        "    print('Expression was true')\n",
        "    print('Executing statement in suite')\n",
        "    print('...')\n",
        "    print('Done.')\n",
        "    \n",
        "print('After conditional')"
      ]
    },
    {
      "cell_type": "code",
      "execution_count": null,
      "id": "8fa8f1f3",
      "metadata": {
        "id": "8fa8f1f3",
        "outputId": "d719707e-f5f8-4680-f7af-d0f70807ba8b"
      },
      "outputs": [
        {
          "name": "stdout",
          "output_type": "stream",
          "text": [
            "Outer condition is true\n",
            "Between inner condition\n",
            "Inner condition 2\n",
            "End of outer condition\n",
            "After outer condition\n"
          ]
        }
      ],
      "source": [
        "# Does line execute?\n",
        "#                                          Yes    No\n",
        "if 'foo' in ['foo', 'bar', 'baz']:       #  x     \n",
        "    print('Outer condition is true')     #  x\n",
        "    \n",
        "    if 10 > 20:                          #  x\n",
        "        print('Inner condition 1')       #        x\n",
        "    \n",
        "    print('Between inner condition')     #  x\n",
        "    \n",
        "    if 10 < 20:                          #  x\n",
        "        print('Inner condition 2')       #  x\n",
        "    \n",
        "    print('End of outer condition')      #  x\n",
        "print('After outer condition')           #  x"
      ]
    },
    {
      "cell_type": "markdown",
      "id": "b5e2ab4c",
      "metadata": {
        "id": "b5e2ab4c"
      },
      "source": [
        "# The else and elif Clauses"
      ]
    },
    {
      "cell_type": "code",
      "execution_count": null,
      "id": "db8ab7c9",
      "metadata": {
        "id": "db8ab7c9"
      },
      "outputs": [],
      "source": [
        "# if <expr>:\n",
        "#     <statement(s)>\n",
        "# else:\n",
        "#     <statement(s)>"
      ]
    },
    {
      "cell_type": "code",
      "execution_count": null,
      "id": "9096b919",
      "metadata": {
        "id": "9096b919",
        "outputId": "70d753e1-3e4c-499a-c853-97f5e27cfb05"
      },
      "outputs": [
        {
          "name": "stdout",
          "output_type": "stream",
          "text": [
            "(first suite)\n",
            "x is small\n"
          ]
        }
      ],
      "source": [
        "x = 20\n",
        "\n",
        "if x < 50:\n",
        "    print('(first suite)')\n",
        "    print('x is small')\n",
        "else:\n",
        "    print('(second suite)')\n",
        "    print('x is large')"
      ]
    },
    {
      "cell_type": "code",
      "execution_count": null,
      "id": "2138c410",
      "metadata": {
        "id": "2138c410",
        "outputId": "c0f1ace6-6c25-43e5-8dca-dd9a03aea903"
      },
      "outputs": [
        {
          "name": "stdout",
          "output_type": "stream",
          "text": [
            "(second suite)\n",
            "x is large\n"
          ]
        }
      ],
      "source": [
        "x = 120\n",
        "\n",
        "if x < 50:\n",
        "    print('(first suite)')\n",
        "    print('x is small')\n",
        "else:\n",
        "    print('(second suite)')\n",
        "    print('x is large')"
      ]
    },
    {
      "cell_type": "code",
      "execution_count": null,
      "id": "5b6ff579",
      "metadata": {
        "id": "5b6ff579",
        "outputId": "b7b921be-eb91-41dc-9c90-e1dc459ad25d"
      },
      "outputs": [
        {
          "name": "stdout",
          "output_type": "stream",
          "text": [
            "uang tidak cukup\n"
          ]
        }
      ],
      "source": [
        "hargaBuku = 20000\n",
        "hargaMajalah = 5000\n",
        "uang = 2000\n",
        "\n",
        "if uang > hargaBuku:\n",
        "    print(\"beli buku\")\n",
        "else:\n",
        "    print(\"uang tidak cukup\")"
      ]
    },
    {
      "cell_type": "code",
      "execution_count": null,
      "id": "380088ce",
      "metadata": {
        "id": "380088ce",
        "outputId": "ba24e9d7-c575-448a-9f0c-fb4e133f90e9"
      },
      "outputs": [
        {
          "name": "stdout",
          "output_type": "stream",
          "text": [
            "Hello Hacktiv8\n"
          ]
        }
      ],
      "source": [
        "name = 'Hacktiv8'\n",
        "if name == 'Fred':\n",
        "    print('Hello Fred')\n",
        "elif name == 'Xander':\n",
        "    print('Hello Xander')\n",
        "elif name == 'Hacktiv8':\n",
        "    print('Hello Hacktiv8')\n",
        "elif name == 'Arnold':\n",
        "    print('Hello Arnold')\n",
        "else:\n",
        "    print(\"I don't know who you are!\")"
      ]
    },
    {
      "cell_type": "code",
      "execution_count": null,
      "id": "2fb67acb",
      "metadata": {
        "id": "2fb67acb",
        "outputId": "21f9bb31-6d1c-4e1b-cc16-c06e58317d6f"
      },
      "outputs": [
        {
          "name": "stdout",
          "output_type": "stream",
          "text": [
            "foo\n"
          ]
        }
      ],
      "source": [
        "if 'a' in 'bar':\n",
        "    print('foo')\n",
        "elif 1/0:\n",
        "    print(\"This won't happen\")\n",
        "elif var:\n",
        "    print(\"This won't either\")"
      ]
    },
    {
      "cell_type": "markdown",
      "id": "5a90ef82",
      "metadata": {
        "id": "5a90ef82"
      },
      "source": [
        "# One-Line if Statement"
      ]
    },
    {
      "cell_type": "code",
      "execution_count": null,
      "id": "ad319053",
      "metadata": {
        "id": "ad319053"
      },
      "outputs": [],
      "source": [
        "# if <expr>:\n",
        "#     <statement>"
      ]
    },
    {
      "cell_type": "code",
      "execution_count": null,
      "id": "12a0fd8f",
      "metadata": {
        "id": "12a0fd8f",
        "outputId": "b37e2ff6-8be2-4cf7-f5a1-224defa2634e"
      },
      "outputs": [
        {
          "name": "stdout",
          "output_type": "stream",
          "text": [
            "1\n",
            "2\n",
            "3\n"
          ]
        }
      ],
      "source": [
        "if 'f' in 'foo': print('1'); print('2'); print('3')"
      ]
    },
    {
      "cell_type": "code",
      "execution_count": null,
      "id": "10cea479",
      "metadata": {
        "id": "10cea479"
      },
      "outputs": [],
      "source": [
        "if 'z' in 'foo': print('1'); print('2'); print('3')"
      ]
    },
    {
      "cell_type": "code",
      "execution_count": null,
      "id": "ae14d859",
      "metadata": {
        "id": "ae14d859",
        "outputId": "1686f2c1-75d5-4fbe-afe6-ddf9599f5fc5"
      },
      "outputs": [
        {
          "name": "stdout",
          "output_type": "stream",
          "text": [
            "qux\n",
            "quux\n"
          ]
        }
      ],
      "source": [
        "x = 2\n",
        "\n",
        "if x == 1: print('foo'); print('bar'); print('baz')\n",
        "elif x == 2: print('qux'); print('quux')\n",
        "else: print('corge'); print('grault')"
      ]
    },
    {
      "cell_type": "code",
      "execution_count": null,
      "id": "23477335",
      "metadata": {
        "id": "23477335",
        "outputId": "3fe06487-2fdb-45d9-e0c7-4284e68d021a"
      },
      "outputs": [
        {
          "name": "stdout",
          "output_type": "stream",
          "text": [
            "corge\n",
            "grault\n"
          ]
        }
      ],
      "source": [
        "x = 3\n",
        "\n",
        "if x == 1: print('foo'); print('bar'); print('baz')\n",
        "elif x == 2: print('qux'); print('quux')\n",
        "else: print('corge'); print('grault')"
      ]
    },
    {
      "cell_type": "code",
      "execution_count": null,
      "id": "fa3dff02",
      "metadata": {
        "id": "fa3dff02",
        "outputId": "d9b9b1ab-1319-4eea-fda5-effe0424d13a"
      },
      "outputs": [
        {
          "name": "stdout",
          "output_type": "stream",
          "text": [
            "corge\n",
            "grault\n"
          ]
        }
      ],
      "source": [
        "x = 3\n",
        "\n",
        "if x == 1: \n",
        "    print('foo') \n",
        "    print('bar') \n",
        "    print('baz')\n",
        "elif x == 2: \n",
        "    print('qux')\n",
        "    print('quux')\n",
        "else: \n",
        "    print('corge')\n",
        "    print('grault')"
      ]
    },
    {
      "cell_type": "markdown",
      "id": "a11f19d1",
      "metadata": {
        "id": "a11f19d1"
      },
      "source": [
        "# Conditional Expressions (Python's Ternary Operator)"
      ]
    },
    {
      "cell_type": "code",
      "execution_count": null,
      "id": "eac5737d",
      "metadata": {
        "id": "eac5737d"
      },
      "outputs": [],
      "source": [
        "# <expr1> if <conditional expr> else <expr2>"
      ]
    },
    {
      "cell_type": "code",
      "execution_count": null,
      "id": "fcb012a9",
      "metadata": {
        "id": "fcb012a9",
        "outputId": "a8037aab-4392-40ad-feb9-c287b0212e28"
      },
      "outputs": [
        {
          "name": "stdout",
          "output_type": "stream",
          "text": [
            "Let's go to the beach\n"
          ]
        }
      ],
      "source": [
        "raining = False\n",
        "print(\"Let's go to the\", 'beach' if not raining else 'library')"
      ]
    },
    {
      "cell_type": "code",
      "execution_count": null,
      "id": "c7541de0",
      "metadata": {
        "id": "c7541de0",
        "outputId": "ed0c8097-da3f-441d-be40-12d741909306"
      },
      "outputs": [
        {
          "name": "stdout",
          "output_type": "stream",
          "text": [
            "Let's go to the library\n"
          ]
        }
      ],
      "source": [
        "raining = True\n",
        "print(\"Let's go to the\", 'beach' if not raining else 'library')"
      ]
    },
    {
      "cell_type": "code",
      "execution_count": null,
      "id": "60fd9d61",
      "metadata": {
        "id": "60fd9d61",
        "outputId": "924008b8-97c0-412e-be71-e4cd36fda909"
      },
      "outputs": [
        {
          "data": {
            "text/plain": [
              "'teen'"
            ]
          },
          "execution_count": 17,
          "metadata": {},
          "output_type": "execute_result"
        }
      ],
      "source": [
        "age = 12\n",
        "s = 'teen' if age < 21 else 'adult'\n",
        "s"
      ]
    },
    {
      "cell_type": "code",
      "execution_count": null,
      "id": "ec3f5ab5",
      "metadata": {
        "id": "ec3f5ab5",
        "outputId": "438780e0-8f4c-4ef4-d09e-ac7941c35e15"
      },
      "outputs": [
        {
          "data": {
            "text/plain": [
              "'no'"
            ]
          },
          "execution_count": 18,
          "metadata": {},
          "output_type": "execute_result"
        }
      ],
      "source": [
        "'yes' if ('qux' in ['foo', 'bar', 'bazz']) else 'no'"
      ]
    },
    {
      "cell_type": "code",
      "execution_count": null,
      "id": "563fe96d",
      "metadata": {
        "id": "563fe96d"
      },
      "outputs": [],
      "source": [
        "# if a > b:\n",
        "#    m = a\n",
        "# else:\n",
        "#    m = b"
      ]
    },
    {
      "cell_type": "markdown",
      "id": "c9784573",
      "metadata": {
        "id": "c9784573"
      },
      "source": [
        "# The Python pass Statement"
      ]
    },
    {
      "cell_type": "code",
      "execution_count": null,
      "id": "4a2f3c9e",
      "metadata": {
        "id": "4a2f3c9e",
        "outputId": "ec33c7eb-f333-442d-9a5f-c8cba960c75f"
      },
      "outputs": [
        {
          "name": "stdout",
          "output_type": "stream",
          "text": [
            "foo\n"
          ]
        }
      ],
      "source": [
        "if True:\n",
        "    print('foo')"
      ]
    },
    {
      "cell_type": "code",
      "execution_count": null,
      "id": "9f370a92",
      "metadata": {
        "id": "9f370a92",
        "outputId": "ba88c708-672a-476a-fe07-deb91f80c7da"
      },
      "outputs": [
        {
          "ename": "SyntaxError",
          "evalue": "invalid syntax (2349386758.py, line 1)",
          "output_type": "error",
          "traceback": [
            "\u001b[1;36m  Input \u001b[1;32mIn [21]\u001b[1;36m\u001b[0m\n\u001b[1;33m    File \"foo.py\", line 3\u001b[0m\n\u001b[1;37m         ^\u001b[0m\n\u001b[1;31mSyntaxError\u001b[0m\u001b[1;31m:\u001b[0m invalid syntax\n"
          ]
        }
      ],
      "source": [
        "File \"foo.py\", line 3\n",
        "print('foo')"
      ]
    },
    {
      "cell_type": "code",
      "execution_count": null,
      "id": "03aefb33",
      "metadata": {
        "id": "03aefb33",
        "outputId": "a035f095-908a-408f-9bd3-653d60f76f3b"
      },
      "outputs": [
        {
          "name": "stdout",
          "output_type": "stream",
          "text": [
            "foo\n"
          ]
        }
      ],
      "source": [
        "if True:\n",
        "    pass\n",
        "print('foo')"
      ]
    },
    {
      "cell_type": "markdown",
      "id": "dbe1802a",
      "metadata": {
        "id": "dbe1802a"
      },
      "source": [
        "# Python \"while\" Loops"
      ]
    },
    {
      "cell_type": "code",
      "execution_count": null,
      "id": "ce74b0eb",
      "metadata": {
        "id": "ce74b0eb"
      },
      "outputs": [],
      "source": [
        "# while <expr>:\n",
        "#     <statement(s)>"
      ]
    },
    {
      "cell_type": "code",
      "execution_count": null,
      "id": "cdb2d164",
      "metadata": {
        "id": "cdb2d164",
        "outputId": "a080c637-96ad-4b5d-b441-3ea3d3de1f0a"
      },
      "outputs": [
        {
          "name": "stdout",
          "output_type": "stream",
          "text": [
            "4\n",
            "3\n",
            "2\n",
            "1\n",
            "0\n"
          ]
        }
      ],
      "source": [
        "n = 5\n",
        "while n > 0:\n",
        "    n -= 1\n",
        "    print(n)"
      ]
    },
    {
      "cell_type": "code",
      "execution_count": null,
      "id": "5c1e1f71",
      "metadata": {
        "id": "5c1e1f71",
        "outputId": "8a21680c-fb33-465b-fdd7-d347071b7993"
      },
      "outputs": [
        {
          "name": "stdout",
          "output_type": "stream",
          "text": [
            "1\n",
            "2\n",
            "3\n",
            "4\n",
            "5\n"
          ]
        }
      ],
      "source": [
        "i = 1\n",
        "while i < 6:\n",
        "    print(i)\n",
        "    i += 1"
      ]
    },
    {
      "cell_type": "markdown",
      "id": "8bbaf90f",
      "metadata": {
        "id": "8bbaf90f"
      },
      "source": [
        "# The Python break and continue Statements"
      ]
    },
    {
      "cell_type": "code",
      "execution_count": null,
      "id": "ffe7d9f2",
      "metadata": {
        "id": "ffe7d9f2"
      },
      "outputs": [],
      "source": [
        "# while <expr>\n",
        "#     <statement>\n",
        "#     <statement>\n",
        "#      break\n",
        "#     <statement>\n",
        "#     <statement>\n",
        "#      continue\n",
        "#     <statement>\n",
        "#     <statement>\n",
        "\n",
        "# <statement>"
      ]
    },
    {
      "cell_type": "code",
      "execution_count": null,
      "id": "9c5fe16e",
      "metadata": {
        "id": "9c5fe16e"
      },
      "outputs": [],
      "source": [
        "n = 5\n",
        "while n > 0:\n",
        "    n -= 1\n",
        "    if n == 2:\n",
        "        break  # Break Statement\n",
        "    print(n)\n",
        "print('Loop ended.')"
      ]
    },
    {
      "cell_type": "markdown",
      "id": "1ffde6f2",
      "metadata": {
        "id": "1ffde6f2"
      },
      "source": [
        "# The else Clause"
      ]
    },
    {
      "cell_type": "code",
      "execution_count": null,
      "id": "b4e7fbaa",
      "metadata": {
        "id": "b4e7fbaa"
      },
      "outputs": [],
      "source": [
        "# while <expr>:\n",
        "#     <statement(s)>\n",
        "# else:\n",
        "#     <additional_statement(s)>"
      ]
    },
    {
      "cell_type": "code",
      "execution_count": null,
      "id": "98fd65f7",
      "metadata": {
        "id": "98fd65f7",
        "outputId": "0406a189-55b7-4fb4-dc06-267c47c82753"
      },
      "outputs": [
        {
          "name": "stdout",
          "output_type": "stream",
          "text": [
            "4\n",
            "3\n",
            "2\n",
            "1\n",
            "0\n",
            "Loop done.\n"
          ]
        }
      ],
      "source": [
        "n = 5\n",
        "while n > 0:\n",
        "    n -= 1\n",
        "    print(n)\n",
        "else:\n",
        "    print('Loop done.')"
      ]
    },
    {
      "cell_type": "code",
      "execution_count": null,
      "id": "64383f14",
      "metadata": {
        "id": "64383f14",
        "outputId": "ba88cd1d-041d-4687-d8d8-bf92fd2ce6aa"
      },
      "outputs": [
        {
          "name": "stdout",
          "output_type": "stream",
          "text": [
            "4\n",
            "3\n",
            "2\n"
          ]
        }
      ],
      "source": [
        "n = 5\n",
        "while n > 0:\n",
        "    n -= 1\n",
        "    print(n)\n",
        "    if n == 2:\n",
        "        break\n",
        "else:\n",
        "    print('Loop done.')"
      ]
    },
    {
      "cell_type": "markdown",
      "id": "32e426d4",
      "metadata": {
        "id": "32e426d4"
      },
      "source": [
        "# Infinite Loops"
      ]
    },
    {
      "cell_type": "code",
      "execution_count": null,
      "id": "174e935e",
      "metadata": {
        "id": "174e935e"
      },
      "outputs": [],
      "source": [
        "# while True:\n",
        "#     print('foo')"
      ]
    },
    {
      "cell_type": "markdown",
      "id": "b1037f67",
      "metadata": {
        "id": "b1037f67"
      },
      "source": [
        "# Nested while Loops"
      ]
    },
    {
      "cell_type": "code",
      "execution_count": null,
      "id": "9cdc85bf",
      "metadata": {
        "id": "9cdc85bf",
        "outputId": "442995be-05d1-442e-c843-2e433bfd570b"
      },
      "outputs": [
        {
          "name": "stdout",
          "output_type": "stream",
          "text": [
            "mother\n"
          ]
        }
      ],
      "source": [
        "# struktur kontrol Python dapat di-nest satu sama lain. Misalnya if/elif/else.\n",
        "\n",
        "age = 20\n",
        "gender = 'F'\n",
        "\n",
        "if age < 18:\n",
        "    if gender == 'M':\n",
        "        print('son')\n",
        "    else:\n",
        "        print('daughter')\n",
        "elif age >= 18 and age < 65:\n",
        "    if gender == 'M':\n",
        "        print('father')\n",
        "    else:\n",
        "        print('mother')\n",
        "else:\n",
        "    if gender == 'M':\n",
        "        print('grandfather')\n",
        "    else:\n",
        "        print('grandmother')\n",
        "        "
      ]
    },
    {
      "cell_type": "code",
      "execution_count": null,
      "id": "1f690d44",
      "metadata": {
        "id": "1f690d44",
        "outputId": "3514ca30-1ec1-4ec4-ed8b-c717247e47bf"
      },
      "outputs": [
        {
          "name": "stdout",
          "output_type": "stream",
          "text": [
            "foo\n",
            "> baz\n",
            "> qux\n",
            "bar\n",
            "> baz\n",
            "> qux\n"
          ]
        }
      ],
      "source": [
        "# loop while dapat dimuat dalam loop while lainnya, seperti berikut ini:\n",
        "\n",
        "a = ['foo', 'bar']\n",
        "\n",
        "while len(a):\n",
        "    print(a.pop(0))\n",
        "    \n",
        "    b = ['baz', 'qux']\n",
        "    \n",
        "    while len(b):\n",
        "        print('>', b.pop(0))"
      ]
    },
    {
      "cell_type": "code",
      "execution_count": null,
      "id": "48750604",
      "metadata": {
        "id": "48750604"
      },
      "outputs": [],
      "source": [
        "## Break atau continue statement yang ditemukan dalam nested loop berlaku untuk loop terdekat:\n",
        "\n",
        "# while <expr1>:\n",
        "#    statement\n",
        "#    statement\n",
        "    \n",
        "#    while <expr2>:\n",
        "#        statement\n",
        "#        statement\n",
        "#        break  # Applies to while <expr2>: loop\n",
        "        \n",
        "#    break  # Applies to while <expr1>: loop"
      ]
    },
    {
      "cell_type": "code",
      "execution_count": null,
      "id": "81098760",
      "metadata": {
        "id": "81098760"
      },
      "outputs": [],
      "source": [
        "## Selain itu, while loop dapat ditempatkan di dalam pernyataan if/elif/else, dan sebaliknya:\n",
        "\n",
        "# if <expr>:\n",
        "#     statement\n",
        "#     while <expr>:\n",
        "#         statement\n",
        "#         statement\n",
        "# else:\n",
        "#     while <expr>:\n",
        "#         statement\n",
        "#         statement\n",
        "#     statement\n",
        "# while <expr>:\n",
        "#     if <expr>:\n",
        "#         statement\n",
        "#     elif <expr>:\n",
        "#         statement\n",
        "#     else:\n",
        "#         statement\n",
        "\n",
        "#     if <expr>:\n",
        "#         statement"
      ]
    },
    {
      "cell_type": "markdown",
      "id": "48bc4164",
      "metadata": {
        "id": "48bc4164"
      },
      "source": [
        "# One-Line while Loops"
      ]
    },
    {
      "cell_type": "code",
      "execution_count": null,
      "id": "0d4b1d3f",
      "metadata": {
        "id": "0d4b1d3f"
      },
      "outputs": [],
      "source": [
        "n = 5\n",
        "while n > 0: n -= 1; print(n)"
      ]
    },
    {
      "cell_type": "markdown",
      "id": "0dd9c9e5",
      "metadata": {
        "id": "0dd9c9e5"
      },
      "source": [
        "# A Survey of Definite Iteration in Programming"
      ]
    },
    {
      "cell_type": "code",
      "execution_count": null,
      "id": "712892bc",
      "metadata": {
        "id": "712892bc"
      },
      "outputs": [],
      "source": [
        "# Numeric Range Loop\n",
        "# for i = 1 to 10\n",
        "#    <loop body>"
      ]
    },
    {
      "cell_type": "code",
      "execution_count": null,
      "id": "616c848d",
      "metadata": {
        "id": "616c848d"
      },
      "outputs": [],
      "source": [
        "# Three-Expression Loop\n",
        "# for (i = 1; i <= 10; i++)\n",
        "#    <loop body>"
      ]
    },
    {
      "cell_type": "code",
      "execution_count": null,
      "id": "47108657",
      "metadata": {
        "id": "47108657",
        "outputId": "2536736e-7a65-4b1f-b58a-b076b57cefd0"
      },
      "outputs": [
        {
          "ename": "IndentationError",
          "evalue": "unexpected indent (1105148893.py, line 3)",
          "output_type": "error",
          "traceback": [
            "\u001b[1;36m  Input \u001b[1;32mIn [31]\u001b[1;36m\u001b[0m\n\u001b[1;33m    <loop body>\u001b[0m\n\u001b[1;37m    ^\u001b[0m\n\u001b[1;31mIndentationError\u001b[0m\u001b[1;31m:\u001b[0m unexpected indent\n"
          ]
        }
      ],
      "source": [
        "# Collection-Based or Iterator-Based Loop\n",
        "# for i in <collection>\n",
        "     <loop body>"
      ]
    },
    {
      "cell_type": "markdown",
      "id": "b8b00226",
      "metadata": {
        "id": "b8b00226"
      },
      "source": [
        "# The Python for Loop"
      ]
    },
    {
      "cell_type": "code",
      "execution_count": null,
      "id": "18c8e4b1",
      "metadata": {
        "id": "18c8e4b1"
      },
      "outputs": [],
      "source": [
        "# Python hanya mengimplementasikan iterasi terakhir: collection-based.\n",
        "\n",
        "# for <var> in <iterable>\n",
        "#    <statement(s)>\n",
        "\n",
        "# <iterable> adalah kumpulan objek -- misalnya, list atau tuple. <statement(s)> di badan"
      ]
    },
    {
      "cell_type": "code",
      "execution_count": null,
      "id": "efbccb56",
      "metadata": {
        "id": "efbccb56",
        "outputId": "854d2af2-738e-479c-fdf2-8aa26ae701f5"
      },
      "outputs": [
        {
          "name": "stdout",
          "output_type": "stream",
          "text": [
            "foo\n",
            "bar\n",
            "baz\n"
          ]
        }
      ],
      "source": [
        "a = ['foo', 'bar', 'baz']\n",
        "for i in a:\n",
        "    print(i)"
      ]
    },
    {
      "cell_type": "code",
      "execution_count": null,
      "id": "bb81fa01",
      "metadata": {
        "id": "bb81fa01",
        "outputId": "3142cb7d-de0e-4e67-836c-c7a03cc43df0"
      },
      "outputs": [
        {
          "name": "stdout",
          "output_type": "stream",
          "text": [
            "foo\n",
            "bar\n",
            "baz\n"
          ]
        }
      ],
      "source": [
        "d = {'foo': 1, 'bar':2, 'baz':3}\n",
        "for k in d:\n",
        "    print(k)"
      ]
    },
    {
      "cell_type": "code",
      "execution_count": null,
      "id": "7c1a129f",
      "metadata": {
        "id": "7c1a129f",
        "outputId": "f55bf8f0-f123-4647-da6d-41a9f2eb1b40"
      },
      "outputs": [
        {
          "name": "stdout",
          "output_type": "stream",
          "text": [
            "1\n",
            "2\n",
            "3\n"
          ]
        }
      ],
      "source": [
        "for k in d:\n",
        "    print(d[k])"
      ]
    },
    {
      "cell_type": "code",
      "execution_count": null,
      "id": "9db666ea",
      "metadata": {
        "id": "9db666ea",
        "outputId": "77228dad-1f87-4ead-c7d4-4d6756e6a034"
      },
      "outputs": [
        {
          "name": "stdout",
          "output_type": "stream",
          "text": [
            "1\n",
            "2\n",
            "3\n"
          ]
        }
      ],
      "source": [
        "for k in d.values():\n",
        "    print(k)"
      ]
    },
    {
      "cell_type": "code",
      "execution_count": null,
      "id": "d2d32d4d",
      "metadata": {
        "id": "d2d32d4d",
        "outputId": "6e1d33b6-8467-42b0-bbf1-b8d7edcf4ff1"
      },
      "outputs": [
        {
          "name": "stdout",
          "output_type": "stream",
          "text": [
            "foo : 1\n",
            "bar : 2\n",
            "baz : 3\n"
          ]
        }
      ],
      "source": [
        "for k, v in d.items():\n",
        "    print(k, \":\", v)"
      ]
    },
    {
      "cell_type": "markdown",
      "id": "e1bb0737",
      "metadata": {
        "id": "e1bb0737"
      },
      "source": [
        "# Iterating Through a Dictionary"
      ]
    },
    {
      "cell_type": "code",
      "execution_count": null,
      "id": "65243065",
      "metadata": {
        "id": "65243065"
      },
      "outputs": [],
      "source": [
        "# untuk mengakses nilai dictionary dalam loop, menggunakan kunci sebagai berikut:\n",
        "# for k in d:\n",
        "#    print(k)"
      ]
    },
    {
      "cell_type": "code",
      "execution_count": null,
      "id": "a7f0428d",
      "metadata": {
        "id": "a7f0428d"
      },
      "outputs": [],
      "source": [
        "# dapat beriterasi melalui nilai dictionary secara langsung dengan menggunakan .values()\n",
        "# for v in d.values():\n",
        "#    print(v)"
      ]
    },
    {
      "cell_type": "markdown",
      "id": "9f4b5df2",
      "metadata": {
        "id": "9f4b5df2"
      },
      "source": [
        "# The range() Function"
      ]
    },
    {
      "cell_type": "code",
      "execution_count": null,
      "id": "1a7c1c29",
      "metadata": {
        "id": "1a7c1c29",
        "outputId": "b7af8177-413e-4a8f-8b9c-1d89ec1e403c"
      },
      "outputs": [
        {
          "name": "stdout",
          "output_type": "stream",
          "text": [
            "0\n",
            "1\n",
            "2\n",
            "3\n",
            "4\n"
          ]
        }
      ],
      "source": [
        "for n in (0, 1, 2, 3, 4):\n",
        "    print(n)"
      ]
    },
    {
      "cell_type": "markdown",
      "id": "0475b4f1",
      "metadata": {
        "id": "0475b4f1"
      },
      "source": [
        "# Altering for Loop Behavior"
      ]
    },
    {
      "cell_type": "markdown",
      "id": "a88366e2",
      "metadata": {
        "id": "a88366e2"
      },
      "source": [
        "# The break and continue Statements"
      ]
    },
    {
      "cell_type": "code",
      "execution_count": null,
      "id": "d2789859",
      "metadata": {
        "id": "d2789859"
      },
      "outputs": [],
      "source": [
        "# break menghentikan loop sepenuhnya dan melanjutkan ke pernyataan pertama setelah loop:"
      ]
    },
    {
      "cell_type": "code",
      "execution_count": null,
      "id": "db4117d9",
      "metadata": {
        "id": "db4117d9",
        "outputId": "8d45526f-b8bb-4f73-dddd-98848cb3e00a"
      },
      "outputs": [
        {
          "name": "stdout",
          "output_type": "stream",
          "text": [
            "foo\n"
          ]
        }
      ],
      "source": [
        "# contoh break\n",
        "for i in ['foo', 'bar', 'baz', 'qux']:\n",
        "    if 'b' in i:\n",
        "        break\n",
        "    print(i)"
      ]
    },
    {
      "cell_type": "code",
      "execution_count": null,
      "id": "a0d859cd",
      "metadata": {
        "id": "a0d859cd"
      },
      "outputs": [],
      "source": [
        "# continue menghentikan iterasi saat ini dan melanjutkan ke iterasi berikutnya:"
      ]
    },
    {
      "cell_type": "code",
      "execution_count": null,
      "id": "de036ecf",
      "metadata": {
        "id": "de036ecf",
        "outputId": "5b746f8a-e0a4-4636-ccf0-2ec11f64fc93"
      },
      "outputs": [
        {
          "name": "stdout",
          "output_type": "stream",
          "text": [
            "foo\n",
            "qux\n"
          ]
        }
      ],
      "source": [
        "# contoh continue\n",
        "for i in ['foo', 'bar', 'baz', 'qux']:\n",
        "    if 'b' in i:\n",
        "        continue\n",
        "    print(i)"
      ]
    },
    {
      "cell_type": "markdown",
      "id": "ab7334cb",
      "metadata": {
        "id": "ab7334cb"
      },
      "source": [
        "# The else Clause"
      ]
    },
    {
      "cell_type": "code",
      "execution_count": null,
      "id": "517ca42a",
      "metadata": {
        "id": "517ca42a",
        "outputId": "08337c83-c8f0-4d7e-867e-87c5e1b32dea"
      },
      "outputs": [
        {
          "name": "stdout",
          "output_type": "stream",
          "text": [
            "foo\n",
            "bar\n",
            "baz\n",
            "qux\n",
            "Done.\n"
          ]
        }
      ],
      "source": [
        "# Klause else akan dijalankan jika loop berakhir karena iterable habis:\n",
        "\n",
        "for i in ['foo', 'bar', 'baz', 'qux']:\n",
        "    print(i)\n",
        "else:\n",
        "    print('Done.')  # will execute"
      ]
    },
    {
      "cell_type": "code",
      "execution_count": null,
      "id": "265ef615",
      "metadata": {
        "id": "265ef615",
        "outputId": "b845bf8e-e128-430d-a295-368e245dc7cc"
      },
      "outputs": [
        {
          "name": "stdout",
          "output_type": "stream",
          "text": [
            "foo\n"
          ]
        }
      ],
      "source": [
        "# Klause else tidak akan dijalankan jika list berhenti dengan pernyataan break:\n",
        "\n",
        "for i in ['foo', 'bar', 'baz', 'qux']:\n",
        "    if i == 'bar':\n",
        "        break\n",
        "    print(i)\n",
        "else:\n",
        "    print('Done.')  #will not execute"
      ]
    },
    {
      "cell_type": "code",
      "execution_count": null,
      "id": "60244be9",
      "metadata": {
        "id": "60244be9"
      },
      "outputs": [],
      "source": [
        "# Contoh penggunaan:"
      ]
    },
    {
      "cell_type": "code",
      "execution_count": null,
      "id": "ad29d345",
      "metadata": {
        "id": "ad29d345",
        "outputId": "d636ed0d-c98e-4238-ddef-e8abe48d84f1"
      },
      "outputs": [
        {
          "ename": "KeyboardInterrupt",
          "evalue": "Interrupted by user",
          "output_type": "error",
          "traceback": [
            "\u001b[1;31m---------------------------------------------------------------------------\u001b[0m",
            "\u001b[1;31mKeyboardInterrupt\u001b[0m                         Traceback (most recent call last)",
            "Input \u001b[1;32mIn [49]\u001b[0m, in \u001b[0;36m<cell line: 1>\u001b[1;34m()\u001b[0m\n\u001b[1;32m----> 1\u001b[0m temp \u001b[38;5;241m=\u001b[39m \u001b[38;5;28;43minput\u001b[39;49m\u001b[43m(\u001b[49m\u001b[38;5;124;43m\"\u001b[39;49m\u001b[38;5;124;43mKetikan termperatur yang ingin dikonversi, eg. 45F, 120C: \u001b[39;49m\u001b[38;5;124;43m\"\u001b[39;49m\u001b[43m)\u001b[49m\n\u001b[0;32m      2\u001b[0m degree \u001b[38;5;241m=\u001b[39m \u001b[38;5;28mint\u001b[39m(temp[:\u001b[38;5;241m-\u001b[39m\u001b[38;5;241m1\u001b[39m])\n\u001b[0;32m      3\u001b[0m i_convertion \u001b[38;5;241m=\u001b[39m temp[\u001b[38;5;241m-\u001b[39m\u001b[38;5;241m1\u001b[39m]\n",
            "File \u001b[1;32m~\\anaconda3\\lib\\site-packages\\ipykernel\\kernelbase.py:1075\u001b[0m, in \u001b[0;36mKernel.raw_input\u001b[1;34m(self, prompt)\u001b[0m\n\u001b[0;32m   1071\u001b[0m \u001b[38;5;28;01mif\u001b[39;00m \u001b[38;5;129;01mnot\u001b[39;00m \u001b[38;5;28mself\u001b[39m\u001b[38;5;241m.\u001b[39m_allow_stdin:\n\u001b[0;32m   1072\u001b[0m     \u001b[38;5;28;01mraise\u001b[39;00m StdinNotImplementedError(\n\u001b[0;32m   1073\u001b[0m         \u001b[38;5;124m\"\u001b[39m\u001b[38;5;124mraw_input was called, but this frontend does not support input requests.\u001b[39m\u001b[38;5;124m\"\u001b[39m\n\u001b[0;32m   1074\u001b[0m     )\n\u001b[1;32m-> 1075\u001b[0m \u001b[38;5;28;01mreturn\u001b[39;00m \u001b[38;5;28;43mself\u001b[39;49m\u001b[38;5;241;43m.\u001b[39;49m\u001b[43m_input_request\u001b[49m\u001b[43m(\u001b[49m\n\u001b[0;32m   1076\u001b[0m \u001b[43m    \u001b[49m\u001b[38;5;28;43mstr\u001b[39;49m\u001b[43m(\u001b[49m\u001b[43mprompt\u001b[49m\u001b[43m)\u001b[49m\u001b[43m,\u001b[49m\n\u001b[0;32m   1077\u001b[0m \u001b[43m    \u001b[49m\u001b[38;5;28;43mself\u001b[39;49m\u001b[38;5;241;43m.\u001b[39;49m\u001b[43m_parent_ident\u001b[49m\u001b[43m[\u001b[49m\u001b[38;5;124;43m\"\u001b[39;49m\u001b[38;5;124;43mshell\u001b[39;49m\u001b[38;5;124;43m\"\u001b[39;49m\u001b[43m]\u001b[49m\u001b[43m,\u001b[49m\n\u001b[0;32m   1078\u001b[0m \u001b[43m    \u001b[49m\u001b[38;5;28;43mself\u001b[39;49m\u001b[38;5;241;43m.\u001b[39;49m\u001b[43mget_parent\u001b[49m\u001b[43m(\u001b[49m\u001b[38;5;124;43m\"\u001b[39;49m\u001b[38;5;124;43mshell\u001b[39;49m\u001b[38;5;124;43m\"\u001b[39;49m\u001b[43m)\u001b[49m\u001b[43m,\u001b[49m\n\u001b[0;32m   1079\u001b[0m \u001b[43m    \u001b[49m\u001b[43mpassword\u001b[49m\u001b[38;5;241;43m=\u001b[39;49m\u001b[38;5;28;43;01mFalse\u001b[39;49;00m\u001b[43m,\u001b[49m\n\u001b[0;32m   1080\u001b[0m \u001b[43m\u001b[49m\u001b[43m)\u001b[49m\n",
            "File \u001b[1;32m~\\anaconda3\\lib\\site-packages\\ipykernel\\kernelbase.py:1120\u001b[0m, in \u001b[0;36mKernel._input_request\u001b[1;34m(self, prompt, ident, parent, password)\u001b[0m\n\u001b[0;32m   1117\u001b[0m             \u001b[38;5;28;01mbreak\u001b[39;00m\n\u001b[0;32m   1118\u001b[0m \u001b[38;5;28;01mexcept\u001b[39;00m \u001b[38;5;167;01mKeyboardInterrupt\u001b[39;00m:\n\u001b[0;32m   1119\u001b[0m     \u001b[38;5;66;03m# re-raise KeyboardInterrupt, to truncate traceback\u001b[39;00m\n\u001b[1;32m-> 1120\u001b[0m     \u001b[38;5;28;01mraise\u001b[39;00m \u001b[38;5;167;01mKeyboardInterrupt\u001b[39;00m(\u001b[38;5;124m\"\u001b[39m\u001b[38;5;124mInterrupted by user\u001b[39m\u001b[38;5;124m\"\u001b[39m) \u001b[38;5;28;01mfrom\u001b[39;00m \u001b[38;5;28mNone\u001b[39m\n\u001b[0;32m   1121\u001b[0m \u001b[38;5;28;01mexcept\u001b[39;00m \u001b[38;5;167;01mException\u001b[39;00m:\n\u001b[0;32m   1122\u001b[0m     \u001b[38;5;28mself\u001b[39m\u001b[38;5;241m.\u001b[39mlog\u001b[38;5;241m.\u001b[39mwarning(\u001b[38;5;124m\"\u001b[39m\u001b[38;5;124mInvalid Message:\u001b[39m\u001b[38;5;124m\"\u001b[39m, exc_info\u001b[38;5;241m=\u001b[39m\u001b[38;5;28;01mTrue\u001b[39;00m)\n",
            "\u001b[1;31mKeyboardInterrupt\u001b[0m: Interrupted by user"
          ]
        }
      ],
      "source": [
        "temp = input(\"Ketikan termperatur yang ingin dikonversi, eg. 45F, 120C: \")\n",
        "degree = int(temp[:-1])\n",
        "i_convertion = temp[-1]\n",
        "\n",
        "if i_convertion == \"C\":\n",
        "    result = int(round((9 * degree) / 5 + 32))\n",
        "elif i_convertion == \"F\":\n",
        "    result = int(round((degree - 32) * 5 /9))\n",
        "else: \n",
        "    print(\"Masukan input yang benar\")\n",
        "    \n",
        "print(\"Temperaturnya adalah\", result, \"derajat\")"
      ]
    },
    {
      "cell_type": "code",
      "execution_count": null,
      "id": "71348d60",
      "metadata": {
        "id": "71348d60"
      },
      "outputs": [],
      "source": [
        "while True:\n",
        "    msg = input(\"Ketikan karakter: \").lower()\n",
        "    print(msg)\n",
        "    if msg == \"stop\":\n",
        "        break"
      ]
    },
    {
      "cell_type": "code",
      "execution_count": null,
      "id": "77deb17b",
      "metadata": {
        "id": "77deb17b"
      },
      "outputs": [],
      "source": []
    },
    {
      "cell_type": "code",
      "execution_count": null,
      "id": "90c8872f",
      "metadata": {
        "id": "90c8872f"
      },
      "outputs": [],
      "source": []
    },
    {
      "cell_type": "code",
      "execution_count": null,
      "id": "27482637",
      "metadata": {
        "id": "27482637"
      },
      "outputs": [],
      "source": []
    },
    {
      "cell_type": "code",
      "execution_count": null,
      "id": "b12514fe",
      "metadata": {
        "id": "b12514fe"
      },
      "outputs": [],
      "source": []
    },
    {
      "cell_type": "code",
      "execution_count": null,
      "id": "b14c6e07",
      "metadata": {
        "id": "b14c6e07"
      },
      "outputs": [],
      "source": []
    },
    {
      "cell_type": "code",
      "execution_count": null,
      "id": "01226dc9",
      "metadata": {
        "id": "01226dc9"
      },
      "outputs": [],
      "source": []
    },
    {
      "cell_type": "code",
      "execution_count": null,
      "id": "dfeee8d2",
      "metadata": {
        "id": "dfeee8d2"
      },
      "outputs": [],
      "source": []
    },
    {
      "cell_type": "code",
      "execution_count": null,
      "id": "c4d2ee8f",
      "metadata": {
        "id": "c4d2ee8f"
      },
      "outputs": [],
      "source": []
    },
    {
      "cell_type": "code",
      "execution_count": null,
      "id": "ba8ae955",
      "metadata": {
        "id": "ba8ae955"
      },
      "outputs": [],
      "source": []
    },
    {
      "cell_type": "code",
      "execution_count": null,
      "id": "7baa2d22",
      "metadata": {
        "id": "7baa2d22"
      },
      "outputs": [],
      "source": []
    },
    {
      "cell_type": "code",
      "execution_count": null,
      "id": "d4c2bdfd",
      "metadata": {
        "id": "d4c2bdfd"
      },
      "outputs": [],
      "source": []
    },
    {
      "cell_type": "code",
      "execution_count": null,
      "id": "a5a54da3",
      "metadata": {
        "id": "a5a54da3"
      },
      "outputs": [],
      "source": []
    },
    {
      "cell_type": "code",
      "execution_count": null,
      "id": "298d1a13",
      "metadata": {
        "id": "298d1a13"
      },
      "outputs": [],
      "source": []
    },
    {
      "cell_type": "code",
      "execution_count": null,
      "id": "dbce6aa9",
      "metadata": {
        "id": "dbce6aa9"
      },
      "outputs": [],
      "source": []
    },
    {
      "cell_type": "code",
      "execution_count": null,
      "id": "163085a5",
      "metadata": {
        "id": "163085a5"
      },
      "outputs": [],
      "source": []
    },
    {
      "cell_type": "code",
      "execution_count": null,
      "id": "41954119",
      "metadata": {
        "id": "41954119"
      },
      "outputs": [],
      "source": []
    },
    {
      "cell_type": "code",
      "execution_count": null,
      "id": "9e00a526",
      "metadata": {
        "id": "9e00a526"
      },
      "outputs": [],
      "source": []
    },
    {
      "cell_type": "code",
      "execution_count": null,
      "id": "053606c1",
      "metadata": {
        "id": "053606c1"
      },
      "outputs": [],
      "source": []
    },
    {
      "cell_type": "code",
      "execution_count": null,
      "id": "db2dbb30",
      "metadata": {
        "id": "db2dbb30"
      },
      "outputs": [],
      "source": []
    },
    {
      "cell_type": "code",
      "execution_count": null,
      "id": "30ef6425",
      "metadata": {
        "id": "30ef6425"
      },
      "outputs": [],
      "source": []
    },
    {
      "cell_type": "code",
      "execution_count": null,
      "id": "110b1f4f",
      "metadata": {
        "id": "110b1f4f"
      },
      "outputs": [],
      "source": []
    },
    {
      "cell_type": "code",
      "execution_count": null,
      "id": "147bc10d",
      "metadata": {
        "id": "147bc10d"
      },
      "outputs": [],
      "source": []
    },
    {
      "cell_type": "code",
      "execution_count": null,
      "id": "33cca784",
      "metadata": {
        "id": "33cca784"
      },
      "outputs": [],
      "source": []
    },
    {
      "cell_type": "code",
      "execution_count": null,
      "id": "fd72ee31",
      "metadata": {
        "id": "fd72ee31"
      },
      "outputs": [],
      "source": []
    },
    {
      "cell_type": "code",
      "execution_count": null,
      "id": "7ce1d5fc",
      "metadata": {
        "id": "7ce1d5fc"
      },
      "outputs": [],
      "source": []
    },
    {
      "cell_type": "code",
      "execution_count": null,
      "id": "91102320",
      "metadata": {
        "id": "91102320"
      },
      "outputs": [],
      "source": []
    },
    {
      "cell_type": "code",
      "execution_count": null,
      "id": "cb43e7a1",
      "metadata": {
        "id": "cb43e7a1"
      },
      "outputs": [],
      "source": []
    },
    {
      "cell_type": "code",
      "execution_count": null,
      "id": "be156b1d",
      "metadata": {
        "id": "be156b1d"
      },
      "outputs": [],
      "source": []
    },
    {
      "cell_type": "code",
      "execution_count": null,
      "id": "bd4ae269",
      "metadata": {
        "id": "bd4ae269"
      },
      "outputs": [],
      "source": []
    },
    {
      "cell_type": "code",
      "execution_count": null,
      "id": "d0645a28",
      "metadata": {
        "id": "d0645a28"
      },
      "outputs": [],
      "source": []
    },
    {
      "cell_type": "code",
      "execution_count": null,
      "id": "e61520f2",
      "metadata": {
        "id": "e61520f2"
      },
      "outputs": [],
      "source": []
    },
    {
      "cell_type": "code",
      "execution_count": null,
      "id": "bb4f546e",
      "metadata": {
        "id": "bb4f546e"
      },
      "outputs": [],
      "source": []
    },
    {
      "cell_type": "code",
      "execution_count": null,
      "id": "355c3195",
      "metadata": {
        "id": "355c3195"
      },
      "outputs": [],
      "source": []
    },
    {
      "cell_type": "code",
      "execution_count": null,
      "id": "711b0a6f",
      "metadata": {
        "id": "711b0a6f"
      },
      "outputs": [],
      "source": []
    },
    {
      "cell_type": "code",
      "execution_count": null,
      "id": "8e6ec009",
      "metadata": {
        "id": "8e6ec009"
      },
      "outputs": [],
      "source": []
    },
    {
      "cell_type": "code",
      "execution_count": null,
      "id": "3dc120fa",
      "metadata": {
        "id": "3dc120fa"
      },
      "outputs": [],
      "source": []
    },
    {
      "cell_type": "code",
      "execution_count": null,
      "id": "d91c58ea",
      "metadata": {
        "id": "d91c58ea"
      },
      "outputs": [],
      "source": []
    },
    {
      "cell_type": "code",
      "execution_count": null,
      "id": "970d4556",
      "metadata": {
        "id": "970d4556"
      },
      "outputs": [],
      "source": []
    },
    {
      "cell_type": "code",
      "execution_count": null,
      "id": "2ae73266",
      "metadata": {
        "id": "2ae73266"
      },
      "outputs": [],
      "source": []
    }
  ],
  "metadata": {
    "kernelspec": {
      "display_name": "Python 3 (ipykernel)",
      "language": "python",
      "name": "python3"
    },
    "language_info": {
      "codemirror_mode": {
        "name": "ipython",
        "version": 3
      },
      "file_extension": ".py",
      "mimetype": "text/x-python",
      "name": "python",
      "nbconvert_exporter": "python",
      "pygments_lexer": "ipython3",
      "version": "3.9.12"
    },
    "colab": {
      "provenance": [],
      "include_colab_link": true
    }
  },
  "nbformat": 4,
  "nbformat_minor": 5
}