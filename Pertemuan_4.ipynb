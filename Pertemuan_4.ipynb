{
  "cells": [
    {
      "cell_type": "markdown",
      "metadata": {
        "id": "view-in-github",
        "colab_type": "text"
      },
      "source": [
        "<a href=\"https://colab.research.google.com/github/nxnatnat/H8_3/blob/main/Pertemuan_4.ipynb\" target=\"_parent\"><img src=\"https://colab.research.google.com/assets/colab-badge.svg\" alt=\"Open In Colab\"/></a>"
      ]
    },
    {
      "cell_type": "code",
      "execution_count": null,
      "id": "971da679",
      "metadata": {
        "id": "971da679"
      },
      "outputs": [],
      "source": [
        "import numpy"
      ]
    },
    {
      "cell_type": "code",
      "execution_count": null,
      "id": "108fca76",
      "metadata": {
        "id": "108fca76",
        "outputId": "811dce13-05fe-4fc6-a288-fd38ff7f692f"
      },
      "outputs": [
        {
          "data": {
            "text/plain": [
              "'1.21.5'"
            ]
          },
          "execution_count": 2,
          "metadata": {},
          "output_type": "execute_result"
        }
      ],
      "source": [
        "numpy.__version__"
      ]
    },
    {
      "cell_type": "code",
      "execution_count": null,
      "id": "ea5dadaf",
      "metadata": {
        "id": "ea5dadaf",
        "outputId": "8cb9d901-9781-415b-a44f-8efb1d3e79dc"
      },
      "outputs": [
        {
          "data": {
            "text/plain": [
              "nan"
            ]
          },
          "execution_count": 3,
          "metadata": {},
          "output_type": "execute_result"
        }
      ],
      "source": [
        "numpy.NaN"
      ]
    },
    {
      "cell_type": "code",
      "execution_count": null,
      "id": "4fca45c1",
      "metadata": {
        "id": "4fca45c1",
        "outputId": "50708619-d29a-485b-d1d0-d16015f56554"
      },
      "outputs": [
        {
          "data": {
            "text/plain": [
              "array([  0,   1,   2,   3,   4,   5,   6,   7,   8,   9,  10,  11,  12,\n",
              "        13,  14,  15,  16,  17,  18,  19,  20,  21,  22,  23,  24,  25,\n",
              "        26,  27,  28,  29,  30,  31,  32,  33,  34,  35,  36,  37,  38,\n",
              "        39,  40,  41,  42,  43,  44,  45,  46,  47,  48,  49,  50,  51,\n",
              "        52,  53,  54,  55,  56,  57,  58,  59,  60,  61,  62,  63,  64,\n",
              "        65,  66,  67,  68,  69,  70,  71,  72,  73,  74,  75,  76,  77,\n",
              "        78,  79,  80,  81,  82,  83,  84,  85,  86,  87,  88,  89,  90,\n",
              "        91,  92,  93,  94,  95,  96,  97,  98,  99, 100, 101, 102, 103,\n",
              "       104, 105, 106, 107, 108, 109, 110, 111, 112, 113, 114, 115, 116,\n",
              "       117, 118, 119, 120, 121, 122, 123, 124, 125, 126, 127, 128, 129,\n",
              "       130, 131, 132, 133, 134, 135, 136, 137, 138, 139, 140, 141, 142,\n",
              "       143, 144, 145, 146, 147, 148, 149, 150, 151, 152, 153, 154, 155,\n",
              "       156, 157, 158, 159, 160, 161, 162, 163, 164, 165, 166, 167, 168,\n",
              "       169, 170, 171, 172, 173, 174, 175, 176, 177, 178, 179, 180, 181,\n",
              "       182, 183, 184, 185, 186, 187, 188, 189, 190, 191, 192, 193, 194,\n",
              "       195, 196, 197, 198, 199, 200, 201, 202, 203, 204, 205, 206, 207,\n",
              "       208, 209, 210, 211, 212, 213, 214, 215, 216, 217, 218, 219, 220,\n",
              "       221, 222, 223, 224, 225, 226, 227, 228, 229, 230, 231, 232, 233,\n",
              "       234, 235, 236, 237, 238, 239, 240, 241, 242, 243, 244, 245, 246,\n",
              "       247, 248, 249, 250, 251, 252, 253, 254, 255, 256, 257, 258, 259,\n",
              "       260, 261, 262, 263, 264, 265, 266, 267, 268, 269, 270, 271, 272,\n",
              "       273, 274, 275, 276, 277, 278, 279, 280, 281, 282, 283, 284, 285,\n",
              "       286, 287, 288, 289, 290, 291, 292, 293, 294, 295, 296, 297, 298,\n",
              "       299, 300, 301, 302, 303, 304, 305, 306, 307, 308, 309, 310, 311,\n",
              "       312, 313, 314, 315, 316, 317, 318, 319, 320, 321, 322, 323, 324,\n",
              "       325, 326, 327, 328, 329, 330, 331, 332, 333, 334, 335, 336, 337,\n",
              "       338, 339, 340, 341, 342, 343, 344, 345, 346, 347, 348, 349, 350,\n",
              "       351, 352, 353, 354, 355, 356, 357, 358, 359, 360, 361, 362, 363,\n",
              "       364, 365, 366, 367, 368, 369, 370, 371, 372, 373, 374, 375, 376,\n",
              "       377, 378, 379, 380, 381, 382, 383, 384, 385, 386, 387, 388, 389,\n",
              "       390, 391, 392, 393, 394, 395, 396, 397, 398, 399, 400, 401, 402,\n",
              "       403, 404, 405, 406, 407, 408, 409, 410, 411, 412, 413, 414, 415,\n",
              "       416, 417, 418, 419, 420, 421, 422, 423, 424, 425, 426, 427, 428,\n",
              "       429, 430, 431, 432, 433, 434, 435, 436, 437, 438, 439, 440, 441,\n",
              "       442, 443, 444, 445, 446, 447, 448, 449, 450, 451, 452, 453, 454,\n",
              "       455, 456, 457, 458, 459, 460, 461, 462, 463, 464, 465, 466, 467,\n",
              "       468, 469, 470, 471, 472, 473, 474, 475, 476, 477, 478, 479, 480,\n",
              "       481, 482, 483, 484, 485, 486, 487, 488, 489, 490, 491, 492, 493,\n",
              "       494, 495, 496, 497, 498, 499, 500, 501, 502, 503, 504, 505, 506,\n",
              "       507, 508, 509, 510, 511, 512, 513, 514, 515, 516, 517, 518, 519,\n",
              "       520, 521, 522, 523, 524, 525, 526, 527, 528, 529, 530, 531, 532,\n",
              "       533, 534, 535, 536, 537, 538, 539, 540, 541, 542, 543, 544, 545,\n",
              "       546, 547, 548, 549, 550, 551, 552, 553, 554, 555, 556, 557, 558,\n",
              "       559, 560, 561, 562, 563, 564, 565, 566, 567, 568, 569, 570, 571,\n",
              "       572, 573, 574, 575, 576, 577, 578, 579, 580, 581, 582, 583, 584,\n",
              "       585, 586, 587, 588, 589, 590, 591, 592, 593, 594, 595, 596, 597,\n",
              "       598, 599, 600, 601, 602, 603, 604, 605, 606, 607, 608, 609, 610,\n",
              "       611, 612, 613, 614, 615, 616, 617, 618, 619, 620, 621, 622, 623,\n",
              "       624, 625, 626, 627, 628, 629, 630, 631, 632, 633, 634, 635, 636,\n",
              "       637, 638, 639, 640, 641, 642, 643, 644, 645, 646, 647, 648, 649,\n",
              "       650, 651, 652, 653, 654, 655, 656, 657, 658, 659, 660, 661, 662,\n",
              "       663, 664, 665, 666, 667, 668, 669, 670, 671, 672, 673, 674, 675,\n",
              "       676, 677, 678, 679, 680, 681, 682, 683, 684, 685, 686, 687, 688,\n",
              "       689, 690, 691, 692, 693, 694, 695, 696, 697, 698, 699, 700, 701,\n",
              "       702, 703, 704, 705, 706, 707, 708, 709, 710, 711, 712, 713, 714,\n",
              "       715, 716, 717, 718, 719, 720, 721, 722, 723, 724, 725, 726, 727,\n",
              "       728, 729, 730, 731, 732, 733, 734, 735, 736, 737, 738, 739, 740,\n",
              "       741, 742, 743, 744, 745, 746, 747, 748, 749, 750, 751, 752, 753,\n",
              "       754, 755, 756, 757, 758, 759, 760, 761, 762, 763, 764, 765, 766,\n",
              "       767, 768, 769, 770, 771, 772, 773, 774, 775, 776, 777, 778, 779,\n",
              "       780, 781, 782, 783, 784, 785, 786, 787, 788, 789, 790, 791, 792,\n",
              "       793, 794, 795, 796, 797, 798, 799, 800, 801, 802, 803, 804, 805,\n",
              "       806, 807, 808, 809, 810, 811, 812, 813, 814, 815, 816, 817, 818,\n",
              "       819, 820, 821, 822, 823, 824, 825, 826, 827, 828, 829, 830, 831,\n",
              "       832, 833, 834, 835, 836, 837, 838, 839, 840, 841, 842, 843, 844,\n",
              "       845, 846, 847, 848, 849, 850, 851, 852, 853, 854, 855, 856, 857,\n",
              "       858, 859, 860, 861, 862, 863, 864, 865, 866, 867, 868, 869, 870,\n",
              "       871, 872, 873, 874, 875, 876, 877, 878, 879, 880, 881, 882, 883,\n",
              "       884, 885, 886, 887, 888, 889, 890, 891, 892, 893, 894, 895, 896,\n",
              "       897, 898, 899, 900, 901, 902, 903, 904, 905, 906, 907, 908, 909,\n",
              "       910, 911, 912, 913, 914, 915, 916, 917, 918, 919, 920, 921, 922,\n",
              "       923, 924, 925, 926, 927, 928, 929, 930, 931, 932, 933, 934, 935,\n",
              "       936, 937, 938, 939, 940, 941, 942, 943, 944, 945, 946, 947, 948,\n",
              "       949, 950, 951, 952, 953, 954, 955, 956, 957, 958, 959, 960, 961,\n",
              "       962, 963, 964, 965, 966, 967, 968, 969, 970, 971, 972, 973, 974,\n",
              "       975, 976, 977, 978, 979, 980, 981, 982, 983, 984, 985, 986, 987,\n",
              "       988, 989, 990, 991, 992, 993, 994, 995, 996, 997, 998, 999])"
            ]
          },
          "execution_count": 6,
          "metadata": {},
          "output_type": "execute_result"
        }
      ],
      "source": [
        "numpy.arange(0,1000)"
      ]
    },
    {
      "cell_type": "code",
      "execution_count": null,
      "id": "33b16352",
      "metadata": {
        "id": "33b16352"
      },
      "outputs": [],
      "source": [
        "import numpy as np"
      ]
    },
    {
      "cell_type": "code",
      "execution_count": null,
      "id": "c36f6f2d",
      "metadata": {
        "id": "c36f6f2d",
        "outputId": "49be739d-a96d-437d-ddb4-eb61d45ea699"
      },
      "outputs": [
        {
          "data": {
            "text/plain": [
              "array([0, 1, 2, 3, 4, 5, 6, 7, 8, 9])"
            ]
          },
          "execution_count": 8,
          "metadata": {},
          "output_type": "execute_result"
        }
      ],
      "source": [
        "np.arange(0,10)"
      ]
    },
    {
      "cell_type": "code",
      "execution_count": null,
      "id": "f9a82358",
      "metadata": {
        "id": "f9a82358",
        "outputId": "ba23fa97-abcb-439e-a8bc-eaf53a3d89bd"
      },
      "outputs": [
        {
          "data": {
            "text/plain": [
              "array([[ 1,  2,  3,  4],\n",
              "       [ 5,  6,  7,  8],\n",
              "       [ 9, 10, 11, 12]])"
            ]
          },
          "execution_count": 10,
          "metadata": {},
          "output_type": "execute_result"
        }
      ],
      "source": [
        "a = np.array([[1,2,3,4],[5,6,7,8],[9,10,11,12]])\n",
        "a"
      ]
    },
    {
      "cell_type": "code",
      "execution_count": null,
      "id": "56b751a9",
      "metadata": {
        "id": "56b751a9",
        "outputId": "c3703593-a3ea-4513-f9e9-bd14322e8139"
      },
      "outputs": [
        {
          "data": {
            "text/plain": [
              "array([ 9, 10, 11, 12])"
            ]
          },
          "execution_count": 12,
          "metadata": {},
          "output_type": "execute_result"
        }
      ],
      "source": [
        "a[2]"
      ]
    },
    {
      "cell_type": "code",
      "execution_count": null,
      "id": "bf222dfd",
      "metadata": {
        "id": "bf222dfd",
        "outputId": "2eecf8c8-b1b0-40fb-e6e3-7b198b7fd6f0"
      },
      "outputs": [
        {
          "data": {
            "text/plain": [
              "array([[0, 0, 0],\n",
              "       [1, 1, 1]])"
            ]
          },
          "execution_count": 13,
          "metadata": {},
          "output_type": "execute_result"
        }
      ],
      "source": [
        " np.array([[0,0,0],\n",
        " [1,1,1]])"
      ]
    },
    {
      "cell_type": "code",
      "execution_count": null,
      "id": "b9bbbd8b",
      "metadata": {
        "id": "b9bbbd8b",
        "outputId": "8c7ceb11-d02d-49f5-8ddb-8b4257d34419"
      },
      "outputs": [
        {
          "data": {
            "text/plain": [
              "array([0., 0., 0., 0., 0., 0.])"
            ]
          },
          "execution_count": 15,
          "metadata": {},
          "output_type": "execute_result"
        }
      ],
      "source": [
        "np.zeros(6)"
      ]
    },
    {
      "cell_type": "code",
      "execution_count": null,
      "id": "b0a32202",
      "metadata": {
        "id": "b0a32202",
        "outputId": "f4cdd0df-df54-4d54-9e4a-39bacb0551ab"
      },
      "outputs": [
        {
          "data": {
            "text/plain": [
              "array([1., 1., 1., 1., 1., 1.])"
            ]
          },
          "execution_count": 16,
          "metadata": {},
          "output_type": "execute_result"
        }
      ],
      "source": [
        "np.ones(6)"
      ]
    },
    {
      "cell_type": "code",
      "execution_count": null,
      "id": "d9a43d93",
      "metadata": {
        "id": "d9a43d93",
        "outputId": "68a7f776-26cf-4a56-8e18-b4b471c44ad0"
      },
      "outputs": [
        {
          "data": {
            "text/plain": [
              "array([1., 1., 1., 1., 1., 1.])"
            ]
          },
          "execution_count": 17,
          "metadata": {},
          "output_type": "execute_result"
        }
      ],
      "source": [
        "np.empty(6)"
      ]
    },
    {
      "cell_type": "code",
      "execution_count": null,
      "id": "bd963ab8",
      "metadata": {
        "id": "bd963ab8",
        "outputId": "43a7f3ee-257c-4ef4-ff76-8c103fa91b9d"
      },
      "outputs": [
        {
          "data": {
            "text/plain": [
              "array([0, 2, 4, 6, 8])"
            ]
          },
          "execution_count": 21,
          "metadata": {},
          "output_type": "execute_result"
        }
      ],
      "source": [
        "np.arange(0,10,2)"
      ]
    },
    {
      "cell_type": "code",
      "execution_count": null,
      "id": "62c41aed",
      "metadata": {
        "id": "62c41aed",
        "outputId": "d72cf145-4cc8-4d38-8b3b-f6c7e0efc91d"
      },
      "outputs": [
        {
          "data": {
            "text/plain": [
              "array([ 2,  7, 12, 17, 22, 27])"
            ]
          },
          "execution_count": 19,
          "metadata": {},
          "output_type": "execute_result"
        }
      ],
      "source": [
        "np.arange(2,29,5)"
      ]
    },
    {
      "cell_type": "code",
      "execution_count": null,
      "id": "10acfc94",
      "metadata": {
        "id": "10acfc94",
        "outputId": "a65b6b80-4b1b-4919-b186-17250fefd63a"
      },
      "outputs": [
        {
          "data": {
            "text/plain": [
              "array([ -2,  -7, -12, -17, -22, -27, -32, -37, -42, -47, -52, -57, -62,\n",
              "       -67, -72, -77, -82, -87, -92, -97])"
            ]
          },
          "execution_count": 24,
          "metadata": {},
          "output_type": "execute_result"
        }
      ],
      "source": [
        "np.arange(-2,-100,-5)"
      ]
    },
    {
      "cell_type": "code",
      "execution_count": null,
      "id": "7454e10f",
      "metadata": {
        "id": "7454e10f",
        "outputId": "bf042691-aa72-442c-ca96-ccf579268528"
      },
      "outputs": [
        {
          "data": {
            "text/plain": [
              "array([1, 2, 3, 4, 5, 6, 7, 8])"
            ]
          },
          "execution_count": 26,
          "metadata": {},
          "output_type": "execute_result"
        }
      ],
      "source": [
        "arr = np.array([1,2,3,4,5,6,7,8])\n",
        "arr"
      ]
    },
    {
      "cell_type": "code",
      "execution_count": null,
      "id": "da1cfa07",
      "metadata": {
        "id": "da1cfa07",
        "outputId": "3c784742-5ec0-4730-b634-a047f241593c"
      },
      "outputs": [
        {
          "data": {
            "text/plain": [
              "array([1, 2, 3, 4, 5, 6, 7, 8, 1, 2])"
            ]
          },
          "execution_count": 27,
          "metadata": {},
          "output_type": "execute_result"
        }
      ],
      "source": [
        "np.append(arr, [1,2])"
      ]
    },
    {
      "cell_type": "code",
      "execution_count": null,
      "id": "909b0873",
      "metadata": {
        "id": "909b0873"
      },
      "outputs": [],
      "source": [
        "x = [1,2]\n",
        "x.append([10,11])"
      ]
    },
    {
      "cell_type": "code",
      "execution_count": null,
      "id": "7a702caa",
      "metadata": {
        "id": "7a702caa",
        "outputId": "2245c78f-20ac-4ef3-c462-e7d13aad1609"
      },
      "outputs": [
        {
          "data": {
            "text/plain": [
              "[1, 2, [10, 11]]"
            ]
          },
          "execution_count": 30,
          "metadata": {},
          "output_type": "execute_result"
        }
      ],
      "source": [
        "x"
      ]
    },
    {
      "cell_type": "code",
      "execution_count": null,
      "id": "46c07c4b",
      "metadata": {
        "id": "46c07c4b",
        "outputId": "9d78b2c8-8a8a-4fe5-b3e1-938ced010d76"
      },
      "outputs": [
        {
          "data": {
            "text/plain": [
              "array([1, 3, 4, 5, 6, 7, 8])"
            ]
          },
          "execution_count": 31,
          "metadata": {},
          "output_type": "execute_result"
        }
      ],
      "source": [
        "np.delete(arr, 1)"
      ]
    },
    {
      "cell_type": "code",
      "execution_count": null,
      "id": "0285acd1",
      "metadata": {
        "id": "0285acd1",
        "outputId": "d4608303-9455-426b-b851-cda25c5933e3"
      },
      "outputs": [
        {
          "data": {
            "text/plain": [
              "array([1, 2, 3, 4, 5, 6, 7, 8])"
            ]
          },
          "execution_count": 33,
          "metadata": {},
          "output_type": "execute_result"
        }
      ],
      "source": [
        "arr = np.array([1,2,3,4,5,6,7,8])\n",
        "arr"
      ]
    },
    {
      "cell_type": "code",
      "execution_count": null,
      "id": "80c108ee",
      "metadata": {
        "id": "80c108ee",
        "outputId": "4904b6df-2d58-4f39-fe60-1769c1443342"
      },
      "outputs": [
        {
          "data": {
            "text/plain": [
              "array([1, 2, 3, 4, 5, 6, 7, 8])"
            ]
          },
          "execution_count": 34,
          "metadata": {},
          "output_type": "execute_result"
        }
      ],
      "source": [
        "np.sort(arr)"
      ]
    },
    {
      "cell_type": "code",
      "execution_count": null,
      "id": "6d941e5b",
      "metadata": {
        "id": "6d941e5b",
        "outputId": "b09801fe-d1fb-4ea6-bed4-fd4fdfcd40d3"
      },
      "outputs": [
        {
          "data": {
            "text/plain": [
              "array([[2, 1, 3, 4, 5, 6, 7, 8],\n",
              "       [3, 4, 5, 1, 2, 6, 7, 8]])"
            ]
          },
          "execution_count": 36,
          "metadata": {},
          "output_type": "execute_result"
        }
      ],
      "source": [
        "arr = np.array([[2,1,3,4,5,6,7,8], [3,4,5,1,2,6,7,8]])\n",
        "arr"
      ]
    },
    {
      "cell_type": "code",
      "execution_count": null,
      "id": "3f955887",
      "metadata": {
        "id": "3f955887",
        "outputId": "1403dd46-a418-40a5-e9e5-87e4ca089e78"
      },
      "outputs": [
        {
          "data": {
            "text/plain": [
              "array([[1, 2, 3, 4, 5, 6, 7, 8],\n",
              "       [1, 2, 3, 4, 5, 6, 7, 8]])"
            ]
          },
          "execution_count": 37,
          "metadata": {},
          "output_type": "execute_result"
        }
      ],
      "source": [
        "np.sort(arr)"
      ]
    },
    {
      "cell_type": "code",
      "execution_count": null,
      "id": "e4c0f6c7",
      "metadata": {
        "id": "e4c0f6c7",
        "outputId": "abbb6c80-b670-4cbd-a212-f372109c269d"
      },
      "outputs": [
        {
          "data": {
            "text/plain": [
              "2"
            ]
          },
          "execution_count": 38,
          "metadata": {},
          "output_type": "execute_result"
        }
      ],
      "source": [
        "arr.ndim"
      ]
    },
    {
      "cell_type": "code",
      "execution_count": null,
      "id": "ab9af08e",
      "metadata": {
        "id": "ab9af08e",
        "outputId": "d3204e3a-20a3-42f8-c9d5-b7f9a2e28fb5"
      },
      "outputs": [
        {
          "data": {
            "text/plain": [
              "16"
            ]
          },
          "execution_count": 39,
          "metadata": {},
          "output_type": "execute_result"
        }
      ],
      "source": [
        "arr.size"
      ]
    },
    {
      "cell_type": "code",
      "execution_count": null,
      "id": "3ce6dd08",
      "metadata": {
        "id": "3ce6dd08",
        "outputId": "4e6a178b-0f9d-4946-eda5-5df1a84e98a7"
      },
      "outputs": [
        {
          "data": {
            "text/plain": [
              "(2, 8)"
            ]
          },
          "execution_count": 40,
          "metadata": {},
          "output_type": "execute_result"
        }
      ],
      "source": [
        "arr.shape"
      ]
    },
    {
      "cell_type": "code",
      "execution_count": null,
      "id": "9715b038",
      "metadata": {
        "id": "9715b038",
        "outputId": "424113b0-34ba-41aa-9a2d-782bbba814fc"
      },
      "outputs": [
        {
          "data": {
            "text/plain": [
              "array([[[0, 1, 2, 3],\n",
              "        [4, 5, 6, 7]],\n",
              "\n",
              "       [[0, 1, 2, 3],\n",
              "        [4, 5, 6, 7]],\n",
              "\n",
              "       [[0, 1, 2, 3],\n",
              "        [4, 5, 6, 7]]])"
            ]
          },
          "execution_count": 44,
          "metadata": {},
          "output_type": "execute_result"
        }
      ],
      "source": [
        "np.array([[[0,1,2,3],\n",
        "          [4,5,6,7]],\n",
        "          \n",
        "          [[0,1,2,3],\n",
        "           [4,5,6,7]],\n",
        "           \n",
        "          [[0,1,2,3],\n",
        "           [4,5,6,7]]])"
      ]
    },
    {
      "cell_type": "code",
      "execution_count": null,
      "id": "6e1c8a7c",
      "metadata": {
        "id": "6e1c8a7c",
        "outputId": "db05476c-3e9f-45af-c338-f0c7ea8a76a4"
      },
      "outputs": [
        {
          "data": {
            "text/plain": [
              "2"
            ]
          },
          "execution_count": 45,
          "metadata": {},
          "output_type": "execute_result"
        }
      ],
      "source": [
        "arr.ndim"
      ]
    },
    {
      "cell_type": "code",
      "execution_count": null,
      "id": "e0154dd4",
      "metadata": {
        "id": "e0154dd4",
        "outputId": "920d4825-eac8-43d2-a582-7650fa5a65e2"
      },
      "outputs": [
        {
          "data": {
            "text/plain": [
              "16"
            ]
          },
          "execution_count": 46,
          "metadata": {},
          "output_type": "execute_result"
        }
      ],
      "source": [
        "arr.size"
      ]
    },
    {
      "cell_type": "code",
      "execution_count": null,
      "id": "4d04d55a",
      "metadata": {
        "id": "4d04d55a",
        "outputId": "fb6b9ed4-1190-4937-c839-caebf9ec506b"
      },
      "outputs": [
        {
          "data": {
            "text/plain": [
              "(2, 8)"
            ]
          },
          "execution_count": 47,
          "metadata": {},
          "output_type": "execute_result"
        }
      ],
      "source": [
        "arr.shape"
      ]
    },
    {
      "cell_type": "code",
      "execution_count": null,
      "id": "c7bc2de7",
      "metadata": {
        "id": "c7bc2de7",
        "outputId": "d3f6c41c-033e-46b0-8b30-088abbfa99b6"
      },
      "outputs": [
        {
          "data": {
            "text/plain": [
              "array([0, 1, 2, 3, 4, 5])"
            ]
          },
          "execution_count": 49,
          "metadata": {},
          "output_type": "execute_result"
        }
      ],
      "source": [
        " a = np.arange(6)\n",
        "a"
      ]
    },
    {
      "cell_type": "code",
      "execution_count": null,
      "id": "9e3a5a8f",
      "metadata": {
        "id": "9e3a5a8f",
        "outputId": "5472a6db-2ce7-4f43-992f-ab0bbfd7f824"
      },
      "outputs": [
        {
          "data": {
            "text/plain": [
              "array([[0],\n",
              "       [1],\n",
              "       [2],\n",
              "       [3],\n",
              "       [4],\n",
              "       [5]])"
            ]
          },
          "execution_count": 51,
          "metadata": {},
          "output_type": "execute_result"
        }
      ],
      "source": [
        "a.reshape(6,1)"
      ]
    },
    {
      "cell_type": "markdown",
      "id": "d150aae2",
      "metadata": {
        "id": "d150aae2"
      },
      "source": [
        "# Convert 1D to 2D"
      ]
    },
    {
      "cell_type": "code",
      "execution_count": null,
      "id": "6e576495",
      "metadata": {
        "id": "6e576495",
        "outputId": "30a6d8c4-f714-4119-c5d0-cd7497e07724"
      },
      "outputs": [
        {
          "data": {
            "text/plain": [
              "(6,)"
            ]
          },
          "execution_count": 52,
          "metadata": {},
          "output_type": "execute_result"
        }
      ],
      "source": [
        "a = np.array([1,2,3,4,5,6])\n",
        "a.shape"
      ]
    },
    {
      "cell_type": "code",
      "execution_count": null,
      "id": "97594e34",
      "metadata": {
        "id": "97594e34",
        "outputId": "1e05a3e5-1b8c-4bac-e25d-5d8172e4bef9"
      },
      "outputs": [
        {
          "data": {
            "text/plain": [
              "(1, 6)"
            ]
          },
          "execution_count": 54,
          "metadata": {},
          "output_type": "execute_result"
        }
      ],
      "source": [
        "a2 = a[np.newaxis]\n",
        "a2.shape"
      ]
    },
    {
      "cell_type": "code",
      "execution_count": null,
      "id": "846a1d4e",
      "metadata": {
        "id": "846a1d4e",
        "outputId": "ef54bb28-690b-4fcc-c143-37e958c4000a"
      },
      "outputs": [
        {
          "data": {
            "text/plain": [
              "array([[1, 2, 3, 4, 5, 6]])"
            ]
          },
          "execution_count": 55,
          "metadata": {},
          "output_type": "execute_result"
        }
      ],
      "source": [
        "a2"
      ]
    },
    {
      "cell_type": "code",
      "execution_count": null,
      "id": "8db5a78f",
      "metadata": {
        "id": "8db5a78f",
        "outputId": "e7942d37-ca26-416f-f181-0dd073a64a9f"
      },
      "outputs": [
        {
          "data": {
            "text/plain": [
              "(1, 6)"
            ]
          },
          "execution_count": 57,
          "metadata": {},
          "output_type": "execute_result"
        }
      ],
      "source": [
        "row_vector = a[np.newaxis, :]\n",
        "row_vector.shape"
      ]
    },
    {
      "cell_type": "code",
      "execution_count": null,
      "id": "e7339366",
      "metadata": {
        "id": "e7339366",
        "outputId": "1b2d0c87-7913-4b1d-b174-bcf644e0c88d"
      },
      "outputs": [
        {
          "data": {
            "text/plain": [
              "array([[1, 2, 3, 4, 5, 6]])"
            ]
          },
          "execution_count": 58,
          "metadata": {},
          "output_type": "execute_result"
        }
      ],
      "source": [
        "row_vector"
      ]
    },
    {
      "cell_type": "code",
      "execution_count": null,
      "id": "c3fb1bb1",
      "metadata": {
        "id": "c3fb1bb1",
        "outputId": "e8a764d0-c8c0-437e-a56c-480549ea6bc7"
      },
      "outputs": [
        {
          "data": {
            "text/plain": [
              "(6, 1)"
            ]
          },
          "execution_count": 60,
          "metadata": {},
          "output_type": "execute_result"
        }
      ],
      "source": [
        "col_vector = a[:, np.newaxis]\n",
        "col_vector.shape"
      ]
    },
    {
      "cell_type": "code",
      "execution_count": null,
      "id": "1acd8cc1",
      "metadata": {
        "id": "1acd8cc1",
        "outputId": "d581dc67-102c-4f6f-d402-677dd69bb513"
      },
      "outputs": [
        {
          "data": {
            "text/plain": [
              "array([[1],\n",
              "       [2],\n",
              "       [3],\n",
              "       [4],\n",
              "       [5],\n",
              "       [6]])"
            ]
          },
          "execution_count": 61,
          "metadata": {},
          "output_type": "execute_result"
        }
      ],
      "source": [
        "col_vector"
      ]
    },
    {
      "cell_type": "code",
      "execution_count": null,
      "id": "ee521193",
      "metadata": {
        "id": "ee521193",
        "outputId": "091862cc-1538-4b95-94f0-0218bea1236e"
      },
      "outputs": [
        {
          "data": {
            "text/plain": [
              "(6,)"
            ]
          },
          "execution_count": 62,
          "metadata": {},
          "output_type": "execute_result"
        }
      ],
      "source": [
        "a = np.array([1,2,3,4,5,6])\n",
        "a.shape"
      ]
    },
    {
      "cell_type": "code",
      "execution_count": null,
      "id": "8b241648",
      "metadata": {
        "id": "8b241648"
      },
      "outputs": [],
      "source": [
        "b = np.expand_dims(a, axis=1)"
      ]
    },
    {
      "cell_type": "code",
      "execution_count": null,
      "id": "383a2b6a",
      "metadata": {
        "id": "383a2b6a",
        "outputId": "76cb7684-1257-4615-a1c1-ac3a74fafdf7"
      },
      "outputs": [
        {
          "data": {
            "text/plain": [
              "array([[1],\n",
              "       [2],\n",
              "       [3],\n",
              "       [4],\n",
              "       [5],\n",
              "       [6]])"
            ]
          },
          "execution_count": 65,
          "metadata": {},
          "output_type": "execute_result"
        }
      ],
      "source": [
        "b"
      ]
    },
    {
      "cell_type": "code",
      "execution_count": null,
      "id": "d63226a1",
      "metadata": {
        "id": "d63226a1",
        "outputId": "e861e7f3-ed14-4bbd-8004-3f1f2712e729"
      },
      "outputs": [
        {
          "data": {
            "text/plain": [
              "(1, 6)"
            ]
          },
          "execution_count": 67,
          "metadata": {},
          "output_type": "execute_result"
        }
      ],
      "source": [
        "c = np.expand_dims(a, axis=0)\n",
        "c.shape"
      ]
    },
    {
      "cell_type": "code",
      "execution_count": null,
      "id": "1e1222c1",
      "metadata": {
        "id": "1e1222c1",
        "outputId": "ff75bcd7-75c9-4024-c5a7-79a9647970aa"
      },
      "outputs": [
        {
          "data": {
            "text/plain": [
              "array([[1, 2, 3, 4, 5, 6]])"
            ]
          },
          "execution_count": 68,
          "metadata": {},
          "output_type": "execute_result"
        }
      ],
      "source": [
        "c"
      ]
    },
    {
      "cell_type": "markdown",
      "id": "baeb868b",
      "metadata": {
        "id": "baeb868b"
      },
      "source": [
        "# Indexing and Slicing"
      ]
    },
    {
      "cell_type": "code",
      "execution_count": null,
      "id": "ea26e44c",
      "metadata": {
        "id": "ea26e44c",
        "outputId": "cd1b903c-ba3a-4668-9014-72b1d6d07459"
      },
      "outputs": [
        {
          "data": {
            "text/plain": [
              "array([1, 2, 3])"
            ]
          },
          "execution_count": 70,
          "metadata": {},
          "output_type": "execute_result"
        }
      ],
      "source": [
        "data = np.array([1,2,3,])\n",
        "data"
      ]
    },
    {
      "cell_type": "code",
      "execution_count": null,
      "id": "47faf269",
      "metadata": {
        "id": "47faf269",
        "outputId": "27cc8c11-1f5d-405e-f7b5-a59a37124129"
      },
      "outputs": [
        {
          "data": {
            "text/plain": [
              "1"
            ]
          },
          "execution_count": 71,
          "metadata": {},
          "output_type": "execute_result"
        }
      ],
      "source": [
        "data[0]"
      ]
    },
    {
      "cell_type": "code",
      "execution_count": null,
      "id": "eec489d0",
      "metadata": {
        "id": "eec489d0",
        "outputId": "086332ff-9574-4e11-b406-617dc664dc05"
      },
      "outputs": [
        {
          "data": {
            "text/plain": [
              "2"
            ]
          },
          "execution_count": 72,
          "metadata": {},
          "output_type": "execute_result"
        }
      ],
      "source": [
        "data[1]"
      ]
    },
    {
      "cell_type": "code",
      "execution_count": null,
      "id": "b1379f7f",
      "metadata": {
        "id": "b1379f7f",
        "outputId": "8592c29a-2fde-4193-8239-7f1f13c126ac"
      },
      "outputs": [
        {
          "data": {
            "text/plain": [
              "array([1, 2])"
            ]
          },
          "execution_count": 75,
          "metadata": {},
          "output_type": "execute_result"
        }
      ],
      "source": [
        "data[0:2]"
      ]
    },
    {
      "cell_type": "code",
      "execution_count": null,
      "id": "cbea587d",
      "metadata": {
        "id": "cbea587d",
        "outputId": "97f69e8a-0b5a-43f4-ef0b-7a82c3a6af15"
      },
      "outputs": [
        {
          "data": {
            "text/plain": [
              "array([2, 3])"
            ]
          },
          "execution_count": 76,
          "metadata": {},
          "output_type": "execute_result"
        }
      ],
      "source": [
        "data[1:]"
      ]
    },
    {
      "cell_type": "code",
      "execution_count": null,
      "id": "95901c48",
      "metadata": {
        "id": "95901c48",
        "outputId": "38e0fcd4-52d3-4672-a107-d16c247a1fd1"
      },
      "outputs": [
        {
          "data": {
            "text/plain": [
              "array([2, 3])"
            ]
          },
          "execution_count": 77,
          "metadata": {},
          "output_type": "execute_result"
        }
      ],
      "source": [
        "data[-2:]"
      ]
    },
    {
      "cell_type": "code",
      "execution_count": null,
      "id": "f2e9fe86",
      "metadata": {
        "id": "f2e9fe86"
      },
      "outputs": [],
      "source": [
        "a = np.array([[ 1,  2,  3,  4], [ 5,  6,  7,  8], [ 9, 10, 11, 12]])"
      ]
    },
    {
      "cell_type": "code",
      "execution_count": null,
      "id": "821a2274",
      "metadata": {
        "id": "821a2274"
      },
      "outputs": [],
      "source": []
    },
    {
      "cell_type": "code",
      "execution_count": null,
      "id": "9bd8a23a",
      "metadata": {
        "id": "9bd8a23a"
      },
      "outputs": [],
      "source": []
    },
    {
      "cell_type": "markdown",
      "id": "571f0120",
      "metadata": {
        "id": "571f0120"
      },
      "source": [
        "# Creating array from existing data"
      ]
    },
    {
      "cell_type": "code",
      "execution_count": null,
      "id": "32a8b384",
      "metadata": {
        "id": "32a8b384",
        "outputId": "fd825341-758c-40c2-e35e-efd7cdc00aa3"
      },
      "outputs": [
        {
          "data": {
            "text/plain": [
              "array([ 1,  2,  3,  4,  5,  6,  7,  8,  9, 10])"
            ]
          },
          "execution_count": 82,
          "metadata": {},
          "output_type": "execute_result"
        }
      ],
      "source": [
        "arr = np.array([1,2,3,4,5,6,7,8,9,10])\n",
        "arr"
      ]
    },
    {
      "cell_type": "code",
      "execution_count": null,
      "id": "3f1906df",
      "metadata": {
        "id": "3f1906df",
        "outputId": "287c104d-6554-4da4-d63a-4d75a5d45839"
      },
      "outputs": [
        {
          "data": {
            "text/plain": [
              "array([4, 5, 6, 7, 8])"
            ]
          },
          "execution_count": 84,
          "metadata": {},
          "output_type": "execute_result"
        }
      ],
      "source": [
        "arr1 = arr[3:8]\n",
        "arr1"
      ]
    },
    {
      "cell_type": "code",
      "execution_count": null,
      "id": "c0c62de5",
      "metadata": {
        "id": "c0c62de5"
      },
      "outputs": [],
      "source": [
        "a_1 = np.array([[1,2], [2,2]])\n",
        "a_2 = np.array([[3,3], [4,6]])"
      ]
    },
    {
      "cell_type": "code",
      "execution_count": null,
      "id": "0e94ff88",
      "metadata": {
        "id": "0e94ff88",
        "outputId": "6080898f-f96e-432d-e0aa-f7e84a242ba1"
      },
      "outputs": [
        {
          "data": {
            "text/plain": [
              "array([[1, 2],\n",
              "       [2, 2]])"
            ]
          },
          "execution_count": 87,
          "metadata": {},
          "output_type": "execute_result"
        }
      ],
      "source": [
        "a_1"
      ]
    },
    {
      "cell_type": "code",
      "execution_count": null,
      "id": "5a6dae32",
      "metadata": {
        "id": "5a6dae32",
        "outputId": "ab4bb4b8-7570-40b9-db8f-648cb3cda0d5"
      },
      "outputs": [
        {
          "data": {
            "text/plain": [
              "array([[3, 3],\n",
              "       [4, 6]])"
            ]
          },
          "execution_count": 88,
          "metadata": {},
          "output_type": "execute_result"
        }
      ],
      "source": [
        "a_2"
      ]
    },
    {
      "cell_type": "code",
      "execution_count": null,
      "id": "6bd786fb",
      "metadata": {
        "id": "6bd786fb",
        "outputId": "6c332292-a5f8-4e5c-a2ed-a9453c310b17"
      },
      "outputs": [
        {
          "data": {
            "text/plain": [
              "array([[1, 2, 3, 3],\n",
              "       [2, 2, 4, 6]])"
            ]
          },
          "execution_count": 92,
          "metadata": {},
          "output_type": "execute_result"
        }
      ],
      "source": [
        "np.hstack((a_1, a_2))"
      ]
    },
    {
      "cell_type": "code",
      "execution_count": null,
      "id": "aaa6e8f7",
      "metadata": {
        "id": "aaa6e8f7",
        "outputId": "39b9c685-e7e7-48b4-d9b7-5cd0d52ca2cd"
      },
      "outputs": [
        {
          "data": {
            "text/plain": [
              "array([[ 1,  2,  3,  4,  5,  6,  7,  8,  9, 10, 11, 12],\n",
              "       [13, 14, 15, 16, 17, 18, 19, 20, 21, 22, 23, 24]])"
            ]
          },
          "execution_count": 95,
          "metadata": {},
          "output_type": "execute_result"
        }
      ],
      "source": [
        "arrsplit = np.array([[1,2,3,4,5,6,7,8,9,10,11,12],\n",
        "                   [13,14,15,16,17,18,19,20,21,22,23,24]])\n",
        "arrsplit"
      ]
    },
    {
      "cell_type": "code",
      "execution_count": null,
      "id": "e341d203",
      "metadata": {
        "id": "e341d203",
        "outputId": "500c3884-889e-40af-90a5-06a73c82d4b6"
      },
      "outputs": [
        {
          "data": {
            "text/plain": [
              "[array([[ 1,  2,  3,  4],\n",
              "        [13, 14, 15, 16]]),\n",
              " array([[ 5,  6,  7,  8],\n",
              "        [17, 18, 19, 20]]),\n",
              " array([[ 9, 10, 11, 12],\n",
              "        [21, 22, 23, 24]])]"
            ]
          },
          "execution_count": 96,
          "metadata": {},
          "output_type": "execute_result"
        }
      ],
      "source": [
        "np.hsplit(arrsplit, 3)"
      ]
    },
    {
      "cell_type": "code",
      "execution_count": null,
      "id": "c754ade8",
      "metadata": {
        "id": "c754ade8",
        "outputId": "8877e19e-23b9-4463-fb33-4a9dffd4e963"
      },
      "outputs": [
        {
          "data": {
            "text/plain": [
              "array([[ 1,  2,  3,  4],\n",
              "       [ 5,  6,  7,  8],\n",
              "       [ 9, 10, 11, 12]])"
            ]
          },
          "execution_count": 98,
          "metadata": {},
          "output_type": "execute_result"
        }
      ],
      "source": [
        "a = np.array([[1,2,3,4], [5,6,7,8], [9,10,11,12]])\n",
        "a"
      ]
    },
    {
      "cell_type": "code",
      "execution_count": null,
      "id": "e110e1b0",
      "metadata": {
        "id": "e110e1b0",
        "outputId": "38aecb28-6564-410d-e904-7d2df85b73f9"
      },
      "outputs": [
        {
          "data": {
            "text/plain": [
              "array([[ 1,  2,  3,  4],\n",
              "       [ 5,  6,  7,  8],\n",
              "       [ 9, 10, 11, 12]])"
            ]
          },
          "execution_count": 99,
          "metadata": {},
          "output_type": "execute_result"
        }
      ],
      "source": [
        "b = a.view()\n",
        "b"
      ]
    },
    {
      "cell_type": "code",
      "execution_count": null,
      "id": "70746edb",
      "metadata": {
        "id": "70746edb",
        "outputId": "e289d098-a3aa-4dca-aebe-f6f458a76a1f"
      },
      "outputs": [
        {
          "data": {
            "text/plain": [
              "array([[ 1,  2,  3,  4],\n",
              "       [ 5,  6,  7,  8],\n",
              "       [ 9, 10, 11, 12]])"
            ]
          },
          "execution_count": 101,
          "metadata": {},
          "output_type": "execute_result"
        }
      ],
      "source": [
        "c = a.copy()\n",
        "c"
      ]
    },
    {
      "cell_type": "markdown",
      "id": "f0f99297",
      "metadata": {
        "id": "f0f99297"
      },
      "source": [
        "# Basic array operations"
      ]
    },
    {
      "cell_type": "code",
      "execution_count": null,
      "id": "5d422760",
      "metadata": {
        "id": "5d422760"
      },
      "outputs": [],
      "source": [
        "array_1 - array_2\n",
        "array_1 + array_2\n",
        "array_1 + array_2\n",
        "array_1 / array_2"
      ]
    },
    {
      "cell_type": "code",
      "execution_count": null,
      "id": "b91f5152",
      "metadata": {
        "id": "b91f5152",
        "outputId": "b2dc8097-ff9c-4cd9-f77e-f5d771e9016b"
      },
      "outputs": [
        {
          "data": {
            "text/plain": [
              "array([1, 2, 3, 4])"
            ]
          },
          "execution_count": 102,
          "metadata": {},
          "output_type": "execute_result"
        }
      ],
      "source": [
        "a = np.array([1,2,3,4])\n",
        "a"
      ]
    },
    {
      "cell_type": "code",
      "execution_count": null,
      "id": "ac275063",
      "metadata": {
        "id": "ac275063",
        "outputId": "fa916db3-d737-4dc1-9bc3-e1c13308be83"
      },
      "outputs": [
        {
          "data": {
            "text/plain": [
              "10"
            ]
          },
          "execution_count": 103,
          "metadata": {},
          "output_type": "execute_result"
        }
      ],
      "source": [
        "a.sum()"
      ]
    },
    {
      "cell_type": "code",
      "execution_count": null,
      "id": "fd1d52b4",
      "metadata": {
        "id": "fd1d52b4",
        "outputId": "c769b711-74c5-440e-f8f7-0c507c323a9d"
      },
      "outputs": [
        {
          "data": {
            "text/plain": [
              "array([[1, 1],\n",
              "       [2, 2]])"
            ]
          },
          "execution_count": 106,
          "metadata": {},
          "output_type": "execute_result"
        }
      ],
      "source": [
        "b = np.array([[1,1], [2,2]])\n",
        "b"
      ]
    },
    {
      "cell_type": "code",
      "execution_count": null,
      "id": "ea535abe",
      "metadata": {
        "id": "ea535abe",
        "outputId": "d3591824-5950-4365-9deb-d66819d3990c"
      },
      "outputs": [
        {
          "data": {
            "text/plain": [
              "array([2, 4])"
            ]
          },
          "execution_count": 107,
          "metadata": {},
          "output_type": "execute_result"
        }
      ],
      "source": [
        "b.sum(axis=1)"
      ]
    },
    {
      "cell_type": "code",
      "execution_count": null,
      "id": "52219bb3",
      "metadata": {
        "id": "52219bb3",
        "outputId": "00ce4d4b-85c0-4984-d2fc-f26dc947a709"
      },
      "outputs": [
        {
          "data": {
            "text/plain": [
              "array([1, 2])"
            ]
          },
          "execution_count": 109,
          "metadata": {},
          "output_type": "execute_result"
        }
      ],
      "source": [
        "data = np.array([1,2])\n",
        "data"
      ]
    },
    {
      "cell_type": "code",
      "execution_count": null,
      "id": "cfb52a67",
      "metadata": {
        "id": "cfb52a67",
        "outputId": "42f40be6-555f-4f77-f864-fb03f4630861"
      },
      "outputs": [
        {
          "data": {
            "text/plain": [
              "array([1., 1.])"
            ]
          },
          "execution_count": 110,
          "metadata": {},
          "output_type": "execute_result"
        }
      ],
      "source": [
        "ones = np.ones(2)\n",
        "ones"
      ]
    },
    {
      "cell_type": "code",
      "execution_count": null,
      "id": "97ee9594",
      "metadata": {
        "id": "97ee9594",
        "outputId": "b51c0e15-3a95-4d04-f739-c57aa321223e"
      },
      "outputs": [
        {
          "data": {
            "text/plain": [
              "array([2., 3.])"
            ]
          },
          "execution_count": 111,
          "metadata": {},
          "output_type": "execute_result"
        }
      ],
      "source": [
        "data + ones"
      ]
    },
    {
      "cell_type": "code",
      "execution_count": null,
      "id": "266d5b68",
      "metadata": {
        "id": "266d5b68",
        "outputId": "632ec9cf-d1c3-4759-caf4-071995d30cbd"
      },
      "outputs": [
        {
          "data": {
            "text/plain": [
              "array([0., 1.])"
            ]
          },
          "execution_count": 114,
          "metadata": {},
          "output_type": "execute_result"
        }
      ],
      "source": [
        "data - ones"
      ]
    },
    {
      "cell_type": "code",
      "execution_count": null,
      "id": "071d61ec",
      "metadata": {
        "id": "071d61ec",
        "outputId": "8f5277ae-6abe-4461-c7ff-692d354af7d5"
      },
      "outputs": [
        {
          "data": {
            "text/plain": [
              "array([1., 2.])"
            ]
          },
          "execution_count": 113,
          "metadata": {},
          "output_type": "execute_result"
        }
      ],
      "source": [
        "data / ones"
      ]
    },
    {
      "cell_type": "code",
      "execution_count": null,
      "id": "69c7e427",
      "metadata": {
        "id": "69c7e427"
      },
      "outputs": [],
      "source": [
        "data = ones"
      ]
    },
    {
      "cell_type": "markdown",
      "id": "cbde6d8a",
      "metadata": {
        "id": "cbde6d8a"
      },
      "source": [
        "# Broadcasting"
      ]
    },
    {
      "cell_type": "code",
      "execution_count": null,
      "id": "d79bef81",
      "metadata": {
        "id": "d79bef81"
      },
      "outputs": [],
      "source": []
    },
    {
      "cell_type": "code",
      "execution_count": null,
      "id": "a51b40d1",
      "metadata": {
        "id": "a51b40d1"
      },
      "outputs": [],
      "source": []
    },
    {
      "cell_type": "markdown",
      "id": "5b091dba",
      "metadata": {
        "id": "5b091dba"
      },
      "source": [
        "# More array operations"
      ]
    },
    {
      "cell_type": "code",
      "execution_count": null,
      "id": "b5c061c8",
      "metadata": {
        "id": "b5c061c8"
      },
      "outputs": [],
      "source": []
    },
    {
      "cell_type": "code",
      "execution_count": null,
      "id": "69df87c1",
      "metadata": {
        "id": "69df87c1"
      },
      "outputs": [],
      "source": []
    },
    {
      "cell_type": "markdown",
      "id": "2482e399",
      "metadata": {
        "id": "2482e399"
      },
      "source": [
        "# Matrices"
      ]
    },
    {
      "cell_type": "code",
      "execution_count": null,
      "id": "34988841",
      "metadata": {
        "id": "34988841"
      },
      "outputs": [],
      "source": [
        "np.array"
      ]
    },
    {
      "cell_type": "code",
      "execution_count": null,
      "id": "24adbe46",
      "metadata": {
        "id": "24adbe46"
      },
      "outputs": [],
      "source": []
    },
    {
      "cell_type": "code",
      "execution_count": null,
      "id": "6b078e74",
      "metadata": {
        "id": "6b078e74"
      },
      "outputs": [],
      "source": []
    },
    {
      "cell_type": "code",
      "execution_count": null,
      "id": "d1be228f",
      "metadata": {
        "id": "d1be228f"
      },
      "outputs": [],
      "source": []
    },
    {
      "cell_type": "code",
      "execution_count": null,
      "id": "47eb89ac",
      "metadata": {
        "id": "47eb89ac"
      },
      "outputs": [],
      "source": []
    },
    {
      "cell_type": "markdown",
      "id": "24cae93a",
      "metadata": {
        "id": "24cae93a"
      },
      "source": [
        "# Creating Matrices"
      ]
    },
    {
      "cell_type": "code",
      "execution_count": null,
      "id": "eaec6856",
      "metadata": {
        "id": "eaec6856"
      },
      "outputs": [],
      "source": []
    },
    {
      "cell_type": "code",
      "execution_count": null,
      "id": "f719ac83",
      "metadata": {
        "id": "f719ac83"
      },
      "outputs": [],
      "source": []
    },
    {
      "cell_type": "markdown",
      "id": "61a2f953",
      "metadata": {
        "id": "61a2f953"
      },
      "source": [
        "# Dot Product"
      ]
    },
    {
      "cell_type": "code",
      "execution_count": null,
      "id": "c78d8b87",
      "metadata": {
        "id": "c78d8b87",
        "outputId": "39e3a3f4-7173-4b9a-bf30-64edf20d279f"
      },
      "outputs": [
        {
          "data": {
            "text/plain": [
              "(2, 3)"
            ]
          },
          "execution_count": 116,
          "metadata": {},
          "output_type": "execute_result"
        }
      ],
      "source": [
        "a_1 = np.array([[1,2,3], [4,5,6]])\n",
        "a_1.shape"
      ]
    },
    {
      "cell_type": "code",
      "execution_count": null,
      "id": "57f3d24c",
      "metadata": {
        "id": "57f3d24c",
        "outputId": "af4e1502-fbb7-419f-fa5f-4fe1c11893dc"
      },
      "outputs": [
        {
          "data": {
            "text/plain": [
              "(3, 2)"
            ]
          },
          "execution_count": 117,
          "metadata": {},
          "output_type": "execute_result"
        }
      ],
      "source": [
        "a_2 = np.array([[7,8], [9,10], [11,12]])\n",
        "a_2.shape"
      ]
    },
    {
      "cell_type": "code",
      "execution_count": null,
      "id": "5fef01cf",
      "metadata": {
        "id": "5fef01cf",
        "outputId": "b1d181c3-b465-4d40-88b4-2628f97001b8"
      },
      "outputs": [
        {
          "data": {
            "text/plain": [
              "array([[ 58,  64],\n",
              "       [139, 154]])"
            ]
          },
          "execution_count": 118,
          "metadata": {},
          "output_type": "execute_result"
        }
      ],
      "source": [
        "np.dot(a_1, a_2)"
      ]
    },
    {
      "cell_type": "code",
      "execution_count": null,
      "id": "f8cce873",
      "metadata": {
        "id": "f8cce873"
      },
      "outputs": [],
      "source": []
    },
    {
      "cell_type": "code",
      "execution_count": null,
      "id": "9bc8245e",
      "metadata": {
        "id": "9bc8245e"
      },
      "outputs": [],
      "source": []
    },
    {
      "cell_type": "code",
      "execution_count": null,
      "id": "cf9bf1a9",
      "metadata": {
        "id": "cf9bf1a9"
      },
      "outputs": [],
      "source": []
    },
    {
      "cell_type": "markdown",
      "id": "25b45242",
      "metadata": {
        "id": "25b45242"
      },
      "source": [
        "# Matrix indexing"
      ]
    },
    {
      "cell_type": "code",
      "execution_count": null,
      "id": "6c484562",
      "metadata": {
        "id": "6c484562",
        "outputId": "70bf5d14-4379-4644-da91-83f698dc541d"
      },
      "outputs": [
        {
          "data": {
            "text/plain": [
              "array([[1, 2],\n",
              "       [3, 4],\n",
              "       [5, 6]])"
            ]
          },
          "execution_count": 119,
          "metadata": {},
          "output_type": "execute_result"
        }
      ],
      "source": [
        "data = np.array([[1,2], [3,4], [5,6]])\n",
        "data"
      ]
    },
    {
      "cell_type": "code",
      "execution_count": null,
      "id": "47a2744e",
      "metadata": {
        "id": "47a2744e",
        "outputId": "70eaaddb-93fb-4a42-bcc3-37614b7fb5e7"
      },
      "outputs": [
        {
          "data": {
            "text/plain": [
              "2"
            ]
          },
          "execution_count": 121,
          "metadata": {},
          "output_type": "execute_result"
        }
      ],
      "source": [
        "data[0,1]"
      ]
    },
    {
      "cell_type": "code",
      "execution_count": null,
      "id": "9bb38052",
      "metadata": {
        "id": "9bb38052",
        "outputId": "c99dfda3-baa5-4b6b-f0d2-52cdd582216f"
      },
      "outputs": [
        {
          "data": {
            "text/plain": [
              "array([[3, 4],\n",
              "       [5, 6]])"
            ]
          },
          "execution_count": 122,
          "metadata": {},
          "output_type": "execute_result"
        }
      ],
      "source": [
        "data[1:3]"
      ]
    },
    {
      "cell_type": "code",
      "execution_count": null,
      "id": "b0b2cc0e",
      "metadata": {
        "id": "b0b2cc0e",
        "outputId": "12781fb1-24ed-40db-c931-861c49727c68"
      },
      "outputs": [
        {
          "data": {
            "text/plain": [
              "array([2, 4])"
            ]
          },
          "execution_count": 123,
          "metadata": {},
          "output_type": "execute_result"
        }
      ],
      "source": [
        "data[0:2, 1]"
      ]
    },
    {
      "cell_type": "markdown",
      "id": "90e1534d",
      "metadata": {
        "id": "90e1534d"
      },
      "source": [
        "# matrix aggregation"
      ]
    },
    {
      "cell_type": "code",
      "execution_count": null,
      "id": "caffc21f",
      "metadata": {
        "id": "caffc21f",
        "outputId": "1def50f9-eea0-424c-98fc-03a783582807"
      },
      "outputs": [
        {
          "data": {
            "text/plain": [
              "array([[1, 2],\n",
              "       [3, 4],\n",
              "       [5, 6]])"
            ]
          },
          "execution_count": 124,
          "metadata": {},
          "output_type": "execute_result"
        }
      ],
      "source": [
        "data"
      ]
    },
    {
      "cell_type": "code",
      "execution_count": null,
      "id": "4624b23d",
      "metadata": {
        "id": "4624b23d",
        "outputId": "b86c7f9e-fd5d-48e1-fd59-1343db8c01f7"
      },
      "outputs": [
        {
          "data": {
            "text/plain": [
              "6"
            ]
          },
          "execution_count": 125,
          "metadata": {},
          "output_type": "execute_result"
        }
      ],
      "source": [
        "data.max()"
      ]
    },
    {
      "cell_type": "code",
      "execution_count": null,
      "id": "e2ac992d",
      "metadata": {
        "id": "e2ac992d",
        "outputId": "a9b73586-e9d5-46c5-bff9-09e1249e58a7"
      },
      "outputs": [
        {
          "data": {
            "text/plain": [
              "1"
            ]
          },
          "execution_count": 126,
          "metadata": {},
          "output_type": "execute_result"
        }
      ],
      "source": [
        "data.min()"
      ]
    },
    {
      "cell_type": "code",
      "execution_count": null,
      "id": "b9ba06ff",
      "metadata": {
        "id": "b9ba06ff",
        "outputId": "599f1ab1-33c7-4c89-87f1-18666b3fcbf4"
      },
      "outputs": [
        {
          "data": {
            "text/plain": [
              "21"
            ]
          },
          "execution_count": 127,
          "metadata": {},
          "output_type": "execute_result"
        }
      ],
      "source": [
        "data.sum()"
      ]
    },
    {
      "cell_type": "code",
      "execution_count": null,
      "id": "b1c08277",
      "metadata": {
        "id": "b1c08277",
        "outputId": "7c5df379-1a79-4647-e3e4-6e08971fc1fd"
      },
      "outputs": [
        {
          "data": {
            "text/plain": [
              "1.707825127659933"
            ]
          },
          "execution_count": 128,
          "metadata": {},
          "output_type": "execute_result"
        }
      ],
      "source": [
        "data.std()"
      ]
    },
    {
      "cell_type": "code",
      "execution_count": null,
      "id": "8f2f680a",
      "metadata": {
        "id": "8f2f680a",
        "outputId": "ea50f987-949b-468e-9eec-2ee18aa09857"
      },
      "outputs": [
        {
          "data": {
            "text/plain": [
              "array([2, 4, 6])"
            ]
          },
          "execution_count": 129,
          "metadata": {},
          "output_type": "execute_result"
        }
      ],
      "source": [
        "data.max(axis=1)"
      ]
    },
    {
      "cell_type": "code",
      "execution_count": null,
      "id": "3bfca19e",
      "metadata": {
        "id": "3bfca19e"
      },
      "outputs": [],
      "source": []
    },
    {
      "cell_type": "markdown",
      "id": "e9970298",
      "metadata": {
        "id": "e9970298"
      },
      "source": [
        "# Transposing and reshaping"
      ]
    },
    {
      "cell_type": "code",
      "execution_count": null,
      "id": "23d41086",
      "metadata": {
        "id": "23d41086",
        "outputId": "6f004c4c-3265-4492-b587-d5ba5f66cfe5"
      },
      "outputs": [
        {
          "data": {
            "text/plain": [
              "array([[1, 2],\n",
              "       [3, 4],\n",
              "       [5, 6]])"
            ]
          },
          "execution_count": 130,
          "metadata": {},
          "output_type": "execute_result"
        }
      ],
      "source": [
        "data"
      ]
    },
    {
      "cell_type": "code",
      "execution_count": null,
      "id": "c79ebf03",
      "metadata": {
        "id": "c79ebf03",
        "outputId": "5ccd7c3c-68cd-459c-b3a0-6c2725b77ee1"
      },
      "outputs": [
        {
          "data": {
            "text/plain": [
              "array([[1, 3, 5],\n",
              "       [2, 4, 6]])"
            ]
          },
          "execution_count": 131,
          "metadata": {},
          "output_type": "execute_result"
        }
      ],
      "source": [
        "data.T"
      ]
    },
    {
      "cell_type": "code",
      "execution_count": null,
      "id": "5c199559",
      "metadata": {
        "id": "5c199559",
        "outputId": "392d109b-f97b-4e2d-ceb9-e688ea95f40c"
      },
      "outputs": [
        {
          "data": {
            "text/plain": [
              "array([[1, 2, 3, 4, 5, 6]])"
            ]
          },
          "execution_count": 135,
          "metadata": {},
          "output_type": "execute_result"
        }
      ],
      "source": [
        "data_col = np.array([[1,2,3,4,5,6]])\n",
        "data_col"
      ]
    },
    {
      "cell_type": "code",
      "execution_count": null,
      "id": "c728e27a",
      "metadata": {
        "id": "c728e27a",
        "outputId": "ae4711cc-3356-4978-f3b0-2c7b69e19571"
      },
      "outputs": [
        {
          "data": {
            "text/plain": [
              "array([[1, 2, 3, 4, 5, 6]])"
            ]
          },
          "execution_count": 137,
          "metadata": {},
          "output_type": "execute_result"
        }
      ],
      "source": [
        "data_col = data_col.T\n",
        "data_col"
      ]
    },
    {
      "cell_type": "code",
      "execution_count": null,
      "id": "320bd361",
      "metadata": {
        "id": "320bd361",
        "outputId": "53b86140-b775-47bd-e68c-564b712c2a05"
      },
      "outputs": [
        {
          "data": {
            "text/plain": [
              "array([[1, 2, 3],\n",
              "       [4, 5, 6]])"
            ]
          },
          "execution_count": 138,
          "metadata": {},
          "output_type": "execute_result"
        }
      ],
      "source": [
        "data_col.reshape(2,3)"
      ]
    },
    {
      "cell_type": "code",
      "execution_count": null,
      "id": "f2785169",
      "metadata": {
        "id": "f2785169",
        "outputId": "b018527b-977c-4758-d128-b88369ed7315"
      },
      "outputs": [
        {
          "data": {
            "text/plain": [
              "array([0, 1, 2, 3, 4, 5])"
            ]
          },
          "execution_count": 139,
          "metadata": {},
          "output_type": "execute_result"
        }
      ],
      "source": [
        "np.arange(6)"
      ]
    },
    {
      "cell_type": "code",
      "execution_count": null,
      "id": "cfd98751",
      "metadata": {
        "id": "cfd98751",
        "outputId": "ab2ad217-8abd-4b83-95ad-b9125a43df44"
      },
      "outputs": [
        {
          "ename": "SyntaxError",
          "evalue": "unexpected EOF while parsing (883222038.py, line 1)",
          "output_type": "error",
          "traceback": [
            "\u001b[1;36m  Input \u001b[1;32mIn [141]\u001b[1;36m\u001b[0m\n\u001b[1;33m    arr = np.arange(6).reshape((2, 3)\u001b[0m\n\u001b[1;37m                                     ^\u001b[0m\n\u001b[1;31mSyntaxError\u001b[0m\u001b[1;31m:\u001b[0m unexpected EOF while parsing\n"
          ]
        }
      ],
      "source": [
        "arr = np.arange(6).reshape((2, 3)\n",
        "                           arr"
      ]
    },
    {
      "cell_type": "code",
      "execution_count": null,
      "id": "eb543379",
      "metadata": {
        "id": "eb543379"
      },
      "outputs": [],
      "source": []
    },
    {
      "cell_type": "markdown",
      "id": "eead8102",
      "metadata": {
        "id": "eead8102"
      },
      "source": [
        "# N-dimension array"
      ]
    },
    {
      "cell_type": "code",
      "execution_count": null,
      "id": "fb0b786b",
      "metadata": {
        "id": "fb0b786b"
      },
      "outputs": [],
      "source": [
        "ndarr = np.array([[[1, 2], [3,4]]\n",
        "                  [[5, 6], [7,8]]])"
      ]
    },
    {
      "cell_type": "code",
      "execution_count": null,
      "id": "95be90b7",
      "metadata": {
        "id": "95be90b7"
      },
      "outputs": [],
      "source": []
    },
    {
      "cell_type": "code",
      "execution_count": null,
      "id": "9a697b14",
      "metadata": {
        "id": "9a697b14"
      },
      "outputs": [],
      "source": []
    },
    {
      "cell_type": "code",
      "execution_count": null,
      "id": "7008720e",
      "metadata": {
        "id": "7008720e"
      },
      "outputs": [],
      "source": []
    },
    {
      "cell_type": "markdown",
      "id": "d8fee851",
      "metadata": {
        "id": "d8fee851"
      },
      "source": [
        "# Flatten N-Dimension Array"
      ]
    },
    {
      "cell_type": "code",
      "execution_count": null,
      "id": "271b1cf5",
      "metadata": {
        "id": "271b1cf5",
        "outputId": "fa7cb5f1-727d-4908-d493-57f6c47f988f"
      },
      "outputs": [
        {
          "data": {
            "text/plain": [
              "array([[ 1,  2,  3,  4],\n",
              "       [ 5,  6,  7,  8],\n",
              "       [ 9, 10, 11, 12]])"
            ]
          },
          "execution_count": 142,
          "metadata": {},
          "output_type": "execute_result"
        }
      ],
      "source": [
        "arrflat = np.array([[1,2,3,4], [5,6,7,8], [9,10,11,12]])\n",
        "arrflat"
      ]
    },
    {
      "cell_type": "code",
      "execution_count": null,
      "id": "e31d300f",
      "metadata": {
        "id": "e31d300f",
        "outputId": "465f7cee-ea07-42f4-c4b4-51652b960691"
      },
      "outputs": [
        {
          "data": {
            "text/plain": [
              "array([ 1,  2,  3,  4,  5,  6,  7,  8,  9, 10, 11, 12])"
            ]
          },
          "execution_count": 144,
          "metadata": {},
          "output_type": "execute_result"
        }
      ],
      "source": [
        "arrflat.flatten()"
      ]
    },
    {
      "cell_type": "code",
      "execution_count": null,
      "id": "578e5780",
      "metadata": {
        "id": "578e5780",
        "outputId": "0bf15d58-e958-4c40-906a-a6274eb22499"
      },
      "outputs": [
        {
          "data": {
            "text/plain": [
              "array([ 1,  2,  3,  4,  5,  6,  7,  8,  9, 10, 11, 12])"
            ]
          },
          "execution_count": 145,
          "metadata": {},
          "output_type": "execute_result"
        }
      ],
      "source": [
        "arrflat.ravel()"
      ]
    },
    {
      "cell_type": "code",
      "execution_count": null,
      "id": "fc221d20",
      "metadata": {
        "id": "fc221d20",
        "outputId": "4908ad7b-fac9-4ecd-bf4f-d96da02130b6"
      },
      "outputs": [
        {
          "ename": "NameError",
          "evalue": "name 'n' is not defined",
          "output_type": "error",
          "traceback": [
            "\u001b[1;31m---------------------------------------------------------------------------\u001b[0m",
            "\u001b[1;31mNameError\u001b[0m                                 Traceback (most recent call last)",
            "Input \u001b[1;32mIn [146]\u001b[0m, in \u001b[0;36m<cell line: 1>\u001b[1;34m()\u001b[0m\n\u001b[1;32m----> 1\u001b[0m error \u001b[38;5;241m=\u001b[39m (\u001b[38;5;241m1\u001b[39m\u001b[38;5;241m/\u001b[39m\u001b[43mn\u001b[49m) \u001b[38;5;241m+\u001b[39m np\u001b[38;5;241m.\u001b[39msum(np\u001b[38;5;241m.\u001b[39msquare(observed \u001b[38;5;241m-\u001b[39m prediction))\n",
            "\u001b[1;31mNameError\u001b[0m: name 'n' is not defined"
          ]
        }
      ],
      "source": [
        "error = (1/n) + np.sum(np.square(observed - prediction))"
      ]
    },
    {
      "cell_type": "code",
      "execution_count": null,
      "id": "eec41b64",
      "metadata": {
        "id": "eec41b64"
      },
      "outputs": [],
      "source": []
    },
    {
      "cell_type": "code",
      "execution_count": null,
      "id": "f60b9405",
      "metadata": {
        "id": "f60b9405"
      },
      "outputs": [],
      "source": []
    },
    {
      "cell_type": "code",
      "execution_count": null,
      "id": "36269ad0",
      "metadata": {
        "id": "36269ad0"
      },
      "outputs": [],
      "source": []
    },
    {
      "cell_type": "code",
      "execution_count": null,
      "id": "095ab322",
      "metadata": {
        "id": "095ab322"
      },
      "outputs": [],
      "source": []
    },
    {
      "cell_type": "code",
      "execution_count": null,
      "id": "70b2df97",
      "metadata": {
        "id": "70b2df97"
      },
      "outputs": [],
      "source": []
    },
    {
      "cell_type": "code",
      "execution_count": null,
      "id": "25398512",
      "metadata": {
        "id": "25398512"
      },
      "outputs": [],
      "source": []
    },
    {
      "cell_type": "code",
      "execution_count": null,
      "id": "5c57af67",
      "metadata": {
        "id": "5c57af67"
      },
      "outputs": [],
      "source": []
    },
    {
      "cell_type": "code",
      "execution_count": null,
      "id": "16eeb1ec",
      "metadata": {
        "id": "16eeb1ec"
      },
      "outputs": [],
      "source": []
    },
    {
      "cell_type": "code",
      "execution_count": null,
      "id": "23d65587",
      "metadata": {
        "id": "23d65587"
      },
      "outputs": [],
      "source": []
    },
    {
      "cell_type": "code",
      "execution_count": null,
      "id": "42b88122",
      "metadata": {
        "id": "42b88122"
      },
      "outputs": [],
      "source": []
    },
    {
      "cell_type": "code",
      "execution_count": null,
      "id": "a735cd2e",
      "metadata": {
        "id": "a735cd2e"
      },
      "outputs": [],
      "source": []
    },
    {
      "cell_type": "code",
      "execution_count": null,
      "id": "326af5fc",
      "metadata": {
        "id": "326af5fc"
      },
      "outputs": [],
      "source": []
    }
  ],
  "metadata": {
    "kernelspec": {
      "display_name": "Python 3 (ipykernel)",
      "language": "python",
      "name": "python3"
    },
    "language_info": {
      "codemirror_mode": {
        "name": "ipython",
        "version": 3
      },
      "file_extension": ".py",
      "mimetype": "text/x-python",
      "name": "python",
      "nbconvert_exporter": "python",
      "pygments_lexer": "ipython3",
      "version": "3.9.12"
    },
    "colab": {
      "provenance": [],
      "include_colab_link": true
    }
  },
  "nbformat": 4,
  "nbformat_minor": 5
}