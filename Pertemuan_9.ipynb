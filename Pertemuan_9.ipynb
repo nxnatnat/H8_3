{
  "cells": [
    {
      "cell_type": "markdown",
      "metadata": {
        "id": "view-in-github",
        "colab_type": "text"
      },
      "source": [
        "<a href=\"https://colab.research.google.com/github/nxnatnat/H8_3/blob/main/Pertemuan_9.ipynb\" target=\"_parent\"><img src=\"https://colab.research.google.com/assets/colab-badge.svg\" alt=\"Open In Colab\"/></a>"
      ]
    },
    {
      "cell_type": "markdown",
      "id": "acad925c",
      "metadata": {
        "id": "acad925c"
      },
      "source": [
        "# Interpretations"
      ]
    },
    {
      "cell_type": "code",
      "execution_count": null,
      "id": "78ba0d90",
      "metadata": {
        "id": "78ba0d90"
      },
      "outputs": [],
      "source": [
        "import math\n",
        "import statistics\n",
        "import numpy as np\n",
        "import scipy.stats\n",
        "import pandas as pd"
      ]
    },
    {
      "cell_type": "code",
      "execution_count": null,
      "id": "355a7026",
      "metadata": {
        "id": "355a7026",
        "outputId": "50a526c2-2948-458c-adae-dd1da4abf57a"
      },
      "outputs": [
        {
          "name": "stdout",
          "output_type": "stream",
          "text": [
            "[8.0, 1, 2.5, 4.0, 28.0]\n",
            "[8.0, 1, 2.5, nan, 4, 28.0]\n"
          ]
        }
      ],
      "source": [
        "x = [8.0, 1, 2.5, 4., 28.0]\n",
        "x_with_nan = [8.0, 1, 2.5, math.nan, 4, 28.0]\n",
        "\n",
        "\n",
        "print(x)\n",
        "print(x_with_nan)"
      ]
    },
    {
      "cell_type": "code",
      "execution_count": null,
      "id": "92c0f36b",
      "metadata": {
        "id": "92c0f36b",
        "outputId": "4ff298f5-b690-4872-cbad-1a4091c587d3"
      },
      "outputs": [
        {
          "name": "stdout",
          "output_type": "stream",
          "text": [
            "[ 8.   1.   2.5  4.  28. ]\n",
            "[ 8.   1.   2.5  nan  4.  28. ]\n"
          ]
        }
      ],
      "source": [
        "y, y_with_nan = np.array(x), np.array(x_with_nan)\n",
        "z, z_with_nan = pd.Series(x), pd.Series(x_with_nan)\n",
        "\n",
        "print(y)\n",
        "print(y_with_nan)"
      ]
    },
    {
      "cell_type": "code",
      "execution_count": null,
      "id": "3219d863",
      "metadata": {
        "id": "3219d863",
        "outputId": "bf9fedf7-cfba-47ad-fed1-3f80122c63b2"
      },
      "outputs": [
        {
          "name": "stdout",
          "output_type": "stream",
          "text": [
            "0     8.0\n",
            "1     1.0\n",
            "2     2.5\n",
            "3     4.0\n",
            "4    28.0\n",
            "dtype: float64\n",
            "0     8.0\n",
            "1     1.0\n",
            "2     2.5\n",
            "3     NaN\n",
            "4     4.0\n",
            "5    28.0\n",
            "dtype: float64\n"
          ]
        }
      ],
      "source": [
        "print(z)\n",
        "print(z_with_nan)"
      ]
    },
    {
      "cell_type": "markdown",
      "id": "232316fe",
      "metadata": {
        "id": "232316fe"
      },
      "source": [
        "# Mean"
      ]
    },
    {
      "cell_type": "code",
      "execution_count": null,
      "id": "002a5219",
      "metadata": {
        "id": "002a5219",
        "outputId": "024f95f1-6ad0-4127-c58f-aac1395a7f7c"
      },
      "outputs": [
        {
          "data": {
            "text/plain": [
              "[8.0, 1, 2.5, 4.0, 28.0]"
            ]
          },
          "execution_count": 6,
          "metadata": {},
          "output_type": "execute_result"
        }
      ],
      "source": [
        "x"
      ]
    },
    {
      "cell_type": "code",
      "execution_count": null,
      "id": "23532e1c",
      "metadata": {
        "id": "23532e1c",
        "outputId": "6c6d1a24-d449-4657-c2ce-a6c647b7fd59"
      },
      "outputs": [
        {
          "data": {
            "text/plain": [
              "43.5"
            ]
          },
          "execution_count": 9,
          "metadata": {},
          "output_type": "execute_result"
        }
      ],
      "source": [
        "sum(x)"
      ]
    },
    {
      "cell_type": "code",
      "execution_count": null,
      "id": "b2903cef",
      "metadata": {
        "id": "b2903cef",
        "outputId": "b41243a7-0be4-4ceb-936e-b19ceeafeec8"
      },
      "outputs": [
        {
          "data": {
            "text/plain": [
              "5"
            ]
          },
          "execution_count": 10,
          "metadata": {},
          "output_type": "execute_result"
        }
      ],
      "source": [
        "len(x)"
      ]
    },
    {
      "cell_type": "code",
      "execution_count": null,
      "id": "9b5a5398",
      "metadata": {
        "id": "9b5a5398",
        "outputId": "948da228-1621-4b81-8655-8d73a6ed55c2"
      },
      "outputs": [
        {
          "data": {
            "text/plain": [
              "8.7"
            ]
          },
          "execution_count": 11,
          "metadata": {},
          "output_type": "execute_result"
        }
      ],
      "source": [
        "mean_ = sum(x) / len(x)\n",
        "mean_"
      ]
    },
    {
      "cell_type": "code",
      "execution_count": null,
      "id": "bf62109b",
      "metadata": {
        "id": "bf62109b",
        "outputId": "1ca833c4-187a-4c17-ba57-791054b4052c"
      },
      "outputs": [
        {
          "data": {
            "text/plain": [
              "8.7"
            ]
          },
          "execution_count": 13,
          "metadata": {},
          "output_type": "execute_result"
        }
      ],
      "source": [
        "mean_ = statistics.mean(x)\n",
        "mean_"
      ]
    },
    {
      "cell_type": "code",
      "execution_count": null,
      "id": "19d9ac7e",
      "metadata": {
        "id": "19d9ac7e",
        "outputId": "2948560c-7286-44ce-fabb-5297bb792841"
      },
      "outputs": [
        {
          "data": {
            "text/plain": [
              "nan"
            ]
          },
          "execution_count": 14,
          "metadata": {},
          "output_type": "execute_result"
        }
      ],
      "source": [
        "sum(x_with_nan)"
      ]
    },
    {
      "cell_type": "markdown",
      "id": "b5cbf614",
      "metadata": {
        "id": "b5cbf614"
      },
      "source": [
        "nan dikarenakan ada nilai nan di dalam array = null value"
      ]
    },
    {
      "cell_type": "code",
      "execution_count": null,
      "id": "5d849d7a",
      "metadata": {
        "id": "5d849d7a",
        "outputId": "0602db44-a1e4-41e8-a4a3-20ce7e59be6f"
      },
      "outputs": [
        {
          "data": {
            "text/plain": [
              "nan"
            ]
          },
          "execution_count": 16,
          "metadata": {},
          "output_type": "execute_result"
        }
      ],
      "source": [
        "np.mean(y_with_nan)"
      ]
    },
    {
      "cell_type": "code",
      "execution_count": null,
      "id": "a7a11b55",
      "metadata": {
        "id": "a7a11b55",
        "outputId": "35580fab-fcc7-49a3-a5dc-454dfe06e67e"
      },
      "outputs": [
        {
          "data": {
            "text/plain": [
              "nan"
            ]
          },
          "execution_count": 18,
          "metadata": {},
          "output_type": "execute_result"
        }
      ],
      "source": [
        "y_with_nan.mean()"
      ]
    },
    {
      "cell_type": "code",
      "execution_count": null,
      "id": "647dc7fa",
      "metadata": {
        "id": "647dc7fa",
        "outputId": "90edc0ad-17c7-4824-ee05-493cca64e75b"
      },
      "outputs": [
        {
          "data": {
            "text/plain": [
              "8.7"
            ]
          },
          "execution_count": 19,
          "metadata": {},
          "output_type": "execute_result"
        }
      ],
      "source": [
        "np.nanmean(y_with_nan)"
      ]
    },
    {
      "cell_type": "code",
      "execution_count": null,
      "id": "ba67bb65",
      "metadata": {
        "id": "ba67bb65",
        "outputId": "67a81292-f72d-442c-9dc2-0a03ffc1175d"
      },
      "outputs": [
        {
          "data": {
            "text/plain": [
              "0     8.0\n",
              "1     1.0\n",
              "2     2.5\n",
              "3     4.0\n",
              "4    28.0\n",
              "dtype: float64"
            ]
          },
          "execution_count": 20,
          "metadata": {},
          "output_type": "execute_result"
        }
      ],
      "source": [
        "z"
      ]
    },
    {
      "cell_type": "code",
      "execution_count": null,
      "id": "0fba3e65",
      "metadata": {
        "id": "0fba3e65",
        "outputId": "6aafdc51-35cd-46be-d6a0-247fecb41312"
      },
      "outputs": [
        {
          "data": {
            "text/plain": [
              "8.7"
            ]
          },
          "execution_count": 21,
          "metadata": {},
          "output_type": "execute_result"
        }
      ],
      "source": [
        "z.mean()"
      ]
    },
    {
      "cell_type": "code",
      "execution_count": null,
      "id": "b236cf93",
      "metadata": {
        "id": "b236cf93",
        "outputId": "2ae03eb0-198e-49b9-82f1-5895447a7490"
      },
      "outputs": [
        {
          "data": {
            "text/plain": [
              "0     8.0\n",
              "1     1.0\n",
              "2     2.5\n",
              "3     NaN\n",
              "4     4.0\n",
              "5    28.0\n",
              "dtype: float64"
            ]
          },
          "execution_count": 22,
          "metadata": {},
          "output_type": "execute_result"
        }
      ],
      "source": [
        "z_with_nan"
      ]
    },
    {
      "cell_type": "code",
      "execution_count": null,
      "id": "f2e46a89",
      "metadata": {
        "id": "f2e46a89",
        "outputId": "0e6d8c68-fd8a-46e0-fac0-e21bea658517"
      },
      "outputs": [
        {
          "data": {
            "text/plain": [
              "8.7"
            ]
          },
          "execution_count": 23,
          "metadata": {},
          "output_type": "execute_result"
        }
      ],
      "source": [
        "z_with_nan.mean()"
      ]
    },
    {
      "cell_type": "markdown",
      "id": "b8fcdbab",
      "metadata": {
        "id": "b8fcdbab"
      },
      "source": [
        "# Weighted Mean"
      ]
    },
    {
      "cell_type": "code",
      "execution_count": null,
      "id": "ba3b5c02",
      "metadata": {
        "id": "ba3b5c02",
        "outputId": "b52c25b4-9d0d-43a4-87fa-98e77426559e"
      },
      "outputs": [
        {
          "data": {
            "text/plain": [
              "10"
            ]
          },
          "execution_count": 25,
          "metadata": {},
          "output_type": "execute_result"
        }
      ],
      "source": [
        "var = [2, 2, 4, 4, 4, 4, 4, 8, 8, 8]\n",
        "len(var)"
      ]
    },
    {
      "cell_type": "code",
      "execution_count": null,
      "id": "d6b57669",
      "metadata": {
        "id": "d6b57669",
        "outputId": "8fef98b4-8bd2-4801-9b09-b8a145a5180f"
      },
      "outputs": [
        {
          "data": {
            "text/plain": [
              "4.8"
            ]
          },
          "execution_count": 26,
          "metadata": {},
          "output_type": "execute_result"
        }
      ],
      "source": [
        "(0.2 * 2) + (0.5 * 4) + (0.3 * 8)"
      ]
    },
    {
      "cell_type": "code",
      "execution_count": null,
      "id": "9ce9d1dd",
      "metadata": {
        "id": "9ce9d1dd"
      },
      "outputs": [],
      "source": [
        "x = [8.0, 1, 2.5, 4, 28.0]\n",
        "w = [0.1, 0.2, 0.3, 0.25, 0.15]\n"
      ]
    },
    {
      "cell_type": "code",
      "execution_count": null,
      "id": "747b3bbb",
      "metadata": {
        "id": "747b3bbb",
        "outputId": "b6241506-abe4-4ed5-e3b6-a464b086ee7f"
      },
      "outputs": [
        {
          "data": {
            "text/plain": [
              "1.0"
            ]
          },
          "execution_count": 32,
          "metadata": {},
          "output_type": "execute_result"
        }
      ],
      "source": [
        "sum(w)"
      ]
    },
    {
      "cell_type": "code",
      "execution_count": null,
      "id": "46a54c66",
      "metadata": {
        "id": "46a54c66",
        "outputId": "a6f8b1a8-dbeb-4ad0-aac6-0f796d27a51b"
      },
      "outputs": [
        {
          "data": {
            "text/plain": [
              "6.95"
            ]
          },
          "execution_count": 33,
          "metadata": {},
          "output_type": "execute_result"
        }
      ],
      "source": [
        "wmean = sum(w[i] * x[i] for i in range(len(x))) / sum(w)\n",
        "wmean\n"
      ]
    },
    {
      "cell_type": "code",
      "execution_count": null,
      "id": "ec200768",
      "metadata": {
        "id": "ec200768",
        "outputId": "3de08da5-219d-4bb3-d25c-85288116f5ad"
      },
      "outputs": [
        {
          "name": "stdout",
          "output_type": "stream",
          "text": [
            "6.95\n"
          ]
        }
      ],
      "source": [
        "wmean = sum(x_ * w_ for (x_, w_) in zip(x, w)) / sum(w)\n",
        "print(wmean)"
      ]
    },
    {
      "cell_type": "code",
      "execution_count": null,
      "id": "476950cd",
      "metadata": {
        "id": "476950cd",
        "outputId": "0036d79e-017a-430c-8a1b-40809566ae18"
      },
      "outputs": [
        {
          "data": {
            "text/plain": [
              "6.95"
            ]
          },
          "execution_count": 37,
          "metadata": {},
          "output_type": "execute_result"
        }
      ],
      "source": [
        "y, z, w = np.array(x), pd.Series(x), np.array(w)\n",
        "\n",
        "wmean = np.average(y, weights=w)\n",
        "wmean"
      ]
    },
    {
      "cell_type": "markdown",
      "id": "a5708c5e",
      "metadata": {
        "id": "a5708c5e"
      },
      "source": [
        "# Harmonic Mean"
      ]
    },
    {
      "cell_type": "code",
      "execution_count": null,
      "id": "32087031",
      "metadata": {
        "id": "32087031",
        "outputId": "f0ccd2dc-dd88-41c9-aa46-fb8cc1074a46"
      },
      "outputs": [
        {
          "data": {
            "text/plain": [
              "40.0"
            ]
          },
          "execution_count": 38,
          "metadata": {},
          "output_type": "execute_result"
        }
      ],
      "source": [
        "(60 + 20) / 2"
      ]
    },
    {
      "cell_type": "code",
      "execution_count": null,
      "id": "920e31f1",
      "metadata": {
        "id": "920e31f1",
        "outputId": "9c615dac-b9e2-4f14-f171-a50e1611940b"
      },
      "outputs": [
        {
          "data": {
            "text/plain": [
              "28.0"
            ]
          },
          "execution_count": 39,
          "metadata": {},
          "output_type": "execute_result"
        }
      ],
      "source": [
        "(2+4+6+100) / 4"
      ]
    },
    {
      "cell_type": "code",
      "execution_count": null,
      "id": "35c4d9c9",
      "metadata": {
        "id": "35c4d9c9",
        "outputId": "c626a6f0-003b-4769-a0bf-89b2ead0d900"
      },
      "outputs": [
        {
          "data": {
            "text/plain": [
              "4.316546762589928"
            ]
          },
          "execution_count": 41,
          "metadata": {},
          "output_type": "execute_result"
        }
      ],
      "source": [
        "4 / (1/2 + 1/4 + 1/6 + 1/100) "
      ]
    },
    {
      "cell_type": "code",
      "execution_count": null,
      "id": "e50e5ce3",
      "metadata": {
        "id": "e50e5ce3",
        "outputId": "ba1ae78b-5a0a-4b7d-d86f-1fdb5ff0e3af"
      },
      "outputs": [
        {
          "data": {
            "text/plain": [
              "2.7613412228796843"
            ]
          },
          "execution_count": 42,
          "metadata": {},
          "output_type": "execute_result"
        }
      ],
      "source": [
        "statistics.harmonic_mean(x)"
      ]
    },
    {
      "cell_type": "code",
      "execution_count": null,
      "id": "09e3db5a",
      "metadata": {
        "id": "09e3db5a",
        "outputId": "d5d1bdf2-e9d0-4111-df4c-bfdcea087619"
      },
      "outputs": [
        {
          "data": {
            "text/plain": [
              "8.7"
            ]
          },
          "execution_count": 43,
          "metadata": {},
          "output_type": "execute_result"
        }
      ],
      "source": [
        "np.mean(x)"
      ]
    },
    {
      "cell_type": "code",
      "execution_count": null,
      "id": "132f21a4",
      "metadata": {
        "id": "132f21a4",
        "outputId": "60801118-52e0-4ac4-c08f-76b09d6077fe"
      },
      "outputs": [
        {
          "data": {
            "text/plain": [
              "[8.0, 1, 2.5, 4, 28.0]"
            ]
          },
          "execution_count": 44,
          "metadata": {},
          "output_type": "execute_result"
        }
      ],
      "source": [
        "[8.0, 1, 2.5, 4, 28.0]"
      ]
    },
    {
      "cell_type": "code",
      "execution_count": null,
      "id": "bab3d16d",
      "metadata": {
        "id": "bab3d16d",
        "outputId": "14b3aed7-177c-4c8e-a7a4-461c22cb1ca6"
      },
      "outputs": [
        {
          "data": {
            "text/plain": [
              "2.7613412228796843"
            ]
          },
          "execution_count": 45,
          "metadata": {},
          "output_type": "execute_result"
        }
      ],
      "source": [
        "scipy.stats.hmean(y)"
      ]
    },
    {
      "cell_type": "code",
      "execution_count": null,
      "id": "ae25431d",
      "metadata": {
        "id": "ae25431d",
        "outputId": "457cd1e2-3157-4ca2-f9f6-2f6184cd4e1c"
      },
      "outputs": [
        {
          "data": {
            "text/plain": [
              "2.7613412228796843"
            ]
          },
          "execution_count": 46,
          "metadata": {},
          "output_type": "execute_result"
        }
      ],
      "source": [
        "scipy.stats.hmean(z)"
      ]
    },
    {
      "cell_type": "markdown",
      "id": "d02a003b",
      "metadata": {
        "id": "d02a003b"
      },
      "source": [
        "# Geometric Mean"
      ]
    },
    {
      "cell_type": "code",
      "execution_count": null,
      "id": "922779d6",
      "metadata": {
        "id": "922779d6",
        "outputId": "c1a8047a-2124-42b1-ed92-aaaccf02beb3"
      },
      "outputs": [
        {
          "data": {
            "text/plain": [
              "(2, 18)"
            ]
          },
          "execution_count": 47,
          "metadata": {},
          "output_type": "execute_result"
        }
      ],
      "source": [
        "2, 18"
      ]
    },
    {
      "cell_type": "code",
      "execution_count": null,
      "id": "5444a65e",
      "metadata": {
        "id": "5444a65e",
        "outputId": "a2835a9c-f6fe-4d1a-eaec-86d6bd524120"
      },
      "outputs": [
        {
          "data": {
            "text/plain": [
              "36"
            ]
          },
          "execution_count": 48,
          "metadata": {},
          "output_type": "execute_result"
        }
      ],
      "source": [
        "2 * 18"
      ]
    },
    {
      "cell_type": "code",
      "execution_count": null,
      "id": "6b208f26",
      "metadata": {
        "id": "6b208f26",
        "outputId": "0fedb7ed-7082-436b-a70f-fa34e35e0166"
      },
      "outputs": [
        {
          "data": {
            "text/plain": [
              "2240.0"
            ]
          },
          "execution_count": 49,
          "metadata": {},
          "output_type": "execute_result"
        }
      ],
      "source": [
        "gmean = 1\n",
        "\n",
        "for item in x:\n",
        "    gmean *= item\n",
        "    \n",
        "# gmean **= 1 / len (x)\n",
        "gmean"
      ]
    },
    {
      "cell_type": "code",
      "execution_count": null,
      "id": "debfe24f",
      "metadata": {
        "id": "debfe24f",
        "outputId": "a2078c70-f804-4a81-b057-08b50472dca3"
      },
      "outputs": [
        {
          "data": {
            "text/plain": [
              "4.677885674856041"
            ]
          },
          "execution_count": 50,
          "metadata": {},
          "output_type": "execute_result"
        }
      ],
      "source": [
        "gmean **= 1 / len (x)\n",
        "gmean"
      ]
    },
    {
      "cell_type": "code",
      "execution_count": null,
      "id": "34a77d8c",
      "metadata": {
        "id": "34a77d8c",
        "outputId": "c7c2aac2-c30f-4112-81c8-44359fa72168"
      },
      "outputs": [
        {
          "data": {
            "text/plain": [
              "4.67788567485604"
            ]
          },
          "execution_count": 51,
          "metadata": {},
          "output_type": "execute_result"
        }
      ],
      "source": [
        "scipy.stats.gmean(y)"
      ]
    },
    {
      "cell_type": "code",
      "execution_count": null,
      "id": "82e5196a",
      "metadata": {
        "id": "82e5196a",
        "outputId": "e9d9c79c-4393-48a5-e651-d192ddcf8e85"
      },
      "outputs": [
        {
          "data": {
            "text/plain": [
              "4.67788567485604"
            ]
          },
          "execution_count": 52,
          "metadata": {},
          "output_type": "execute_result"
        }
      ],
      "source": [
        "scipy.stats.gmean(z)"
      ]
    },
    {
      "cell_type": "markdown",
      "id": "389fdc48",
      "metadata": {
        "id": "389fdc48"
      },
      "source": [
        "# Median"
      ]
    },
    {
      "cell_type": "code",
      "execution_count": null,
      "id": "cfc353c0",
      "metadata": {
        "id": "cfc353c0",
        "outputId": "8c372e8b-f0b6-40f6-adc3-e4895c58cd54"
      },
      "outputs": [
        {
          "ename": "SyntaxError",
          "evalue": "invalid syntax (2346446617.py, line 5)",
          "output_type": "error",
          "traceback": [
            "\u001b[1;36m  Input \u001b[1;32mIn [59]\u001b[1;36m\u001b[0m\n\u001b[1;33m    else\u001b[0m\n\u001b[1;37m        ^\u001b[0m\n\u001b[1;31mSyntaxError\u001b[0m\u001b[1;31m:\u001b[0m invalid syntax\n"
          ]
        }
      ],
      "source": [
        "n = len(x)\n",
        "\n",
        "if n%2:\n",
        "    median_ = sorted(x), [round*(0.5*(n-1))]\n",
        "else\n",
        "    x_ord, index = sorted(x), round(0.5 * n)\n",
        "    median = 0.5 * (x_ord[index-1] + x_ord[index])"
      ]
    },
    {
      "cell_type": "code",
      "execution_count": null,
      "id": "4bd567af",
      "metadata": {
        "id": "4bd567af"
      },
      "outputs": [],
      "source": [
        "n = len(x)\n",
        "if n % 2:\n",
        "    median_ = sorted(x)[round(0.5*(n-1))]\n",
        "else:\n",
        "    x_ord, index = sorted(x), round(0.5 * n)\n",
        "    median_ = 0.5 * (x_ord[index-1] + x_ord[index])\n"
      ]
    },
    {
      "cell_type": "code",
      "execution_count": null,
      "id": "cf86ec40",
      "metadata": {
        "id": "cf86ec40",
        "outputId": "d42ef0f5-1abf-4a34-af45-10492812712d"
      },
      "outputs": [
        {
          "data": {
            "text/plain": [
              "1"
            ]
          },
          "execution_count": 57,
          "metadata": {},
          "output_type": "execute_result"
        }
      ],
      "source": [
        "n%2"
      ]
    },
    {
      "cell_type": "code",
      "execution_count": null,
      "id": "5471341c",
      "metadata": {
        "id": "5471341c",
        "outputId": "9f9bada8-5ff1-48c9-9853-3a5af91e0479"
      },
      "outputs": [
        {
          "data": {
            "text/plain": [
              "4"
            ]
          },
          "execution_count": 62,
          "metadata": {},
          "output_type": "execute_result"
        }
      ],
      "source": [
        "median_"
      ]
    },
    {
      "cell_type": "code",
      "execution_count": null,
      "id": "c3bba31d",
      "metadata": {
        "id": "c3bba31d",
        "outputId": "d3730cba-611a-4914-afec-fbcbc1a87ac6"
      },
      "outputs": [
        {
          "data": {
            "text/plain": [
              "[1, 2.5, 4, 8.0]"
            ]
          },
          "execution_count": 72,
          "metadata": {},
          "output_type": "execute_result"
        }
      ],
      "source": [
        "sorted(x[:-1])"
      ]
    },
    {
      "cell_type": "code",
      "execution_count": null,
      "id": "d122a336",
      "metadata": {
        "id": "d122a336",
        "outputId": "826e3312-b9a3-4b21-c56e-ab9383cb8e12"
      },
      "outputs": [
        {
          "data": {
            "text/plain": [
              "[8.0, 1, 2.5, 4, 28.0]"
            ]
          },
          "execution_count": 63,
          "metadata": {},
          "output_type": "execute_result"
        }
      ],
      "source": [
        "x"
      ]
    },
    {
      "cell_type": "code",
      "execution_count": null,
      "id": "aabd7a11",
      "metadata": {
        "id": "aabd7a11",
        "outputId": "c67fb3fa-d018-4710-828a-cfb475097705"
      },
      "outputs": [
        {
          "data": {
            "text/plain": [
              "2.5"
            ]
          },
          "execution_count": 64,
          "metadata": {},
          "output_type": "execute_result"
        }
      ],
      "source": [
        "statistics.median_low(x[:-1])"
      ]
    },
    {
      "cell_type": "code",
      "execution_count": null,
      "id": "857b6515",
      "metadata": {
        "id": "857b6515",
        "outputId": "2510c5a4-f10a-4331-ff72-f5f3406ed4f9"
      },
      "outputs": [
        {
          "data": {
            "text/plain": [
              "4"
            ]
          },
          "execution_count": 65,
          "metadata": {},
          "output_type": "execute_result"
        }
      ],
      "source": [
        "statistics.median_high(x[:-1])"
      ]
    },
    {
      "cell_type": "code",
      "execution_count": null,
      "id": "f0f704ee",
      "metadata": {
        "id": "f0f704ee",
        "outputId": "f788d9fe-4b57-4793-8ff6-64f5e8066cae"
      },
      "outputs": [
        {
          "data": {
            "text/plain": [
              "6.0"
            ]
          },
          "execution_count": 68,
          "metadata": {},
          "output_type": "execute_result"
        }
      ],
      "source": [
        "statistics.median(x_with_nan)"
      ]
    },
    {
      "cell_type": "code",
      "execution_count": null,
      "id": "f8681ce0",
      "metadata": {
        "id": "f8681ce0",
        "outputId": "a3f6d255-3820-4e7c-ac4c-6e07d025cf32"
      },
      "outputs": [
        {
          "data": {
            "text/plain": [
              "4.0"
            ]
          },
          "execution_count": 69,
          "metadata": {},
          "output_type": "execute_result"
        }
      ],
      "source": [
        "np.median(y)"
      ]
    },
    {
      "cell_type": "code",
      "execution_count": null,
      "id": "06b47fa8",
      "metadata": {
        "id": "06b47fa8",
        "outputId": "64a93dc8-2ef6-4437-f09d-327a2bb6559c"
      },
      "outputs": [
        {
          "data": {
            "text/plain": [
              "3.25"
            ]
          },
          "execution_count": 70,
          "metadata": {},
          "output_type": "execute_result"
        }
      ],
      "source": [
        "np.median(y[:-1])"
      ]
    },
    {
      "cell_type": "markdown",
      "id": "b95d974d",
      "metadata": {
        "id": "b95d974d"
      },
      "source": [
        "# Mode"
      ]
    },
    {
      "cell_type": "code",
      "execution_count": null,
      "id": "7a81a951",
      "metadata": {
        "id": "7a81a951"
      },
      "outputs": [],
      "source": [
        "u = [2, 3, 2, 8, 12]\n",
        "v = [12, 15, 12, 15, 21, 15, 12]\n"
      ]
    },
    {
      "cell_type": "code",
      "execution_count": null,
      "id": "7c89cbb0",
      "metadata": {
        "id": "7c89cbb0",
        "outputId": "ce176dd1-761c-4718-ee56-f2dab893f01c"
      },
      "outputs": [
        {
          "data": {
            "text/plain": [
              "2"
            ]
          },
          "execution_count": 85,
          "metadata": {},
          "output_type": "execute_result"
        }
      ],
      "source": [
        "max((u.count(item), item) for item in set(u))[1]"
      ]
    },
    {
      "cell_type": "code",
      "execution_count": null,
      "id": "96bb4408",
      "metadata": {
        "id": "96bb4408",
        "outputId": "0b833d5f-102e-4386-92d8-5610692fafaf"
      },
      "outputs": [
        {
          "data": {
            "text/plain": [
              "2"
            ]
          },
          "execution_count": 76,
          "metadata": {},
          "output_type": "execute_result"
        }
      ],
      "source": [
        "max((u.count(item), item) for item in set(u))[1]"
      ]
    },
    {
      "cell_type": "code",
      "execution_count": null,
      "id": "05967b5a",
      "metadata": {
        "id": "05967b5a",
        "outputId": "075c1edb-0016-40e6-8c98-9a87adc9c5aa"
      },
      "outputs": [
        {
          "data": {
            "text/plain": [
              "2"
            ]
          },
          "execution_count": 77,
          "metadata": {},
          "output_type": "execute_result"
        }
      ],
      "source": [
        "statistics.mode(u)"
      ]
    },
    {
      "cell_type": "code",
      "execution_count": null,
      "id": "84fa0f06",
      "metadata": {
        "id": "84fa0f06",
        "outputId": "fe8ec8a5-8822-4854-896c-7344b018524c"
      },
      "outputs": [
        {
          "data": {
            "text/plain": [
              "ModeResult(mode=array([2]), count=array([2]))"
            ]
          },
          "execution_count": 78,
          "metadata": {},
          "output_type": "execute_result"
        }
      ],
      "source": [
        "u, v = np.array(u), np.array(v)\n",
        "scipy.stats.mode(u)\n"
      ]
    },
    {
      "cell_type": "code",
      "execution_count": null,
      "id": "c257b2b1",
      "metadata": {
        "id": "c257b2b1",
        "outputId": "4728aa6d-8d9c-417f-f084-d1ee28efa136"
      },
      "outputs": [
        {
          "data": {
            "text/plain": [
              "ModeResult(mode=array([12]), count=array([3]))"
            ]
          },
          "execution_count": 79,
          "metadata": {},
          "output_type": "execute_result"
        }
      ],
      "source": [
        "scipy.stats.mode(v)"
      ]
    },
    {
      "cell_type": "code",
      "execution_count": null,
      "id": "5c6b5189",
      "metadata": {
        "id": "5c6b5189"
      },
      "outputs": [],
      "source": [
        "u, v, w = pd.Series(u), pd.Series(v), pd.Series(w)"
      ]
    },
    {
      "cell_type": "code",
      "execution_count": null,
      "id": "09fda6ca",
      "metadata": {
        "id": "09fda6ca"
      },
      "outputs": [],
      "source": [
        "u, v, w = pd.Series(u), pd.Series(v), pd.Series([2, 2, math.nan])"
      ]
    },
    {
      "cell_type": "code",
      "execution_count": null,
      "id": "129f6eaa",
      "metadata": {
        "id": "129f6eaa",
        "outputId": "838fc240-478d-4163-a97c-fc2cc8608e5a"
      },
      "outputs": [
        {
          "data": {
            "text/plain": [
              "0    2\n",
              "dtype: int64"
            ]
          },
          "execution_count": 88,
          "metadata": {},
          "output_type": "execute_result"
        }
      ],
      "source": [
        "u.mode()"
      ]
    },
    {
      "cell_type": "code",
      "execution_count": null,
      "id": "c9960b66",
      "metadata": {
        "id": "c9960b66",
        "outputId": "46542603-8d7e-4e27-c46e-a376bd3d5eb3"
      },
      "outputs": [
        {
          "data": {
            "text/plain": [
              "0    12\n",
              "1    15\n",
              "dtype: int64"
            ]
          },
          "execution_count": 89,
          "metadata": {},
          "output_type": "execute_result"
        }
      ],
      "source": [
        "v.mode()"
      ]
    },
    {
      "cell_type": "code",
      "execution_count": null,
      "id": "78be0680",
      "metadata": {
        "id": "78be0680",
        "outputId": "d0810b42-fb61-4bb8-89d8-ce6b4f81e700"
      },
      "outputs": [
        {
          "data": {
            "text/plain": [
              "0    2.0\n",
              "dtype: float64"
            ]
          },
          "execution_count": 90,
          "metadata": {},
          "output_type": "execute_result"
        }
      ],
      "source": [
        "w.mode()"
      ]
    },
    {
      "cell_type": "markdown",
      "id": "63453137",
      "metadata": {
        "id": "63453137"
      },
      "source": [
        "# Measure of Variability"
      ]
    },
    {
      "cell_type": "code",
      "execution_count": null,
      "id": "7a1f5994",
      "metadata": {
        "id": "7a1f5994",
        "outputId": "5b3ee259-52bf-4420-fea3-9258977b1ab8"
      },
      "outputs": [
        {
          "data": {
            "text/plain": [
              "8.7"
            ]
          },
          "execution_count": 92,
          "metadata": {},
          "output_type": "execute_result"
        }
      ],
      "source": [
        "n = len(x)\n",
        "\n",
        "sum(x) / n"
      ]
    },
    {
      "cell_type": "code",
      "execution_count": null,
      "id": "9ab36221",
      "metadata": {
        "id": "9ab36221"
      },
      "outputs": [],
      "source": [
        "var_ = sum((item - mean_)**2 for item in x) / (n-1)"
      ]
    },
    {
      "cell_type": "code",
      "execution_count": null,
      "id": "aef4c945",
      "metadata": {
        "id": "aef4c945",
        "outputId": "09dd388e-9107-4bdb-b63a-c206e12b1ea6"
      },
      "outputs": [
        {
          "data": {
            "text/plain": [
              "123.2"
            ]
          },
          "execution_count": 95,
          "metadata": {},
          "output_type": "execute_result"
        }
      ],
      "source": [
        "statistics.variance(x)"
      ]
    },
    {
      "cell_type": "code",
      "execution_count": null,
      "id": "52d6f333",
      "metadata": {
        "id": "52d6f333",
        "outputId": "00df354a-56c8-4d59-9fd4-2dadcbd31e1b"
      },
      "outputs": [
        {
          "data": {
            "text/plain": [
              "123.19999999999999"
            ]
          },
          "execution_count": 96,
          "metadata": {},
          "output_type": "execute_result"
        }
      ],
      "source": [
        "np.var(y, ddof=1)"
      ]
    },
    {
      "cell_type": "code",
      "execution_count": null,
      "id": "df9482ba",
      "metadata": {
        "id": "df9482ba",
        "outputId": "d4996d38-2972-4324-87c4-bb40b0d903fa"
      },
      "outputs": [
        {
          "data": {
            "text/plain": [
              "0     8.0\n",
              "1     1.0\n",
              "2     2.5\n",
              "3     4.0\n",
              "4    28.0\n",
              "dtype: float64"
            ]
          },
          "execution_count": 97,
          "metadata": {},
          "output_type": "execute_result"
        }
      ],
      "source": [
        "z"
      ]
    },
    {
      "cell_type": "code",
      "execution_count": null,
      "id": "088c9426",
      "metadata": {
        "id": "088c9426",
        "outputId": "9d520511-31dd-44ac-b21b-149abb4b8329"
      },
      "outputs": [
        {
          "data": {
            "text/plain": [
              "98.55999999999999"
            ]
          },
          "execution_count": 98,
          "metadata": {},
          "output_type": "execute_result"
        }
      ],
      "source": [
        "z.var(ddof=0)"
      ]
    },
    {
      "cell_type": "code",
      "execution_count": null,
      "id": "be403f3a",
      "metadata": {
        "id": "be403f3a"
      },
      "outputs": [],
      "source": [
        "1,2,3,4,5,6,7,8,9,10"
      ]
    },
    {
      "cell_type": "code",
      "execution_count": null,
      "id": "ceaf6ae6",
      "metadata": {
        "id": "ceaf6ae6",
        "outputId": "d7968fe4-18c2-45a1-c3f0-2a262624a3a4"
      },
      "outputs": [
        {
          "data": {
            "text/plain": [
              "11.099549540409285"
            ]
          },
          "execution_count": 101,
          "metadata": {},
          "output_type": "execute_result"
        }
      ],
      "source": [
        "var_ ** 0.5"
      ]
    },
    {
      "cell_type": "markdown",
      "id": "22506abc",
      "metadata": {
        "id": "22506abc"
      },
      "source": [
        "# Standard Deviation"
      ]
    },
    {
      "cell_type": "code",
      "execution_count": null,
      "id": "314c842c",
      "metadata": {
        "id": "314c842c",
        "outputId": "e77b7924-73e6-426d-f465-5ff375cc2144"
      },
      "outputs": [
        {
          "data": {
            "text/plain": [
              "11.099549540409285"
            ]
          },
          "execution_count": 123,
          "metadata": {},
          "output_type": "execute_result"
        }
      ],
      "source": [
        "std_ = var_ ** 0.5\n",
        "std_"
      ]
    },
    {
      "cell_type": "code",
      "execution_count": null,
      "id": "d1393b67",
      "metadata": {
        "id": "d1393b67",
        "outputId": "12d10a9e-ab1f-4e23-8f5a-5cba3575fa3f"
      },
      "outputs": [
        {
          "data": {
            "text/plain": [
              "11.099549540409287"
            ]
          },
          "execution_count": 102,
          "metadata": {},
          "output_type": "execute_result"
        }
      ],
      "source": [
        "statistics.stdev(x)"
      ]
    },
    {
      "cell_type": "code",
      "execution_count": null,
      "id": "1ef5b506",
      "metadata": {
        "id": "1ef5b506",
        "outputId": "ce96cb90-ccac-4432-9ce7-8ac1159d910a"
      },
      "outputs": [
        {
          "data": {
            "text/plain": [
              "11.099549540409285"
            ]
          },
          "execution_count": 103,
          "metadata": {},
          "output_type": "execute_result"
        }
      ],
      "source": [
        "np.std(y, ddof=1)"
      ]
    },
    {
      "cell_type": "code",
      "execution_count": null,
      "id": "314bcd2c",
      "metadata": {
        "id": "314bcd2c",
        "outputId": "5c7b7661-193e-4aad-de1f-69d3100bfe10"
      },
      "outputs": [
        {
          "data": {
            "text/plain": [
              "11.099549540409285"
            ]
          },
          "execution_count": 104,
          "metadata": {},
          "output_type": "execute_result"
        }
      ],
      "source": [
        "z.std(ddof=1)"
      ]
    },
    {
      "cell_type": "markdown",
      "id": "c84cc858",
      "metadata": {
        "id": "c84cc858"
      },
      "source": [
        "# Skewness"
      ]
    },
    {
      "cell_type": "code",
      "execution_count": null,
      "id": "53e22888",
      "metadata": {
        "id": "53e22888",
        "outputId": "7221dd00-5717-4162-8254-86a97de3e9ad"
      },
      "outputs": [
        {
          "data": {
            "text/plain": [
              "[8.0, 1, 2.5, 4, 28.0]"
            ]
          },
          "execution_count": 105,
          "metadata": {},
          "output_type": "execute_result"
        }
      ],
      "source": [
        "x"
      ]
    },
    {
      "cell_type": "code",
      "execution_count": null,
      "id": "068d07ca",
      "metadata": {
        "id": "068d07ca",
        "outputId": "82c7ab6b-ae9e-4448-ddeb-8e7ba2380495"
      },
      "outputs": [
        {
          "data": {
            "text/plain": [
              "1.9470432273905929"
            ]
          },
          "execution_count": 117,
          "metadata": {},
          "output_type": "execute_result"
        }
      ],
      "source": [
        "mean_ = sum(x) / n\n",
        "var_ = sum((item - mean_)**2 for item in x) / (n-1) \n",
        "std_ = var_ ** 0.5\n",
        "\n",
        "skew_ = ((sum((item - mean_)**3 for item in x)) * n / ((n-1) * (n-2) * std_**3))\n",
        "skew_"
      ]
    },
    {
      "cell_type": "code",
      "execution_count": null,
      "id": "cddbe265",
      "metadata": {
        "id": "cddbe265",
        "outputId": "f8d4c5c0-f83c-4b49-f9a4-503f9fda7818"
      },
      "outputs": [
        {
          "data": {
            "text/plain": [
              "1.9470432273905929"
            ]
          },
          "execution_count": 110,
          "metadata": {},
          "output_type": "execute_result"
        }
      ],
      "source": [
        "mean_ = sum(x) / n\n",
        "var_ = sum((item - mean_)**2 for item in x) / (n-1)\n",
        "std_ = var_ ** 0.5\n",
        "\n",
        "skew_ = (sum((item - mean_)**3 for item in x) * n / ((n - 1) * (n - 2) * std_**3))\n",
        "skew_"
      ]
    },
    {
      "cell_type": "code",
      "execution_count": null,
      "id": "c12da326",
      "metadata": {
        "id": "c12da326",
        "outputId": "9b2c38d8-f597-4fed-906d-19a8d9c636d1"
      },
      "outputs": [
        {
          "data": {
            "text/plain": [
              "1.9470432273905927"
            ]
          },
          "execution_count": 111,
          "metadata": {},
          "output_type": "execute_result"
        }
      ],
      "source": [
        "scipy.stats.skew(y, bias=False)"
      ]
    },
    {
      "cell_type": "code",
      "execution_count": null,
      "id": "3d578f0f",
      "metadata": {
        "id": "3d578f0f",
        "outputId": "7654dd5b-27c0-4ae2-e429-1895996fed9f"
      },
      "outputs": [
        {
          "data": {
            "text/plain": [
              "nan"
            ]
          },
          "execution_count": 112,
          "metadata": {},
          "output_type": "execute_result"
        }
      ],
      "source": [
        "scipy.stats.skew(y_with_nan, bias=False)"
      ]
    },
    {
      "cell_type": "code",
      "execution_count": null,
      "id": "03276f2c",
      "metadata": {
        "id": "03276f2c",
        "outputId": "109b947b-f23f-40a7-f834-e2a7bd4ddb92"
      },
      "outputs": [
        {
          "data": {
            "text/plain": [
              "1.9470432273905924"
            ]
          },
          "execution_count": 114,
          "metadata": {},
          "output_type": "execute_result"
        }
      ],
      "source": [
        "z.skew()"
      ]
    },
    {
      "cell_type": "code",
      "execution_count": null,
      "id": "49bf2c0e",
      "metadata": {
        "id": "49bf2c0e",
        "outputId": "04d013cc-adf0-4f34-e917-86c260495a3f"
      },
      "outputs": [
        {
          "data": {
            "text/plain": [
              "1.9470432273905924"
            ]
          },
          "execution_count": 118,
          "metadata": {},
          "output_type": "execute_result"
        }
      ],
      "source": [
        "z, z_with_nan = pd.Series(x), pd.Series(x_with_nan)\n",
        "\n",
        "z.skew()"
      ]
    },
    {
      "cell_type": "code",
      "execution_count": null,
      "id": "ab1ae265",
      "metadata": {
        "id": "ab1ae265",
        "outputId": "9bb7bb58-7012-4873-ff07-32e912592c04"
      },
      "outputs": [
        {
          "data": {
            "text/plain": [
              "1.9470432273905924"
            ]
          },
          "execution_count": 120,
          "metadata": {},
          "output_type": "execute_result"
        }
      ],
      "source": [
        "z_with_nan.skew()"
      ]
    },
    {
      "cell_type": "markdown",
      "id": "039e78c7",
      "metadata": {
        "id": "039e78c7"
      },
      "source": [
        "# Percentiles"
      ]
    },
    {
      "cell_type": "code",
      "execution_count": null,
      "id": "46f02687",
      "metadata": {
        "id": "46f02687"
      },
      "outputs": [],
      "source": [
        "x = [-5.0, -1.1, 0.1, 2.0, 8.0, 12.8, 21.0, 25.8, 41.0]"
      ]
    },
    {
      "cell_type": "code",
      "execution_count": null,
      "id": "cd0a11f7",
      "metadata": {
        "id": "cd0a11f7",
        "outputId": "dec0ace2-c9bf-4526-995b-935ffaad6353"
      },
      "outputs": [
        {
          "data": {
            "text/plain": [
              "[-5.0, -1.1, 0.1, 2.0, 8.0, 12.8, 21.0, 25.8, 41.0]"
            ]
          },
          "execution_count": 130,
          "metadata": {},
          "output_type": "execute_result"
        }
      ],
      "source": [
        "x"
      ]
    },
    {
      "cell_type": "code",
      "execution_count": null,
      "id": "c126563a",
      "metadata": {
        "id": "c126563a",
        "outputId": "7fa009fd-8624-4c3b-f398-303ac1ab58da"
      },
      "outputs": [
        {
          "data": {
            "text/plain": [
              "[8.0]"
            ]
          },
          "execution_count": 131,
          "metadata": {},
          "output_type": "execute_result"
        }
      ],
      "source": [
        "statistics.quantiles(x, n=2)"
      ]
    },
    {
      "cell_type": "code",
      "execution_count": null,
      "id": "ffb2e9ed",
      "metadata": {
        "id": "ffb2e9ed",
        "outputId": "53e636df-8d30-4c46-c7e5-3ed04cf2f672"
      },
      "outputs": [
        {
          "name": "stdout",
          "output_type": "stream",
          "text": [
            "Python 3.9.12\n"
          ]
        }
      ],
      "source": [
        "!python --version"
      ]
    },
    {
      "cell_type": "code",
      "execution_count": null,
      "id": "6946b6b3",
      "metadata": {
        "id": "6946b6b3",
        "outputId": "b0bc0936-1ed6-4c98-bdc4-17027cb754f8"
      },
      "outputs": [
        {
          "data": {
            "text/plain": [
              "-3.44"
            ]
          },
          "execution_count": 134,
          "metadata": {},
          "output_type": "execute_result"
        }
      ],
      "source": [
        "y = np.array(x)\n",
        "np.percentile(y, 5)"
      ]
    },
    {
      "cell_type": "code",
      "execution_count": null,
      "id": "7679c93f",
      "metadata": {
        "id": "7679c93f",
        "outputId": "ed11b158-b598-4785-ad0b-ea071164e82b"
      },
      "outputs": [
        {
          "data": {
            "text/plain": [
              "34.919999999999995"
            ]
          },
          "execution_count": 135,
          "metadata": {},
          "output_type": "execute_result"
        }
      ],
      "source": [
        "np.percentile(y, 95)"
      ]
    },
    {
      "cell_type": "code",
      "execution_count": null,
      "id": "7058c615",
      "metadata": {
        "id": "7058c615",
        "outputId": "e11e4413-f447-4cb9-a725-c6c30d6dfc8f"
      },
      "outputs": [
        {
          "data": {
            "text/plain": [
              "8.0"
            ]
          },
          "execution_count": 136,
          "metadata": {},
          "output_type": "execute_result"
        }
      ],
      "source": [
        "np.percentile(y, 50)"
      ]
    },
    {
      "cell_type": "code",
      "execution_count": null,
      "id": "8542d890",
      "metadata": {
        "id": "8542d890",
        "outputId": "ce5d156e-e144-4495-b9b5-ca441138dc68"
      },
      "outputs": [
        {
          "data": {
            "text/plain": [
              "nan"
            ]
          },
          "execution_count": 137,
          "metadata": {},
          "output_type": "execute_result"
        }
      ],
      "source": [
        "np.percentile(y_with_nan, 50)"
      ]
    },
    {
      "cell_type": "code",
      "execution_count": null,
      "id": "c9379552",
      "metadata": {
        "id": "c9379552",
        "outputId": "94ec3e20-2dea-45fc-d531-bcde72205223"
      },
      "outputs": [
        {
          "data": {
            "text/plain": [
              "4.0"
            ]
          },
          "execution_count": 138,
          "metadata": {},
          "output_type": "execute_result"
        }
      ],
      "source": [
        "np.nanpercentile(y_with_nan, 50)"
      ]
    },
    {
      "cell_type": "code",
      "execution_count": null,
      "id": "ebc8cdef",
      "metadata": {
        "id": "ebc8cdef",
        "outputId": "e2fd0106-a07a-499e-d982-ed442c785c2c"
      },
      "outputs": [
        {
          "data": {
            "text/plain": [
              "-3.44"
            ]
          },
          "execution_count": 139,
          "metadata": {},
          "output_type": "execute_result"
        }
      ],
      "source": [
        "np.quantile(y, 0.05)"
      ]
    },
    {
      "cell_type": "code",
      "execution_count": null,
      "id": "ae1a5fa8",
      "metadata": {
        "id": "ae1a5fa8",
        "outputId": "6da462e4-04cb-402d-dc1b-3322b7d013c5"
      },
      "outputs": [
        {
          "data": {
            "text/plain": [
              "34.919999999999995"
            ]
          },
          "execution_count": 140,
          "metadata": {},
          "output_type": "execute_result"
        }
      ],
      "source": [
        "np.quantile(y, 0.95)"
      ]
    },
    {
      "cell_type": "markdown",
      "id": "20d708a3",
      "metadata": {
        "id": "20d708a3"
      },
      "source": [
        "# Range"
      ]
    },
    {
      "cell_type": "code",
      "execution_count": null,
      "id": "60abd758",
      "metadata": {
        "id": "60abd758",
        "outputId": "c42584b1-d65e-43e1-b24c-9afcf0c144d1"
      },
      "outputs": [
        {
          "data": {
            "text/plain": [
              "46.0"
            ]
          },
          "execution_count": 141,
          "metadata": {},
          "output_type": "execute_result"
        }
      ],
      "source": [
        "np.ptp(y)"
      ]
    },
    {
      "cell_type": "code",
      "execution_count": null,
      "id": "d49d2393",
      "metadata": {
        "id": "d49d2393",
        "outputId": "fc8273c2-f03b-4480-be8d-916279c5ed8a"
      },
      "outputs": [
        {
          "data": {
            "text/plain": [
              "[-5.0, -1.1, 0.1, 2.0, 8.0, 12.8, 21.0, 25.8, 41.0]"
            ]
          },
          "execution_count": 142,
          "metadata": {},
          "output_type": "execute_result"
        }
      ],
      "source": [
        "sorted(y)"
      ]
    },
    {
      "cell_type": "code",
      "execution_count": null,
      "id": "9a7c5890",
      "metadata": {
        "id": "9a7c5890",
        "outputId": "1b63d09a-ffca-4340-9a1a-4d4400527ca9"
      },
      "outputs": [
        {
          "data": {
            "text/plain": [
              "46"
            ]
          },
          "execution_count": 143,
          "metadata": {},
          "output_type": "execute_result"
        }
      ],
      "source": [
        "41 - (-5)"
      ]
    },
    {
      "cell_type": "code",
      "execution_count": null,
      "id": "c4f5c279",
      "metadata": {
        "id": "c4f5c279",
        "outputId": "288928c5-0d9d-45b5-ed6b-d406cdcf1c63"
      },
      "outputs": [
        {
          "data": {
            "text/plain": [
              "41.0"
            ]
          },
          "execution_count": 144,
          "metadata": {},
          "output_type": "execute_result"
        }
      ],
      "source": [
        "np.amax(y)"
      ]
    },
    {
      "cell_type": "code",
      "execution_count": null,
      "id": "25a568b1",
      "metadata": {
        "id": "25a568b1",
        "outputId": "25f6d270-ea90-4273-9625-406579262673"
      },
      "outputs": [
        {
          "data": {
            "text/plain": [
              "41.0"
            ]
          },
          "execution_count": 145,
          "metadata": {},
          "output_type": "execute_result"
        }
      ],
      "source": [
        "np.amax(x)"
      ]
    },
    {
      "cell_type": "code",
      "execution_count": null,
      "id": "c9419280",
      "metadata": {
        "id": "c9419280",
        "outputId": "e83b8dce-b80a-4bff-8ddb-57e14f0f26dc"
      },
      "outputs": [
        {
          "data": {
            "text/plain": [
              "46.0"
            ]
          },
          "execution_count": 147,
          "metadata": {},
          "output_type": "execute_result"
        }
      ],
      "source": [
        "np.amax(y) - np.amin(y)"
      ]
    },
    {
      "cell_type": "code",
      "execution_count": null,
      "id": "2c02ee32",
      "metadata": {
        "id": "2c02ee32",
        "outputId": "27f1f467-91e0-4279-9099-c6e01c036204"
      },
      "outputs": [
        {
          "data": {
            "text/plain": [
              "27.0"
            ]
          },
          "execution_count": 148,
          "metadata": {},
          "output_type": "execute_result"
        }
      ],
      "source": [
        "np.nanmax(y_with_nan) - np.nanmin(y_with_nan)"
      ]
    },
    {
      "cell_type": "code",
      "execution_count": null,
      "id": "91eb020d",
      "metadata": {
        "id": "91eb020d",
        "outputId": "f9960bcd-559d-4884-fcc8-8fa8c369dde1"
      },
      "outputs": [
        {
          "data": {
            "text/plain": [
              "27.0"
            ]
          },
          "execution_count": 146,
          "metadata": {},
          "output_type": "execute_result"
        }
      ],
      "source": [
        "z_with_nan.max() - z_with_nan.min()"
      ]
    },
    {
      "cell_type": "markdown",
      "id": "b58d24c4",
      "metadata": {
        "id": "b58d24c4"
      },
      "source": [
        "# SUmmary of Desc Stat"
      ]
    },
    {
      "cell_type": "code",
      "execution_count": null,
      "id": "e2a5ffff",
      "metadata": {
        "id": "e2a5ffff",
        "outputId": "3b970264-c216-4147-dd68-f0dc1ba6ad93"
      },
      "outputs": [
        {
          "data": {
            "text/plain": [
              "DescribeResult(nobs=9, minmax=(-5.0, 41.0), mean=11.622222222222222, variance=228.75194444444446, skewness=0.9249043136685094, kurtosis=0.14770623629658886)"
            ]
          },
          "execution_count": 150,
          "metadata": {},
          "output_type": "execute_result"
        }
      ],
      "source": [
        "result = scipy.stats.describe(y, ddof=1, bias=False)\n",
        "result"
      ]
    },
    {
      "cell_type": "code",
      "execution_count": null,
      "id": "3476feae",
      "metadata": {
        "id": "3476feae",
        "outputId": "c7f8e846-7b1b-42c1-c2e3-6940ebd792a0"
      },
      "outputs": [
        {
          "data": {
            "text/plain": [
              "9"
            ]
          },
          "execution_count": 151,
          "metadata": {},
          "output_type": "execute_result"
        }
      ],
      "source": [
        "result.nobs"
      ]
    },
    {
      "cell_type": "code",
      "execution_count": null,
      "id": "d08aecab",
      "metadata": {
        "id": "d08aecab",
        "outputId": "18378005-fb8a-437f-d346-bba6f2c59418"
      },
      "outputs": [
        {
          "data": {
            "text/plain": [
              "-5.0"
            ]
          },
          "execution_count": 153,
          "metadata": {},
          "output_type": "execute_result"
        }
      ],
      "source": [
        "result.minmax[0]  #min"
      ]
    },
    {
      "cell_type": "code",
      "execution_count": null,
      "id": "b071a7ab",
      "metadata": {
        "id": "b071a7ab",
        "outputId": "35580d31-f06a-43df-fbc5-8cdccfdc3751"
      },
      "outputs": [
        {
          "data": {
            "text/plain": [
              "41.0"
            ]
          },
          "execution_count": 154,
          "metadata": {},
          "output_type": "execute_result"
        }
      ],
      "source": [
        "result.minmax[1] #max"
      ]
    },
    {
      "cell_type": "code",
      "execution_count": null,
      "id": "319e2359",
      "metadata": {
        "id": "319e2359",
        "outputId": "036705f1-71cc-4668-bbb2-6b1ec959fc39"
      },
      "outputs": [
        {
          "data": {
            "text/plain": [
              "11.622222222222222"
            ]
          },
          "execution_count": 155,
          "metadata": {},
          "output_type": "execute_result"
        }
      ],
      "source": [
        "result.mean"
      ]
    },
    {
      "cell_type": "code",
      "execution_count": null,
      "id": "1560159d",
      "metadata": {
        "id": "1560159d",
        "outputId": "b3eedf36-629f-4ca0-ed1e-78398e1a55c8"
      },
      "outputs": [
        {
          "data": {
            "text/plain": [
              "0.9249043136685094"
            ]
          },
          "execution_count": 156,
          "metadata": {},
          "output_type": "execute_result"
        }
      ],
      "source": [
        "result.skewness"
      ]
    },
    {
      "cell_type": "code",
      "execution_count": null,
      "id": "c1f46dc0",
      "metadata": {
        "id": "c1f46dc0",
        "outputId": "3290961a-2e70-406b-a27e-4fa4ad86db7f"
      },
      "outputs": [
        {
          "data": {
            "text/plain": [
              "count     5.00000\n",
              "mean      8.70000\n",
              "std      11.09955\n",
              "min       1.00000\n",
              "25%       2.50000\n",
              "50%       4.00000\n",
              "75%       8.00000\n",
              "max      28.00000\n",
              "dtype: float64"
            ]
          },
          "execution_count": 158,
          "metadata": {},
          "output_type": "execute_result"
        }
      ],
      "source": [
        "result = z.describe()\n",
        "result"
      ]
    },
    {
      "cell_type": "code",
      "execution_count": null,
      "id": "4513ed6f",
      "metadata": {
        "id": "4513ed6f",
        "outputId": "4b015979-bee3-4986-daf3-304d8cfcbba2"
      },
      "outputs": [
        {
          "data": {
            "text/plain": [
              "2.5"
            ]
          },
          "execution_count": 159,
          "metadata": {},
          "output_type": "execute_result"
        }
      ],
      "source": [
        "result['25%']"
      ]
    },
    {
      "cell_type": "code",
      "execution_count": null,
      "id": "8ae085d5",
      "metadata": {
        "id": "8ae085d5",
        "outputId": "4376ffda-8359-4cd7-e80c-98883007900e"
      },
      "outputs": [
        {
          "data": {
            "text/plain": [
              "8.7"
            ]
          },
          "execution_count": 160,
          "metadata": {},
          "output_type": "execute_result"
        }
      ],
      "source": [
        "result['mean']"
      ]
    },
    {
      "cell_type": "markdown",
      "id": "ab522068",
      "metadata": {
        "id": "ab522068"
      },
      "source": [
        "# Correlation"
      ]
    },
    {
      "cell_type": "code",
      "execution_count": null,
      "id": "2ed24856",
      "metadata": {
        "id": "2ed24856"
      },
      "outputs": [],
      "source": [
        "x = list(range(-10, 11))\n",
        "y = [0, 2, 2, 2, 2, 3, 3, 6, 7, 4, 7, 6, 6, 9, 4, 5, 5, 10, 11, 12, 14]"
      ]
    },
    {
      "cell_type": "code",
      "execution_count": null,
      "id": "21c3263d",
      "metadata": {
        "id": "21c3263d"
      },
      "outputs": [],
      "source": [
        "x_, y_ = np.array(x), np.array(y)\n",
        "x__, y__ = pd.Series(x_), pd.Series(y_)"
      ]
    },
    {
      "cell_type": "code",
      "execution_count": null,
      "id": "6615e867",
      "metadata": {
        "id": "6615e867",
        "outputId": "6f3ad3b3-4e73-465f-bd34-e4971e369167"
      },
      "outputs": [
        {
          "data": {
            "text/plain": [
              "19.95"
            ]
          },
          "execution_count": 163,
          "metadata": {},
          "output_type": "execute_result"
        }
      ],
      "source": [
        "n = len(x)\n",
        "mean_x, mean_y = sum(x) / n, sum(y) / n\n",
        "\n",
        "cov_xy = (sum((x[k] - mean_x) * (y[k] - mean_y) for k in range(n)) / (n - 1))\n",
        "cov_xy"
      ]
    },
    {
      "cell_type": "code",
      "execution_count": null,
      "id": "d8c406d9",
      "metadata": {
        "id": "d8c406d9",
        "outputId": "10be4551-6f9e-4563-8653-6a302b8c1c9d"
      },
      "outputs": [
        {
          "data": {
            "text/plain": [
              "array([[38.5       , 19.95      ],\n",
              "       [19.95      , 13.91428571]])"
            ]
          },
          "execution_count": 164,
          "metadata": {},
          "output_type": "execute_result"
        }
      ],
      "source": [
        "np.cov(x_, y_)"
      ]
    },
    {
      "cell_type": "code",
      "execution_count": null,
      "id": "77317da0",
      "metadata": {
        "id": "77317da0",
        "outputId": "2a18b316-a8da-46d4-ab35-93b38b573ce2"
      },
      "outputs": [
        {
          "data": {
            "text/plain": [
              "38.5"
            ]
          },
          "execution_count": 165,
          "metadata": {},
          "output_type": "execute_result"
        }
      ],
      "source": [
        "x_.var(ddof=1)"
      ]
    },
    {
      "cell_type": "code",
      "execution_count": null,
      "id": "9688fc35",
      "metadata": {
        "id": "9688fc35",
        "outputId": "390ea2fe-39d1-43c6-dcf2-311d5e581201"
      },
      "outputs": [
        {
          "data": {
            "text/plain": [
              "13.914285714285711"
            ]
          },
          "execution_count": 166,
          "metadata": {},
          "output_type": "execute_result"
        }
      ],
      "source": [
        "y_.var(ddof=1)"
      ]
    },
    {
      "cell_type": "code",
      "execution_count": null,
      "id": "ea86d510",
      "metadata": {
        "id": "ea86d510",
        "outputId": "e292812e-53b0-40a3-c108-c6fbd6c54924"
      },
      "outputs": [
        {
          "data": {
            "text/plain": [
              "19.95"
            ]
          },
          "execution_count": 168,
          "metadata": {},
          "output_type": "execute_result"
        }
      ],
      "source": [
        "np.cov(x_, y_)[1, 0]"
      ]
    },
    {
      "cell_type": "code",
      "execution_count": null,
      "id": "ee8f6709",
      "metadata": {
        "id": "ee8f6709",
        "outputId": "d01e7c30-cf17-4618-8571-e7468a11c46c"
      },
      "outputs": [
        {
          "data": {
            "text/plain": [
              "19.95"
            ]
          },
          "execution_count": 169,
          "metadata": {},
          "output_type": "execute_result"
        }
      ],
      "source": [
        "np.cov(x_, y_)[0, 1]"
      ]
    },
    {
      "cell_type": "markdown",
      "id": "9d97109f",
      "metadata": {
        "id": "9d97109f"
      },
      "source": [
        "# Correlation Coefficient"
      ]
    },
    {
      "cell_type": "code",
      "execution_count": null,
      "id": "7744208c",
      "metadata": {
        "id": "7744208c",
        "outputId": "3c7ed151-2076-40f8-c744-87ad5afb672a"
      },
      "outputs": [
        {
          "data": {
            "text/plain": [
              "0.861950005631606"
            ]
          },
          "execution_count": 170,
          "metadata": {},
          "output_type": "execute_result"
        }
      ],
      "source": [
        "var_x = sum((item - mean_x)**2 for item in x) / (n - 1)\n",
        "var_y = sum((item - mean_y)**2 for item in y) / (n - 1)\n",
        "\n",
        "std_x, std_y = var_x ** 0.5, var_y ** 0.5\n",
        "r = cov_xy / (std_x * std_y)\n",
        " \n",
        "r"
      ]
    },
    {
      "cell_type": "code",
      "execution_count": null,
      "id": "ddc6ab8b",
      "metadata": {
        "id": "ddc6ab8b",
        "outputId": "237bcbd3-fca4-42f9-8532-f5315fce5ac7"
      },
      "outputs": [
        {
          "data": {
            "text/plain": [
              "(0.8619500056316058, 5.122760847201207e-07)"
            ]
          },
          "execution_count": 171,
          "metadata": {},
          "output_type": "execute_result"
        }
      ],
      "source": [
        "scipy.stats.pearsonr(x_, y_)"
      ]
    },
    {
      "cell_type": "code",
      "execution_count": null,
      "id": "83a2550b",
      "metadata": {
        "id": "83a2550b",
        "outputId": "7cb08f3b-7514-4c19-8ac4-44e12b2f0027"
      },
      "outputs": [
        {
          "data": {
            "text/plain": [
              "array([[1.        , 0.86195001],\n",
              "       [0.86195001, 1.        ]])"
            ]
          },
          "execution_count": 173,
          "metadata": {},
          "output_type": "execute_result"
        }
      ],
      "source": [
        "np.corrcoef(x_, y_)"
      ]
    },
    {
      "cell_type": "code",
      "execution_count": null,
      "id": "688771c0",
      "metadata": {
        "id": "688771c0",
        "outputId": "25ab6e2d-d086-4be8-f743-53de9256cd19"
      },
      "outputs": [
        {
          "data": {
            "text/plain": [
              "0.8619500056316061"
            ]
          },
          "execution_count": 174,
          "metadata": {},
          "output_type": "execute_result"
        }
      ],
      "source": [
        "np.corrcoef(x_, y_)[0,1]"
      ]
    },
    {
      "cell_type": "code",
      "execution_count": null,
      "id": "8e02b687",
      "metadata": {
        "id": "8e02b687",
        "outputId": "a8425d9d-abea-4571-cc7f-f8b46b0e4c41"
      },
      "outputs": [
        {
          "data": {
            "text/plain": [
              "0.861950005631606"
            ]
          },
          "execution_count": 177,
          "metadata": {},
          "output_type": "execute_result"
        }
      ],
      "source": [
        "scipy.stats.linregress(x_ , y_).rvalue"
      ]
    },
    {
      "cell_type": "markdown",
      "id": "621c2ad5",
      "metadata": {
        "id": "621c2ad5"
      },
      "source": [
        "y = mx + c"
      ]
    },
    {
      "cell_type": "code",
      "execution_count": null,
      "id": "0d1403ae",
      "metadata": {
        "id": "0d1403ae",
        "outputId": "26b529b2-ee75-4536-86a5-115d56bb8c56"
      },
      "outputs": [
        {
          "data": {
            "text/plain": [
              "0.8619500056316061"
            ]
          },
          "execution_count": 178,
          "metadata": {},
          "output_type": "execute_result"
        }
      ],
      "source": [
        "x__.corr(y__)"
      ]
    },
    {
      "cell_type": "code",
      "execution_count": null,
      "id": "244e9f01",
      "metadata": {
        "id": "244e9f01",
        "outputId": "ab22a020-37dd-4a27-f26d-43c3a93fd427"
      },
      "outputs": [
        {
          "data": {
            "text/plain": [
              "0.861950005631606"
            ]
          },
          "execution_count": 179,
          "metadata": {},
          "output_type": "execute_result"
        }
      ],
      "source": [
        "y__.corr(x__)"
      ]
    },
    {
      "cell_type": "markdown",
      "id": "100d2c8c",
      "metadata": {
        "id": "100d2c8c"
      },
      "source": [
        "# 2D Data"
      ]
    },
    {
      "cell_type": "code",
      "execution_count": null,
      "id": "d613ae8f",
      "metadata": {
        "id": "d613ae8f"
      },
      "outputs": [],
      "source": [
        "a = np.array([[1, 1, 1],\n",
        "               [2, 3, 1],\n",
        "               [4, 9, 2],\n",
        "               [8, 27, 4],\n",
        "               [16, 1, 1]])\n",
        "\n"
      ]
    },
    {
      "cell_type": "code",
      "execution_count": null,
      "id": "1f973a67",
      "metadata": {
        "id": "1f973a67",
        "outputId": "e12d5876-cc03-414d-fc22-08dd85f22248"
      },
      "outputs": [
        {
          "data": {
            "text/plain": [
              "5.4"
            ]
          },
          "execution_count": 182,
          "metadata": {},
          "output_type": "execute_result"
        }
      ],
      "source": [
        "np.mean(a)"
      ]
    },
    {
      "cell_type": "code",
      "execution_count": null,
      "id": "01a9c259",
      "metadata": {
        "id": "01a9c259",
        "outputId": "538bc392-50de-4f9f-d192-47c5bce177a9"
      },
      "outputs": [
        {
          "data": {
            "text/plain": [
              "5.4"
            ]
          },
          "execution_count": 183,
          "metadata": {},
          "output_type": "execute_result"
        }
      ],
      "source": [
        "a.mean()"
      ]
    },
    {
      "cell_type": "code",
      "execution_count": null,
      "id": "d4ea3f97",
      "metadata": {
        "id": "d4ea3f97",
        "outputId": "682c3e36-5a0b-4492-931f-7531e0dfca4c"
      },
      "outputs": [
        {
          "data": {
            "text/plain": [
              "2.0"
            ]
          },
          "execution_count": 184,
          "metadata": {},
          "output_type": "execute_result"
        }
      ],
      "source": [
        "np.median(a)"
      ]
    },
    {
      "cell_type": "code",
      "execution_count": null,
      "id": "a53755ae",
      "metadata": {
        "id": "a53755ae",
        "outputId": "03fc8149-5294-4471-ab35-6766640e0ece"
      },
      "outputs": [
        {
          "data": {
            "text/plain": [
              "array([4., 3., 1.])"
            ]
          },
          "execution_count": 185,
          "metadata": {},
          "output_type": "execute_result"
        }
      ],
      "source": [
        "np.median(a, axis=0)"
      ]
    },
    {
      "cell_type": "code",
      "execution_count": null,
      "id": "6c4066d9",
      "metadata": {
        "id": "6c4066d9",
        "outputId": "a66f5533-8fdf-4ead-d122-2c31113f455d"
      },
      "outputs": [
        {
          "data": {
            "text/plain": [
              "array([1., 2., 4., 8., 1.])"
            ]
          },
          "execution_count": 186,
          "metadata": {},
          "output_type": "execute_result"
        }
      ],
      "source": [
        "np.median(a, axis=1)"
      ]
    },
    {
      "cell_type": "code",
      "execution_count": null,
      "id": "f2583cc1",
      "metadata": {
        "id": "f2583cc1",
        "outputId": "c5a999eb-423f-4430-a4a9-bcae912ec970"
      },
      "outputs": [
        {
          "data": {
            "text/plain": [
              "array([4.        , 3.73719282, 1.51571657])"
            ]
          },
          "execution_count": 187,
          "metadata": {},
          "output_type": "execute_result"
        }
      ],
      "source": [
        "scipy.stats.gmean(a)"
      ]
    },
    {
      "cell_type": "code",
      "execution_count": null,
      "id": "c05b2f49",
      "metadata": {
        "id": "c05b2f49",
        "outputId": "52277f39-8359-4e5c-9154-0afd07d48e51"
      },
      "outputs": [
        {
          "data": {
            "text/plain": [
              "array([1.        , 1.81712059, 4.16016765, 9.52440631, 2.5198421 ])"
            ]
          },
          "execution_count": 188,
          "metadata": {},
          "output_type": "execute_result"
        }
      ],
      "source": [
        "scipy.stats.gmean(a, axis=1)"
      ]
    },
    {
      "cell_type": "code",
      "execution_count": null,
      "id": "b75d0a3b",
      "metadata": {
        "id": "b75d0a3b",
        "outputId": "a20fc9b2-394b-495b-fe0a-913d648146e1"
      },
      "outputs": [
        {
          "data": {
            "text/plain": [
              "2.829705017016332"
            ]
          },
          "execution_count": 189,
          "metadata": {},
          "output_type": "execute_result"
        }
      ],
      "source": [
        "scipy.stats.gmean(a, axis=None)"
      ]
    },
    {
      "cell_type": "code",
      "execution_count": null,
      "id": "66e88396",
      "metadata": {
        "id": "66e88396",
        "outputId": "d97a73e6-e1da-4da8-ceae-8635296bdf26"
      },
      "outputs": [
        {
          "data": {
            "text/plain": [
              "DescribeResult(nobs=3, minmax=(array([1, 1, 2, 4, 1]), array([ 1,  3,  9, 27, 16])), mean=array([ 1.,  2.,  5., 13.,  6.]), variance=array([  0.,   1.,  13., 151.,  75.]), skewness=array([0.        , 0.        , 1.15206964, 1.52787436, 1.73205081]), kurtosis=array([-3. , -1.5, -1.5, -1.5, -1.5]))"
            ]
          },
          "execution_count": 190,
          "metadata": {},
          "output_type": "execute_result"
        }
      ],
      "source": [
        "scipy.stats.describe(a, axis=1, ddof=1, bias=False)"
      ]
    },
    {
      "cell_type": "markdown",
      "id": "1aadfd23",
      "metadata": {
        "id": "1aadfd23"
      },
      "source": [
        "# Dataframe"
      ]
    },
    {
      "cell_type": "code",
      "execution_count": null,
      "id": "6fe4b00f",
      "metadata": {
        "id": "6fe4b00f",
        "outputId": "d53630a6-09ba-4acd-dec1-faa6093ead9f"
      },
      "outputs": [
        {
          "ename": "TypeError",
          "evalue": "__init__() got an unexpected keyword argument 'colums'",
          "output_type": "error",
          "traceback": [
            "\u001b[1;31m---------------------------------------------------------------------------\u001b[0m",
            "\u001b[1;31mTypeError\u001b[0m                                 Traceback (most recent call last)",
            "Input \u001b[1;32mIn [192]\u001b[0m, in \u001b[0;36m<cell line: 4>\u001b[1;34m()\u001b[0m\n\u001b[0;32m      1\u001b[0m row_names \u001b[38;5;241m=\u001b[39m [\u001b[38;5;124m'\u001b[39m\u001b[38;5;124mfirst\u001b[39m\u001b[38;5;124m'\u001b[39m, \u001b[38;5;124m'\u001b[39m\u001b[38;5;124msecond\u001b[39m\u001b[38;5;124m'\u001b[39m, \u001b[38;5;124m'\u001b[39m\u001b[38;5;124mthird\u001b[39m\u001b[38;5;124m'\u001b[39m, \u001b[38;5;124m'\u001b[39m\u001b[38;5;124mfourth\u001b[39m\u001b[38;5;124m'\u001b[39m, \u001b[38;5;124m'\u001b[39m\u001b[38;5;124mfifth\u001b[39m\u001b[38;5;124m'\u001b[39m]\n\u001b[0;32m      2\u001b[0m col_names \u001b[38;5;241m=\u001b[39m [\u001b[38;5;124m'\u001b[39m\u001b[38;5;124mA\u001b[39m\u001b[38;5;124m'\u001b[39m, \u001b[38;5;124m'\u001b[39m\u001b[38;5;124mB\u001b[39m\u001b[38;5;124m'\u001b[39m, \u001b[38;5;124m'\u001b[39m\u001b[38;5;124mC\u001b[39m\u001b[38;5;124m'\u001b[39m]\n\u001b[1;32m----> 4\u001b[0m df \u001b[38;5;241m=\u001b[39m \u001b[43mpd\u001b[49m\u001b[38;5;241;43m.\u001b[39;49m\u001b[43mDataFrame\u001b[49m\u001b[43m(\u001b[49m\u001b[43ma\u001b[49m\u001b[43m,\u001b[49m\u001b[43m \u001b[49m\u001b[43mindex\u001b[49m\u001b[38;5;241;43m=\u001b[39;49m\u001b[43mrow_names\u001b[49m\u001b[43m,\u001b[49m\u001b[43m \u001b[49m\u001b[43mcolums\u001b[49m\u001b[38;5;241;43m=\u001b[39;49m\u001b[43mcol_names\u001b[49m\u001b[43m)\u001b[49m\n\u001b[0;32m      5\u001b[0m df\n",
            "\u001b[1;31mTypeError\u001b[0m: __init__() got an unexpected keyword argument 'colums'"
          ]
        }
      ],
      "source": [
        "row_names = ['first', 'second', 'third', 'fourth', 'fifth']\n",
        "col_names = ['A', 'B', 'C']\n",
        "\n",
        "df = pd.DataFrame(a, index=row_names, colums=col_names)\n",
        "df"
      ]
    },
    {
      "cell_type": "code",
      "execution_count": null,
      "id": "d6c3c753",
      "metadata": {
        "id": "d6c3c753",
        "outputId": "d0f39dac-3126-46d7-a3f6-e80b824166b7"
      },
      "outputs": [
        {
          "data": {
            "text/html": [
              "<div>\n",
              "<style scoped>\n",
              "    .dataframe tbody tr th:only-of-type {\n",
              "        vertical-align: middle;\n",
              "    }\n",
              "\n",
              "    .dataframe tbody tr th {\n",
              "        vertical-align: top;\n",
              "    }\n",
              "\n",
              "    .dataframe thead th {\n",
              "        text-align: right;\n",
              "    }\n",
              "</style>\n",
              "<table border=\"1\" class=\"dataframe\">\n",
              "  <thead>\n",
              "    <tr style=\"text-align: right;\">\n",
              "      <th></th>\n",
              "      <th>A</th>\n",
              "      <th>B</th>\n",
              "      <th>C</th>\n",
              "    </tr>\n",
              "  </thead>\n",
              "  <tbody>\n",
              "    <tr>\n",
              "      <th>first</th>\n",
              "      <td>1</td>\n",
              "      <td>1</td>\n",
              "      <td>1</td>\n",
              "    </tr>\n",
              "    <tr>\n",
              "      <th>second</th>\n",
              "      <td>2</td>\n",
              "      <td>3</td>\n",
              "      <td>1</td>\n",
              "    </tr>\n",
              "    <tr>\n",
              "      <th>third</th>\n",
              "      <td>4</td>\n",
              "      <td>9</td>\n",
              "      <td>2</td>\n",
              "    </tr>\n",
              "    <tr>\n",
              "      <th>fourth</th>\n",
              "      <td>8</td>\n",
              "      <td>27</td>\n",
              "      <td>4</td>\n",
              "    </tr>\n",
              "    <tr>\n",
              "      <th>fifth</th>\n",
              "      <td>16</td>\n",
              "      <td>1</td>\n",
              "      <td>1</td>\n",
              "    </tr>\n",
              "  </tbody>\n",
              "</table>\n",
              "</div>"
            ],
            "text/plain": [
              "         A   B  C\n",
              "first    1   1  1\n",
              "second   2   3  1\n",
              "third    4   9  2\n",
              "fourth   8  27  4\n",
              "fifth   16   1  1"
            ]
          },
          "execution_count": 193,
          "metadata": {},
          "output_type": "execute_result"
        }
      ],
      "source": [
        "row_names = ['first', 'second', 'third', 'fourth', 'fifth']\n",
        "col_names = ['A', 'B', 'C']\n",
        "\n",
        "df = pd.DataFrame(a, index=row_names, columns=col_names)\n",
        "df"
      ]
    },
    {
      "cell_type": "code",
      "execution_count": null,
      "id": "29f4f2b8",
      "metadata": {
        "id": "29f4f2b8",
        "outputId": "c6359baa-643c-4a96-c195-15f6786a60ff"
      },
      "outputs": [
        {
          "data": {
            "text/plain": [
              "A    6.2\n",
              "B    8.2\n",
              "C    1.8\n",
              "dtype: float64"
            ]
          },
          "execution_count": 194,
          "metadata": {},
          "output_type": "execute_result"
        }
      ],
      "source": [
        "df.mean()"
      ]
    },
    {
      "cell_type": "code",
      "execution_count": null,
      "id": "8b0ab615",
      "metadata": {
        "id": "8b0ab615",
        "outputId": "1c817405-d6fb-4775-c51d-d6d364edd106"
      },
      "outputs": [
        {
          "data": {
            "text/plain": [
              "A     37.2\n",
              "B    121.2\n",
              "C      1.7\n",
              "dtype: float64"
            ]
          },
          "execution_count": 195,
          "metadata": {},
          "output_type": "execute_result"
        }
      ],
      "source": [
        "df.var()"
      ]
    },
    {
      "cell_type": "code",
      "execution_count": null,
      "id": "bc36960e",
      "metadata": {
        "id": "bc36960e",
        "outputId": "fcacdad7-f273-4031-ac9f-286896f4d6e7"
      },
      "outputs": [
        {
          "data": {
            "text/plain": [
              "first      1.0\n",
              "second     2.0\n",
              "third      5.0\n",
              "fourth    13.0\n",
              "fifth      6.0\n",
              "dtype: float64"
            ]
          },
          "execution_count": 196,
          "metadata": {},
          "output_type": "execute_result"
        }
      ],
      "source": [
        "df.mean(axis=1)"
      ]
    },
    {
      "cell_type": "code",
      "execution_count": null,
      "id": "43497b50",
      "metadata": {
        "id": "43497b50",
        "outputId": "45eeac55-5c38-41b7-bd00-980a65218f9b"
      },
      "outputs": [
        {
          "data": {
            "text/plain": [
              "first       0.0\n",
              "second      1.0\n",
              "third      13.0\n",
              "fourth    151.0\n",
              "fifth      75.0\n",
              "dtype: float64"
            ]
          },
          "execution_count": 197,
          "metadata": {},
          "output_type": "execute_result"
        }
      ],
      "source": [
        "df.var(axis=1)"
      ]
    },
    {
      "cell_type": "code",
      "execution_count": null,
      "id": "55697a11",
      "metadata": {
        "id": "55697a11",
        "outputId": "8afbf810-139b-44ef-ed02-46a2ba6680cc"
      },
      "outputs": [
        {
          "data": {
            "text/plain": [
              "6.2"
            ]
          },
          "execution_count": 199,
          "metadata": {},
          "output_type": "execute_result"
        }
      ],
      "source": [
        "df[\"A\"].mean()"
      ]
    },
    {
      "cell_type": "code",
      "execution_count": null,
      "id": "32d2f86d",
      "metadata": {
        "id": "32d2f86d",
        "outputId": "1971b882-d220-45ac-cea4-ae133888fb98"
      },
      "outputs": [
        {
          "data": {
            "text/plain": [
              "37.20000000000001"
            ]
          },
          "execution_count": 200,
          "metadata": {},
          "output_type": "execute_result"
        }
      ],
      "source": [
        "df[\"A\"].var()"
      ]
    },
    {
      "cell_type": "code",
      "execution_count": null,
      "id": "3ed6f4a1",
      "metadata": {
        "id": "3ed6f4a1",
        "outputId": "2a00fe70-9e4d-4fc2-b5c1-ef56228cf79c"
      },
      "outputs": [
        {
          "data": {
            "text/plain": [
              "array([[ 1,  1,  1],\n",
              "       [ 2,  3,  1],\n",
              "       [ 4,  9,  2],\n",
              "       [ 8, 27,  4],\n",
              "       [16,  1,  1]])"
            ]
          },
          "execution_count": 201,
          "metadata": {},
          "output_type": "execute_result"
        }
      ],
      "source": [
        "df.values"
      ]
    },
    {
      "cell_type": "code",
      "execution_count": null,
      "id": "a1ff5501",
      "metadata": {
        "id": "a1ff5501",
        "outputId": "3aca3340-813c-42c1-c352-f15ad7d9fffa"
      },
      "outputs": [
        {
          "data": {
            "text/plain": [
              "array([[ 1,  1,  1],\n",
              "       [ 2,  3,  1],\n",
              "       [ 4,  9,  2],\n",
              "       [ 8, 27,  4],\n",
              "       [16,  1,  1]])"
            ]
          },
          "execution_count": 202,
          "metadata": {},
          "output_type": "execute_result"
        }
      ],
      "source": [
        "df.to_numpy()"
      ]
    },
    {
      "cell_type": "code",
      "execution_count": null,
      "id": "82eb9819",
      "metadata": {
        "scrolled": true,
        "id": "82eb9819",
        "outputId": "089fdf9c-b1a0-48cb-d91e-c725aa2cfaf6"
      },
      "outputs": [
        {
          "data": {
            "text/html": [
              "<div>\n",
              "<style scoped>\n",
              "    .dataframe tbody tr th:only-of-type {\n",
              "        vertical-align: middle;\n",
              "    }\n",
              "\n",
              "    .dataframe tbody tr th {\n",
              "        vertical-align: top;\n",
              "    }\n",
              "\n",
              "    .dataframe thead th {\n",
              "        text-align: right;\n",
              "    }\n",
              "</style>\n",
              "<table border=\"1\" class=\"dataframe\">\n",
              "  <thead>\n",
              "    <tr style=\"text-align: right;\">\n",
              "      <th></th>\n",
              "      <th>A</th>\n",
              "      <th>B</th>\n",
              "      <th>C</th>\n",
              "    </tr>\n",
              "  </thead>\n",
              "  <tbody>\n",
              "    <tr>\n",
              "      <th>count</th>\n",
              "      <td>5.00000</td>\n",
              "      <td>5.000000</td>\n",
              "      <td>5.00000</td>\n",
              "    </tr>\n",
              "    <tr>\n",
              "      <th>mean</th>\n",
              "      <td>6.20000</td>\n",
              "      <td>8.200000</td>\n",
              "      <td>1.80000</td>\n",
              "    </tr>\n",
              "    <tr>\n",
              "      <th>std</th>\n",
              "      <td>6.09918</td>\n",
              "      <td>11.009087</td>\n",
              "      <td>1.30384</td>\n",
              "    </tr>\n",
              "    <tr>\n",
              "      <th>min</th>\n",
              "      <td>1.00000</td>\n",
              "      <td>1.000000</td>\n",
              "      <td>1.00000</td>\n",
              "    </tr>\n",
              "    <tr>\n",
              "      <th>25%</th>\n",
              "      <td>2.00000</td>\n",
              "      <td>1.000000</td>\n",
              "      <td>1.00000</td>\n",
              "    </tr>\n",
              "    <tr>\n",
              "      <th>50%</th>\n",
              "      <td>4.00000</td>\n",
              "      <td>3.000000</td>\n",
              "      <td>1.00000</td>\n",
              "    </tr>\n",
              "    <tr>\n",
              "      <th>75%</th>\n",
              "      <td>8.00000</td>\n",
              "      <td>9.000000</td>\n",
              "      <td>2.00000</td>\n",
              "    </tr>\n",
              "    <tr>\n",
              "      <th>max</th>\n",
              "      <td>16.00000</td>\n",
              "      <td>27.000000</td>\n",
              "      <td>4.00000</td>\n",
              "    </tr>\n",
              "  </tbody>\n",
              "</table>\n",
              "</div>"
            ],
            "text/plain": [
              "              A          B        C\n",
              "count   5.00000   5.000000  5.00000\n",
              "mean    6.20000   8.200000  1.80000\n",
              "std     6.09918  11.009087  1.30384\n",
              "min     1.00000   1.000000  1.00000\n",
              "25%     2.00000   1.000000  1.00000\n",
              "50%     4.00000   3.000000  1.00000\n",
              "75%     8.00000   9.000000  2.00000\n",
              "max    16.00000  27.000000  4.00000"
            ]
          },
          "execution_count": 203,
          "metadata": {},
          "output_type": "execute_result"
        }
      ],
      "source": [
        "df.describe()"
      ]
    },
    {
      "cell_type": "code",
      "execution_count": null,
      "id": "2a23fb10",
      "metadata": {
        "id": "2a23fb10"
      },
      "outputs": [],
      "source": []
    },
    {
      "cell_type": "code",
      "execution_count": null,
      "id": "03a4318a",
      "metadata": {
        "id": "03a4318a"
      },
      "outputs": [],
      "source": []
    },
    {
      "cell_type": "code",
      "execution_count": null,
      "id": "8aeac859",
      "metadata": {
        "id": "8aeac859"
      },
      "outputs": [],
      "source": []
    },
    {
      "cell_type": "code",
      "execution_count": null,
      "id": "f2e17d0b",
      "metadata": {
        "id": "f2e17d0b"
      },
      "outputs": [],
      "source": []
    },
    {
      "cell_type": "code",
      "execution_count": null,
      "id": "63a73714",
      "metadata": {
        "id": "63a73714"
      },
      "outputs": [],
      "source": []
    },
    {
      "cell_type": "code",
      "execution_count": null,
      "id": "92409fef",
      "metadata": {
        "id": "92409fef"
      },
      "outputs": [],
      "source": []
    },
    {
      "cell_type": "code",
      "execution_count": null,
      "id": "ec87f0c6",
      "metadata": {
        "id": "ec87f0c6"
      },
      "outputs": [],
      "source": []
    },
    {
      "cell_type": "code",
      "execution_count": null,
      "id": "15374925",
      "metadata": {
        "id": "15374925"
      },
      "outputs": [],
      "source": []
    },
    {
      "cell_type": "code",
      "execution_count": null,
      "id": "02479376",
      "metadata": {
        "id": "02479376"
      },
      "outputs": [],
      "source": []
    },
    {
      "cell_type": "code",
      "execution_count": null,
      "id": "1c6728ca",
      "metadata": {
        "id": "1c6728ca"
      },
      "outputs": [],
      "source": []
    },
    {
      "cell_type": "code",
      "execution_count": null,
      "id": "86249927",
      "metadata": {
        "id": "86249927"
      },
      "outputs": [],
      "source": []
    },
    {
      "cell_type": "code",
      "execution_count": null,
      "id": "8ea952fc",
      "metadata": {
        "id": "8ea952fc"
      },
      "outputs": [],
      "source": []
    },
    {
      "cell_type": "code",
      "execution_count": null,
      "id": "b3f6d35e",
      "metadata": {
        "id": "b3f6d35e"
      },
      "outputs": [],
      "source": []
    },
    {
      "cell_type": "code",
      "execution_count": null,
      "id": "edd53499",
      "metadata": {
        "id": "edd53499"
      },
      "outputs": [],
      "source": []
    },
    {
      "cell_type": "code",
      "execution_count": null,
      "id": "695aaf50",
      "metadata": {
        "id": "695aaf50"
      },
      "outputs": [],
      "source": []
    },
    {
      "cell_type": "code",
      "execution_count": null,
      "id": "4b822a88",
      "metadata": {
        "id": "4b822a88"
      },
      "outputs": [],
      "source": []
    },
    {
      "cell_type": "code",
      "execution_count": null,
      "id": "48c1da85",
      "metadata": {
        "id": "48c1da85"
      },
      "outputs": [],
      "source": []
    },
    {
      "cell_type": "code",
      "execution_count": null,
      "id": "14b3d98b",
      "metadata": {
        "id": "14b3d98b"
      },
      "outputs": [],
      "source": []
    },
    {
      "cell_type": "code",
      "execution_count": null,
      "id": "9d70700d",
      "metadata": {
        "id": "9d70700d"
      },
      "outputs": [],
      "source": []
    },
    {
      "cell_type": "code",
      "execution_count": null,
      "id": "7fd1fed5",
      "metadata": {
        "id": "7fd1fed5"
      },
      "outputs": [],
      "source": []
    },
    {
      "cell_type": "code",
      "execution_count": null,
      "id": "fb46b4b4",
      "metadata": {
        "id": "fb46b4b4"
      },
      "outputs": [],
      "source": []
    },
    {
      "cell_type": "code",
      "execution_count": null,
      "id": "ca2f4999",
      "metadata": {
        "id": "ca2f4999"
      },
      "outputs": [],
      "source": []
    },
    {
      "cell_type": "code",
      "execution_count": null,
      "id": "5f18575a",
      "metadata": {
        "id": "5f18575a"
      },
      "outputs": [],
      "source": []
    },
    {
      "cell_type": "code",
      "execution_count": null,
      "id": "52e53888",
      "metadata": {
        "id": "52e53888"
      },
      "outputs": [],
      "source": []
    },
    {
      "cell_type": "code",
      "execution_count": null,
      "id": "2dd933b8",
      "metadata": {
        "id": "2dd933b8"
      },
      "outputs": [],
      "source": []
    },
    {
      "cell_type": "code",
      "execution_count": null,
      "id": "d947852d",
      "metadata": {
        "id": "d947852d"
      },
      "outputs": [],
      "source": []
    },
    {
      "cell_type": "code",
      "execution_count": null,
      "id": "68051546",
      "metadata": {
        "id": "68051546"
      },
      "outputs": [],
      "source": []
    },
    {
      "cell_type": "code",
      "execution_count": null,
      "id": "0cbe321d",
      "metadata": {
        "id": "0cbe321d"
      },
      "outputs": [],
      "source": []
    },
    {
      "cell_type": "code",
      "execution_count": null,
      "id": "5f9e172a",
      "metadata": {
        "id": "5f9e172a"
      },
      "outputs": [],
      "source": []
    },
    {
      "cell_type": "code",
      "execution_count": null,
      "id": "85c75ea4",
      "metadata": {
        "id": "85c75ea4"
      },
      "outputs": [],
      "source": []
    },
    {
      "cell_type": "code",
      "execution_count": null,
      "id": "a8a79692",
      "metadata": {
        "id": "a8a79692"
      },
      "outputs": [],
      "source": []
    },
    {
      "cell_type": "code",
      "execution_count": null,
      "id": "84871553",
      "metadata": {
        "id": "84871553"
      },
      "outputs": [],
      "source": []
    },
    {
      "cell_type": "code",
      "execution_count": null,
      "id": "47cc8c09",
      "metadata": {
        "id": "47cc8c09"
      },
      "outputs": [],
      "source": []
    },
    {
      "cell_type": "code",
      "execution_count": null,
      "id": "49bfc694",
      "metadata": {
        "id": "49bfc694"
      },
      "outputs": [],
      "source": []
    },
    {
      "cell_type": "code",
      "execution_count": null,
      "id": "d50214cd",
      "metadata": {
        "id": "d50214cd"
      },
      "outputs": [],
      "source": []
    },
    {
      "cell_type": "code",
      "execution_count": null,
      "id": "91cf9657",
      "metadata": {
        "id": "91cf9657"
      },
      "outputs": [],
      "source": []
    },
    {
      "cell_type": "code",
      "execution_count": null,
      "id": "6ba015ef",
      "metadata": {
        "id": "6ba015ef"
      },
      "outputs": [],
      "source": []
    },
    {
      "cell_type": "code",
      "execution_count": null,
      "id": "a6faada7",
      "metadata": {
        "id": "a6faada7"
      },
      "outputs": [],
      "source": []
    },
    {
      "cell_type": "code",
      "execution_count": null,
      "id": "f62d2453",
      "metadata": {
        "id": "f62d2453"
      },
      "outputs": [],
      "source": []
    },
    {
      "cell_type": "code",
      "execution_count": null,
      "id": "09160c04",
      "metadata": {
        "id": "09160c04"
      },
      "outputs": [],
      "source": []
    },
    {
      "cell_type": "code",
      "execution_count": null,
      "id": "fa9b5f3b",
      "metadata": {
        "id": "fa9b5f3b"
      },
      "outputs": [],
      "source": []
    },
    {
      "cell_type": "code",
      "execution_count": null,
      "id": "0f3a1ad6",
      "metadata": {
        "id": "0f3a1ad6"
      },
      "outputs": [],
      "source": []
    },
    {
      "cell_type": "code",
      "execution_count": null,
      "id": "574b39ab",
      "metadata": {
        "id": "574b39ab"
      },
      "outputs": [],
      "source": []
    },
    {
      "cell_type": "code",
      "execution_count": null,
      "id": "71fb6a97",
      "metadata": {
        "id": "71fb6a97"
      },
      "outputs": [],
      "source": []
    },
    {
      "cell_type": "code",
      "execution_count": null,
      "id": "e23637cf",
      "metadata": {
        "id": "e23637cf"
      },
      "outputs": [],
      "source": []
    },
    {
      "cell_type": "code",
      "execution_count": null,
      "id": "d2086b78",
      "metadata": {
        "id": "d2086b78"
      },
      "outputs": [],
      "source": []
    },
    {
      "cell_type": "code",
      "execution_count": null,
      "id": "b8fc3b07",
      "metadata": {
        "id": "b8fc3b07"
      },
      "outputs": [],
      "source": []
    },
    {
      "cell_type": "code",
      "execution_count": null,
      "id": "0db2b069",
      "metadata": {
        "id": "0db2b069"
      },
      "outputs": [],
      "source": []
    },
    {
      "cell_type": "code",
      "execution_count": null,
      "id": "8d276a23",
      "metadata": {
        "id": "8d276a23"
      },
      "outputs": [],
      "source": []
    },
    {
      "cell_type": "code",
      "execution_count": null,
      "id": "9289ed78",
      "metadata": {
        "id": "9289ed78"
      },
      "outputs": [],
      "source": []
    }
  ],
  "metadata": {
    "kernelspec": {
      "display_name": "Python 3 (ipykernel)",
      "language": "python",
      "name": "python3"
    },
    "language_info": {
      "codemirror_mode": {
        "name": "ipython",
        "version": 3
      },
      "file_extension": ".py",
      "mimetype": "text/x-python",
      "name": "python",
      "nbconvert_exporter": "python",
      "pygments_lexer": "ipython3",
      "version": "3.9.12"
    },
    "colab": {
      "provenance": [],
      "include_colab_link": true
    }
  },
  "nbformat": 4,
  "nbformat_minor": 5
}