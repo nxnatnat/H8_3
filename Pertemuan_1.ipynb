{
  "cells": [
    {
      "cell_type": "markdown",
      "metadata": {
        "id": "view-in-github",
        "colab_type": "text"
      },
      "source": [
        "<a href=\"https://colab.research.google.com/github/nxnatnat/H8_3/blob/main/Pertemuan_1.ipynb\" target=\"_parent\"><img src=\"https://colab.research.google.com/assets/colab-badge.svg\" alt=\"Open In Colab\"/></a>"
      ]
    },
    {
      "cell_type": "markdown",
      "id": "8d6b5c2c",
      "metadata": {
        "id": "8d6b5c2c"
      },
      "source": [
        "# Introduction Python"
      ]
    },
    {
      "cell_type": "markdown",
      "id": "7aea8951",
      "metadata": {
        "id": "7aea8951"
      },
      "source": [
        "# Integers"
      ]
    },
    {
      "cell_type": "code",
      "execution_count": null,
      "id": "a01cdd0b",
      "metadata": {
        "id": "a01cdd0b",
        "outputId": "4c9f912c-3b05-471c-d1c8-20db6ffe3e0f"
      },
      "outputs": [
        {
          "name": "stdout",
          "output_type": "stream",
          "text": [
            "12341234\n"
          ]
        }
      ],
      "source": [
        "print(12341234)"
      ]
    },
    {
      "cell_type": "code",
      "execution_count": null,
      "id": "a432278c",
      "metadata": {
        "id": "a432278c",
        "outputId": "aa7e89b9-3cd3-41d8-af7c-453fc9503d7f"
      },
      "outputs": [
        {
          "name": "stdout",
          "output_type": "stream",
          "text": [
            "123123123124\n"
          ]
        }
      ],
      "source": [
        "print(123123123123 + 1)"
      ]
    },
    {
      "cell_type": "code",
      "execution_count": null,
      "id": "f95a06bf",
      "metadata": {
        "id": "f95a06bf",
        "outputId": "7536275a-5bc8-409e-9481-2cc06bf7fd6d"
      },
      "outputs": [
        {
          "name": "stdout",
          "output_type": "stream",
          "text": [
            "<class 'int'>\n",
            "10\n"
          ]
        }
      ],
      "source": [
        "print(type(10))\n",
        "print(10)"
      ]
    },
    {
      "cell_type": "markdown",
      "id": "6b2b2e87",
      "metadata": {
        "id": "6b2b2e87"
      },
      "source": [
        "# Float"
      ]
    },
    {
      "cell_type": "code",
      "execution_count": null,
      "id": "1715094d",
      "metadata": {
        "id": "1715094d",
        "outputId": "58141e82-f338-4862-a440-32a6b5dee339"
      },
      "outputs": [
        {
          "name": "stdout",
          "output_type": "stream",
          "text": [
            "4.2\n",
            "<class 'float'>\n"
          ]
        }
      ],
      "source": [
        "print(4.2)\n",
        "print(type(4.2))"
      ]
    },
    {
      "cell_type": "code",
      "execution_count": null,
      "id": "38ed75b9",
      "metadata": {
        "id": "38ed75b9",
        "outputId": "7587e794-93ff-4441-cd4c-22cea01ad054"
      },
      "outputs": [
        {
          "name": "stdout",
          "output_type": "stream",
          "text": [
            "4.0\n",
            "0.2\n",
            "4000000.0\n",
            "0.00042\n"
          ]
        }
      ],
      "source": [
        "print(4.)\n",
        "print(.2)\n",
        "print(.4e7)\n",
        "print(4.2e-4)"
      ]
    },
    {
      "cell_type": "markdown",
      "id": "71e0cf9a",
      "metadata": {
        "id": "71e0cf9a"
      },
      "source": [
        "# String"
      ]
    },
    {
      "cell_type": "code",
      "execution_count": null,
      "id": "77fdfc0b",
      "metadata": {
        "id": "77fdfc0b",
        "outputId": "04a41d9f-1196-458d-e248-f351eb52d2ed"
      },
      "outputs": [
        {
          "name": "stdout",
          "output_type": "stream",
          "text": [
            "Hacktiv8\n",
            "<class 'str'>\n"
          ]
        }
      ],
      "source": [
        "print(\"Hacktiv8\")\n",
        "print(type(\"Hacktiv8\"))"
      ]
    },
    {
      "cell_type": "code",
      "execution_count": null,
      "id": "5508d75f",
      "metadata": {
        "id": "5508d75f",
        "outputId": "4951e560-f92c-4afb-fa07-2a5c31c50c85"
      },
      "outputs": [
        {
          "name": "stdout",
          "output_type": "stream",
          "text": [
            "\n"
          ]
        }
      ],
      "source": [
        "print('')"
      ]
    },
    {
      "cell_type": "code",
      "execution_count": null,
      "id": "81c2b2a3",
      "metadata": {
        "id": "81c2b2a3",
        "outputId": "dba747a6-917b-46c1-ab64-f9bbc4b2fc64"
      },
      "outputs": [
        {
          "name": "stdout",
          "output_type": "stream",
          "text": [
            "This string contains a single quote ('') character.\n",
            "This string contains a double qoute (\"\") character.\n"
          ]
        }
      ],
      "source": [
        "print(\"This string contains a single quote ('') character.\")\n",
        "print('This string contains a double qoute (\"\") character.')"
      ]
    },
    {
      "cell_type": "markdown",
      "id": "87be4143",
      "metadata": {
        "id": "87be4143"
      },
      "source": [
        "# Boolean Type, Boolean Context, and \"Truthiness\""
      ]
    },
    {
      "cell_type": "code",
      "execution_count": null,
      "id": "fc735442",
      "metadata": {
        "id": "fc735442",
        "outputId": "41ecf829-fecd-46f8-bb3e-cb16b20d2ed9"
      },
      "outputs": [
        {
          "name": "stdout",
          "output_type": "stream",
          "text": [
            "<class 'bool'>\n",
            "<class 'bool'>\n"
          ]
        }
      ],
      "source": [
        "print(type(True))\n",
        "print(type(False))"
      ]
    },
    {
      "cell_type": "markdown",
      "id": "eb103355",
      "metadata": {
        "id": "eb103355"
      },
      "source": [
        "# Variabel Assignment"
      ]
    },
    {
      "cell_type": "code",
      "execution_count": null,
      "id": "ef380b12",
      "metadata": {
        "id": "ef380b12"
      },
      "outputs": [],
      "source": [
        "n = 300"
      ]
    },
    {
      "cell_type": "code",
      "execution_count": null,
      "id": "cfd25aa4",
      "metadata": {
        "id": "cfd25aa4",
        "outputId": "e9ae0695-fc55-4b7f-cd4e-5a5254086577"
      },
      "outputs": [
        {
          "name": "stdout",
          "output_type": "stream",
          "text": [
            "300\n"
          ]
        }
      ],
      "source": [
        "print(n)"
      ]
    },
    {
      "cell_type": "code",
      "execution_count": null,
      "id": "683e2c36",
      "metadata": {
        "id": "683e2c36"
      },
      "outputs": [],
      "source": [
        "n = 100"
      ]
    },
    {
      "cell_type": "code",
      "execution_count": null,
      "id": "a1f4c2e8",
      "metadata": {
        "id": "a1f4c2e8",
        "outputId": "abe0f7dc-4d91-4d94-98da-15c0c2569ac4"
      },
      "outputs": [
        {
          "data": {
            "text/plain": [
              "100"
            ]
          },
          "execution_count": 19,
          "metadata": {},
          "output_type": "execute_result"
        }
      ],
      "source": [
        "n"
      ]
    },
    {
      "cell_type": "code",
      "execution_count": null,
      "id": "45aaefc0",
      "metadata": {
        "id": "45aaefc0",
        "outputId": "62552513-555c-4bb2-8df6-a45c503a735b"
      },
      "outputs": [
        {
          "name": "stdout",
          "output_type": "stream",
          "text": [
            "300 300 300\n"
          ]
        }
      ],
      "source": [
        "a = b = c = 300\n",
        "print(a,b,c)"
      ]
    },
    {
      "cell_type": "markdown",
      "id": "ee381a0a",
      "metadata": {
        "id": "ee381a0a"
      },
      "source": [
        "# Variabel Types in Python"
      ]
    },
    {
      "cell_type": "code",
      "execution_count": null,
      "id": "ad7957cb",
      "metadata": {
        "id": "ad7957cb",
        "outputId": "1c9040cb-ffc6-41be-9a55-ca34d27bcc35"
      },
      "outputs": [
        {
          "name": "stdout",
          "output_type": "stream",
          "text": [
            "23.5\n"
          ]
        }
      ],
      "source": [
        "var = 23.5\n",
        "print(var)"
      ]
    },
    {
      "cell_type": "code",
      "execution_count": null,
      "id": "ab21c790",
      "metadata": {
        "id": "ab21c790",
        "outputId": "09a569d4-2c41-4459-c3d2-0db8d4482013"
      },
      "outputs": [
        {
          "name": "stdout",
          "output_type": "stream",
          "text": [
            "Now I'm a string\n"
          ]
        }
      ],
      "source": [
        "var = \"Now I'm a string\"\n",
        "print (var)"
      ]
    },
    {
      "cell_type": "code",
      "execution_count": null,
      "id": "daea10da",
      "metadata": {
        "id": "daea10da",
        "outputId": "f1393725-4858-46b9-f445-18672dac42ca"
      },
      "outputs": [
        {
          "data": {
            "text/plain": [
              "\"Now I'm a string\""
            ]
          },
          "execution_count": 23,
          "metadata": {},
          "output_type": "execute_result"
        }
      ],
      "source": [
        "var"
      ]
    },
    {
      "cell_type": "code",
      "execution_count": null,
      "id": "7e811635",
      "metadata": {
        "id": "7e811635",
        "outputId": "8557ac8c-e86b-415d-d1b4-13473d97e69c"
      },
      "outputs": [
        {
          "name": "stdout",
          "output_type": "stream",
          "text": [
            "23.5\n",
            "Now I'm a string\n"
          ]
        }
      ],
      "source": [
        "var = 23.5\n",
        "print(var)\n",
        "\n",
        "var = \"Now I'm a string\"\n",
        "print (var)"
      ]
    },
    {
      "cell_type": "markdown",
      "id": "fee81588",
      "metadata": {
        "id": "fee81588"
      },
      "source": [
        "# Variable Names"
      ]
    },
    {
      "cell_type": "code",
      "execution_count": null,
      "id": "6c40c21e",
      "metadata": {
        "id": "6c40c21e",
        "outputId": "3ea04052-0144-44d2-d837-1d2bde7c43f1"
      },
      "outputs": [
        {
          "name": "stdout",
          "output_type": "stream",
          "text": [
            "Hacktiv8 54 True\n"
          ]
        }
      ],
      "source": [
        "name = \"Hacktiv8\"\n",
        "Age = 54\n",
        "has_laptops = True\n",
        "print(name, Age, has_laptops)"
      ]
    },
    {
      "cell_type": "code",
      "execution_count": null,
      "id": "af87d7b6",
      "metadata": {
        "id": "af87d7b6",
        "outputId": "277d1db8-7eda-450a-a104-fe34ae2c1ca2"
      },
      "outputs": [
        {
          "ename": "SyntaxError",
          "evalue": "invalid decimal literal (753048216.py, line 2)",
          "output_type": "error",
          "traceback": [
            "\u001b[1;36m  Input \u001b[1;32mIn [26]\u001b[1;36m\u001b[0m\n\u001b[1;33m    9_kepala_naga = True\u001b[0m\n\u001b[1;37m     ^\u001b[0m\n\u001b[1;31mSyntaxError\u001b[0m\u001b[1;31m:\u001b[0m invalid decimal literal\n"
          ]
        }
      ],
      "source": [
        "#nama variabel tidak boleh dimulai dengan angka:\n",
        "9_kepala_naga = True"
      ]
    },
    {
      "cell_type": "code",
      "execution_count": null,
      "id": "a7189b2b",
      "metadata": {
        "id": "a7189b2b",
        "outputId": "73c6b5df-de50-4fb2-98c3-66aa252c789b"
      },
      "outputs": [
        {
          "ename": "SyntaxError",
          "evalue": "invalid syntax (905835994.py, line 1)",
          "output_type": "error",
          "traceback": [
            "\u001b[1;36m  Input \u001b[1;32mIn [27]\u001b[1;36m\u001b[0m\n\u001b[1;33m    huruf kecil dan huruf besar tidak sama. penggunaan karakter garis bawah juga penting\u001b[0m\n\u001b[1;37m          ^\u001b[0m\n\u001b[1;31mSyntaxError\u001b[0m\u001b[1;31m:\u001b[0m invalid syntax\n"
          ]
        }
      ],
      "source": [
        "huruf kecil dan huruf besar tidak sama. penggunaan karakter garis bawah juga penting\n",
        "\n",
        "age = 1\n",
        "Age = 2\n",
        "aGe = 3\n",
        "AGE = 4\n",
        "a_g_e = 5\n",
        "_age = 6\n",
        "age_ = 7\n",
        "_AGE_ = 8\n",
        "\n",
        "print(age, Age, aGe, a_g_e, _age, age_, _AGE_)"
      ]
    },
    {
      "cell_type": "markdown",
      "id": "87d9abfe",
      "metadata": {
        "id": "87d9abfe"
      },
      "source": [
        "# Operators and Expressions in Python"
      ]
    },
    {
      "cell_type": "code",
      "execution_count": null,
      "id": "7e6a1e25",
      "metadata": {
        "id": "7e6a1e25",
        "outputId": "7fccfd6d-c829-4869-afbc-3e245103207a"
      },
      "outputs": [
        {
          "data": {
            "text/plain": [
              "30"
            ]
          },
          "execution_count": 28,
          "metadata": {},
          "output_type": "execute_result"
        }
      ],
      "source": [
        "a = 10\n",
        "b = 20\n",
        "a + b"
      ]
    },
    {
      "cell_type": "code",
      "execution_count": null,
      "id": "888c4d23",
      "metadata": {
        "id": "888c4d23",
        "outputId": "3eaa903d-705b-40c8-c2aa-b0495c218421"
      },
      "outputs": [
        {
          "data": {
            "text/plain": [
              "25"
            ]
          },
          "execution_count": 29,
          "metadata": {},
          "output_type": "execute_result"
        }
      ],
      "source": [
        "a = 10\n",
        "b = 20\n",
        "a + b - 5"
      ]
    },
    {
      "cell_type": "markdown",
      "id": "14d34bf2",
      "metadata": {
        "id": "14d34bf2"
      },
      "source": [
        "# Arithmetic Operators"
      ]
    },
    {
      "cell_type": "code",
      "execution_count": null,
      "id": "8e5c9a09",
      "metadata": {
        "id": "8e5c9a09",
        "outputId": "61ad3719-ca47-4517-9243-452311e56c1e"
      },
      "outputs": [
        {
          "name": "stdout",
          "output_type": "stream",
          "text": [
            "7\n",
            "1\n",
            "12\n",
            "1.3333333333333333\n",
            "1\n",
            "64\n"
          ]
        }
      ],
      "source": [
        "a = 4\n",
        "b = 3\n",
        "\n",
        "print(a + b)\n",
        "print(a - b)\n",
        "print(a * b)\n",
        "print(a / b)\n",
        "print(a % b)\n",
        "print(a ** b)"
      ]
    },
    {
      "cell_type": "code",
      "execution_count": null,
      "id": "ade7b29f",
      "metadata": {
        "id": "ade7b29f",
        "outputId": "fa2b2b50-e106-42ec-db04-ad68787fd1d3"
      },
      "outputs": [
        {
          "data": {
            "text/plain": [
              "2.0"
            ]
          },
          "execution_count": 31,
          "metadata": {},
          "output_type": "execute_result"
        }
      ],
      "source": [
        "# The result of standard division (/) is always a float, even if the dividend is evenly divisible by the divisor:\n",
        "\n",
        "10/5"
      ]
    },
    {
      "cell_type": "markdown",
      "id": "326e4b45",
      "metadata": {
        "id": "326e4b45"
      },
      "source": [
        "# Comparison Operators"
      ]
    },
    {
      "cell_type": "code",
      "execution_count": null,
      "id": "6659ebc5",
      "metadata": {
        "id": "6659ebc5",
        "outputId": "e2c97607-1973-4146-85b7-43cd489ed233"
      },
      "outputs": [
        {
          "name": "stdout",
          "output_type": "stream",
          "text": [
            "False\n",
            "True\n",
            "True\n",
            "False\n",
            "True\n",
            "True\n",
            "True\n"
          ]
        }
      ],
      "source": [
        "a = 10\n",
        "b = 20\n",
        "print(a == b)\n",
        "print(a != b)\n",
        "print(a <= b)\n",
        "print(a >= b)\n",
        "\n",
        "\n",
        "a = 30\n",
        "b = 30\n",
        "print(a == b)\n",
        "print(a <= b)\n",
        "print(a >= b)"
      ]
    },
    {
      "cell_type": "markdown",
      "id": "9ed2fa69",
      "metadata": {
        "id": "9ed2fa69"
      },
      "source": [
        "# String Manipulation"
      ]
    },
    {
      "cell_type": "code",
      "execution_count": null,
      "id": "cc958223",
      "metadata": {
        "id": "cc958223",
        "outputId": "11ad8c5a-586b-4892-dec8-69146bdd8b29"
      },
      "outputs": [
        {
          "name": "stdout",
          "output_type": "stream",
          "text": [
            "foobar\n",
            "foobarbaz\n",
            "Hacktiv8PTP\n"
          ]
        }
      ],
      "source": [
        "# + Operators\n",
        "s = 'foo'\n",
        "t = 'bar'\n",
        "u = 'baz'\n",
        "\n",
        "print(s + t)\n",
        "print(s + t + u)\n",
        "\n",
        "print('Hacktiv8' + 'PTP')"
      ]
    },
    {
      "cell_type": "code",
      "execution_count": null,
      "id": "32d8794c",
      "metadata": {
        "id": "32d8794c",
        "outputId": "cc08142b-8d99-4b4f-d8d4-1c1ba787f02a"
      },
      "outputs": [
        {
          "data": {
            "text/plain": [
              "'foo.foo.foo.foo.'"
            ]
          },
          "execution_count": 35,
          "metadata": {},
          "output_type": "execute_result"
        }
      ],
      "source": [
        "# * Operators\n",
        "s = 'foo.'\n",
        "s * 4"
      ]
    },
    {
      "cell_type": "code",
      "execution_count": null,
      "id": "fdb7d817",
      "metadata": {
        "id": "fdb7d817",
        "outputId": "5964a601-88cd-4f2e-b683-2a3edcb34e6a"
      },
      "outputs": [
        {
          "name": "stdout",
          "output_type": "stream",
          "text": [
            "True\n",
            "False\n"
          ]
        }
      ],
      "source": [
        "# in Operators\n",
        "s = 'foo'\n",
        "print(s in 'That food for us')\n",
        "print(s in 'That good for us')"
      ]
    },
    {
      "cell_type": "code",
      "execution_count": null,
      "id": "8d3c2d9d",
      "metadata": {
        "id": "8d3c2d9d",
        "outputId": "ea94ccc4-e715-4ab0-da66-6968ebffdaa6"
      },
      "outputs": [
        {
          "name": "stdout",
          "output_type": "stream",
          "text": [
            "Hacktiv8\n",
            "hacktiv8\n",
            "hACKtiv8\n",
            "Hacktiv8\n",
            "HACKTIV8\n"
          ]
        }
      ],
      "source": [
        "# Case Conversion\n",
        "s = 'HackTIV8'\n",
        "\n",
        "# Capitalize\n",
        "print(s.capitalize())\n",
        "\n",
        "# Lower\n",
        "print(s.lower())\n",
        "\n",
        "# Swapcase\n",
        "print(s.swapcase())\n",
        "\n",
        "# Title\n",
        "print(s.title())\n",
        "\n",
        "# Uppercase\n",
        "print(s.upper())"
      ]
    },
    {
      "cell_type": "markdown",
      "id": "33c89487",
      "metadata": {
        "id": "33c89487"
      },
      "source": [
        "# Python Lists"
      ]
    },
    {
      "cell_type": "code",
      "execution_count": null,
      "id": "8b4b484c",
      "metadata": {
        "id": "8b4b484c",
        "outputId": "41087461-33cc-4e24-edbd-0eff81923d13"
      },
      "outputs": [
        {
          "name": "stdout",
          "output_type": "stream",
          "text": [
            "['foo', ' bar', 'baz', 'qux']\n"
          ]
        }
      ],
      "source": [
        "a = ['foo', ' bar', 'baz', 'qux']\n",
        "print(a)"
      ]
    },
    {
      "cell_type": "markdown",
      "id": "2f326e80",
      "metadata": {
        "id": "2f326e80"
      },
      "source": [
        "# Lists Are Ordered"
      ]
    },
    {
      "cell_type": "code",
      "execution_count": null,
      "id": "97e55152",
      "metadata": {
        "id": "97e55152",
        "outputId": "1bd2805d-8ab4-4c1a-be46-a5404192401d"
      },
      "outputs": [
        {
          "data": {
            "text/plain": [
              "False"
            ]
          },
          "execution_count": 39,
          "metadata": {},
          "output_type": "execute_result"
        }
      ],
      "source": [
        "a = ['foo', 'bar', 'baz', 'qux']\n",
        "b = ['baz', 'qux', 'bar', 'foo']\n",
        "\n",
        "a == b"
      ]
    },
    {
      "cell_type": "markdown",
      "id": "00ec9161",
      "metadata": {
        "id": "00ec9161"
      },
      "source": [
        "# List Elements Can Be Accessed by Index"
      ]
    },
    {
      "cell_type": "code",
      "execution_count": null,
      "id": "055e9cba",
      "metadata": {
        "id": "055e9cba",
        "outputId": "375ad453-b3c7-45f9-a51f-d26497f5796a"
      },
      "outputs": [
        {
          "name": "stdout",
          "output_type": "stream",
          "text": [
            "[21.42, 'footbar', 3, 4, 'bark', False, 3.14159]\n"
          ]
        }
      ],
      "source": [
        "a = [21.42, 'footbar', 3, 4, 'bark', False, 3.14159]\n",
        "print(a)"
      ]
    },
    {
      "cell_type": "code",
      "execution_count": null,
      "id": "e879bc47",
      "metadata": {
        "id": "e879bc47",
        "outputId": "5d19fca3-8f22-4ee1-ae2a-33c6ec55bcf2"
      },
      "outputs": [
        {
          "name": "stdout",
          "output_type": "stream",
          "text": [
            "foo\n",
            "corge\n"
          ]
        }
      ],
      "source": [
        "# perhatikan list berikut ini\n",
        "a = ['foo', 'bar', 'baz', 'qux', 'quux', 'corge']\n",
        "\n",
        "print(a[0])\n",
        "print(a[5])"
      ]
    },
    {
      "cell_type": "code",
      "execution_count": null,
      "id": "9a97d32e",
      "metadata": {
        "id": "9a97d32e",
        "outputId": "b882cb1a-a219-42ac-f99d-580573e3364c"
      },
      "outputs": [
        {
          "name": "stdout",
          "output_type": "stream",
          "text": [
            "corge\n",
            "foo\n"
          ]
        }
      ],
      "source": [
        "a = ['foo', 'bar', 'baz', 'qux', 'quux', 'corge']\n",
        "print(a[-1])\n",
        "print(a[-6])"
      ]
    },
    {
      "cell_type": "code",
      "execution_count": null,
      "id": "b3661611",
      "metadata": {
        "id": "b3661611",
        "outputId": "b54963e8-cbae-4997-abb1-50e99f025e0a"
      },
      "outputs": [
        {
          "data": {
            "text/plain": [
              "['baz', 'qux', 'quux']"
            ]
          },
          "execution_count": 43,
          "metadata": {},
          "output_type": "execute_result"
        }
      ],
      "source": [
        "# slicing juga bisa digunakan, jika a adalah list, ekspresi a[m:n] mengembalikan porsi a dari indeks m ke n, tetapi tidak termasuk, indeks n:\n",
        "\n",
        "a = ['foo', 'bar', 'baz', 'qux', 'quux', 'corge']\n",
        "a[2:5]"
      ]
    },
    {
      "cell_type": "code",
      "execution_count": null,
      "id": "041f6143",
      "metadata": {
        "id": "041f6143",
        "outputId": "65a9fde8-1547-4035-b308-07133e16975c"
      },
      "outputs": [
        {
          "name": "stdout",
          "output_type": "stream",
          "text": [
            "['foo', 'bar', 'baz', 'qux', 'quux', 'corge']\n",
            "['foo', 'bar', 'baz', 'qux', 'quux', 'corge', 'grault', 'garply']\n",
            "['foo', 'bar', 'baz', 'qux', 'quux', 'corge', 'foo', 'bar', 'baz', 'qux', 'quux', 'corge']\n"
          ]
        }
      ],
      "source": [
        "# the concatenation (+) and replication (*) operators:\n",
        "print(a)\n",
        "\n",
        "print(a + ['grault', 'garply'])\n",
        "print(a * 2)"
      ]
    },
    {
      "cell_type": "code",
      "execution_count": null,
      "id": "c7b1fabf",
      "metadata": {
        "id": "c7b1fabf",
        "outputId": "c7cb1b4b-fb41-4831-cecc-fec5fbbde7af"
      },
      "outputs": [
        {
          "name": "stdout",
          "output_type": "stream",
          "text": [
            "['foo', 'bar', 'baz', 'qux', 'quux', 'corge']\n",
            "6\n",
            "bar\n",
            "qux\n"
          ]
        }
      ],
      "source": [
        "# len(), min(), max()\n",
        "print(a)\n",
        "\n",
        "print(len(a))\n",
        "print(min(a))\n",
        "print(max(a))"
      ]
    },
    {
      "cell_type": "markdown",
      "id": "a321822d",
      "metadata": {
        "id": "a321822d"
      },
      "source": [
        "# Modifying a Single List Value"
      ]
    },
    {
      "cell_type": "code",
      "execution_count": null,
      "id": "7b8fda3a",
      "metadata": {
        "id": "7b8fda3a",
        "outputId": "788720cf-87d6-4a96-d9aa-c37c2cc4d473"
      },
      "outputs": [
        {
          "name": "stdout",
          "output_type": "stream",
          "text": [
            "['foo', 'bar', 'baz', 'qux', 'quux', 'corge']\n",
            "['foo', 'bar', 10, 'qux', 'quux', 20]\n"
          ]
        }
      ],
      "source": [
        "a = ['foo', 'bar', 'baz', 'qux', 'quux', 'corge']\n",
        "print(a)\n",
        "\n",
        "a[2] = 10\n",
        "a[-1] = 20\n",
        "\n",
        "print(a)"
      ]
    },
    {
      "cell_type": "code",
      "execution_count": null,
      "id": "013c088f",
      "metadata": {
        "id": "013c088f"
      },
      "outputs": [],
      "source": [
        "# A list item can be deleted with the del command:\n",
        "del a[3]"
      ]
    },
    {
      "cell_type": "code",
      "execution_count": null,
      "id": "2063ca8a",
      "metadata": {
        "id": "2063ca8a",
        "outputId": "2b4c87d4-1fe7-41bf-dd51-54df883bb8ee"
      },
      "outputs": [
        {
          "name": "stdout",
          "output_type": "stream",
          "text": [
            "['foo', 'bar', 10, 'quux', 20]\n"
          ]
        }
      ],
      "source": [
        "print(a)"
      ]
    },
    {
      "cell_type": "markdown",
      "id": "a353dfdf",
      "metadata": {
        "id": "a353dfdf"
      },
      "source": [
        "# Modifying Multiple List Values"
      ]
    },
    {
      "cell_type": "code",
      "execution_count": null,
      "id": "d6acf8ee",
      "metadata": {
        "id": "d6acf8ee",
        "outputId": "3dacb47f-1d96-4e6b-c1eb-5fd6be0a8049"
      },
      "outputs": [
        {
          "name": "stdout",
          "output_type": "stream",
          "text": [
            "['bar', 'baz', 'qux']\n",
            "['foo', 1.1, 2.2, 3.3, 4.4, 5.5, 'quux', 'corge']\n"
          ]
        }
      ],
      "source": [
        "a = ['foo', 'bar', 'baz', 'qux', 'quux', 'corge']\n",
        "print(a[1:4])\n",
        "\n",
        "a[1:4] = [1.1, 2.2, 3.3, 4.4, 5.5]\n",
        "print(a)"
      ]
    },
    {
      "cell_type": "markdown",
      "id": "93835da1",
      "metadata": {
        "id": "93835da1"
      },
      "source": [
        "# Python Tuples"
      ]
    },
    {
      "cell_type": "code",
      "execution_count": null,
      "id": "307dac0c",
      "metadata": {
        "id": "307dac0c",
        "outputId": "8fc36846-3841-45ea-d895-ccf6e4f08c61"
      },
      "outputs": [
        {
          "name": "stdout",
          "output_type": "stream",
          "text": [
            "('foo', 'bar', 'baz', 'qux', 'quux', 'corge')\n"
          ]
        }
      ],
      "source": [
        "# Defining and Using Tuples\n",
        "t = ('foo', 'bar', 'baz', 'qux', 'quux', 'corge')\n",
        "print(t)"
      ]
    },
    {
      "cell_type": "code",
      "execution_count": null,
      "id": "15f61dea",
      "metadata": {
        "id": "15f61dea",
        "outputId": "b62004b4-ba82-4961-de8b-4c561b7357c7"
      },
      "outputs": [
        {
          "name": "stdout",
          "output_type": "stream",
          "text": [
            "foo\n",
            "corge\n"
          ]
        }
      ],
      "source": [
        "print(t[0])\n",
        "print(t[-1])"
      ]
    },
    {
      "cell_type": "code",
      "execution_count": null,
      "id": "cbe4cf21",
      "metadata": {
        "id": "cbe4cf21",
        "outputId": "47ddcf13-c5ed-4589-ebd6-fcd245d015d4"
      },
      "outputs": [
        {
          "data": {
            "text/plain": [
              "'foo'"
            ]
          },
          "execution_count": 53,
          "metadata": {},
          "output_type": "execute_result"
        }
      ],
      "source": [
        "# packing and unpacking\n",
        "(s1, s2, s3, s4) = ('foo', 'bar', 'baz', 'qux')\n",
        "s1"
      ]
    },
    {
      "cell_type": "markdown",
      "id": "0034f6e5",
      "metadata": {
        "id": "0034f6e5"
      },
      "source": [
        "# Python Dictionary"
      ]
    },
    {
      "cell_type": "code",
      "execution_count": null,
      "id": "622ba280",
      "metadata": {
        "id": "622ba280",
        "outputId": "e8ea3729-3c76-4bdb-e64f-c4a638b8ad3d"
      },
      "outputs": [
        {
          "name": "stdout",
          "output_type": "stream",
          "text": [
            "Twins\n",
            "Rockies\n"
          ]
        }
      ],
      "source": [
        "MLB_team = {\n",
        "    'Colorado' : 'Rockies',\n",
        "    'Boston' : 'Red Sox',\n",
        "    'Minnesota' : 'Twins',\n",
        "    'Milwaukee' : 'Brewers',\n",
        "    'Seattle' : 'Mariners',\n",
        "}\n",
        "\n",
        "print(MLB_team['Minnesota'])\n",
        "print(MLB_team['Colorado'])\n",
        "\n",
        "# error\n",
        "# MLB_team['Toronto']"
      ]
    },
    {
      "cell_type": "code",
      "execution_count": null,
      "id": "6672a08b",
      "metadata": {
        "id": "6672a08b",
        "outputId": "52405720-3d1c-4540-e655-47d295f25e28"
      },
      "outputs": [
        {
          "data": {
            "text/plain": [
              "{'Colorado': 'Rockies',\n",
              " 'Boston': 'Red Sox',\n",
              " 'Minnesota': 'Twins',\n",
              " 'Milwaukee': 'Brewers',\n",
              " 'Seattle': 'Mariners',\n",
              " 'Kansas City': 'Royals'}"
            ]
          },
          "execution_count": 55,
          "metadata": {},
          "output_type": "execute_result"
        }
      ],
      "source": [
        "# Adding an entry to an existing dictionary is simply a matter of assigning a new key and value:\n",
        "\n",
        "MLB_team['Kansas City'] = 'Royals'\n",
        "MLB_team"
      ]
    },
    {
      "cell_type": "code",
      "execution_count": null,
      "id": "6727d933",
      "metadata": {
        "id": "6727d933",
        "outputId": "c945c4cc-e945-4a53-e282-fec3482cb52b"
      },
      "outputs": [
        {
          "data": {
            "text/plain": [
              "{'Colorado': 'Rockies',\n",
              " 'Boston': 'Red Sox',\n",
              " 'Minnesota': 'Twins',\n",
              " 'Milwaukee': 'Brewers',\n",
              " 'Seattle': 'Seahawks',\n",
              " 'Kansas City': 'Royals'}"
            ]
          },
          "execution_count": 56,
          "metadata": {},
          "output_type": "execute_result"
        }
      ],
      "source": [
        "# If you want to update an entry, you can just assign a new value to an existing key:\n",
        "\n",
        "MLB_team['Seattle'] = 'Seahawks'\n",
        "MLB_team"
      ]
    },
    {
      "cell_type": "code",
      "execution_count": null,
      "id": "f438bcc1",
      "metadata": {
        "id": "f438bcc1",
        "outputId": "ee45b1a9-7765-4634-859a-d877872b8e9a"
      },
      "outputs": [
        {
          "data": {
            "text/plain": [
              "{'Colorado': 'Rockies',\n",
              " 'Boston': 'Red Sox',\n",
              " 'Minnesota': 'Twins',\n",
              " 'Milwaukee': 'Brewers',\n",
              " 'Kansas City': 'Royals'}"
            ]
          },
          "execution_count": 57,
          "metadata": {},
          "output_type": "execute_result"
        }
      ],
      "source": [
        "# To delete an entry, use the del statement, specifying the key to delete:\n",
        "\n",
        "del MLB_team['Seattle']\n",
        "MLB_team"
      ]
    },
    {
      "cell_type": "code",
      "execution_count": null,
      "id": "6bd554cb",
      "metadata": {
        "id": "6bd554cb"
      },
      "outputs": [],
      "source": [
        "person = {}\n",
        "type(person)\n",
        "\n",
        "person['fname'] = 'Hack'\n",
        "person['lname'] = 'PTP'\n",
        "person['age'] = 51\n",
        "person['spouse'] = 'Edna'\n",
        "person['children'] = ['Ralph', 'Betty', 'Joey']\n",
        "person['pets'] = {'dog': 'Fido', 'cat': 'Sox'}"
      ]
    },
    {
      "cell_type": "code",
      "execution_count": null,
      "id": "57984703",
      "metadata": {
        "id": "57984703",
        "outputId": "89a2260d-f33c-4444-ea36-5a7e601b6941"
      },
      "outputs": [
        {
          "data": {
            "text/plain": [
              "{'fname': 'Hack',\n",
              " 'lname': 'PTP',\n",
              " 'age': 51,\n",
              " 'spouse': 'Edna',\n",
              " 'children': ['Ralph', 'Betty', 'Joey'],\n",
              " 'pets': {'dog': 'Fido', 'cat': 'Sox'}}"
            ]
          },
          "execution_count": 60,
          "metadata": {},
          "output_type": "execute_result"
        }
      ],
      "source": [
        "person"
      ]
    },
    {
      "cell_type": "code",
      "execution_count": null,
      "id": "1936ce20",
      "metadata": {
        "id": "1936ce20",
        "outputId": "ed7e7841-b40d-4964-c780-21ae98c5f87f"
      },
      "outputs": [
        {
          "data": {
            "text/plain": [
              "{'fname': 'Hack',\n",
              " 'lname': 'PTP',\n",
              " 'age': 51,\n",
              " 'spouse': 'Edna',\n",
              " 'children': ['Ralph', 'Betty', 'Joey'],\n",
              " 'pets': {'dog': 'Fido', 'cat': 'Sox'}}"
            ]
          },
          "execution_count": 61,
          "metadata": {},
          "output_type": "execute_result"
        }
      ],
      "source": [
        "{'fname': 'Hack',\n",
        " 'lname': 'PTP',\n",
        " 'age': 51,\n",
        " 'spouse': 'Edna',\n",
        " 'children': ['Ralph', 'Betty', 'Joey'],\n",
        " 'pets': {'dog': 'Fido', 'cat': 'Sox'}}"
      ]
    },
    {
      "cell_type": "code",
      "execution_count": null,
      "id": "b965be10",
      "metadata": {
        "id": "b965be10",
        "outputId": "128bffad-105d-4af8-9aef-77311cd15a30"
      },
      "outputs": [
        {
          "name": "stdout",
          "output_type": "stream",
          "text": [
            "Hack\n",
            "PTP\n"
          ]
        }
      ],
      "source": [
        "print(person['fname'])\n",
        "print(person['lname'])"
      ]
    },
    {
      "cell_type": "code",
      "execution_count": null,
      "id": "5a27edd7",
      "metadata": {
        "id": "5a27edd7",
        "outputId": "8b5f6222-daad-4e4e-ab52-19e5772d0370"
      },
      "outputs": [
        {
          "name": "stdout",
          "output_type": "stream",
          "text": [
            "['Ralph', 'Betty', 'Joey']\n",
            "Betty\n"
          ]
        }
      ],
      "source": [
        "print(person['children'])\n",
        "print(person['children'][1])"
      ]
    },
    {
      "cell_type": "code",
      "execution_count": null,
      "id": "95c3c4ff",
      "metadata": {
        "id": "95c3c4ff",
        "outputId": "b5b5cb1f-b02d-41c7-8ecc-bb82d6a30101"
      },
      "outputs": [
        {
          "name": "stdout",
          "output_type": "stream",
          "text": [
            "{'dog': 'Fido', 'cat': 'Sox'}\n",
            "Sox\n"
          ]
        }
      ],
      "source": [
        "print(person['pets'])\n",
        "print(person['pets']['cat'])"
      ]
    },
    {
      "cell_type": "code",
      "execution_count": null,
      "id": "727e59ed",
      "metadata": {
        "id": "727e59ed",
        "outputId": "cbb87a7f-b2f9-47db-f35e-4fa34730489f"
      },
      "outputs": [
        {
          "name": "stdout",
          "output_type": "stream",
          "text": [
            "dict_items([('a', 10), ('b', 20), ('c', 30)])\n",
            "dict_keys(['a', 'b', 'c'])\n",
            "dict_values([10, 20, 30])\n"
          ]
        }
      ],
      "source": [
        "# Built-in Methods\n",
        "d = {'a':10, 'b':20, 'c':30}\n",
        "\n",
        "# items\n",
        "print(d.items())\n",
        "\n",
        "# keys\n",
        "print(d.keys())\n",
        "\n",
        "# values\n",
        "print(d.values())"
      ]
    },
    {
      "cell_type": "markdown",
      "id": "f6d48f6f",
      "metadata": {
        "id": "f6d48f6f"
      },
      "source": [
        "# Line Continuation"
      ]
    },
    {
      "cell_type": "code",
      "execution_count": null,
      "id": "c62cc29b",
      "metadata": {
        "id": "c62cc29b",
        "outputId": "3b00205f-d74e-4748-fe3e-e8c48d34ab9b"
      },
      "outputs": [
        {
          "data": {
            "text/plain": [
              "True"
            ]
          },
          "execution_count": 66,
          "metadata": {},
          "output_type": "execute_result"
        }
      ],
      "source": [
        "person1_age = 42\n",
        "person2_age = 16\n",
        "person3_age = 71\n",
        "\n",
        "someone_is_of_working_age = (person1_age >= 18 and person1_age <= 65) or (person2_age >= 18 and person2_age <= 65) or (person3_age >= 18 and person3_age <= 65)\n",
        "someone_is_of_working_age "
      ]
    },
    {
      "cell_type": "markdown",
      "id": "54038b59",
      "metadata": {
        "id": "54038b59"
      },
      "source": [
        "# Using Library"
      ]
    },
    {
      "cell_type": "code",
      "execution_count": null,
      "id": "4d4ec0bc",
      "metadata": {
        "scrolled": true,
        "id": "4d4ec0bc",
        "outputId": "cd429c68-5eae-4087-e998-79c740d6ec71"
      },
      "outputs": [
        {
          "ename": "SyntaxError",
          "evalue": "invalid syntax (2216758433.py, line 1)",
          "output_type": "error",
          "traceback": [
            "\u001b[1;36m  Input \u001b[1;32mIn [79]\u001b[1;36m\u001b[0m\n\u001b[1;33m    conda install pandas\u001b[0m\n\u001b[1;37m          ^\u001b[0m\n\u001b[1;31mSyntaxError\u001b[0m\u001b[1;31m:\u001b[0m invalid syntax\n"
          ]
        }
      ],
      "source": [
        "conda install pandas\n",
        "import pandas as pd\n",
        "import numpy as np"
      ]
    },
    {
      "cell_type": "code",
      "execution_count": null,
      "id": "4d5111c1",
      "metadata": {
        "id": "4d5111c1"
      },
      "outputs": [],
      "source": [
        "import pandas as pd"
      ]
    },
    {
      "cell_type": "code",
      "execution_count": null,
      "id": "7043e17e",
      "metadata": {
        "id": "7043e17e"
      },
      "outputs": [],
      "source": [
        "import numpy as np"
      ]
    },
    {
      "cell_type": "code",
      "execution_count": null,
      "id": "7b620a6c",
      "metadata": {
        "id": "7b620a6c",
        "outputId": "f1c42f34-4d1c-4b86-8894-c1b8e1ad6dc5"
      },
      "outputs": [
        {
          "data": {
            "text/html": [
              "<div>\n",
              "<style scoped>\n",
              "    .dataframe tbody tr th:only-of-type {\n",
              "        vertical-align: middle;\n",
              "    }\n",
              "\n",
              "    .dataframe tbody tr th {\n",
              "        vertical-align: top;\n",
              "    }\n",
              "\n",
              "    .dataframe thead th {\n",
              "        text-align: right;\n",
              "    }\n",
              "</style>\n",
              "<table border=\"1\" class=\"dataframe\">\n",
              "  <thead>\n",
              "    <tr style=\"text-align: right;\">\n",
              "      <th></th>\n",
              "      <th>A</th>\n",
              "      <th>B</th>\n",
              "      <th>C</th>\n",
              "    </tr>\n",
              "  </thead>\n",
              "  <tbody>\n",
              "    <tr>\n",
              "      <th>0</th>\n",
              "      <td>1</td>\n",
              "      <td>2</td>\n",
              "      <td>3</td>\n",
              "    </tr>\n",
              "    <tr>\n",
              "      <th>1</th>\n",
              "      <td>4</td>\n",
              "      <td>5</td>\n",
              "      <td>6</td>\n",
              "    </tr>\n",
              "  </tbody>\n",
              "</table>\n",
              "</div>"
            ],
            "text/plain": [
              "   A  B  C\n",
              "0  1  2  3\n",
              "1  4  5  6"
            ]
          },
          "execution_count": 75,
          "metadata": {},
          "output_type": "execute_result"
        }
      ],
      "source": [
        "data = pd.DataFrame(data=np.array([[1,2,3], [4,5,6]], dtype=int), columns=['A','B','C'])\n",
        "data"
      ]
    },
    {
      "cell_type": "markdown",
      "id": "877095a4",
      "metadata": {
        "id": "877095a4"
      },
      "source": [
        "# Using LaTex"
      ]
    },
    {
      "cell_type": "code",
      "execution_count": null,
      "id": "0d8f5c9a",
      "metadata": {
        "id": "0d8f5c9a",
        "outputId": "b7cf4fdc-a1a1-4e2d-de68-f5837b04809a"
      },
      "outputs": [
        {
          "data": {
            "text/latex": [
              "$\\displaystyle \\sqrt{a^2 + b^2}$"
            ],
            "text/plain": [
              "<IPython.core.display.Math object>"
            ]
          },
          "metadata": {},
          "output_type": "display_data"
        }
      ],
      "source": [
        "from IPython.display import display, Math, Latex\n",
        "display(Math(r'\\sqrt{a^2 + b^2}'))"
      ]
    },
    {
      "cell_type": "markdown",
      "id": "92d90f27",
      "metadata": {
        "id": "92d90f27"
      },
      "source": [
        "# Executing Shell Command"
      ]
    },
    {
      "cell_type": "code",
      "execution_count": null,
      "id": "d10bc365",
      "metadata": {
        "id": "d10bc365",
        "outputId": "252906c9-5373-4bcc-a97e-e714b40fc617"
      },
      "outputs": [
        {
          "name": "stdout",
          "output_type": "stream",
          "text": [
            "'Halo Kode'\n"
          ]
        }
      ],
      "source": [
        "!echo 'Halo Kode'"
      ]
    },
    {
      "cell_type": "markdown",
      "id": "64ff432c",
      "metadata": {
        "id": "64ff432c"
      },
      "source": [
        "# Pass Value to and from shell"
      ]
    },
    {
      "cell_type": "code",
      "execution_count": null,
      "id": "b2fc9dd0",
      "metadata": {
        "id": "b2fc9dd0",
        "outputId": "aa37a6d9-563b-49cc-e06e-95e1f0abfe4d"
      },
      "outputs": [
        {
          "name": "stdout",
          "output_type": "stream",
          "text": [
            "[\"'ls' is not recognized as an internal or external command,\", 'operable program or batch file.']\n"
          ]
        }
      ],
      "source": [
        "files = !ls\n",
        "print(files)"
      ]
    },
    {
      "cell_type": "code",
      "execution_count": null,
      "id": "c9ac7f6e",
      "metadata": {
        "id": "c9ac7f6e"
      },
      "outputs": [],
      "source": [
        "import matplotlib as ls"
      ]
    },
    {
      "cell_type": "code",
      "execution_count": null,
      "id": "eece0b4e",
      "metadata": {
        "id": "eece0b4e",
        "outputId": "8dbaddcc-4344-4f83-8eb2-af0159d537a1"
      },
      "outputs": [
        {
          "name": "stdout",
          "output_type": "stream",
          "text": [
            "[\"'ls' is not recognized as an internal or external command,\", 'operable program or batch file.']\n"
          ]
        }
      ],
      "source": [
        "files = !ls\n",
        "print(files)"
      ]
    },
    {
      "cell_type": "code",
      "execution_count": null,
      "id": "90e3e915",
      "metadata": {
        "id": "90e3e915"
      },
      "outputs": [],
      "source": []
    },
    {
      "cell_type": "code",
      "execution_count": null,
      "id": "0ca5c961",
      "metadata": {
        "id": "0ca5c961"
      },
      "outputs": [],
      "source": []
    },
    {
      "cell_type": "code",
      "execution_count": null,
      "id": "5180f91f",
      "metadata": {
        "id": "5180f91f"
      },
      "outputs": [],
      "source": []
    },
    {
      "cell_type": "code",
      "execution_count": null,
      "id": "c860083a",
      "metadata": {
        "id": "c860083a"
      },
      "outputs": [],
      "source": []
    },
    {
      "cell_type": "code",
      "execution_count": null,
      "id": "3b92d497",
      "metadata": {
        "id": "3b92d497"
      },
      "outputs": [],
      "source": []
    }
  ],
  "metadata": {
    "kernelspec": {
      "display_name": "Python 3 (ipykernel)",
      "language": "python",
      "name": "python3"
    },
    "language_info": {
      "codemirror_mode": {
        "name": "ipython",
        "version": 3
      },
      "file_extension": ".py",
      "mimetype": "text/x-python",
      "name": "python",
      "nbconvert_exporter": "python",
      "pygments_lexer": "ipython3",
      "version": "3.9.12"
    },
    "colab": {
      "provenance": [],
      "include_colab_link": true
    }
  },
  "nbformat": 4,
  "nbformat_minor": 5
}