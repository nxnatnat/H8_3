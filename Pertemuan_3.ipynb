{
  "cells": [
    {
      "cell_type": "markdown",
      "metadata": {
        "id": "view-in-github",
        "colab_type": "text"
      },
      "source": [
        "<a href=\"https://colab.research.google.com/github/nxnatnat/H8_3/blob/main/Pertemuan_3.ipynb\" target=\"_parent\"><img src=\"https://colab.research.google.com/assets/colab-badge.svg\" alt=\"Open In Colab\"/></a>"
      ]
    },
    {
      "cell_type": "markdown",
      "id": "a3f7de28",
      "metadata": {
        "id": "a3f7de28"
      },
      "source": [
        "# Python Function"
      ]
    },
    {
      "cell_type": "code",
      "execution_count": null,
      "id": "39af254b",
      "metadata": {
        "id": "39af254b"
      },
      "outputs": [],
      "source": [
        "# Function adalah blok kode yang terorganisir dan dapat digunakan kembali, yang digunakan untuk melalukan satu tindakan terkait.\n",
        "\n",
        "# Defining a Function\n",
        "# dapat membuat functions untuk menyediakan fungsionalitas yang diperlukan.\n",
        "# Function blocks dimulai dengan keyword def diikuti dengan nama fungsi dan tanda kurung(()).\n",
        "# Parameter atau argumen measukan apapun harus ditempatkan dalam tanda kurung.\n",
        "# Statement awal dari suatu fungsi dapat berupa optional statement-dokumentasi dari fungsi atau docstring.\n",
        "# Statement return [expression] menyebabkan kita keluar dari suatu fungsi, dan secara opsional meneruskan ekspresi ke pemanggil. pernyatan return tanpa argumen sama dengan return None.\n",
        "\n",
        "# def function_name(parameters):\n",
        "#    \"docstring\"\n",
        "#    statement(s)"
      ]
    },
    {
      "cell_type": "code",
      "execution_count": null,
      "id": "1c549a90",
      "metadata": {
        "id": "1c549a90"
      },
      "outputs": [],
      "source": [
        "def function_name(parameters):\n",
        "    statement"
      ]
    },
    {
      "cell_type": "code",
      "execution_count": null,
      "id": "62fd008e",
      "metadata": {
        "id": "62fd008e"
      },
      "outputs": [],
      "source": [
        "def my_function(p, l):\n",
        "    \"function untuk menghitung luas\"\n",
        "    print(p * l)"
      ]
    },
    {
      "cell_type": "code",
      "execution_count": null,
      "id": "1fb2abdd",
      "metadata": {
        "id": "1fb2abdd",
        "outputId": "8c8a77ac-f3c2-4885-e54e-440d2fedca18"
      },
      "outputs": [
        {
          "name": "stdout",
          "output_type": "stream",
          "text": [
            "200\n"
          ]
        }
      ],
      "source": [
        "my_function(10, 20)"
      ]
    },
    {
      "cell_type": "code",
      "execution_count": null,
      "id": "6c4d9cae",
      "metadata": {
        "id": "6c4d9cae",
        "outputId": "03484c61-c0fa-431c-ebec-27754397c36a"
      },
      "outputs": [
        {
          "data": {
            "text/plain": [
              "40"
            ]
          },
          "execution_count": 5,
          "metadata": {},
          "output_type": "execute_result"
        }
      ],
      "source": [
        "2 * 20"
      ]
    },
    {
      "cell_type": "code",
      "execution_count": null,
      "id": "35664e0d",
      "metadata": {
        "id": "35664e0d",
        "outputId": "2df3c772-e0f7-42dd-a966-ddfdfaedd6a6"
      },
      "outputs": [
        {
          "data": {
            "text/plain": [
              "428"
            ]
          },
          "execution_count": 6,
          "metadata": {},
          "output_type": "execute_result"
        }
      ],
      "source": [
        "2 * 214"
      ]
    },
    {
      "cell_type": "code",
      "execution_count": null,
      "id": "253f5ded",
      "metadata": {
        "id": "253f5ded",
        "outputId": "753d43bd-d0a8-4026-96f3-da685887a564"
      },
      "outputs": [
        {
          "name": "stdout",
          "output_type": "stream",
          "text": [
            "428\n"
          ]
        }
      ],
      "source": [
        "my_function(2, 214)"
      ]
    },
    {
      "cell_type": "code",
      "execution_count": null,
      "id": "5af19197",
      "metadata": {
        "id": "5af19197"
      },
      "outputs": [],
      "source": [
        "def printme( str ):\n",
        "    print(str * 3)\n",
        "    return;"
      ]
    },
    {
      "cell_type": "code",
      "execution_count": null,
      "id": "0a202670",
      "metadata": {
        "id": "0a202670",
        "outputId": "383236c8-c1c2-4eea-afb3-ecabdaf0095f"
      },
      "outputs": [
        {
          "name": "stdout",
          "output_type": "stream",
          "text": [
            "This is a trialThis is a trialThis is a trial\n"
          ]
        }
      ],
      "source": [
        "printme(\"This is a trial\")"
      ]
    },
    {
      "cell_type": "markdown",
      "id": "80a2308f",
      "metadata": {
        "id": "80a2308f"
      },
      "source": [
        "# Calling a Function"
      ]
    },
    {
      "cell_type": "code",
      "execution_count": null,
      "id": "99a3d912",
      "metadata": {
        "id": "99a3d912"
      },
      "outputs": [],
      "source": [
        "# Function definition is here\n",
        "def printme( str ):\n",
        "    \"This prints a passed string into this function\"\n",
        "    print(str)\n",
        "    return;\n",
        "# Now you can call printme function\n",
        "printme(\"I'm first call to user defined function!\")\n",
        "printme(\"Again second call to the same function\")"
      ]
    },
    {
      "cell_type": "markdown",
      "id": "d67ab7b3",
      "metadata": {
        "id": "d67ab7b3"
      },
      "source": [
        "# Pass by reference vs value"
      ]
    },
    {
      "cell_type": "code",
      "execution_count": null,
      "id": "8a464092",
      "metadata": {
        "id": "8a464092",
        "outputId": "bcfd7def-46d5-4816-cc9f-442e2d18728b"
      },
      "outputs": [
        {
          "name": "stdout",
          "output_type": "stream",
          "text": [
            "Values inside the function:  [10, 20, 30, [1, 2, 3, 4]]\n",
            "Values outside the function:  [10, 20, 30, [1, 2, 3, 4]]\n"
          ]
        }
      ],
      "source": [
        "# Function definition is here\n",
        "def changeme( mylist ):\n",
        "    \"This changes a passed list into this function\"\n",
        "    mylist.append([1,2,3,4]);\n",
        "    print(\"Values inside the function: \", mylist)\n",
        "    return\n",
        "\n",
        "# Now you can call changeme function\n",
        "mylist = [10,20,30];\n",
        "changeme( mylist );\n",
        "print(\"Values outside the function: \", mylist)"
      ]
    },
    {
      "cell_type": "code",
      "execution_count": null,
      "id": "8319f212",
      "metadata": {
        "id": "8319f212",
        "outputId": "9f79cc76-4bd8-4828-f592-b152227d27d6"
      },
      "outputs": [
        {
          "name": "stdout",
          "output_type": "stream",
          "text": [
            "Values inside the function:  (1, 2, 3, 4)\n",
            "Values outside the function:  [10, 20, 30]\n"
          ]
        }
      ],
      "source": [
        "def changeme( mylist ):\n",
        "    mylist = (1,2,3,4)\n",
        "    print(\"Values inside the function: \", mylist)\n",
        "    return\n",
        "\n",
        "mylist = [10,20,30];\n",
        "changeme( mylist );\n",
        "print(\"Values outside the function: \", mylist)"
      ]
    },
    {
      "cell_type": "code",
      "execution_count": null,
      "id": "139e6794",
      "metadata": {
        "id": "139e6794",
        "outputId": "153f19ec-598d-4f1d-ff2c-7c510b2a20f3"
      },
      "outputs": [
        {
          "name": "stdout",
          "output_type": "stream",
          "text": [
            "Values inside the function:  (1, 2, 3, 4)\n"
          ]
        }
      ],
      "source": [
        "def changeme( mylist ):\n",
        "    mylist = (1,2,3,4)\n",
        "    print(\"Values inside the function: \", mylist)\n",
        "\n",
        "changeme(mylist);"
      ]
    },
    {
      "cell_type": "code",
      "execution_count": null,
      "id": "951bb978",
      "metadata": {
        "id": "951bb978"
      },
      "outputs": [],
      "source": [
        "def my_function(p, l):\n",
        "    \"Function untuk menghitung luas\"\n",
        "    a = p * l\n",
        "#   print(p * l)\n",
        "    return a"
      ]
    },
    {
      "cell_type": "code",
      "execution_count": null,
      "id": "f3d8eaad",
      "metadata": {
        "id": "f3d8eaad",
        "outputId": "36f5aec7-02a3-4348-e448-a2b2f4393c2a"
      },
      "outputs": [
        {
          "data": {
            "text/plain": [
              "20"
            ]
          },
          "execution_count": 14,
          "metadata": {},
          "output_type": "execute_result"
        }
      ],
      "source": [
        "my_function(2, 10)"
      ]
    },
    {
      "cell_type": "code",
      "execution_count": null,
      "id": "edfb4861",
      "metadata": {
        "id": "edfb4861",
        "outputId": "ee6ad9d7-9c3e-4e22-95a8-87161b3b038b"
      },
      "outputs": [
        {
          "name": "stdout",
          "output_type": "stream",
          "text": [
            "Result of add function is 5\n",
            "\n",
            "Result of is_true function is True\n"
          ]
        }
      ],
      "source": [
        "# Pyhton program to\n",
        "# demonstrate return statement\n",
        "\n",
        "def add(a, b):\n",
        "    \n",
        "    # returning sum of a and b\n",
        "    return a + b\n",
        "\n",
        "def is_true(a):\n",
        "    \n",
        "    #returning boolean of a\n",
        "    return bool(a)\n",
        "\n",
        "# calling function\n",
        "res = add(2, 3)\n",
        "print(\"Result of add function is {}\".format(res))\n",
        "\n",
        "res = is_true(2<5)\n",
        "print(\"\\nResult of is_true function is {}\".format(res))"
      ]
    },
    {
      "cell_type": "markdown",
      "id": "7382b7ce",
      "metadata": {
        "id": "7382b7ce"
      },
      "source": [
        "# Function Arguments"
      ]
    },
    {
      "cell_type": "markdown",
      "id": "ad768e9f",
      "metadata": {
        "id": "ad768e9f"
      },
      "source": [
        "# Required arguments"
      ]
    },
    {
      "cell_type": "code",
      "execution_count": null,
      "id": "f416d924",
      "metadata": {
        "id": "f416d924",
        "outputId": "0ec55ae2-f825-4dbd-888f-59b094a8d866"
      },
      "outputs": [
        {
          "name": "stdout",
          "output_type": "stream",
          "text": [
            "1\n"
          ]
        }
      ],
      "source": [
        "# Required arguments adalah argumen yang diteruskan ke suatu fungsi dalam urutan posisi yang benar. Jumlah argumen dalam pemanggilan fungsi harus sama persis dengan function definition.\n",
        "# Required argunents harus sama persis dengan function definition\n",
        "\n",
        "# Function definition is here\n",
        "def printme( str ):\n",
        "    \"This prints a passed string into this function\"\n",
        "    print(str)\n",
        "    return;\n",
        "\n",
        "# Now you can call printme function\n",
        "printme(1)"
      ]
    },
    {
      "cell_type": "markdown",
      "id": "300191af",
      "metadata": {
        "id": "300191af"
      },
      "source": [
        "# Keyword arguments"
      ]
    },
    {
      "cell_type": "code",
      "execution_count": null,
      "id": "ec982042",
      "metadata": {
        "id": "ec982042",
        "outputId": "c423b4d1-61e4-43f5-a4a4-21b73af23556"
      },
      "outputs": [
        {
          "name": "stdout",
          "output_type": "stream",
          "text": [
            "Hello\n"
          ]
        }
      ],
      "source": [
        "# Saat menggunakan keyword arguments dalam memanggil fungsi, pemanggil mengidentifikasi dengan nama parameter\n",
        "\n",
        "# Function definiton is here\n",
        "def printme( str ):\n",
        "    \"This prints a passed string into this function\"\n",
        "    print(str)\n",
        "    return;\n",
        "\n",
        "printme(\"Hello\")"
      ]
    },
    {
      "cell_type": "code",
      "execution_count": null,
      "id": "44ec08a8",
      "metadata": {
        "id": "44ec08a8",
        "outputId": "6a491299-dd9e-497a-cbbc-1ca2b0089b95"
      },
      "outputs": [
        {
          "name": "stdout",
          "output_type": "stream",
          "text": [
            "Name:  hacktiv8\n",
            "Age:  4\n"
          ]
        }
      ],
      "source": [
        "# Function definition is here\n",
        "def printinfo(name, age):\n",
        "    \"This prints a passed info into this function\"\n",
        "    print(\"Name: \", name)\n",
        "    print(\"Age: \", age)\n",
        "    return;\n",
        "\n",
        "# Now you can call printinfo function\n",
        "printinfo( age=4, name=\"hacktiv8\")"
      ]
    },
    {
      "cell_type": "code",
      "execution_count": null,
      "id": "25d17a0c",
      "metadata": {
        "id": "25d17a0c",
        "outputId": "5aab5b9b-5375-4f82-da68-9e5816a6101b"
      },
      "outputs": [
        {
          "name": "stdout",
          "output_type": "stream",
          "text": [
            "Name:  Ines\n",
            "Age:  21\n"
          ]
        }
      ],
      "source": [
        "printinfo( name=\"Ines\", age=21)"
      ]
    },
    {
      "cell_type": "markdown",
      "id": "a2e6be37",
      "metadata": {
        "id": "a2e6be37"
      },
      "source": [
        "# Default arguments"
      ]
    },
    {
      "cell_type": "code",
      "execution_count": null,
      "id": "75368ece",
      "metadata": {
        "id": "75368ece",
        "outputId": "fb2111ba-865a-4e85-ff91-64271b55140b"
      },
      "outputs": [
        {
          "name": "stdout",
          "output_type": "stream",
          "text": [
            "Name:  hacktiv8\n",
            "Age:  4\n",
            "Name:  Ines\n",
            "Age:  15\n"
          ]
        }
      ],
      "source": [
        "# Argument yang mengasumsikan nilai default jika nilai tidak disediakan dalam pemanggilan fungsi untuk argumen tersebut.\n",
        "\n",
        "# Function definition is here\n",
        "def printinfo(name, age=15):\n",
        "    \"This prints a passed info into this function\"\n",
        "    print(\"Name: \", name)\n",
        "    print(\"Age: \", age)\n",
        "    return;\n",
        "\n",
        "# Now you can call printinfo function\n",
        "printinfo( age=4, name=\"hacktiv8\")\n",
        "printinfo( name=\"Ines\")"
      ]
    },
    {
      "cell_type": "code",
      "execution_count": null,
      "id": "8fd27c8a",
      "metadata": {
        "id": "8fd27c8a",
        "outputId": "8328c0f0-d35d-4744-d8f2-779d3a9e3ed9"
      },
      "outputs": [
        {
          "name": "stdout",
          "output_type": "stream",
          "text": [
            "Name:  Gabriel\n",
            "Age:  15\n"
          ]
        }
      ],
      "source": [
        "printinfo( \"Gabriel\" )"
      ]
    },
    {
      "cell_type": "markdown",
      "id": "f3c5769a",
      "metadata": {
        "id": "f3c5769a"
      },
      "source": [
        "# Variable-length arguments"
      ]
    },
    {
      "cell_type": "code",
      "execution_count": null,
      "id": "87e7078b",
      "metadata": {
        "id": "87e7078b",
        "outputId": "b21067a9-9c03-4135-8e34-b6c507ae2264"
      },
      "outputs": [
        {
          "name": "stdout",
          "output_type": "stream",
          "text": [
            "Output is: \n",
            "10\n",
            "Output is: \n",
            "70\n",
            "60\n",
            "50\n",
            "a\n"
          ]
        }
      ],
      "source": [
        "# argumen yang tidak diberi nama\n",
        "\n",
        "# Function definition is here\n",
        "def printinfo( arg1, *vartuple ):\n",
        "    \"This prints a variable passed arguments\"\n",
        "    print(\"Output is: \")\n",
        "    print(arg1)\n",
        "    for var in vartuple:\n",
        "        print(var)\n",
        "    return;\n",
        "\n",
        "# Now you can call printinfo function\n",
        "printinfo( 10 )\n",
        "printinfo( 70, 60, 50, \"a\" )"
      ]
    },
    {
      "cell_type": "markdown",
      "id": "58f79a86",
      "metadata": {
        "id": "58f79a86"
      },
      "source": [
        "# The Anonymous Functions"
      ]
    },
    {
      "cell_type": "code",
      "execution_count": null,
      "id": "024808ce",
      "metadata": {
        "id": "024808ce",
        "outputId": "e4a26934-e694-45df-85c2-f9769bdef62d"
      },
      "outputs": [
        {
          "data": {
            "text/plain": [
              "30"
            ]
          },
          "execution_count": 23,
          "metadata": {},
          "output_type": "execute_result"
        }
      ],
      "source": [
        "# Function definition is here\n",
        "sum = lambda arg1, arg2: arg1 + arg2;\n",
        "\n",
        "sum(10, 20)"
      ]
    },
    {
      "cell_type": "code",
      "execution_count": null,
      "id": "3eac691c",
      "metadata": {
        "id": "3eac691c"
      },
      "outputs": [],
      "source": [
        "def sum(arg1, arg2):\n",
        "    a = arg1 + arg2\n",
        "    return a"
      ]
    },
    {
      "cell_type": "code",
      "execution_count": null,
      "id": "62e59232",
      "metadata": {
        "id": "62e59232",
        "outputId": "cb8e493e-61a8-40b8-e1e6-2152114e0a68"
      },
      "outputs": [
        {
          "data": {
            "text/plain": [
              "30"
            ]
          },
          "execution_count": 25,
          "metadata": {},
          "output_type": "execute_result"
        }
      ],
      "source": [
        "sum(10, 20)"
      ]
    },
    {
      "cell_type": "markdown",
      "id": "9b76ad1f",
      "metadata": {
        "id": "9b76ad1f"
      },
      "source": [
        "# The return statement"
      ]
    },
    {
      "cell_type": "code",
      "execution_count": null,
      "id": "673ced50",
      "metadata": {
        "id": "673ced50",
        "outputId": "deb569dd-dfc4-4a0c-e2b3-3f5c6f75232b"
      },
      "outputs": [
        {
          "name": "stdout",
          "output_type": "stream",
          "text": [
            "Inside the function :  30\n",
            "Outside the function :  40\n"
          ]
        }
      ],
      "source": [
        "# Function definition is here\n",
        "def sum(arg1, arg2):\n",
        "    # Add both the parameters and return them,\"\n",
        "    total = arg1 + arg2\n",
        "    total2 = total + arg1\n",
        "    print(\"Inside the function : \", total)\n",
        "    return total2\n",
        "\n",
        "# Now you can call sum function\n",
        "total = sum(10, 20)\n",
        "print(\"Outside the function : \", total)"
      ]
    },
    {
      "cell_type": "markdown",
      "id": "41e4f5f1",
      "metadata": {
        "id": "41e4f5f1"
      },
      "source": [
        "# Scope of variables"
      ]
    },
    {
      "cell_type": "markdown",
      "id": "3caeb177",
      "metadata": {
        "id": "3caeb177"
      },
      "source": [
        "# Global vs local variables"
      ]
    },
    {
      "cell_type": "code",
      "execution_count": null,
      "id": "a954790d",
      "metadata": {
        "id": "a954790d"
      },
      "outputs": [],
      "source": [
        "total = 0;\n",
        "\n",
        "def sum(arg1, arg2):\n",
        "    \n",
        "    total = arg1 + arg2;\n",
        "    print(\"Inside the function local total : \", total)\n",
        "    return total"
      ]
    },
    {
      "cell_type": "code",
      "execution_count": null,
      "id": "5484c4c7",
      "metadata": {
        "id": "5484c4c7",
        "outputId": "496a9faf-7d70-4acf-ca79-ac39b22b36b5"
      },
      "outputs": [
        {
          "name": "stdout",
          "output_type": "stream",
          "text": [
            "Inside the function local total :  15\n"
          ]
        },
        {
          "data": {
            "text/plain": [
              "15"
            ]
          },
          "execution_count": 28,
          "metadata": {},
          "output_type": "execute_result"
        }
      ],
      "source": [
        "sum(10, 5)"
      ]
    },
    {
      "cell_type": "code",
      "execution_count": null,
      "id": "0a515315",
      "metadata": {
        "id": "0a515315"
      },
      "outputs": [],
      "source": [
        "def min(arg1, arg2):\n",
        "    \n",
        "    total = arg1 - arg2;\n",
        "    print(\"Outside the function global total : \", total)\n",
        "    return total"
      ]
    },
    {
      "cell_type": "code",
      "execution_count": null,
      "id": "e151ac05",
      "metadata": {
        "id": "e151ac05",
        "outputId": "94b16101-c102-4ad7-af82-a65204f0a90e"
      },
      "outputs": [
        {
          "name": "stdout",
          "output_type": "stream",
          "text": [
            "Outside the function global total :  20\n"
          ]
        },
        {
          "data": {
            "text/plain": [
              "20"
            ]
          },
          "execution_count": 30,
          "metadata": {},
          "output_type": "execute_result"
        }
      ],
      "source": [
        "min(40, 20)"
      ]
    },
    {
      "cell_type": "code",
      "execution_count": null,
      "id": "d2dd8054",
      "metadata": {
        "id": "d2dd8054",
        "outputId": "0832bc82-9004-4617-9bce-2fcfb467d241"
      },
      "outputs": [
        {
          "data": {
            "text/plain": [
              "40"
            ]
          },
          "execution_count": 31,
          "metadata": {},
          "output_type": "execute_result"
        }
      ],
      "source": [
        "jumlahKucing = 20\n",
        "\n",
        "def jumlahHewan():\n",
        "    jumlahAnjing = 30\n",
        "    return jumlahKucing + jumlahAnjing\n",
        "\n",
        "def jumlahKelinci():\n",
        "    return jumlahKucing + jumlahKucing\n",
        "\n",
        "jumlahHewan()\n",
        "jumlahKelinci()"
      ]
    },
    {
      "cell_type": "markdown",
      "id": "fa62b1f3",
      "metadata": {
        "id": "fa62b1f3"
      },
      "source": [
        "# Python Modules: Overview"
      ]
    },
    {
      "cell_type": "code",
      "execution_count": null,
      "id": "9dbaad4a",
      "metadata": {
        "id": "9dbaad4a"
      },
      "outputs": [],
      "source": [
        "# Misalnya, membuat sebuah file bernama mod.py dengan isi sebagai berikut:\n",
        "\n",
        "s = \"Hacktiv8-PTP Python For Data Science\"\n",
        "a = [100, 200, 300]\n",
        "\n",
        "def foo(arg):\n",
        "    print(f'arg = {arg}')\n",
        "    \n",
        "class Foo:\n",
        "    pass"
      ]
    },
    {
      "cell_type": "code",
      "execution_count": null,
      "id": "779b48a6",
      "metadata": {
        "id": "779b48a6",
        "outputId": "91a10302-c8f5-43d5-9330-7b0a82dbc7b0"
      },
      "outputs": [
        {
          "ename": "ModuleNotFoundError",
          "evalue": "No module named 'mod'",
          "output_type": "error",
          "traceback": [
            "\u001b[1;31m---------------------------------------------------------------------------\u001b[0m",
            "\u001b[1;31mModuleNotFoundError\u001b[0m                       Traceback (most recent call last)",
            "Input \u001b[1;32mIn [33]\u001b[0m, in \u001b[0;36m<cell line: 1>\u001b[1;34m()\u001b[0m\n\u001b[1;32m----> 1\u001b[0m \u001b[38;5;28;01mimport\u001b[39;00m \u001b[38;5;21;01mmod\u001b[39;00m\n\u001b[0;32m      2\u001b[0m \u001b[38;5;28mprint\u001b[39m(mod\u001b[38;5;241m.\u001b[39ms)\n",
            "\u001b[1;31mModuleNotFoundError\u001b[0m: No module named 'mod'"
          ]
        }
      ],
      "source": [
        "import mod\n",
        "print(mod.s)"
      ]
    },
    {
      "cell_type": "code",
      "execution_count": null,
      "id": "14ec5493",
      "metadata": {
        "id": "14ec5493"
      },
      "outputs": [],
      "source": []
    },
    {
      "cell_type": "code",
      "execution_count": null,
      "id": "447d7940",
      "metadata": {
        "id": "447d7940"
      },
      "outputs": [],
      "source": []
    },
    {
      "cell_type": "code",
      "execution_count": null,
      "id": "35a660cf",
      "metadata": {
        "id": "35a660cf"
      },
      "outputs": [],
      "source": []
    },
    {
      "cell_type": "code",
      "execution_count": null,
      "id": "0920e9e2",
      "metadata": {
        "id": "0920e9e2"
      },
      "outputs": [],
      "source": []
    },
    {
      "cell_type": "code",
      "execution_count": null,
      "id": "9cbf57c8",
      "metadata": {
        "id": "9cbf57c8"
      },
      "outputs": [],
      "source": []
    },
    {
      "cell_type": "code",
      "execution_count": null,
      "id": "6e94a2e2",
      "metadata": {
        "id": "6e94a2e2"
      },
      "outputs": [],
      "source": []
    },
    {
      "cell_type": "code",
      "execution_count": null,
      "id": "a18d9a16",
      "metadata": {
        "id": "a18d9a16"
      },
      "outputs": [],
      "source": []
    },
    {
      "cell_type": "code",
      "execution_count": null,
      "id": "ae1e938f",
      "metadata": {
        "id": "ae1e938f"
      },
      "outputs": [],
      "source": []
    },
    {
      "cell_type": "code",
      "execution_count": null,
      "id": "68e9595b",
      "metadata": {
        "id": "68e9595b"
      },
      "outputs": [],
      "source": []
    },
    {
      "cell_type": "code",
      "execution_count": null,
      "id": "2f5366b9",
      "metadata": {
        "id": "2f5366b9"
      },
      "outputs": [],
      "source": []
    },
    {
      "cell_type": "code",
      "execution_count": null,
      "id": "748f4b71",
      "metadata": {
        "id": "748f4b71"
      },
      "outputs": [],
      "source": []
    },
    {
      "cell_type": "code",
      "execution_count": null,
      "id": "d6753329",
      "metadata": {
        "id": "d6753329"
      },
      "outputs": [],
      "source": []
    },
    {
      "cell_type": "code",
      "execution_count": null,
      "id": "7d895a95",
      "metadata": {
        "id": "7d895a95"
      },
      "outputs": [],
      "source": []
    },
    {
      "cell_type": "code",
      "execution_count": null,
      "id": "6631f27d",
      "metadata": {
        "id": "6631f27d"
      },
      "outputs": [],
      "source": []
    },
    {
      "cell_type": "code",
      "execution_count": null,
      "id": "11294146",
      "metadata": {
        "id": "11294146"
      },
      "outputs": [],
      "source": []
    },
    {
      "cell_type": "code",
      "execution_count": null,
      "id": "82b7ed0c",
      "metadata": {
        "id": "82b7ed0c"
      },
      "outputs": [],
      "source": []
    },
    {
      "cell_type": "code",
      "execution_count": null,
      "id": "8c488cbb",
      "metadata": {
        "id": "8c488cbb"
      },
      "outputs": [],
      "source": []
    },
    {
      "cell_type": "code",
      "execution_count": null,
      "id": "8f656b74",
      "metadata": {
        "id": "8f656b74"
      },
      "outputs": [],
      "source": []
    },
    {
      "cell_type": "code",
      "execution_count": null,
      "id": "886e1461",
      "metadata": {
        "id": "886e1461"
      },
      "outputs": [],
      "source": []
    },
    {
      "cell_type": "code",
      "execution_count": null,
      "id": "f7828ecf",
      "metadata": {
        "id": "f7828ecf"
      },
      "outputs": [],
      "source": []
    },
    {
      "cell_type": "code",
      "execution_count": null,
      "id": "5d4d5d88",
      "metadata": {
        "id": "5d4d5d88"
      },
      "outputs": [],
      "source": []
    },
    {
      "cell_type": "code",
      "execution_count": null,
      "id": "7374ead7",
      "metadata": {
        "id": "7374ead7"
      },
      "outputs": [],
      "source": []
    },
    {
      "cell_type": "code",
      "execution_count": null,
      "id": "9672ebed",
      "metadata": {
        "id": "9672ebed"
      },
      "outputs": [],
      "source": []
    },
    {
      "cell_type": "code",
      "execution_count": null,
      "id": "85860048",
      "metadata": {
        "id": "85860048"
      },
      "outputs": [],
      "source": []
    },
    {
      "cell_type": "code",
      "execution_count": null,
      "id": "7208672e",
      "metadata": {
        "id": "7208672e"
      },
      "outputs": [],
      "source": []
    },
    {
      "cell_type": "code",
      "execution_count": null,
      "id": "82bc0649",
      "metadata": {
        "id": "82bc0649"
      },
      "outputs": [],
      "source": []
    },
    {
      "cell_type": "code",
      "execution_count": null,
      "id": "688a4a58",
      "metadata": {
        "id": "688a4a58"
      },
      "outputs": [],
      "source": []
    },
    {
      "cell_type": "code",
      "execution_count": null,
      "id": "4b10ef97",
      "metadata": {
        "id": "4b10ef97"
      },
      "outputs": [],
      "source": []
    },
    {
      "cell_type": "code",
      "execution_count": null,
      "id": "05a0b47c",
      "metadata": {
        "id": "05a0b47c"
      },
      "outputs": [],
      "source": []
    },
    {
      "cell_type": "code",
      "execution_count": null,
      "id": "4982f774",
      "metadata": {
        "id": "4982f774"
      },
      "outputs": [],
      "source": []
    },
    {
      "cell_type": "code",
      "execution_count": null,
      "id": "f1a7a647",
      "metadata": {
        "id": "f1a7a647"
      },
      "outputs": [],
      "source": []
    },
    {
      "cell_type": "code",
      "execution_count": null,
      "id": "1920fd06",
      "metadata": {
        "id": "1920fd06"
      },
      "outputs": [],
      "source": []
    },
    {
      "cell_type": "code",
      "execution_count": null,
      "id": "6ab3efc2",
      "metadata": {
        "id": "6ab3efc2"
      },
      "outputs": [],
      "source": []
    },
    {
      "cell_type": "code",
      "execution_count": null,
      "id": "f35702fb",
      "metadata": {
        "id": "f35702fb"
      },
      "outputs": [],
      "source": []
    },
    {
      "cell_type": "code",
      "execution_count": null,
      "id": "7aee26fc",
      "metadata": {
        "id": "7aee26fc"
      },
      "outputs": [],
      "source": []
    },
    {
      "cell_type": "code",
      "execution_count": null,
      "id": "a3c77f2c",
      "metadata": {
        "id": "a3c77f2c"
      },
      "outputs": [],
      "source": []
    },
    {
      "cell_type": "code",
      "execution_count": null,
      "id": "0fef9a10",
      "metadata": {
        "id": "0fef9a10"
      },
      "outputs": [],
      "source": []
    },
    {
      "cell_type": "code",
      "execution_count": null,
      "id": "1b1376dc",
      "metadata": {
        "id": "1b1376dc"
      },
      "outputs": [],
      "source": []
    },
    {
      "cell_type": "code",
      "execution_count": null,
      "id": "4ee2c75a",
      "metadata": {
        "id": "4ee2c75a"
      },
      "outputs": [],
      "source": []
    },
    {
      "cell_type": "code",
      "execution_count": null,
      "id": "0b12079d",
      "metadata": {
        "id": "0b12079d"
      },
      "outputs": [],
      "source": []
    },
    {
      "cell_type": "code",
      "execution_count": null,
      "id": "0ae473fa",
      "metadata": {
        "id": "0ae473fa"
      },
      "outputs": [],
      "source": []
    },
    {
      "cell_type": "code",
      "execution_count": null,
      "id": "4de5f06d",
      "metadata": {
        "id": "4de5f06d"
      },
      "outputs": [],
      "source": []
    },
    {
      "cell_type": "code",
      "execution_count": null,
      "id": "af596012",
      "metadata": {
        "id": "af596012"
      },
      "outputs": [],
      "source": []
    },
    {
      "cell_type": "code",
      "execution_count": null,
      "id": "d651315f",
      "metadata": {
        "id": "d651315f"
      },
      "outputs": [],
      "source": []
    },
    {
      "cell_type": "code",
      "execution_count": null,
      "id": "b3faf12f",
      "metadata": {
        "id": "b3faf12f"
      },
      "outputs": [],
      "source": []
    }
  ],
  "metadata": {
    "kernelspec": {
      "display_name": "Python 3 (ipykernel)",
      "language": "python",
      "name": "python3"
    },
    "language_info": {
      "codemirror_mode": {
        "name": "ipython",
        "version": 3
      },
      "file_extension": ".py",
      "mimetype": "text/x-python",
      "name": "python",
      "nbconvert_exporter": "python",
      "pygments_lexer": "ipython3",
      "version": "3.9.12"
    },
    "colab": {
      "provenance": [],
      "include_colab_link": true
    }
  },
  "nbformat": 4,
  "nbformat_minor": 5
}